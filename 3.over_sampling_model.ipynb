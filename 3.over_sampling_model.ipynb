{
 "cells": [
  {
   "cell_type": "markdown",
   "id": "45ee5c53",
   "metadata": {},
   "source": [
    "## MODEL Building (Over sampling dataset)"
   ]
  },
  {
   "cell_type": "code",
   "execution_count": 2,
   "id": "d8750c64",
   "metadata": {},
   "outputs": [],
   "source": [
    "#importing modules\n",
    "import pandas as pd\n",
    "import numpy as np\n",
    "from pathlib import Path\n",
    "import matplotlib.pyplot as plt\n",
    "import seaborn as sns\n",
    "from sklearn.model_selection import train_test_split\n",
    "from sklearn.preprocessing import StandardScaler, LabelEncoder\n",
    "from sklearn.linear_model import SGDClassifier\n",
    "from sklearn.model_selection import cross_val_predict, cross_val_score\n",
    "from sklearn.metrics import confusion_matrix, classification_report\n",
    "from sklearn.metrics import roc_curve, auc\n",
    "from sklearn.model_selection import RandomizedSearchCV\n",
    "from sklearn.model_selection import GridSearchCV\n",
    "from sklearn.linear_model import LogisticRegression\n",
    "from sklearn.svm import SVC\n",
    "from sklearn.tree import DecisionTreeClassifier\n",
    "from sklearn.ensemble import RandomForestClassifier\n",
    "from sklearn.ensemble import ExtraTreesClassifier\n",
    "from sklearn.ensemble import AdaBoostClassifier\n",
    "from sklearn.feature_selection import SelectFromModel\n",
    "from sklearn.metrics import precision_score, recall_score, f1_score"
   ]
  },
  {
   "cell_type": "code",
   "execution_count": 3,
   "id": "2b10807a",
   "metadata": {},
   "outputs": [],
   "source": [
    "#importing under sampling dataset\n",
    "ecommerce_df = pd.read_csv(Path('Resources/Cleaned_data/over_sampling_data.csv'))"
   ]
  },
  {
   "cell_type": "code",
   "execution_count": 4,
   "id": "d7a899a8",
   "metadata": {},
   "outputs": [
    {
     "data": {
      "text/html": [
       "<div>\n",
       "<style scoped>\n",
       "    .dataframe tbody tr th:only-of-type {\n",
       "        vertical-align: middle;\n",
       "    }\n",
       "\n",
       "    .dataframe tbody tr th {\n",
       "        vertical-align: top;\n",
       "    }\n",
       "\n",
       "    .dataframe thead th {\n",
       "        text-align: right;\n",
       "    }\n",
       "</style>\n",
       "<table border=\"1\" class=\"dataframe\">\n",
       "  <thead>\n",
       "    <tr style=\"text-align: right;\">\n",
       "      <th></th>\n",
       "      <th>Administrative_Avg</th>\n",
       "      <th>Informational_Avg</th>\n",
       "      <th>ProductRelated_Avg</th>\n",
       "      <th>BounceRates</th>\n",
       "      <th>ExitRates</th>\n",
       "      <th>PageValues</th>\n",
       "      <th>SpecialDay</th>\n",
       "      <th>Month</th>\n",
       "      <th>OperatingSystems</th>\n",
       "      <th>Browser</th>\n",
       "      <th>Region</th>\n",
       "      <th>TrafficType</th>\n",
       "      <th>VisitorType</th>\n",
       "      <th>Weekend</th>\n",
       "      <th>Revenue</th>\n",
       "    </tr>\n",
       "  </thead>\n",
       "  <tbody>\n",
       "    <tr>\n",
       "      <th>0</th>\n",
       "      <td>0.0</td>\n",
       "      <td>0.0</td>\n",
       "      <td>0.000000</td>\n",
       "      <td>0.20</td>\n",
       "      <td>0.20</td>\n",
       "      <td>0.0</td>\n",
       "      <td>0.0</td>\n",
       "      <td>Feb</td>\n",
       "      <td>1</td>\n",
       "      <td>1</td>\n",
       "      <td>1</td>\n",
       "      <td>1</td>\n",
       "      <td>Returning_Visitor</td>\n",
       "      <td>False</td>\n",
       "      <td>False</td>\n",
       "    </tr>\n",
       "    <tr>\n",
       "      <th>1</th>\n",
       "      <td>0.0</td>\n",
       "      <td>0.0</td>\n",
       "      <td>32.000000</td>\n",
       "      <td>0.00</td>\n",
       "      <td>0.10</td>\n",
       "      <td>0.0</td>\n",
       "      <td>0.0</td>\n",
       "      <td>Feb</td>\n",
       "      <td>2</td>\n",
       "      <td>2</td>\n",
       "      <td>1</td>\n",
       "      <td>2</td>\n",
       "      <td>Returning_Visitor</td>\n",
       "      <td>False</td>\n",
       "      <td>False</td>\n",
       "    </tr>\n",
       "    <tr>\n",
       "      <th>2</th>\n",
       "      <td>0.0</td>\n",
       "      <td>0.0</td>\n",
       "      <td>0.000000</td>\n",
       "      <td>0.20</td>\n",
       "      <td>0.20</td>\n",
       "      <td>0.0</td>\n",
       "      <td>0.0</td>\n",
       "      <td>Feb</td>\n",
       "      <td>Other</td>\n",
       "      <td>1</td>\n",
       "      <td>9</td>\n",
       "      <td>3</td>\n",
       "      <td>Returning_Visitor</td>\n",
       "      <td>False</td>\n",
       "      <td>False</td>\n",
       "    </tr>\n",
       "    <tr>\n",
       "      <th>3</th>\n",
       "      <td>0.0</td>\n",
       "      <td>0.0</td>\n",
       "      <td>1.333333</td>\n",
       "      <td>0.05</td>\n",
       "      <td>0.14</td>\n",
       "      <td>0.0</td>\n",
       "      <td>0.0</td>\n",
       "      <td>Feb</td>\n",
       "      <td>3</td>\n",
       "      <td>2</td>\n",
       "      <td>2</td>\n",
       "      <td>4</td>\n",
       "      <td>Returning_Visitor</td>\n",
       "      <td>False</td>\n",
       "      <td>False</td>\n",
       "    </tr>\n",
       "    <tr>\n",
       "      <th>4</th>\n",
       "      <td>0.0</td>\n",
       "      <td>0.0</td>\n",
       "      <td>62.750000</td>\n",
       "      <td>0.02</td>\n",
       "      <td>0.05</td>\n",
       "      <td>0.0</td>\n",
       "      <td>0.0</td>\n",
       "      <td>Feb</td>\n",
       "      <td>3</td>\n",
       "      <td>Other</td>\n",
       "      <td>1</td>\n",
       "      <td>4</td>\n",
       "      <td>Returning_Visitor</td>\n",
       "      <td>True</td>\n",
       "      <td>False</td>\n",
       "    </tr>\n",
       "  </tbody>\n",
       "</table>\n",
       "</div>"
      ],
      "text/plain": [
       "   Administrative_Avg  Informational_Avg  ProductRelated_Avg  BounceRates  \\\n",
       "0                 0.0                0.0            0.000000         0.20   \n",
       "1                 0.0                0.0           32.000000         0.00   \n",
       "2                 0.0                0.0            0.000000         0.20   \n",
       "3                 0.0                0.0            1.333333         0.05   \n",
       "4                 0.0                0.0           62.750000         0.02   \n",
       "\n",
       "   ExitRates  PageValues  SpecialDay Month OperatingSystems Browser  Region  \\\n",
       "0       0.20         0.0         0.0   Feb                1       1       1   \n",
       "1       0.10         0.0         0.0   Feb                2       2       1   \n",
       "2       0.20         0.0         0.0   Feb            Other       1       9   \n",
       "3       0.14         0.0         0.0   Feb                3       2       2   \n",
       "4       0.05         0.0         0.0   Feb                3   Other       1   \n",
       "\n",
       "  TrafficType        VisitorType  Weekend  Revenue  \n",
       "0           1  Returning_Visitor    False    False  \n",
       "1           2  Returning_Visitor    False    False  \n",
       "2           3  Returning_Visitor    False    False  \n",
       "3           4  Returning_Visitor    False    False  \n",
       "4           4  Returning_Visitor     True    False  "
      ]
     },
     "execution_count": 4,
     "metadata": {},
     "output_type": "execute_result"
    }
   ],
   "source": [
    "#looking the few rows\n",
    "ecommerce_df.head()"
   ]
  },
  {
   "cell_type": "code",
   "execution_count": 5,
   "id": "2d2f6e17",
   "metadata": {},
   "outputs": [
    {
     "data": {
      "text/plain": [
       "False    10422\n",
       "True     10422\n",
       "Name: Revenue, dtype: int64"
      ]
     },
     "execution_count": 5,
     "metadata": {},
     "output_type": "execute_result"
    }
   ],
   "source": [
    "ecommerce_df[\"Revenue\"].value_counts()"
   ]
  },
  {
   "cell_type": "code",
   "execution_count": 6,
   "id": "f56b6e52",
   "metadata": {},
   "outputs": [
    {
     "data": {
      "text/plain": [
       "(20844, 15)"
      ]
     },
     "execution_count": 6,
     "metadata": {},
     "output_type": "execute_result"
    }
   ],
   "source": [
    "#shape of dataframe\n",
    "ecommerce_df.shape"
   ]
  },
  {
   "cell_type": "code",
   "execution_count": 7,
   "id": "0da97b3d",
   "metadata": {},
   "outputs": [],
   "source": [
    "# create feature matrix (X)\n",
    "#selecting all columns except 'Revenue'\n",
    "X=ecommerce_df.drop('Revenue', axis=1) \n",
    "\n",
    "# create response vector (y)\n",
    "##selecting 'Revenue' column\n",
    "y=ecommerce_df['Revenue'].values "
   ]
  },
  {
   "cell_type": "code",
   "execution_count": 8,
   "id": "56752647",
   "metadata": {},
   "outputs": [],
   "source": [
    "# Seperating categorical columns\n",
    "cat_columns=['Month','OperatingSystems', 'Browser', 'Region',\n",
    "             'TrafficType','VisitorType','Weekend']"
   ]
  },
  {
   "cell_type": "code",
   "execution_count": 9,
   "id": "63aa3b28",
   "metadata": {},
   "outputs": [
    {
     "name": "stdout",
     "output_type": "stream",
     "text": [
      "Index(['Administrative_Avg', 'Informational_Avg', 'ProductRelated_Avg',\n",
      "       'BounceRates', 'ExitRates', 'PageValues', 'SpecialDay', 'Month_Aug',\n",
      "       'Month_Dec', 'Month_Feb', 'Month_Jul', 'Month_June', 'Month_Mar',\n",
      "       'Month_May', 'Month_Nov', 'Month_Oct', 'Month_Sep',\n",
      "       'OperatingSystems_1', 'OperatingSystems_2', 'OperatingSystems_3',\n",
      "       'OperatingSystems_Other', 'Browser_1', 'Browser_10', 'Browser_2',\n",
      "       'Browser_4', 'Browser_5', 'Browser_6', 'Browser_Other', 'Region_1',\n",
      "       'Region_2', 'Region_3', 'Region_4', 'Region_5', 'Region_6', 'Region_7',\n",
      "       'Region_8', 'Region_9', 'TrafficType_1', 'TrafficType_10',\n",
      "       'TrafficType_11', 'TrafficType_13', 'TrafficType_2', 'TrafficType_3',\n",
      "       'TrafficType_4', 'TrafficType_5', 'TrafficType_6', 'TrafficType_8',\n",
      "       'TrafficType_Other', 'VisitorType_New_Visitor', 'VisitorType_Other',\n",
      "       'VisitorType_Returning_Visitor', 'Weekend_False', 'Weekend_True'],\n",
      "      dtype='object')\n"
     ]
    },
    {
     "data": {
      "text/html": [
       "<div>\n",
       "<style scoped>\n",
       "    .dataframe tbody tr th:only-of-type {\n",
       "        vertical-align: middle;\n",
       "    }\n",
       "\n",
       "    .dataframe tbody tr th {\n",
       "        vertical-align: top;\n",
       "    }\n",
       "\n",
       "    .dataframe thead th {\n",
       "        text-align: right;\n",
       "    }\n",
       "</style>\n",
       "<table border=\"1\" class=\"dataframe\">\n",
       "  <thead>\n",
       "    <tr style=\"text-align: right;\">\n",
       "      <th></th>\n",
       "      <th>Administrative_Avg</th>\n",
       "      <th>Informational_Avg</th>\n",
       "      <th>ProductRelated_Avg</th>\n",
       "      <th>BounceRates</th>\n",
       "      <th>ExitRates</th>\n",
       "      <th>PageValues</th>\n",
       "      <th>SpecialDay</th>\n",
       "      <th>Month_Aug</th>\n",
       "      <th>Month_Dec</th>\n",
       "      <th>Month_Feb</th>\n",
       "      <th>...</th>\n",
       "      <th>TrafficType_4</th>\n",
       "      <th>TrafficType_5</th>\n",
       "      <th>TrafficType_6</th>\n",
       "      <th>TrafficType_8</th>\n",
       "      <th>TrafficType_Other</th>\n",
       "      <th>VisitorType_New_Visitor</th>\n",
       "      <th>VisitorType_Other</th>\n",
       "      <th>VisitorType_Returning_Visitor</th>\n",
       "      <th>Weekend_False</th>\n",
       "      <th>Weekend_True</th>\n",
       "    </tr>\n",
       "  </thead>\n",
       "  <tbody>\n",
       "    <tr>\n",
       "      <th>0</th>\n",
       "      <td>0.0</td>\n",
       "      <td>0.0</td>\n",
       "      <td>0.000000</td>\n",
       "      <td>0.20</td>\n",
       "      <td>0.20</td>\n",
       "      <td>0.0</td>\n",
       "      <td>0.0</td>\n",
       "      <td>0</td>\n",
       "      <td>0</td>\n",
       "      <td>1</td>\n",
       "      <td>...</td>\n",
       "      <td>0</td>\n",
       "      <td>0</td>\n",
       "      <td>0</td>\n",
       "      <td>0</td>\n",
       "      <td>0</td>\n",
       "      <td>0</td>\n",
       "      <td>0</td>\n",
       "      <td>1</td>\n",
       "      <td>1</td>\n",
       "      <td>0</td>\n",
       "    </tr>\n",
       "    <tr>\n",
       "      <th>1</th>\n",
       "      <td>0.0</td>\n",
       "      <td>0.0</td>\n",
       "      <td>32.000000</td>\n",
       "      <td>0.00</td>\n",
       "      <td>0.10</td>\n",
       "      <td>0.0</td>\n",
       "      <td>0.0</td>\n",
       "      <td>0</td>\n",
       "      <td>0</td>\n",
       "      <td>1</td>\n",
       "      <td>...</td>\n",
       "      <td>0</td>\n",
       "      <td>0</td>\n",
       "      <td>0</td>\n",
       "      <td>0</td>\n",
       "      <td>0</td>\n",
       "      <td>0</td>\n",
       "      <td>0</td>\n",
       "      <td>1</td>\n",
       "      <td>1</td>\n",
       "      <td>0</td>\n",
       "    </tr>\n",
       "    <tr>\n",
       "      <th>2</th>\n",
       "      <td>0.0</td>\n",
       "      <td>0.0</td>\n",
       "      <td>0.000000</td>\n",
       "      <td>0.20</td>\n",
       "      <td>0.20</td>\n",
       "      <td>0.0</td>\n",
       "      <td>0.0</td>\n",
       "      <td>0</td>\n",
       "      <td>0</td>\n",
       "      <td>1</td>\n",
       "      <td>...</td>\n",
       "      <td>0</td>\n",
       "      <td>0</td>\n",
       "      <td>0</td>\n",
       "      <td>0</td>\n",
       "      <td>0</td>\n",
       "      <td>0</td>\n",
       "      <td>0</td>\n",
       "      <td>1</td>\n",
       "      <td>1</td>\n",
       "      <td>0</td>\n",
       "    </tr>\n",
       "    <tr>\n",
       "      <th>3</th>\n",
       "      <td>0.0</td>\n",
       "      <td>0.0</td>\n",
       "      <td>1.333333</td>\n",
       "      <td>0.05</td>\n",
       "      <td>0.14</td>\n",
       "      <td>0.0</td>\n",
       "      <td>0.0</td>\n",
       "      <td>0</td>\n",
       "      <td>0</td>\n",
       "      <td>1</td>\n",
       "      <td>...</td>\n",
       "      <td>1</td>\n",
       "      <td>0</td>\n",
       "      <td>0</td>\n",
       "      <td>0</td>\n",
       "      <td>0</td>\n",
       "      <td>0</td>\n",
       "      <td>0</td>\n",
       "      <td>1</td>\n",
       "      <td>1</td>\n",
       "      <td>0</td>\n",
       "    </tr>\n",
       "    <tr>\n",
       "      <th>4</th>\n",
       "      <td>0.0</td>\n",
       "      <td>0.0</td>\n",
       "      <td>62.750000</td>\n",
       "      <td>0.02</td>\n",
       "      <td>0.05</td>\n",
       "      <td>0.0</td>\n",
       "      <td>0.0</td>\n",
       "      <td>0</td>\n",
       "      <td>0</td>\n",
       "      <td>1</td>\n",
       "      <td>...</td>\n",
       "      <td>1</td>\n",
       "      <td>0</td>\n",
       "      <td>0</td>\n",
       "      <td>0</td>\n",
       "      <td>0</td>\n",
       "      <td>0</td>\n",
       "      <td>0</td>\n",
       "      <td>1</td>\n",
       "      <td>0</td>\n",
       "      <td>1</td>\n",
       "    </tr>\n",
       "  </tbody>\n",
       "</table>\n",
       "<p>5 rows × 53 columns</p>\n",
       "</div>"
      ],
      "text/plain": [
       "   Administrative_Avg  Informational_Avg  ProductRelated_Avg  BounceRates  \\\n",
       "0                 0.0                0.0            0.000000         0.20   \n",
       "1                 0.0                0.0           32.000000         0.00   \n",
       "2                 0.0                0.0            0.000000         0.20   \n",
       "3                 0.0                0.0            1.333333         0.05   \n",
       "4                 0.0                0.0           62.750000         0.02   \n",
       "\n",
       "   ExitRates  PageValues  SpecialDay  Month_Aug  Month_Dec  Month_Feb  ...  \\\n",
       "0       0.20         0.0         0.0          0          0          1  ...   \n",
       "1       0.10         0.0         0.0          0          0          1  ...   \n",
       "2       0.20         0.0         0.0          0          0          1  ...   \n",
       "3       0.14         0.0         0.0          0          0          1  ...   \n",
       "4       0.05         0.0         0.0          0          0          1  ...   \n",
       "\n",
       "   TrafficType_4  TrafficType_5  TrafficType_6  TrafficType_8  \\\n",
       "0              0              0              0              0   \n",
       "1              0              0              0              0   \n",
       "2              0              0              0              0   \n",
       "3              1              0              0              0   \n",
       "4              1              0              0              0   \n",
       "\n",
       "   TrafficType_Other  VisitorType_New_Visitor  VisitorType_Other  \\\n",
       "0                  0                        0                  0   \n",
       "1                  0                        0                  0   \n",
       "2                  0                        0                  0   \n",
       "3                  0                        0                  0   \n",
       "4                  0                        0                  0   \n",
       "\n",
       "   VisitorType_Returning_Visitor  Weekend_False  Weekend_True  \n",
       "0                              1              1             0  \n",
       "1                              1              1             0  \n",
       "2                              1              1             0  \n",
       "3                              1              1             0  \n",
       "4                              1              0             1  \n",
       "\n",
       "[5 rows x 53 columns]"
      ]
     },
     "execution_count": 9,
     "metadata": {},
     "output_type": "execute_result"
    }
   ],
   "source": [
    "# One-hot encoding the entire dataframe\n",
    "X_dummies = pd.get_dummies(X, columns = cat_columns)\n",
    "print(X_dummies.columns)\n",
    "X_dummies.head()"
   ]
  },
  {
   "cell_type": "code",
   "execution_count": 10,
   "id": "cf1e5c1f",
   "metadata": {},
   "outputs": [
    {
     "name": "stdout",
     "output_type": "stream",
     "text": [
      "Total column before one hot encoding: 14, Total columns after one hot encoding: 53\n"
     ]
    }
   ],
   "source": [
    "#Total columns before and after one-hot encoding\n",
    "print(f'Total column before one hot encoding: {X.shape[1]}, Total columns after one hot encoding: {X_dummies.shape[1]}')"
   ]
  },
  {
   "cell_type": "code",
   "execution_count": 11,
   "id": "1575fe00",
   "metadata": {},
   "outputs": [
    {
     "data": {
      "text/plain": [
       "array([0, 0, 0, ..., 1, 1, 1])"
      ]
     },
     "execution_count": 11,
     "metadata": {},
     "output_type": "execute_result"
    }
   ],
   "source": [
    "# Converting output labels to 0 and 1\n",
    "y_label = LabelEncoder().fit_transform(y)\n",
    "y_label"
   ]
  },
  {
   "cell_type": "code",
   "execution_count": 12,
   "id": "8e527c67",
   "metadata": {},
   "outputs": [],
   "source": [
    "#Training set**: Used to train the classifier.\n",
    "#Testing set**: Used to estimate the error rate of the trained classifier.\n",
    "X_train, X_test, y_train, y_test = train_test_split(X_dummies, y_label, random_state=42)"
   ]
  },
  {
   "cell_type": "code",
   "execution_count": 13,
   "id": "dd9ef762",
   "metadata": {},
   "outputs": [
    {
     "data": {
      "text/plain": [
       "array([[-0.49176122, -0.26201191, -0.35329174, ...,  0.46069117,\n",
       "        -1.77048594,  1.77048594],\n",
       "       [ 2.845514  , -0.12725511,  0.09027359, ...,  0.46069117,\n",
       "         0.56481668, -0.56481668],\n",
       "       [-0.11814113,  0.20739094, -0.17978272, ...,  0.46069117,\n",
       "         0.56481668, -0.56481668],\n",
       "       ...,\n",
       "       [-0.49176122, -0.26201191, -0.06603435, ...,  0.46069117,\n",
       "        -1.77048594,  1.77048594],\n",
       "       [-0.30633607, -0.26201191, -0.22378354, ..., -2.17065155,\n",
       "         0.56481668, -0.56481668],\n",
       "       [-0.49176122, -0.26201191, -0.39395585, ...,  0.46069117,\n",
       "         0.56481668, -0.56481668]])"
      ]
     },
     "execution_count": 13,
     "metadata": {},
     "output_type": "execute_result"
    }
   ],
   "source": [
    "# Scaling the X data by using StandardScaler()\n",
    "scaler = StandardScaler().fit(X_train)\n",
    "X_train_scaled = scaler.transform(X_train)\n",
    "X_train_scaled"
   ]
  },
  {
   "cell_type": "code",
   "execution_count": 14,
   "id": "95e92a26",
   "metadata": {},
   "outputs": [
    {
     "data": {
      "text/plain": [
       "array([[ 0.48263956, -0.26201191,  0.08368685, ...,  0.46069117,\n",
       "         0.56481668, -0.56481668],\n",
       "       [-0.49176122, -0.26201191, -0.22028632, ...,  0.46069117,\n",
       "         0.56481668, -0.56481668],\n",
       "       [-0.49176122,  6.04385761,  0.8350282 , ...,  0.46069117,\n",
       "        -1.77048594,  1.77048594],\n",
       "       ...,\n",
       "       [-0.49176122, -0.26201191, -0.7231451 , ..., -2.17065155,\n",
       "        -1.77048594,  1.77048594],\n",
       "       [ 0.04417273,  1.07183085, -0.17184811, ...,  0.46069117,\n",
       "        -1.77048594,  1.77048594],\n",
       "       [-0.49176122, -0.26201191, -0.60712615, ..., -2.17065155,\n",
       "         0.56481668, -0.56481668]])"
      ]
     },
     "execution_count": 14,
     "metadata": {},
     "output_type": "execute_result"
    }
   ],
   "source": [
    "# Transforming the test dataset based on the fit from the training dataset\n",
    "X_test_scaled = scaler.transform(X_test)\n",
    "X_test_scaled"
   ]
  },
  {
   "cell_type": "code",
   "execution_count": 15,
   "id": "c23e5871",
   "metadata": {},
   "outputs": [],
   "source": [
    "#defining function for model scoring with training set only\n",
    "def train_score(model, X_train_scaled=X_train_scaled, y_train=y_train):\n",
    "    #printing the accuracy score\n",
    "    train_score=model.score(X_train_scaled, y_train)\n",
    "    print(\"******************Train Score******************\")\n",
    "    print(train_score)\n",
    "    print()\n",
    "    \n",
    "    cvs=cross_val_score(model,X_train_scaled, y_train,cv=3, scoring='accuracy' )\n",
    "    print(\"************Using K=3 cross validation**********\")\n",
    "    print(cvs)\n",
    "    print()\n",
    "    \n",
    "    #predection on the test set and confusion matrix\n",
    "    y_train_pred=cross_val_predict(model,X_train_scaled, y_train,cv=3)\n",
    "    cm=confusion_matrix(y_train, y_train_pred)\n",
    "    print(\"******Confusion Matrix using cross_val_predict****\")\n",
    "    print(cm)\n",
    "    print()\n",
    "    \n",
    "    #classification report\n",
    "    cr=classification_report(y_train, y_train_pred)\n",
    "    print(\"***********Classification Report******************\")\n",
    "    print(cr)\n",
    "    print()\n",
    "    \n",
    "    #roc curve\n",
    "    y_train_predc=cross_val_predict(model,X_train_scaled, y_train,cv=3,\n",
    "                                    method=\"predict_proba\")\n",
    "    y_proba = y_train_predc[:,1]  #proba of positive class\n",
    "    fpr, tpr, thresholds = roc_curve(y_train, y_proba)\n",
    "    \n",
    "    plt.figure()\n",
    "    plt.plot(fpr, tpr, color='darkorange')\n",
    "    plt.plot([0, 1], [0, 1], color='navy', linestyle='--')\n",
    "    plt.xlim([0.0, 1.0])\n",
    "    plt.ylim([0.0, 1.05])\n",
    "    plt.xlabel('False Positive Rate')\n",
    "    plt.ylabel('True Positive Rate')\n",
    "    plt.title(f\"roc curve for {model}\")\n",
    "    print(\"ROC Curve\")\n",
    "    plt.show()\n",
    "    \n",
    "    # area under the curve (AUC)\n",
    "    roc_auc = auc(fpr, tpr)\n",
    "    roc_auc\n",
    "    print()\n",
    "    print(\"**************Area under the curve******************\")\n",
    "    print(roc_auc)\n",
    "    \n",
    "    \n",
    "    \n",
    "#defining function for model scoring with test set\n",
    "def test_score(model, X_train_scaled=X_train_scaled, X_test_scaled=X_test_scaled, \n",
    "               y_train=y_train,y_test=y_test):\n",
    "    #printing the accuracy score\n",
    "    train_score=model.score(X_train_scaled, y_train)\n",
    "    test_score=model.score(X_test_scaled, y_test)\n",
    "    print(\"********************Train Score******************\")\n",
    "    print(train_score)\n",
    "    print()\n",
    "\n",
    "    print(\"*********************Test Score******************\")\n",
    "    print(test_score)\n",
    "    print()\n",
    "    \n",
    "    #predection on the test set and confusion matrix\n",
    "    y_pred=model.predict(X_test_scaled)\n",
    "    cm=confusion_matrix(y_test, y_pred)\n",
    "    print(\"**************Confusion Matrix******************\")\n",
    "    print(cm)\n",
    "    print()\n",
    "    \n",
    "    #classification report\n",
    "    cr=classification_report(y_test, y_pred)\n",
    "    print(\"**********Classification Report******************\")\n",
    "    print(cr)\n",
    "    print()\n",
    "    \n",
    "    #roc curve\n",
    "    y_proba = model.predict_proba(X_test_scaled)[:,1]  #proba of positive class\n",
    "    fpr, tpr, thresholds = roc_curve(y_test, y_proba)\n",
    "    \n",
    "    plt.figure()\n",
    "    plt.plot(fpr, tpr, color='darkorange')\n",
    "    plt.plot([0, 1], [0, 1], color='navy', linestyle='--')\n",
    "    plt.xlim([0.0, 1.0])\n",
    "    plt.ylim([0.0, 1.05])\n",
    "    plt.xlabel('False Positive Rate')\n",
    "    plt.ylabel('True Positive Rate')\n",
    "    plt.title(f\"roc curve for {model}\")\n",
    "    print(\"ROC Curve\")\n",
    "    plt.show()\n",
    "    \n",
    "    # area under the curve (AUC)\n",
    "    roc_auc = auc(fpr, tpr)\n",
    "    roc_auc\n",
    "    print()\n",
    "    print(\"**************Area under the curve******************\")\n",
    "    print(roc_auc)\n"
   ]
  },
  {
   "cell_type": "markdown",
   "id": "347162e2",
   "metadata": {},
   "source": [
    "## Model 1: Stochastic Gradent Descent Classifier"
   ]
  },
  {
   "cell_type": "code",
   "execution_count": 19,
   "id": "5b5b0d8b",
   "metadata": {},
   "outputs": [
    {
     "data": {
      "text/plain": [
       "SGDClassifier(loss='log', random_state=42)"
      ]
     },
     "execution_count": 19,
     "metadata": {},
     "output_type": "execute_result"
    }
   ],
   "source": [
    "# Creating a sgd classifier model on the scaled data\n",
    "sgd=SGDClassifier(random_state=42, loss='log', penalty='l2')\n",
    "\n",
    "# Fit the model to the data\n",
    "sgd.fit(X_train_scaled, y_train)"
   ]
  },
  {
   "cell_type": "code",
   "execution_count": 20,
   "id": "8a44196c",
   "metadata": {},
   "outputs": [
    {
     "name": "stdout",
     "output_type": "stream",
     "text": [
      "******************Train Score******************\n",
      "0.8096334676645558\n",
      "\n",
      "************Using K=3 cross validation**********\n",
      "[0.8025331  0.80656304 0.80694684]\n",
      "\n",
      "******Confusion Matrix using cross_val_predict****\n",
      "[[6472 1310]\n",
      " [1733 6118]]\n",
      "\n",
      "***********Classification Report******************\n",
      "              precision    recall  f1-score   support\n",
      "\n",
      "           0       0.79      0.83      0.81      7782\n",
      "           1       0.82      0.78      0.80      7851\n",
      "\n",
      "    accuracy                           0.81     15633\n",
      "   macro avg       0.81      0.81      0.81     15633\n",
      "weighted avg       0.81      0.81      0.81     15633\n",
      "\n",
      "\n",
      "ROC Curve\n"
     ]
    },
    {
     "data": {
      "image/png": "[encoded data removed]",
      "text/plain": [
       "<Figure size 432x288 with 1 Axes>"
      ]
     },
     "metadata": {
      "needs_background": "light"
     },
     "output_type": "display_data"
    },
    {
     "name": "stdout",
     "output_type": "stream",
     "text": [
      "\n",
      "**************Area under the curve******************\n",
      "0.8867596009865184\n"
     ]
    }
   ],
   "source": [
    "#score for logistic regression using only training data\n",
    "train_score(sgd)"
   ]
  },
  {
   "cell_type": "markdown",
   "id": "e15f4bef",
   "metadata": {},
   "source": [
    "### Tuning hyperparamaters using Grid Search CV for Stochastic Gradent Descent Classifier"
   ]
  },
  {
   "cell_type": "code",
   "execution_count": 21,
   "id": "ffcd25c9",
   "metadata": {},
   "outputs": [],
   "source": [
    "#### Using GridSearchCV\n",
    "param_grid_sgd = {\n",
    "              'penalty': ['l1','l2'],\n",
    "             'loss':['log', 'modified_huber'],\n",
    "                'max_iter':[500,1000, 2000]}\n",
    "grid_sgd = GridSearchCV(sgd, param_grid_sgd, cv=5, verbose=1, n_jobs=-1)"
   ]
  },
  {
   "cell_type": "code",
   "execution_count": 22,
   "id": "257a3968",
   "metadata": {},
   "outputs": [
    {
     "name": "stdout",
     "output_type": "stream",
     "text": [
      "Fitting 5 folds for each of 12 candidates, totalling 60 fits\n"
     ]
    },
    {
     "data": {
      "text/plain": [
       "GridSearchCV(cv=5, estimator=SGDClassifier(loss='log', random_state=42),\n",
       "             n_jobs=-1,\n",
       "             param_grid={'loss': ['log', 'modified_huber'],\n",
       "                         'max_iter': [500, 1000, 2000],\n",
       "                         'penalty': ['l1', 'l2']},\n",
       "             verbose=1)"
      ]
     },
     "execution_count": 22,
     "metadata": {},
     "output_type": "execute_result"
    }
   ],
   "source": [
    "grid_sgd.fit(X_train_scaled, y_train)"
   ]
  },
  {
   "cell_type": "code",
   "execution_count": 23,
   "id": "986e80bb",
   "metadata": {},
   "outputs": [
    {
     "name": "stdout",
     "output_type": "stream",
     "text": [
      "{'loss': 'log', 'max_iter': 500, 'penalty': 'l1'}\n"
     ]
    }
   ],
   "source": [
    "# best parameters for this dataset\n",
    "print(grid_sgd.best_params_)"
   ]
  },
  {
   "cell_type": "code",
   "execution_count": 24,
   "id": "371d919b",
   "metadata": {},
   "outputs": [
    {
     "name": "stdout",
     "output_type": "stream",
     "text": [
      "0.8084180238530898\n"
     ]
    }
   ],
   "source": [
    "# best score\n",
    "print(grid_sgd.best_score_)"
   ]
  },
  {
   "cell_type": "code",
   "execution_count": 25,
   "id": "068aef7a",
   "metadata": {},
   "outputs": [
    {
     "data": {
      "text/plain": [
       "SGDClassifier(loss='log', max_iter=500, penalty='l1', random_state=42)"
      ]
     },
     "execution_count": 25,
     "metadata": {},
     "output_type": "execute_result"
    }
   ],
   "source": [
    "#best estimator\n",
    "sgd_b=grid_sgd.best_estimator_\n",
    "sgd_b"
   ]
  },
  {
   "cell_type": "code",
   "execution_count": 26,
   "id": "9c65e927",
   "metadata": {},
   "outputs": [
    {
     "name": "stdout",
     "output_type": "stream",
     "text": [
      "******************Train Score******************\n",
      "0.8088658606793322\n",
      "\n",
      "************Using K=3 cross validation**********\n",
      "[0.8025331  0.80905776 0.80061409]\n",
      "\n",
      "******Confusion Matrix using cross_val_predict****\n",
      "[[6489 1293]\n",
      " [1770 6081]]\n",
      "\n",
      "***********Classification Report******************\n",
      "              precision    recall  f1-score   support\n",
      "\n",
      "           0       0.79      0.83      0.81      7782\n",
      "           1       0.82      0.77      0.80      7851\n",
      "\n",
      "    accuracy                           0.80     15633\n",
      "   macro avg       0.81      0.80      0.80     15633\n",
      "weighted avg       0.81      0.80      0.80     15633\n",
      "\n",
      "\n",
      "ROC Curve\n"
     ]
    },
    {
     "data": {
      "image/png": "[encoded data removed]",
      "text/plain": [
       "<Figure size 432x288 with 1 Axes>"
      ]
     },
     "metadata": {
      "needs_background": "light"
     },
     "output_type": "display_data"
    },
    {
     "name": "stdout",
     "output_type": "stream",
     "text": [
      "\n",
      "**************Area under the curve******************\n",
      "0.8918546161135759\n"
     ]
    }
   ],
   "source": [
    "#score for Stochastic Gradent Descent Classifier using training data\n",
    "train_score(sgd_b)"
   ]
  },
  {
   "cell_type": "markdown",
   "id": "fbb8ceea",
   "metadata": {},
   "source": [
    "##  Model 2: Logistic Regression"
   ]
  },
  {
   "cell_type": "code",
   "execution_count": 29,
   "id": "e68f301e",
   "metadata": {},
   "outputs": [
    {
     "data": {
      "text/plain": [
       "LogisticRegression()"
      ]
     },
     "execution_count": 29,
     "metadata": {},
     "output_type": "execute_result"
    }
   ],
   "source": [
    "# Creating a Logistic Regression model on the scaled data\n",
    "lr= LogisticRegression()\n",
    "\n",
    "# Fit the model to the data\n",
    "lr.fit(X_train_scaled, y_train)"
   ]
  },
  {
   "cell_type": "code",
   "execution_count": 30,
   "id": "760db955",
   "metadata": {},
   "outputs": [
    {
     "name": "stdout",
     "output_type": "stream",
     "text": [
      "******************Train Score******************\n",
      "0.8208277361990661\n",
      "\n",
      "************Using K=3 cross validation**********\n",
      "[0.82191518 0.81539052 0.81423911]\n",
      "\n",
      "******Confusion Matrix using cross_val_predict****\n",
      "[[6605 1177]\n",
      " [1681 6170]]\n",
      "\n",
      "***********Classification Report******************\n",
      "              precision    recall  f1-score   support\n",
      "\n",
      "           0       0.80      0.85      0.82      7782\n",
      "           1       0.84      0.79      0.81      7851\n",
      "\n",
      "    accuracy                           0.82     15633\n",
      "   macro avg       0.82      0.82      0.82     15633\n",
      "weighted avg       0.82      0.82      0.82     15633\n",
      "\n",
      "\n",
      "ROC Curve\n"
     ]
    },
    {
     "data": {
      "image/png": "[encoded data removed]",
      "text/plain": [
       "<Figure size 432x288 with 1 Axes>"
      ]
     },
     "metadata": {
      "needs_background": "light"
     },
     "output_type": "display_data"
    },
    {
     "name": "stdout",
     "output_type": "stream",
     "text": [
      "\n",
      "**************Area under the curve******************\n",
      "0.9065239140937771\n"
     ]
    }
   ],
   "source": [
    "#score for logistic regression using only training data\n",
    "train_score(lr)"
   ]
  },
  {
   "cell_type": "markdown",
   "id": "a017131f",
   "metadata": {},
   "source": [
    "### Tuning hyperparamaters  using Grid Search CV for Logistic Regresssion"
   ]
  },
  {
   "cell_type": "code",
   "execution_count": 31,
   "id": "787cd2a4",
   "metadata": {},
   "outputs": [],
   "source": [
    "#### Using GridSearchCV\n",
    "param_grid_lr = {'C': [0.001, 0.01,0.1,1, 5, 10],\n",
    "                 'solver':['lbfgs','saga'],\n",
    "                'max_iter':[100,500,1000, 10000]}\n",
    "grid_lr = GridSearchCV(lr, param_grid_lr, cv=5, verbose=1, n_jobs=-1)"
   ]
  },
  {
   "cell_type": "code",
   "execution_count": 32,
   "id": "3f3594a1",
   "metadata": {},
   "outputs": [
    {
     "name": "stdout",
     "output_type": "stream",
     "text": [
      "Fitting 5 folds for each of 48 candidates, totalling 240 fits\n"
     ]
    },
    {
     "data": {
      "text/plain": [
       "GridSearchCV(cv=5, estimator=LogisticRegression(), n_jobs=-1,\n",
       "             param_grid={'C': [0.001, 0.01, 0.1, 1, 5, 10],\n",
       "                         'max_iter': [100, 500, 1000, 10000],\n",
       "                         'solver': ['lbfgs', 'saga']},\n",
       "             verbose=1)"
      ]
     },
     "execution_count": 32,
     "metadata": {},
     "output_type": "execute_result"
    }
   ],
   "source": [
    "grid_lr.fit(X_train_scaled, y_train)"
   ]
  },
  {
   "cell_type": "code",
   "execution_count": 33,
   "id": "1ab24208",
   "metadata": {},
   "outputs": [
    {
     "name": "stdout",
     "output_type": "stream",
     "text": [
      "{'C': 1, 'max_iter': 100, 'solver': 'lbfgs'}\n"
     ]
    }
   ],
   "source": [
    "# best parameters for this dataset\n",
    "print(grid_lr.best_params_)"
   ]
  },
  {
   "cell_type": "code",
   "execution_count": 34,
   "id": "79ea6774",
   "metadata": {},
   "outputs": [
    {
     "name": "stdout",
     "output_type": "stream",
     "text": [
      "0.8193556379835012\n"
     ]
    }
   ],
   "source": [
    "# best score\n",
    "print(grid_lr.best_score_)"
   ]
  },
  {
   "cell_type": "code",
   "execution_count": 35,
   "id": "7d107357",
   "metadata": {},
   "outputs": [
    {
     "data": {
      "text/plain": [
       "LogisticRegression(C=1)"
      ]
     },
     "execution_count": 35,
     "metadata": {},
     "output_type": "execute_result"
    }
   ],
   "source": [
    "#best estimator\n",
    "lr_b=grid_lr.best_estimator_\n",
    "lr_b"
   ]
  },
  {
   "cell_type": "code",
   "execution_count": 36,
   "id": "610fead4",
   "metadata": {},
   "outputs": [
    {
     "name": "stdout",
     "output_type": "stream",
     "text": [
      "******************Train Score******************\n",
      "0.8208277361990661\n",
      "\n",
      "************Using K=3 cross validation**********\n",
      "[0.82191518 0.81539052 0.81423911]\n",
      "\n",
      "******Confusion Matrix using cross_val_predict****\n",
      "[[6605 1177]\n",
      " [1681 6170]]\n",
      "\n",
      "***********Classification Report******************\n",
      "              precision    recall  f1-score   support\n",
      "\n",
      "           0       0.80      0.85      0.82      7782\n",
      "           1       0.84      0.79      0.81      7851\n",
      "\n",
      "    accuracy                           0.82     15633\n",
      "   macro avg       0.82      0.82      0.82     15633\n",
      "weighted avg       0.82      0.82      0.82     15633\n",
      "\n",
      "\n",
      "ROC Curve\n"
     ]
    },
    {
     "data": {
      "image/png": "[encoded data removed]",
      "text/plain": [
       "<Figure size 432x288 with 1 Axes>"
      ]
     },
     "metadata": {
      "needs_background": "light"
     },
     "output_type": "display_data"
    },
    {
     "name": "stdout",
     "output_type": "stream",
     "text": [
      "\n",
      "**************Area under the curve******************\n",
      "0.9065239140937771\n"
     ]
    }
   ],
   "source": [
    "#score for logistic regression using training data only after hyperparamater tuining\n",
    "train_score(lr_b)"
   ]
  },
  {
   "cell_type": "markdown",
   "id": "0f879943",
   "metadata": {},
   "source": [
    "## Model 3: Support Vector Classifier"
   ]
  },
  {
   "cell_type": "code",
   "execution_count": 39,
   "id": "9847dd42",
   "metadata": {},
   "outputs": [
    {
     "data": {
      "text/plain": [
       "SVC(kernel='linear', probability=True)"
      ]
     },
     "execution_count": 39,
     "metadata": {},
     "output_type": "execute_result"
    }
   ],
   "source": [
    "# Creating a support vector classifier model on the scaled data\n",
    "svc= SVC(kernel='linear',  probability=True)\n",
    "\n",
    "# Fit the model to the data\n",
    "svc.fit(X_train_scaled, y_train)"
   ]
  },
  {
   "cell_type": "code",
   "execution_count": 40,
   "id": "b1ca0880",
   "metadata": {},
   "outputs": [
    {
     "name": "stdout",
     "output_type": "stream",
     "text": [
      "******************Train Score******************\n",
      "0.8296552165291371\n",
      "\n",
      "************Using K=3 cross validation**********\n",
      "[0.83745922 0.82153138 0.82594512]\n",
      "\n",
      "******Confusion Matrix using cross_val_predict****\n",
      "[[6803  979]\n",
      " [1705 6146]]\n",
      "\n",
      "***********Classification Report******************\n",
      "              precision    recall  f1-score   support\n",
      "\n",
      "           0       0.80      0.87      0.84      7782\n",
      "           1       0.86      0.78      0.82      7851\n",
      "\n",
      "    accuracy                           0.83     15633\n",
      "   macro avg       0.83      0.83      0.83     15633\n",
      "weighted avg       0.83      0.83      0.83     15633\n",
      "\n",
      "\n",
      "ROC Curve\n"
     ]
    },
    {
     "data": {
      "image/png": "[encoded data removed]",
      "text/plain": [
       "<Figure size 432x288 with 1 Axes>"
      ]
     },
     "metadata": {
      "needs_background": "light"
     },
     "output_type": "display_data"
    },
    {
     "name": "stdout",
     "output_type": "stream",
     "text": [
      "\n",
      "**************Area under the curve******************\n",
      "0.9119962668226953\n"
     ]
    }
   ],
   "source": [
    "#score for support vector classifier using only training data\n",
    "train_score(svc)"
   ]
  },
  {
   "cell_type": "markdown",
   "id": "35e32fc8",
   "metadata": {},
   "source": [
    "##  Model 4: Decision Tree Classifier"
   ]
  },
  {
   "cell_type": "code",
   "execution_count": 16,
   "id": "80780e54",
   "metadata": {},
   "outputs": [
    {
     "data": {
      "text/plain": [
       "DecisionTreeClassifier()"
      ]
     },
     "execution_count": 16,
     "metadata": {},
     "output_type": "execute_result"
    }
   ],
   "source": [
    "# Creating a Decision Tree model on the scaled data\n",
    "dt= DecisionTreeClassifier()\n",
    "\n",
    "# Fit the model to the data\n",
    "dt.fit(X_train_scaled, y_train)"
   ]
  },
  {
   "cell_type": "code",
   "execution_count": 17,
   "id": "c3f004e0",
   "metadata": {},
   "outputs": [
    {
     "name": "stdout",
     "output_type": "stream",
     "text": [
      "******************Train Score******************\n",
      "1.0\n",
      "\n",
      "************Using K=3 cross validation**********\n",
      "[0.92842065 0.9339858  0.93206678]\n",
      "\n",
      "******Confusion Matrix using cross_val_predict****\n",
      "[[6883  899]\n",
      " [ 176 7675]]\n",
      "\n",
      "***********Classification Report******************\n",
      "              precision    recall  f1-score   support\n",
      "\n",
      "           0       0.98      0.88      0.93      7782\n",
      "           1       0.90      0.98      0.93      7851\n",
      "\n",
      "    accuracy                           0.93     15633\n",
      "   macro avg       0.94      0.93      0.93     15633\n",
      "weighted avg       0.93      0.93      0.93     15633\n",
      "\n",
      "\n",
      "ROC Curve\n"
     ]
    },
    {
     "data": {
      "image/png": "[encoded data removed]",
      "text/plain": [
       "<Figure size 432x288 with 1 Axes>"
      ]
     },
     "metadata": {
      "needs_background": "light"
     },
     "output_type": "display_data"
    },
    {
     "name": "stdout",
     "output_type": "stream",
     "text": [
      "\n",
      "**************Area under the curve******************\n",
      "0.9309006695344588\n"
     ]
    }
   ],
   "source": [
    "#score for Decision Tree using only training data\n",
    "train_score(dt)"
   ]
  },
  {
   "cell_type": "markdown",
   "id": "95e71a2b",
   "metadata": {},
   "source": [
    "### Tuning hyperparamaters  using Grid Search CV for Decision Tree"
   ]
  },
  {
   "cell_type": "code",
   "execution_count": 46,
   "id": "d5f3d6dd",
   "metadata": {},
   "outputs": [],
   "source": [
    "#### Using GridSearchCV\n",
    "param_grid_dt = {'criterion': ['gini','entropy'],\n",
    "             'max_depth':[10,100,1000,10000],\n",
    "                'min_samples_leaf':[1,5,10,100,1000,10000],\n",
    "                'max_features':['auto','sqrt','log2']}\n",
    "grid_dt = GridSearchCV(dt, param_grid_dt, cv=3, verbose=1, n_jobs=-1)"
   ]
  },
  {
   "cell_type": "code",
   "execution_count": 47,
   "id": "dcf71f6c",
   "metadata": {},
   "outputs": [
    {
     "name": "stdout",
     "output_type": "stream",
     "text": [
      "Fitting 3 folds for each of 144 candidates, totalling 432 fits\n"
     ]
    },
    {
     "data": {
      "text/plain": [
       "GridSearchCV(cv=3, estimator=DecisionTreeClassifier(), n_jobs=-1,\n",
       "             param_grid={'criterion': ['gini', 'entropy'],\n",
       "                         'max_depth': [10, 100, 1000, 10000],\n",
       "                         'max_features': ['auto', 'sqrt', 'log2'],\n",
       "                         'min_samples_leaf': [1, 5, 10, 100, 1000, 10000]},\n",
       "             verbose=1)"
      ]
     },
     "execution_count": 47,
     "metadata": {},
     "output_type": "execute_result"
    }
   ],
   "source": [
    "grid_dt.fit(X_train_scaled, y_train)"
   ]
  },
  {
   "cell_type": "code",
   "execution_count": 48,
   "id": "044785f2",
   "metadata": {},
   "outputs": [
    {
     "name": "stdout",
     "output_type": "stream",
     "text": [
      "{'criterion': 'gini', 'max_depth': 100, 'max_features': 'sqrt', 'min_samples_leaf': 1}\n"
     ]
    }
   ],
   "source": [
    "# best parameters for this dataset\n",
    "print(grid_dt.best_params_)"
   ]
  },
  {
   "cell_type": "code",
   "execution_count": 49,
   "id": "711ea111",
   "metadata": {},
   "outputs": [
    {
     "name": "stdout",
     "output_type": "stream",
     "text": [
      "0.9278449433889847\n"
     ]
    }
   ],
   "source": [
    "# best score\n",
    "print(grid_dt.best_score_)"
   ]
  },
  {
   "cell_type": "code",
   "execution_count": 50,
   "id": "3767fbe5",
   "metadata": {},
   "outputs": [
    {
     "data": {
      "text/plain": [
       "DecisionTreeClassifier(max_depth=100, max_features='sqrt')"
      ]
     },
     "execution_count": 50,
     "metadata": {},
     "output_type": "execute_result"
    }
   ],
   "source": [
    "#best estimator\n",
    "dt_b=grid_dt.best_estimator_\n",
    "dt_b"
   ]
  },
  {
   "cell_type": "code",
   "execution_count": 51,
   "id": "8805d31d",
   "metadata": {},
   "outputs": [
    {
     "name": "stdout",
     "output_type": "stream",
     "text": [
      "******************Train Score******************\n",
      "1.0\n",
      "\n",
      "************Using K=3 cross validation**********\n",
      "[0.91441182 0.92093648 0.92208789]\n",
      "\n",
      "******Confusion Matrix using cross_val_predict****\n",
      "[[6694 1088]\n",
      " [ 206 7645]]\n",
      "\n",
      "***********Classification Report******************\n",
      "              precision    recall  f1-score   support\n",
      "\n",
      "           0       0.97      0.86      0.91      7782\n",
      "           1       0.88      0.97      0.92      7851\n",
      "\n",
      "    accuracy                           0.92     15633\n",
      "   macro avg       0.92      0.92      0.92     15633\n",
      "weighted avg       0.92      0.92      0.92     15633\n",
      "\n",
      "\n",
      "ROC Curve\n"
     ]
    },
    {
     "data": {
      "image/png": "[encoded data removed]",
      "text/plain": [
       "<Figure size 432x288 with 1 Axes>"
      ]
     },
     "metadata": {
      "needs_background": "light"
     },
     "output_type": "display_data"
    },
    {
     "name": "stdout",
     "output_type": "stream",
     "text": [
      "\n",
      "**************Area under the curve******************\n",
      "0.9231517290962841\n"
     ]
    }
   ],
   "source": [
    "#score for decision tree using training data\n",
    "train_score(dt_b)"
   ]
  },
  {
   "cell_type": "markdown",
   "id": "9a13d8b2",
   "metadata": {},
   "source": [
    "##  Model 5: Random Forest Classifier"
   ]
  },
  {
   "cell_type": "code",
   "execution_count": 53,
   "id": "67449956",
   "metadata": {},
   "outputs": [
    {
     "data": {
      "text/plain": [
       "RandomForestClassifier()"
      ]
     },
     "execution_count": 53,
     "metadata": {},
     "output_type": "execute_result"
    }
   ],
   "source": [
    "# Creating a Random Forest Classifer model on the scaled data\n",
    "rf= RandomForestClassifier()\n",
    "\n",
    "# Fit the model to the data\n",
    "rf.fit(X_train_scaled, y_train)"
   ]
  },
  {
   "cell_type": "code",
   "execution_count": 54,
   "id": "d5ea8cd3",
   "metadata": {},
   "outputs": [
    {
     "name": "stdout",
     "output_type": "stream",
     "text": [
      "******************Train Score******************\n",
      "1.0\n",
      "\n",
      "************Using K=3 cross validation**********\n",
      "[0.93974285 0.94358089 0.95010555]\n",
      "\n",
      "******Confusion Matrix using cross_val_predict****\n",
      "[[7047  735]\n",
      " [ 132 7719]]\n",
      "\n",
      "***********Classification Report******************\n",
      "              precision    recall  f1-score   support\n",
      "\n",
      "           0       0.98      0.91      0.94      7782\n",
      "           1       0.91      0.98      0.95      7851\n",
      "\n",
      "    accuracy                           0.94     15633\n",
      "   macro avg       0.95      0.94      0.94     15633\n",
      "weighted avg       0.95      0.94      0.94     15633\n",
      "\n",
      "\n",
      "ROC Curve\n"
     ]
    },
    {
     "data": {
      "image/png": "[encoded data removed]",
      "text/plain": [
       "<Figure size 432x288 with 1 Axes>"
      ]
     },
     "metadata": {
      "needs_background": "light"
     },
     "output_type": "display_data"
    },
    {
     "name": "stdout",
     "output_type": "stream",
     "text": [
      "\n",
      "**************Area under the curve******************\n",
      "0.9930080589582883\n"
     ]
    }
   ],
   "source": [
    "#score for Random Forest Classifer using only training data\n",
    "train_score(rf)"
   ]
  },
  {
   "cell_type": "code",
   "execution_count": 55,
   "id": "6f529bf0",
   "metadata": {},
   "outputs": [
    {
     "name": "stdout",
     "output_type": "stream",
     "text": [
      "[6.61107747e-02 2.95631169e-02 8.14836988e-02 6.66051921e-02\n",
      " 1.05623142e-01 3.83208374e-01 5.86148740e-03 3.38000057e-03\n",
      " 5.99033520e-03 1.29981634e-03 3.65200812e-03 1.94551515e-03\n",
      " 8.68584364e-03 1.14464128e-02 3.09897613e-02 4.39555096e-03\n",
      " 5.56843916e-03 5.51827418e-03 7.57457830e-03 8.01279298e-03\n",
      " 2.99067630e-03 5.03962472e-03 1.53727329e-03 7.75447735e-03\n",
      " 4.41144262e-03 3.37756063e-03 1.46105794e-03 1.83959994e-03\n",
      " 1.04916353e-02 5.83280447e-03 8.84650818e-03 5.91089790e-03\n",
      " 2.51704516e-03 4.74332801e-03 4.63746719e-03 3.67775579e-03\n",
      " 3.82645698e-03 6.77933147e-03 2.86967519e-03 2.91315015e-03\n",
      " 3.91070655e-03 1.14984854e-02 7.89940640e-03 4.19002402e-03\n",
      " 2.43772714e-03 2.65821404e-03 4.96273217e-03 2.86165813e-03\n",
      " 7.43956762e-03 3.80722406e-04 7.87093402e-03 7.65712182e-03\n",
      " 7.85981633e-03]\n"
     ]
    },
    {
     "data": {
      "image/png": "[encoded data removed]",
      "text/plain": [
       "<Figure size 432x288 with 1 Axes>"
      ]
     },
     "metadata": {
      "needs_background": "light"
     },
     "output_type": "display_data"
    }
   ],
   "source": [
    "# plotting columns with its importances\n",
    "features_rf = rf.feature_importances_\n",
    "print(features_rf)\n",
    "plt.bar(x = range(len(features_rf)), height=features_rf)\n",
    "plt.show()"
   ]
  },
  {
   "cell_type": "markdown",
   "id": "5ef9adec",
   "metadata": {},
   "source": [
    "### Tuning hyperparamaters  using Randomized Search CV for Random Forest"
   ]
  },
  {
   "cell_type": "code",
   "execution_count": 62,
   "id": "f61d09e2",
   "metadata": {},
   "outputs": [],
   "source": [
    "\n",
    "param_grid_rf = {'n_estimators':[100,200,500],\n",
    "              'criterion': ['gini','entropy'],\n",
    "             'max_depth':[1,2,5,10,100,1000,10000],\n",
    "                'min_samples_leaf':[1,5,10,100,1000,10000],\n",
    "                'max_features':['auto','sqrt','log2']}\n",
    "grid_rf = RandomizedSearchCV(rf, param_grid_rf, cv=5, verbose=1, n_jobs=-1)"
   ]
  },
  {
   "cell_type": "code",
   "execution_count": 63,
   "id": "7b5a3419",
   "metadata": {},
   "outputs": [
    {
     "name": "stdout",
     "output_type": "stream",
     "text": [
      "Fitting 5 folds for each of 10 candidates, totalling 50 fits\n"
     ]
    },
    {
     "data": {
      "text/plain": [
       "RandomizedSearchCV(cv=5, estimator=RandomForestClassifier(), n_jobs=-1,\n",
       "                   param_distributions={'criterion': ['gini', 'entropy'],\n",
       "                                        'max_depth': [1, 2, 5, 10, 100, 1000,\n",
       "                                                      10000],\n",
       "                                        'max_features': ['auto', 'sqrt',\n",
       "                                                         'log2'],\n",
       "                                        'min_samples_leaf': [1, 5, 10, 100,\n",
       "                                                             1000, 10000],\n",
       "                                        'n_estimators': [100, 200, 500]},\n",
       "                   verbose=1)"
      ]
     },
     "execution_count": 63,
     "metadata": {},
     "output_type": "execute_result"
    }
   ],
   "source": [
    "grid_rf.fit(X_train_scaled, y_train)"
   ]
  },
  {
   "cell_type": "code",
   "execution_count": 64,
   "id": "871f2af5",
   "metadata": {},
   "outputs": [
    {
     "name": "stdout",
     "output_type": "stream",
     "text": [
      "{'n_estimators': 200, 'min_samples_leaf': 5, 'max_features': 'sqrt', 'max_depth': 1000, 'criterion': 'gini'}\n"
     ]
    }
   ],
   "source": [
    "# best parameters for this dataset\n",
    "print(grid_rf.best_params_)"
   ]
  },
  {
   "cell_type": "code",
   "execution_count": 65,
   "id": "64d2e144",
   "metadata": {},
   "outputs": [
    {
     "name": "stdout",
     "output_type": "stream",
     "text": [
      "0.9095500952327171\n"
     ]
    }
   ],
   "source": [
    "# best score\n",
    "print(grid_rf.best_score_)"
   ]
  },
  {
   "cell_type": "code",
   "execution_count": 66,
   "id": "f3d53e8a",
   "metadata": {},
   "outputs": [
    {
     "data": {
      "text/plain": [
       "RandomForestClassifier(max_depth=1000, max_features='sqrt', min_samples_leaf=5,\n",
       "                       n_estimators=200)"
      ]
     },
     "execution_count": 66,
     "metadata": {},
     "output_type": "execute_result"
    }
   ],
   "source": [
    "#best estimator\n",
    "rf_b=grid_rf.best_estimator_\n",
    "rf_b"
   ]
  },
  {
   "cell_type": "code",
   "execution_count": 67,
   "id": "d0286f7a",
   "metadata": {},
   "outputs": [
    {
     "name": "stdout",
     "output_type": "stream",
     "text": [
      "******************Train Score******************\n",
      "0.9502974477067742\n",
      "\n",
      "************Using K=3 cross validation**********\n",
      "[0.90289772 0.90328152 0.90635195]\n",
      "\n",
      "******Confusion Matrix using cross_val_predict****\n",
      "[[6859  923]\n",
      " [ 571 7280]]\n",
      "\n",
      "***********Classification Report******************\n",
      "              precision    recall  f1-score   support\n",
      "\n",
      "           0       0.92      0.88      0.90      7782\n",
      "           1       0.89      0.93      0.91      7851\n",
      "\n",
      "    accuracy                           0.90     15633\n",
      "   macro avg       0.91      0.90      0.90     15633\n",
      "weighted avg       0.91      0.90      0.90     15633\n",
      "\n",
      "\n",
      "ROC Curve\n"
     ]
    },
    {
     "data": {
      "image/png": "[encoded data removed]",
      "text/plain": [
       "<Figure size 432x288 with 1 Axes>"
      ]
     },
     "metadata": {
      "needs_background": "light"
     },
     "output_type": "display_data"
    },
    {
     "name": "stdout",
     "output_type": "stream",
     "text": [
      "\n",
      "**************Area under the curve******************\n",
      "0.9662493987788036\n"
     ]
    }
   ],
   "source": [
    "#score for random forest using training data\n",
    "train_score(rf_b)"
   ]
  },
  {
   "cell_type": "markdown",
   "id": "89111116",
   "metadata": {},
   "source": [
    "##  Model 6: Extremely Random Trees\n"
   ]
  },
  {
   "cell_type": "code",
   "execution_count": 70,
   "id": "26d62d4b",
   "metadata": {},
   "outputs": [
    {
     "data": {
      "text/plain": [
       "ExtraTreesClassifier()"
      ]
     },
     "execution_count": 70,
     "metadata": {},
     "output_type": "execute_result"
    }
   ],
   "source": [
    "# Creating a Extremely Random Trees model on the scaled data\n",
    "rt= ExtraTreesClassifier()\n",
    "\n",
    "# Fit the model to the data\n",
    "rt.fit(X_train_scaled, y_train)"
   ]
  },
  {
   "cell_type": "code",
   "execution_count": 71,
   "id": "7d7752df",
   "metadata": {},
   "outputs": [
    {
     "name": "stdout",
     "output_type": "stream",
     "text": [
      "******************Train Score******************\n",
      "1.0\n",
      "\n",
      "************Using K=3 cross validation**********\n",
      "[0.95317597 0.94972174 0.95701401]\n",
      "\n",
      "******Confusion Matrix using cross_val_predict****\n",
      "[[7276  506]\n",
      " [ 252 7599]]\n",
      "\n",
      "***********Classification Report******************\n",
      "              precision    recall  f1-score   support\n",
      "\n",
      "           0       0.97      0.93      0.95      7782\n",
      "           1       0.94      0.97      0.95      7851\n",
      "\n",
      "    accuracy                           0.95     15633\n",
      "   macro avg       0.95      0.95      0.95     15633\n",
      "weighted avg       0.95      0.95      0.95     15633\n",
      "\n",
      "\n",
      "ROC Curve\n"
     ]
    },
    {
     "data": {
      "image/png": "[encoded data removed]",
      "text/plain": [
       "<Figure size 432x288 with 1 Axes>"
      ]
     },
     "metadata": {
      "needs_background": "light"
     },
     "output_type": "display_data"
    },
    {
     "name": "stdout",
     "output_type": "stream",
     "text": [
      "\n",
      "**************Area under the curve******************\n",
      "0.991873476446647\n"
     ]
    }
   ],
   "source": [
    "#score for Extremely Random Trees using only training data\n",
    "train_score(rt)"
   ]
  },
  {
   "cell_type": "code",
   "execution_count": 72,
   "id": "9000638c",
   "metadata": {},
   "outputs": [
    {
     "name": "stdout",
     "output_type": "stream",
     "text": [
      "[0.06182331 0.04026043 0.06367932 0.06940263 0.11222907 0.24465176\n",
      " 0.00934061 0.0057077  0.00967007 0.00290077 0.00604098 0.00370308\n",
      " 0.0110934  0.0114173  0.03237709 0.00698972 0.00706197 0.00844858\n",
      " 0.01093446 0.01064652 0.00550059 0.00739996 0.00298922 0.01308803\n",
      " 0.00713513 0.00571777 0.00255904 0.00356279 0.01951731 0.01162239\n",
      " 0.01546122 0.01287325 0.00485555 0.01019954 0.01005414 0.00707309\n",
      " 0.00702522 0.00978092 0.00431854 0.00381635 0.00637133 0.01585915\n",
      " 0.01224853 0.00699637 0.00367723 0.00520295 0.00600164 0.00500257\n",
      " 0.0101578  0.00048171 0.00943116 0.01302502 0.0126157 ]\n"
     ]
    },
    {
     "data": {
      "image/png": "[encoded data removed]",
      "text/plain": [
       "<Figure size 432x288 with 1 Axes>"
      ]
     },
     "metadata": {
      "needs_background": "light"
     },
     "output_type": "display_data"
    }
   ],
   "source": [
    "# plotting columns with its importances\n",
    "features_rt = rt.feature_importances_\n",
    "print(features_rt)\n",
    "plt.bar(x = range(len(features_rt)), height=features_rt)\n",
    "plt.show()"
   ]
  },
  {
   "cell_type": "markdown",
   "id": "9c1af8d4",
   "metadata": {},
   "source": [
    "### Tuning hyperparamaters  using Randomized Search CV for Extremely Random Tree"
   ]
  },
  {
   "cell_type": "code",
   "execution_count": 73,
   "id": "5c58d678",
   "metadata": {},
   "outputs": [],
   "source": [
    "#### Using GridSearchCV\n",
    "param_rand_rt = {'n_estimators':[100,200,500],\n",
    "              'criterion': ['gini','entropy'],\n",
    "             'max_depth':[5,10,1000,10000],\n",
    "                'min_samples_leaf':[10,100,1000,10000],\n",
    "                'max_features':['auto','sqrt','log2']}\n",
    "rand_rt = RandomizedSearchCV(rt, param_rand_rt, cv=5, verbose=1, n_jobs=-1)"
   ]
  },
  {
   "cell_type": "code",
   "execution_count": 74,
   "id": "51bd7d1a",
   "metadata": {},
   "outputs": [
    {
     "name": "stdout",
     "output_type": "stream",
     "text": [
      "Fitting 5 folds for each of 10 candidates, totalling 50 fits\n"
     ]
    },
    {
     "data": {
      "text/plain": [
       "RandomizedSearchCV(cv=5, estimator=ExtraTreesClassifier(), n_jobs=-1,\n",
       "                   param_distributions={'criterion': ['gini', 'entropy'],\n",
       "                                        'max_depth': [5, 10, 1000, 10000],\n",
       "                                        'max_features': ['auto', 'sqrt',\n",
       "                                                         'log2'],\n",
       "                                        'min_samples_leaf': [10, 100, 1000,\n",
       "                                                             10000],\n",
       "                                        'n_estimators': [100, 200, 500]},\n",
       "                   verbose=1)"
      ]
     },
     "execution_count": 74,
     "metadata": {},
     "output_type": "execute_result"
    }
   ],
   "source": [
    "rand_rt.fit(X_train_scaled, y_train)"
   ]
  },
  {
   "cell_type": "code",
   "execution_count": 75,
   "id": "a2bab4d3",
   "metadata": {},
   "outputs": [
    {
     "name": "stdout",
     "output_type": "stream",
     "text": [
      "{'n_estimators': 200, 'min_samples_leaf': 10, 'max_features': 'auto', 'max_depth': 10000, 'criterion': 'gini'}\n"
     ]
    }
   ],
   "source": [
    "# best parameters for this dataset\n",
    "print(rand_rt.best_params_)"
   ]
  },
  {
   "cell_type": "code",
   "execution_count": 76,
   "id": "ba8d6860",
   "metadata": {},
   "outputs": [
    {
     "name": "stdout",
     "output_type": "stream",
     "text": [
      "0.8483975143943704\n"
     ]
    }
   ],
   "source": [
    "# best score\n",
    "print(rand_rt.best_score_)"
   ]
  },
  {
   "cell_type": "code",
   "execution_count": 77,
   "id": "308db77b",
   "metadata": {},
   "outputs": [
    {
     "data": {
      "text/plain": [
       "ExtraTreesClassifier(max_depth=10000, min_samples_leaf=10, n_estimators=200)"
      ]
     },
     "execution_count": 77,
     "metadata": {},
     "output_type": "execute_result"
    }
   ],
   "source": [
    "#best estimator\n",
    "rt_b=rand_rt.best_estimator_\n",
    "rt_b"
   ]
  },
  {
   "cell_type": "code",
   "execution_count": 78,
   "id": "cd2df86e",
   "metadata": {},
   "outputs": [
    {
     "name": "stdout",
     "output_type": "stream",
     "text": [
      "******************Train Score******************\n",
      "0.8886330198938144\n",
      "\n",
      "************Using K=3 cross validation**********\n",
      "[0.83841873 0.84052965 0.84225676]\n",
      "\n",
      "******Confusion Matrix using cross_val_predict****\n",
      "[[6168 1614]\n",
      " [ 872 6979]]\n",
      "\n",
      "***********Classification Report******************\n",
      "              precision    recall  f1-score   support\n",
      "\n",
      "           0       0.88      0.79      0.83      7782\n",
      "           1       0.81      0.89      0.85      7851\n",
      "\n",
      "    accuracy                           0.84     15633\n",
      "   macro avg       0.84      0.84      0.84     15633\n",
      "weighted avg       0.84      0.84      0.84     15633\n",
      "\n",
      "\n",
      "ROC Curve\n"
     ]
    },
    {
     "data": {
      "image/png": "[encoded data removed]",
      "text/plain": [
       "<Figure size 432x288 with 1 Axes>"
      ]
     },
     "metadata": {
      "needs_background": "light"
     },
     "output_type": "display_data"
    },
    {
     "name": "stdout",
     "output_type": "stream",
     "text": [
      "\n",
      "**************Area under the curve******************\n",
      "0.9192744354740424\n"
     ]
    }
   ],
   "source": [
    "#score for extra tree classifier using training data\n",
    "train_score(rt_b)"
   ]
  },
  {
   "cell_type": "markdown",
   "id": "4b3ab8a8",
   "metadata": {},
   "source": [
    "##  Model 7: Boosting\n"
   ]
  },
  {
   "cell_type": "code",
   "execution_count": 81,
   "id": "6477f08d",
   "metadata": {},
   "outputs": [
    {
     "data": {
      "text/plain": [
       "AdaBoostClassifier(base_estimator=DecisionTreeClassifier())"
      ]
     },
     "execution_count": 81,
     "metadata": {},
     "output_type": "execute_result"
    }
   ],
   "source": [
    "# Creating a AdaBoostClassifier model on the scaled data\n",
    "ab= AdaBoostClassifier(base_estimator = dt)\n",
    "\n",
    "# Fit the model to the data\n",
    "ab.fit(X_train_scaled, y_train)"
   ]
  },
  {
   "cell_type": "code",
   "execution_count": 82,
   "id": "c3df6a40",
   "metadata": {},
   "outputs": [
    {
     "name": "stdout",
     "output_type": "stream",
     "text": [
      "******************Train Score******************\n",
      "1.0\n",
      "\n",
      "************Using K=3 cross validation**********\n",
      "[0.93053157 0.933602   0.93283439]\n",
      "\n",
      "******Confusion Matrix using cross_val_predict****\n",
      "[[6886  896]\n",
      " [ 188 7663]]\n",
      "\n",
      "***********Classification Report******************\n",
      "              precision    recall  f1-score   support\n",
      "\n",
      "           0       0.97      0.88      0.93      7782\n",
      "           1       0.90      0.98      0.93      7851\n",
      "\n",
      "    accuracy                           0.93     15633\n",
      "   macro avg       0.93      0.93      0.93     15633\n",
      "weighted avg       0.93      0.93      0.93     15633\n",
      "\n",
      "\n",
      "ROC Curve\n"
     ]
    },
    {
     "data": {
      "image/png": "[encoded data removed]",
      "text/plain": [
       "<Figure size 432x288 with 1 Axes>"
      ]
     },
     "metadata": {
      "needs_background": "light"
     },
     "output_type": "display_data"
    },
    {
     "name": "stdout",
     "output_type": "stream",
     "text": [
      "\n",
      "**************Area under the curve******************\n",
      "0.9315426132064364\n"
     ]
    }
   ],
   "source": [
    "#score for adaboost using only training data\n",
    "train_score(ab)"
   ]
  },
  {
   "cell_type": "code",
   "execution_count": 83,
   "id": "9f11c3bd",
   "metadata": {},
   "outputs": [
    {
     "name": "stdout",
     "output_type": "stream",
     "text": [
      "[5.46144408e-02 2.41879193e-02 6.30878661e-02 5.04460569e-02\n",
      " 6.42768121e-02 5.18980166e-01 2.66666639e-03 1.19662277e-03\n",
      " 2.91905923e-03 2.15517244e-04 2.44935816e-03 1.71288942e-03\n",
      " 5.94971937e-03 4.38483011e-03 5.07200774e-02 1.28026790e-03\n",
      " 7.99851844e-03 3.87401274e-03 6.34958469e-03 6.20593302e-03\n",
      " 2.32387407e-03 3.54673208e-03 1.11377887e-03 8.16726766e-03\n",
      " 6.51856466e-03 5.05552755e-03 1.56347827e-03 8.76350438e-04\n",
      " 6.53543493e-03 4.52162527e-03 4.24479557e-03 5.12305024e-03\n",
      " 2.61569335e-03 3.40916913e-03 5.17431242e-03 2.63057437e-03\n",
      " 3.44393302e-03 7.02024636e-03 5.77753714e-04 3.37162591e-03\n",
      " 1.78883984e-03 6.28225096e-03 8.85691054e-03 1.93127436e-03\n",
      " 1.58268586e-03 3.11298079e-03 3.47870051e-03 2.26303566e-03\n",
      " 7.59329492e-03 0.00000000e+00 4.47399393e-03 2.11652699e-03\n",
      " 5.16939943e-03]\n"
     ]
    },
    {
     "data": {
      "image/png": "[encoded data removed]",
      "text/plain": [
       "<Figure size 432x288 with 1 Axes>"
      ]
     },
     "metadata": {
      "needs_background": "light"
     },
     "output_type": "display_data"
    }
   ],
   "source": [
    "# plotting columns with its importances\n",
    "features_ab = ab.feature_importances_\n",
    "print(features_ab)\n",
    "plt.bar(x = range(len(features_ab)), height=features_ab)\n",
    "plt.show()"
   ]
  },
  {
   "cell_type": "markdown",
   "id": "2df7f700",
   "metadata": {},
   "source": [
    "### Tuning hyperparamaters  using Grid Search CV for AdaBoostClassifier"
   ]
  },
  {
   "cell_type": "code",
   "execution_count": 84,
   "id": "c22bf0ef",
   "metadata": {},
   "outputs": [],
   "source": [
    "#### Using GridSearchCV\n",
    "param_ab = {'n_estimators':[100,200,500, 1000, 2000, 5000],\n",
    "             'learning_rate':[0.01,0.1]}\n",
    "rand_ab = RandomizedSearchCV(ab, param_ab, cv=3, verbose=1, n_jobs=-1)"
   ]
  },
  {
   "cell_type": "code",
   "execution_count": 85,
   "id": "72c69d49",
   "metadata": {},
   "outputs": [
    {
     "name": "stdout",
     "output_type": "stream",
     "text": [
      "Fitting 3 folds for each of 6 candidates, totalling 18 fits\n"
     ]
    },
    {
     "data": {
      "text/plain": [
       "GridSearchCV(cv=3,\n",
       "             estimator=AdaBoostClassifier(base_estimator=DecisionTreeClassifier()),\n",
       "             n_jobs=-1,\n",
       "             param_grid={'learning_rate': [0.1],\n",
       "                         'n_estimators': [100, 200, 500, 1000, 2000, 5000]},\n",
       "             verbose=1)"
      ]
     },
     "execution_count": 85,
     "metadata": {},
     "output_type": "execute_result"
    }
   ],
   "source": [
    "rand_ab.fit(X_train_scaled, y_train)"
   ]
  },
  {
   "cell_type": "code",
   "execution_count": 86,
   "id": "07a46307",
   "metadata": {},
   "outputs": [
    {
     "name": "stdout",
     "output_type": "stream",
     "text": [
      "{'learning_rate': 0.1, 'n_estimators': 500}\n"
     ]
    }
   ],
   "source": [
    "# best parameters for this dataset\n",
    "print(rand_ab.best_params_)"
   ]
  },
  {
   "cell_type": "code",
   "execution_count": 87,
   "id": "0bb2f38e",
   "metadata": {},
   "outputs": [
    {
     "name": "stdout",
     "output_type": "stream",
     "text": [
      "0.9324505853003262\n"
     ]
    }
   ],
   "source": [
    "# best score\n",
    "print(rand_ab.best_score_)"
   ]
  },
  {
   "cell_type": "code",
   "execution_count": 88,
   "id": "509abfca",
   "metadata": {},
   "outputs": [
    {
     "data": {
      "text/plain": [
       "AdaBoostClassifier(base_estimator=DecisionTreeClassifier(), learning_rate=0.1,\n",
       "                   n_estimators=500)"
      ]
     },
     "execution_count": 88,
     "metadata": {},
     "output_type": "execute_result"
    }
   ],
   "source": [
    "#best estimator\n",
    "ab_b=rand_ab.best_estimator_\n",
    "ab_b"
   ]
  },
  {
   "cell_type": "code",
   "execution_count": 89,
   "id": "f17a6d22",
   "metadata": {},
   "outputs": [
    {
     "name": "stdout",
     "output_type": "stream",
     "text": [
      "******************Train Score******************\n",
      "1.0\n",
      "\n",
      "************Using K=3 cross validation**********\n",
      "[0.92976396 0.93590482 0.93245059]\n",
      "\n",
      "******Confusion Matrix using cross_val_predict****\n",
      "[[6879  903]\n",
      " [ 164 7687]]\n",
      "\n",
      "***********Classification Report******************\n",
      "              precision    recall  f1-score   support\n",
      "\n",
      "           0       0.98      0.88      0.93      7782\n",
      "           1       0.89      0.98      0.94      7851\n",
      "\n",
      "    accuracy                           0.93     15633\n",
      "   macro avg       0.94      0.93      0.93     15633\n",
      "weighted avg       0.94      0.93      0.93     15633\n",
      "\n",
      "\n",
      "ROC Curve\n"
     ]
    },
    {
     "data": {
      "image/png": "[encoded data removed]",
      "text/plain": [
       "<Figure size 432x288 with 1 Axes>"
      ]
     },
     "metadata": {
      "needs_background": "light"
     },
     "output_type": "display_data"
    },
    {
     "name": "stdout",
     "output_type": "stream",
     "text": [
      "\n",
      "**************Area under the curve******************\n",
      "0.9312196649882395\n"
     ]
    }
   ],
   "source": [
    "#score for adaboost classifier using training data\n",
    "train_score(ab_b)"
   ]
  },
  {
   "cell_type": "markdown",
   "id": "1390046f",
   "metadata": {},
   "source": [
    "## Real and predicted value using different model"
   ]
  },
  {
   "cell_type": "code",
   "execution_count": 92,
   "id": "a32ae092",
   "metadata": {},
   "outputs": [],
   "source": [
    "#Predected value\n",
    "y_pred_sgd=sgd_b.predict(X_test_scaled)\n",
    "y_pred_lr=lr_b.predict(X_test_scaled)\n",
    "y_pred_svc=svc.predict(X_test_scaled)\n",
    "y_pred_dt=dt_b.predict(X_test_scaled)\n",
    "y_pred_rf=rf_b.predict(X_test_scaled)\n",
    "y_pred_rt=rt_b.predict(X_test_scaled)\n",
    "y_pred_ab=ab_b.predict(X_test_scaled)"
   ]
  },
  {
   "cell_type": "code",
   "execution_count": 93,
   "id": "9a481838",
   "metadata": {},
   "outputs": [
    {
     "data": {
      "text/html": [
       "<div>\n",
       "<style scoped>\n",
       "    .dataframe tbody tr th:only-of-type {\n",
       "        vertical-align: middle;\n",
       "    }\n",
       "\n",
       "    .dataframe tbody tr th {\n",
       "        vertical-align: top;\n",
       "    }\n",
       "\n",
       "    .dataframe thead th {\n",
       "        text-align: right;\n",
       "    }\n",
       "</style>\n",
       "<table border=\"1\" class=\"dataframe\">\n",
       "  <thead>\n",
       "    <tr style=\"text-align: right;\">\n",
       "      <th></th>\n",
       "      <th>Real value</th>\n",
       "      <th>SGD Classifier</th>\n",
       "      <th>Logistic Regression</th>\n",
       "      <th>SVC</th>\n",
       "      <th>Decision Tree</th>\n",
       "      <th>Random Forest</th>\n",
       "      <th>Extra Random Tree</th>\n",
       "      <th>AdaBoost</th>\n",
       "    </tr>\n",
       "  </thead>\n",
       "  <tbody>\n",
       "    <tr>\n",
       "      <th>0</th>\n",
       "      <td>True</td>\n",
       "      <td>True</td>\n",
       "      <td>True</td>\n",
       "      <td>True</td>\n",
       "      <td>True</td>\n",
       "      <td>True</td>\n",
       "      <td>False</td>\n",
       "      <td>True</td>\n",
       "    </tr>\n",
       "    <tr>\n",
       "      <th>1</th>\n",
       "      <td>True</td>\n",
       "      <td>True</td>\n",
       "      <td>True</td>\n",
       "      <td>True</td>\n",
       "      <td>True</td>\n",
       "      <td>True</td>\n",
       "      <td>True</td>\n",
       "      <td>True</td>\n",
       "    </tr>\n",
       "    <tr>\n",
       "      <th>2</th>\n",
       "      <td>True</td>\n",
       "      <td>False</td>\n",
       "      <td>True</td>\n",
       "      <td>True</td>\n",
       "      <td>True</td>\n",
       "      <td>True</td>\n",
       "      <td>True</td>\n",
       "      <td>True</td>\n",
       "    </tr>\n",
       "    <tr>\n",
       "      <th>3</th>\n",
       "      <td>False</td>\n",
       "      <td>False</td>\n",
       "      <td>False</td>\n",
       "      <td>False</td>\n",
       "      <td>False</td>\n",
       "      <td>False</td>\n",
       "      <td>False</td>\n",
       "      <td>False</td>\n",
       "    </tr>\n",
       "    <tr>\n",
       "      <th>4</th>\n",
       "      <td>True</td>\n",
       "      <td>True</td>\n",
       "      <td>True</td>\n",
       "      <td>True</td>\n",
       "      <td>True</td>\n",
       "      <td>True</td>\n",
       "      <td>True</td>\n",
       "      <td>True</td>\n",
       "    </tr>\n",
       "    <tr>\n",
       "      <th>...</th>\n",
       "      <td>...</td>\n",
       "      <td>...</td>\n",
       "      <td>...</td>\n",
       "      <td>...</td>\n",
       "      <td>...</td>\n",
       "      <td>...</td>\n",
       "      <td>...</td>\n",
       "      <td>...</td>\n",
       "    </tr>\n",
       "    <tr>\n",
       "      <th>5206</th>\n",
       "      <td>False</td>\n",
       "      <td>False</td>\n",
       "      <td>False</td>\n",
       "      <td>False</td>\n",
       "      <td>False</td>\n",
       "      <td>False</td>\n",
       "      <td>False</td>\n",
       "      <td>False</td>\n",
       "    </tr>\n",
       "    <tr>\n",
       "      <th>5207</th>\n",
       "      <td>False</td>\n",
       "      <td>False</td>\n",
       "      <td>False</td>\n",
       "      <td>False</td>\n",
       "      <td>True</td>\n",
       "      <td>False</td>\n",
       "      <td>False</td>\n",
       "      <td>True</td>\n",
       "    </tr>\n",
       "    <tr>\n",
       "      <th>5208</th>\n",
       "      <td>False</td>\n",
       "      <td>False</td>\n",
       "      <td>False</td>\n",
       "      <td>False</td>\n",
       "      <td>False</td>\n",
       "      <td>False</td>\n",
       "      <td>False</td>\n",
       "      <td>False</td>\n",
       "    </tr>\n",
       "    <tr>\n",
       "      <th>5209</th>\n",
       "      <td>False</td>\n",
       "      <td>True</td>\n",
       "      <td>True</td>\n",
       "      <td>True</td>\n",
       "      <td>False</td>\n",
       "      <td>True</td>\n",
       "      <td>True</td>\n",
       "      <td>True</td>\n",
       "    </tr>\n",
       "    <tr>\n",
       "      <th>5210</th>\n",
       "      <td>False</td>\n",
       "      <td>False</td>\n",
       "      <td>False</td>\n",
       "      <td>False</td>\n",
       "      <td>False</td>\n",
       "      <td>False</td>\n",
       "      <td>False</td>\n",
       "      <td>False</td>\n",
       "    </tr>\n",
       "  </tbody>\n",
       "</table>\n",
       "<p>5211 rows × 8 columns</p>\n",
       "</div>"
      ],
      "text/plain": [
       "     Real value SGD Classifier Logistic Regression    SVC Decision Tree  \\\n",
       "0          True           True                True   True          True   \n",
       "1          True           True                True   True          True   \n",
       "2          True          False                True   True          True   \n",
       "3         False          False               False  False         False   \n",
       "4          True           True                True   True          True   \n",
       "...         ...            ...                 ...    ...           ...   \n",
       "5206      False          False               False  False         False   \n",
       "5207      False          False               False  False          True   \n",
       "5208      False          False               False  False         False   \n",
       "5209      False           True                True   True         False   \n",
       "5210      False          False               False  False         False   \n",
       "\n",
       "     Random Forest Extra Random Tree AdaBoost  \n",
       "0             True             False     True  \n",
       "1             True              True     True  \n",
       "2             True              True     True  \n",
       "3            False             False    False  \n",
       "4             True              True     True  \n",
       "...            ...               ...      ...  \n",
       "5206         False             False    False  \n",
       "5207         False             False     True  \n",
       "5208         False             False    False  \n",
       "5209          True              True     True  \n",
       "5210         False             False    False  \n",
       "\n",
       "[5211 rows x 8 columns]"
      ]
     },
     "execution_count": 93,
     "metadata": {},
     "output_type": "execute_result"
    }
   ],
   "source": [
    "df_pred=pd.DataFrame({'Real value':y_test,\n",
    "                     'SGD Classifier':y_pred_sgd,\n",
    "                     'Logistic Regression':y_pred_lr,\n",
    "                     'SVC':y_pred_svc,\n",
    "                     'Decision Tree':y_pred_dt,\n",
    "                     'Random Forest':y_pred_rf,\n",
    "                     'Extra Random Tree':y_pred_rt,\n",
    "                     'AdaBoost':y_pred_ab})\n",
    "df_pred.replace({1:'True', 0: 'False'}, inplace=True)\n",
    "df_pred"
   ]
  },
  {
   "cell_type": "code",
   "execution_count": 158,
   "id": "9b599878",
   "metadata": {},
   "outputs": [],
   "source": [
    "df_pred.to_html('Resources/Cleaned_data/over_pred_test.html')"
   ]
  },
  {
   "cell_type": "code",
   "execution_count": 96,
   "id": "6de2cce8",
   "metadata": {},
   "outputs": [
    {
     "name": "stdout",
     "output_type": "stream",
     "text": [
      "SGD Classifier\n",
      "********************Train Score******************\n",
      "0.8088658606793322\n",
      "\n",
      "*********************Test Score******************\n",
      "0.7963922471694492\n",
      "\n",
      "**************Confusion Matrix******************\n",
      "[[2265  375]\n",
      " [ 686 1885]]\n",
      "\n",
      "**********Classification Report******************\n",
      "              precision    recall  f1-score   support\n",
      "\n",
      "           0       0.77      0.86      0.81      2640\n",
      "           1       0.83      0.73      0.78      2571\n",
      "\n",
      "    accuracy                           0.80      5211\n",
      "   macro avg       0.80      0.80      0.80      5211\n",
      "weighted avg       0.80      0.80      0.80      5211\n",
      "\n",
      "\n",
      "ROC Curve\n"
     ]
    },
    {
     "data": {
      "image/png": "[encoded data removed]",
      "text/plain": [
       "<Figure size 432x288 with 1 Axes>"
      ]
     },
     "metadata": {
      "needs_background": "light"
     },
     "output_type": "display_data"
    },
    {
     "name": "stdout",
     "output_type": "stream",
     "text": [
      "\n",
      "**************Area under the curve******************\n",
      "0.8945005775373338\n",
      "None\n",
      "******************************\n",
      "\n",
      "Logistic Regression\n",
      "********************Train Score******************\n",
      "0.8208277361990661\n",
      "\n",
      "*********************Test Score******************\n",
      "0.8034926117827672\n",
      "\n",
      "**************Confusion Matrix******************\n",
      "[[2215  425]\n",
      " [ 599 1972]]\n",
      "\n",
      "**********Classification Report******************\n",
      "              precision    recall  f1-score   support\n",
      "\n",
      "           0       0.79      0.84      0.81      2640\n",
      "           1       0.82      0.77      0.79      2571\n",
      "\n",
      "    accuracy                           0.80      5211\n",
      "   macro avg       0.80      0.80      0.80      5211\n",
      "weighted avg       0.80      0.80      0.80      5211\n",
      "\n",
      "\n",
      "ROC Curve\n"
     ]
    },
    {
     "data": {
      "image/png": "[encoded data removed]",
      "text/plain": [
       "<Figure size 432x288 with 1 Axes>"
      ]
     },
     "metadata": {
      "needs_background": "light"
     },
     "output_type": "display_data"
    },
    {
     "name": "stdout",
     "output_type": "stream",
     "text": [
      "\n",
      "**************Area under the curve******************\n",
      "0.9003220654620887\n",
      "None\n",
      "******************************\n",
      "\n",
      "SVC\n",
      "********************Train Score******************\n",
      "0.8296552165291371\n",
      "\n",
      "*********************Test Score******************\n",
      "0.819804260218768\n",
      "\n",
      "**************Confusion Matrix******************\n",
      "[[2264  376]\n",
      " [ 563 2008]]\n",
      "\n",
      "**********Classification Report******************\n",
      "              precision    recall  f1-score   support\n",
      "\n",
      "           0       0.80      0.86      0.83      2640\n",
      "           1       0.84      0.78      0.81      2571\n",
      "\n",
      "    accuracy                           0.82      5211\n",
      "   macro avg       0.82      0.82      0.82      5211\n",
      "weighted avg       0.82      0.82      0.82      5211\n",
      "\n",
      "\n",
      "ROC Curve\n"
     ]
    },
    {
     "data": {
      "image/png": "[encoded data removed]",
      "text/plain": [
       "<Figure size 432x288 with 1 Axes>"
      ]
     },
     "metadata": {
      "needs_background": "light"
     },
     "output_type": "display_data"
    },
    {
     "name": "stdout",
     "output_type": "stream",
     "text": [
      "\n",
      "**************Area under the curve******************\n",
      "0.9070727697040416\n",
      "None\n",
      "******************************\n",
      "\n",
      "Decision Tree\n",
      "********************Train Score******************\n",
      "1.0\n",
      "\n",
      "*********************Test Score******************\n",
      "0.950681251199386\n",
      "\n",
      "**************Confusion Matrix******************\n",
      "[[2393  247]\n",
      " [  10 2561]]\n",
      "\n",
      "**********Classification Report******************\n",
      "              precision    recall  f1-score   support\n",
      "\n",
      "           0       1.00      0.91      0.95      2640\n",
      "           1       0.91      1.00      0.95      2571\n",
      "\n",
      "    accuracy                           0.95      5211\n",
      "   macro avg       0.95      0.95      0.95      5211\n",
      "weighted avg       0.95      0.95      0.95      5211\n",
      "\n",
      "\n",
      "ROC Curve\n"
     ]
    },
    {
     "data": {
      "image/png": "[encoded data removed]",
      "text/plain": [
       "<Figure size 432x288 with 1 Axes>"
      ]
     },
     "metadata": {
      "needs_background": "light"
     },
     "output_type": "display_data"
    },
    {
     "name": "stdout",
     "output_type": "stream",
     "text": [
      "\n",
      "**************Area under the curve******************\n",
      "0.9512749283971571\n",
      "None\n",
      "******************************\n",
      "\n",
      "Random Forest\n",
      "********************Train Score******************\n",
      "0.9502974477067742\n",
      "\n",
      "*********************Test Score******************\n",
      "0.9241988102091729\n",
      "\n",
      "**************Confusion Matrix******************\n",
      "[[2347  293]\n",
      " [ 102 2469]]\n",
      "\n",
      "**********Classification Report******************\n",
      "              precision    recall  f1-score   support\n",
      "\n",
      "           0       0.96      0.89      0.92      2640\n",
      "           1       0.89      0.96      0.93      2571\n",
      "\n",
      "    accuracy                           0.92      5211\n",
      "   macro avg       0.93      0.92      0.92      5211\n",
      "weighted avg       0.93      0.92      0.92      5211\n",
      "\n",
      "\n",
      "ROC Curve\n"
     ]
    },
    {
     "data": {
      "image/png": "[encoded data removed]",
      "text/plain": [
       "<Figure size 432x288 with 1 Axes>"
      ]
     },
     "metadata": {
      "needs_background": "light"
     },
     "output_type": "display_data"
    },
    {
     "name": "stdout",
     "output_type": "stream",
     "text": [
      "\n",
      "**************Area under the curve******************\n",
      "0.9771632603750456\n",
      "None\n",
      "******************************\n",
      "\n",
      "Extra Random Tree\n",
      "********************Train Score******************\n",
      "0.8886330198938144\n",
      "\n",
      "*********************Test Score******************\n",
      "0.8472462099405105\n",
      "\n",
      "**************Confusion Matrix******************\n",
      "[[2112  528]\n",
      " [ 268 2303]]\n",
      "\n",
      "**********Classification Report******************\n",
      "              precision    recall  f1-score   support\n",
      "\n",
      "           0       0.89      0.80      0.84      2640\n",
      "           1       0.81      0.90      0.85      2571\n",
      "\n",
      "    accuracy                           0.85      5211\n",
      "   macro avg       0.85      0.85      0.85      5211\n",
      "weighted avg       0.85      0.85      0.85      5211\n",
      "\n",
      "\n",
      "ROC Curve\n"
     ]
    },
    {
     "data": {
      "image/png": "[encoded data removed]",
      "text/plain": [
       "<Figure size 432x288 with 1 Axes>"
      ]
     },
     "metadata": {
      "needs_background": "light"
     },
     "output_type": "display_data"
    },
    {
     "name": "stdout",
     "output_type": "stream",
     "text": [
      "\n",
      "**************Area under the curve******************\n",
      "0.9348087054913192\n",
      "None\n",
      "******************************\n",
      "\n",
      "AdaBoost\n",
      "********************Train Score******************\n",
      "1.0\n",
      "\n",
      "*********************Test Score******************\n",
      "0.9430051813471503\n",
      "\n",
      "**************Confusion Matrix******************\n",
      "[[2364  276]\n",
      " [  21 2550]]\n",
      "\n",
      "**********Classification Report******************\n",
      "              precision    recall  f1-score   support\n",
      "\n",
      "           0       0.99      0.90      0.94      2640\n",
      "           1       0.90      0.99      0.94      2571\n",
      "\n",
      "    accuracy                           0.94      5211\n",
      "   macro avg       0.95      0.94      0.94      5211\n",
      "weighted avg       0.95      0.94      0.94      5211\n",
      "\n",
      "\n",
      "ROC Curve\n"
     ]
    },
    {
     "data": {
      "image/png": "[encoded data removed]",
      "text/plain": [
       "<Figure size 432x288 with 1 Axes>"
      ]
     },
     "metadata": {
      "needs_background": "light"
     },
     "output_type": "display_data"
    },
    {
     "name": "stdout",
     "output_type": "stream",
     "text": [
      "\n",
      "**************Area under the curve******************\n",
      "0.943643258724939\n",
      "None\n",
      "******************************\n",
      "\n"
     ]
    }
   ],
   "source": [
    "# score for different models using test data\n",
    "print('SGD Classifier')\n",
    "print(test_score(sgd_b))\n",
    "print(\"*\"*30)\n",
    "print('')\n",
    "\n",
    "print('Logistic Regression')\n",
    "print(test_score(lr_b))\n",
    "print(\"*\"*30)\n",
    "print('')\n",
    "\n",
    "print('SVC')\n",
    "print(test_score(svc))\n",
    "print(\"*\"*30)\n",
    "print('')\n",
    "\n",
    "print('Decision Tree')\n",
    "print(test_score(dt_b))\n",
    "print(\"*\"*30)\n",
    "print('')\n",
    "\n",
    "print('Random Forest')\n",
    "print(test_score(rf_b))\n",
    "print(\"*\"*30)\n",
    "print('')\n",
    "\n",
    "print('Extra Random Tree')\n",
    "print(test_score(rt_b))\n",
    "print(\"*\"*30)\n",
    "print('')\n",
    "\n",
    "print('AdaBoost')\n",
    "print(test_score(ab_b))\n",
    "print(\"*\"*30)\n",
    "print('')\n"
   ]
  },
  {
   "cell_type": "code",
   "execution_count": 106,
   "id": "6e1b548c",
   "metadata": {},
   "outputs": [],
   "source": [
    "#defining function for model scoring with test set\n",
    "def model_score(model, X_train_scaled=X_train_scaled, X_test_scaled=X_test_scaled, \n",
    "               y_train=y_train,y_test=y_test):\n",
    "    #printing the accuracy score\n",
    "    train_score=model.score(X_train_scaled, y_train)\n",
    "    test_score=model.score(X_test_scaled, y_test)\n",
    "    y_pred=model.predict(X_test_scaled)\n",
    "    pre_score=precision_score(y_test, y_pred)\n",
    "    re_score=recall_score(y_test, y_pred)\n",
    "    f_score=f1_score(y_test, y_pred)\n",
    "    \n",
    "    y_proba = model.predict_proba(X_test_scaled)[:,1]  #proba of positive class\n",
    "    fpr, tpr, thresholds = roc_curve(y_test, y_proba)\n",
    "    \n",
    "    roc_auc = auc(fpr, tpr)\n",
    "    result=[train_score, test_score,pre_score, re_score,f_score, roc_auc ]\n",
    "    return result"
   ]
  },
  {
   "cell_type": "code",
   "execution_count": 108,
   "id": "f291f7c8",
   "metadata": {},
   "outputs": [
    {
     "data": {
      "text/html": [
       "<div>\n",
       "<style scoped>\n",
       "    .dataframe tbody tr th:only-of-type {\n",
       "        vertical-align: middle;\n",
       "    }\n",
       "\n",
       "    .dataframe tbody tr th {\n",
       "        vertical-align: top;\n",
       "    }\n",
       "\n",
       "    .dataframe thead th {\n",
       "        text-align: right;\n",
       "    }\n",
       "</style>\n",
       "<table border=\"1\" class=\"dataframe\">\n",
       "  <thead>\n",
       "    <tr style=\"text-align: right;\">\n",
       "      <th></th>\n",
       "      <th>SGD</th>\n",
       "      <th>logistic Reg</th>\n",
       "      <th>svc</th>\n",
       "      <th>Decision Tree</th>\n",
       "      <th>Random Forest</th>\n",
       "      <th>Extra Random Tree</th>\n",
       "      <th>Ada Boost</th>\n",
       "    </tr>\n",
       "  </thead>\n",
       "  <tbody>\n",
       "    <tr>\n",
       "      <th>train score</th>\n",
       "      <td>0.808866</td>\n",
       "      <td>0.820828</td>\n",
       "      <td>0.829655</td>\n",
       "      <td>1.000000</td>\n",
       "      <td>0.950297</td>\n",
       "      <td>0.888633</td>\n",
       "      <td>1.000000</td>\n",
       "    </tr>\n",
       "    <tr>\n",
       "      <th>test score</th>\n",
       "      <td>0.796392</td>\n",
       "      <td>0.803493</td>\n",
       "      <td>0.819804</td>\n",
       "      <td>0.950681</td>\n",
       "      <td>0.924199</td>\n",
       "      <td>0.847246</td>\n",
       "      <td>0.943005</td>\n",
       "    </tr>\n",
       "    <tr>\n",
       "      <th>precision_score</th>\n",
       "      <td>0.834071</td>\n",
       "      <td>0.822695</td>\n",
       "      <td>0.842282</td>\n",
       "      <td>0.912037</td>\n",
       "      <td>0.893917</td>\n",
       "      <td>0.813493</td>\n",
       "      <td>0.902335</td>\n",
       "    </tr>\n",
       "    <tr>\n",
       "      <th>recall_score</th>\n",
       "      <td>0.733178</td>\n",
       "      <td>0.767017</td>\n",
       "      <td>0.781019</td>\n",
       "      <td>0.996110</td>\n",
       "      <td>0.960327</td>\n",
       "      <td>0.895760</td>\n",
       "      <td>0.991832</td>\n",
       "    </tr>\n",
       "    <tr>\n",
       "      <th>f1_score</th>\n",
       "      <td>0.780377</td>\n",
       "      <td>0.793881</td>\n",
       "      <td>0.810494</td>\n",
       "      <td>0.952222</td>\n",
       "      <td>0.925933</td>\n",
       "      <td>0.852647</td>\n",
       "      <td>0.944969</td>\n",
       "    </tr>\n",
       "    <tr>\n",
       "      <th>auc</th>\n",
       "      <td>0.894501</td>\n",
       "      <td>0.900322</td>\n",
       "      <td>0.907073</td>\n",
       "      <td>0.951275</td>\n",
       "      <td>0.977163</td>\n",
       "      <td>0.934809</td>\n",
       "      <td>0.943643</td>\n",
       "    </tr>\n",
       "  </tbody>\n",
       "</table>\n",
       "</div>"
      ],
      "text/plain": [
       "                      SGD  logistic Reg       svc  Decision Tree  \\\n",
       "train score      0.808866      0.820828  0.829655       1.000000   \n",
       "test score       0.796392      0.803493  0.819804       0.950681   \n",
       "precision_score  0.834071      0.822695  0.842282       0.912037   \n",
       "recall_score     0.733178      0.767017  0.781019       0.996110   \n",
       "f1_score         0.780377      0.793881  0.810494       0.952222   \n",
       "auc              0.894501      0.900322  0.907073       0.951275   \n",
       "\n",
       "                 Random Forest  Extra Random Tree  Ada Boost  \n",
       "train score           0.950297           0.888633   1.000000  \n",
       "test score            0.924199           0.847246   0.943005  \n",
       "precision_score       0.893917           0.813493   0.902335  \n",
       "recall_score          0.960327           0.895760   0.991832  \n",
       "f1_score              0.925933           0.852647   0.944969  \n",
       "auc                   0.977163           0.934809   0.943643  "
      ]
     },
     "execution_count": 108,
     "metadata": {},
     "output_type": "execute_result"
    }
   ],
   "source": [
    "#making dataframe on evaluation metrices\n",
    "all_evaluation=pd.DataFrame({'SGD':model_score(sgd_b),\n",
    "                            'logistic Reg':model_score(lr_b),\n",
    "                            'svc':model_score(svc),\n",
    "                            'Decision Tree':model_score(dt_b),\n",
    "                           'Random Forest':model_score(rf_b),\n",
    "                            'Extra Random Tree':model_score(rt_b),\n",
    "                           'Ada Boost':model_score(ab_b),}\n",
    "                           ,index=['train score','test score', \n",
    "                                   'precision_score', 'recall_score', 'f1_score', 'auc'])\n",
    "all_evaluation"
   ]
  },
  {
   "cell_type": "code",
   "execution_count": 156,
   "id": "2d962f65",
   "metadata": {},
   "outputs": [],
   "source": [
    "all_evaluation.to_html('Resources/Cleaned_data/over_metrics.html')"
   ]
  },
  {
   "cell_type": "markdown",
   "id": "c4f3192d",
   "metadata": {},
   "source": [
    "## Trying to improve score by selecting important features based on Decision Tree\n"
   ]
  },
  {
   "cell_type": "code",
   "execution_count": 18,
   "id": "9b6c86d5",
   "metadata": {},
   "outputs": [
    {
     "data": {
      "text/plain": [
       "SelectFromModel(estimator=DecisionTreeClassifier())"
      ]
     },
     "execution_count": 18,
     "metadata": {},
     "output_type": "execute_result"
    }
   ],
   "source": [
    "#selecting and fitting model\n",
    "sel = SelectFromModel(dt)\n",
    "sel.fit(X_train_scaled, y_train)"
   ]
  },
  {
   "cell_type": "code",
   "execution_count": 20,
   "id": "e2d7a911",
   "metadata": {},
   "outputs": [
    {
     "data": {
      "text/plain": [
       "array([ True,  True,  True,  True,  True,  True, False, False, False,\n",
       "       False, False, False, False, False,  True, False, False, False,\n",
       "       False, False, False, False, False, False, False, False, False,\n",
       "       False, False, False, False, False, False, False, False, False,\n",
       "       False, False, False, False, False, False, False, False, False,\n",
       "       False, False, False, False, False, False, False, False])"
      ]
     },
     "execution_count": 20,
     "metadata": {},
     "output_type": "execute_result"
    }
   ],
   "source": [
    "imp_feat=sel.get_support()\n",
    "imp_feat"
   ]
  },
  {
   "cell_type": "code",
   "execution_count": 144,
   "id": "d648c086",
   "metadata": {},
   "outputs": [],
   "source": [
    "#splitting data using train_test split\n",
    "X_train_sel, X_test_sel, y_train, y_test=train_test_split(sel.transform(X_dummies), y_label, random_state=1)\n",
    "\n",
    "scaler1 = StandardScaler().fit(X_train_sel)\n",
    "X_selected_train_scaled = scaler1.transform(X_train_sel)\n",
    "X_selected_test_scaled = scaler1.transform(X_test_sel)\n"
   ]
  },
  {
   "cell_type": "markdown",
   "id": "4c20608b",
   "metadata": {},
   "source": [
    "### SGD Classifier after selecting important features"
   ]
  },
  {
   "cell_type": "code",
   "execution_count": 145,
   "id": "6790aa6e",
   "metadata": {},
   "outputs": [
    {
     "name": "stdout",
     "output_type": "stream",
     "text": [
      "Training Score: 0.8029808737926182\n",
      "Testing Score: 0.8123200921128382\n"
     ]
    }
   ],
   "source": [
    "#after model selection\n",
    "sgd_s = SGDClassifier(random_state=42, loss='log').fit(X_selected_train_scaled, y_train)\n",
    "sgd_s_train=sgd_s.score(X_selected_train_scaled, y_train)\n",
    "sgd_s_test=sgd_s.score(X_selected_test_scaled, y_test)\n",
    "print(f'Training Score: {sgd_s_train}')\n",
    "print(f'Testing Score: {sgd_s_test}')"
   ]
  },
  {
   "cell_type": "markdown",
   "id": "c6470c38",
   "metadata": {},
   "source": [
    "### Logistic Regression after selecting important features"
   ]
  },
  {
   "cell_type": "code",
   "execution_count": 146,
   "id": "12412de9",
   "metadata": {},
   "outputs": [
    {
     "name": "stdout",
     "output_type": "stream",
     "text": [
      "Training Score: 0.8100812384059362\n",
      "Testing Score: 0.8199961619650739\n"
     ]
    }
   ],
   "source": [
    "#after model selection\n",
    "lr_s = LogisticRegression().fit(X_selected_train_scaled, y_train)\n",
    "lr_s_train=lr_s.score(X_selected_train_scaled, y_train)\n",
    "lr_s_test=lr_s.score(X_selected_test_scaled, y_test)\n",
    "print(f'Training Score: {lr_s_train}')\n",
    "print(f'Testing Score: {lr_s_test}')"
   ]
  },
  {
   "cell_type": "markdown",
   "id": "5f12ddce",
   "metadata": {},
   "source": [
    "### SVC after selecting important features"
   ]
  },
  {
   "cell_type": "code",
   "execution_count": 147,
   "id": "422a4045",
   "metadata": {},
   "outputs": [
    {
     "name": "stdout",
     "output_type": "stream",
     "text": [
      "Training Score: 0.8041962515192221\n",
      "Testing Score: 0.8142391095758972\n"
     ]
    }
   ],
   "source": [
    "#after model selection\n",
    "# Support vector machine linear classifier\n",
    "svc_s=SVC(kernel='linear', probability=True).fit(X_selected_train_scaled, y_train)\n",
    "svc_s_train=svc_s.score(X_selected_train_scaled, y_train)\n",
    "svc_s_test=svc_s.score(X_selected_test_scaled, y_test)\n",
    "print(f'Training Score: {svc_s_train}')\n",
    "print(f'Testing Score: {svc_s_test}')"
   ]
  },
  {
   "cell_type": "markdown",
   "id": "251c4948",
   "metadata": {},
   "source": [
    "### Decision Tree after selecting important features"
   ]
  },
  {
   "cell_type": "code",
   "execution_count": 148,
   "id": "999baaea",
   "metadata": {},
   "outputs": [
    {
     "name": "stdout",
     "output_type": "stream",
     "text": [
      "Training Score: 0.9988485895221646\n",
      "Testing Score: 0.9430051813471503\n"
     ]
    }
   ],
   "source": [
    "#after model selection\n",
    "dt_s = DecisionTreeClassifier().fit(X_selected_train_scaled, y_train)\n",
    "dt_s_train=dt_s.score(X_selected_train_scaled, y_train)\n",
    "dt_s_test=dt_s.score(X_selected_test_scaled, y_test)\n",
    "print(f'Training Score: {dt_s_train}')\n",
    "print(f'Testing Score: {dt_s_test}')"
   ]
  },
  {
   "cell_type": "markdown",
   "id": "700e3d0a",
   "metadata": {},
   "source": [
    "### Random Forest after selecting important features"
   ]
  },
  {
   "cell_type": "code",
   "execution_count": 149,
   "id": "af12ec71",
   "metadata": {},
   "outputs": [
    {
     "name": "stdout",
     "output_type": "stream",
     "text": [
      "Training Score: 0.9988485895221646\n",
      "Testing Score: 0.9529840721550566\n"
     ]
    }
   ],
   "source": [
    "#after model selection\n",
    "rf_s = RandomForestClassifier().fit(X_selected_train_scaled, y_train)\n",
    "rf_s_train=rf_s.score(X_selected_train_scaled, y_train)\n",
    "rf_s_test=rf_s.score(X_selected_test_scaled, y_test)\n",
    "print(f'Training Score: {rf_s_train}')\n",
    "print(f'Testing Score: {rf_s_test}')"
   ]
  },
  {
   "cell_type": "markdown",
   "id": "7d7a1d4d",
   "metadata": {},
   "source": [
    "### Extra Random Tree after selecting important features"
   ]
  },
  {
   "cell_type": "code",
   "execution_count": 151,
   "id": "6fe1ada2",
   "metadata": {},
   "outputs": [
    {
     "name": "stdout",
     "output_type": "stream",
     "text": [
      "Training Score: 0.9988485895221646\n",
      "Testing Score: 0.9518326616772212\n"
     ]
    }
   ],
   "source": [
    "#after model selection\n",
    "rt_s = RandomForestClassifier().fit(X_selected_train_scaled, y_train)\n",
    "rt_s_train=rt_s.score(X_selected_train_scaled, y_train)\n",
    "rt_s_test=rt_s.score(X_selected_test_scaled, y_test)\n",
    "print(f'Training Score: {rt_s_train}')\n",
    "print(f'Testing Score: {rt_s_test}')"
   ]
  },
  {
   "cell_type": "code",
   "execution_count": null,
   "id": "8989c0a6",
   "metadata": {},
   "outputs": [],
   "source": []
  },
  {
   "cell_type": "code",
   "execution_count": 152,
   "id": "c2da8ffd",
   "metadata": {},
   "outputs": [],
   "source": [
    "#defining function for model scoring with test set\n",
    "def model_imp_feat(model, X_train_scaled=X_selected_train_scaled, X_test_scaled=X_selected_test_scaled, \n",
    "               y_train=y_train,y_test=y_test):\n",
    "    #printing the accuracy score\n",
    "    train_score=model.score(X_train_scaled, y_train)\n",
    "    test_score=model.score(X_test_scaled, y_test)\n",
    "    y_pred=model.predict(X_test_scaled)\n",
    "    pre_score=precision_score(y_test, y_pred)\n",
    "    re_score=recall_score(y_test, y_pred)\n",
    "    f_score=f1_score(y_test, y_pred)\n",
    "    \n",
    "    y_proba = model.predict_proba(X_test_scaled)[:,1]  #proba of positive class\n",
    "    fpr, tpr, thresholds = roc_curve(y_test, y_proba)\n",
    "    \n",
    "    roc_auc = auc(fpr, tpr)\n",
    "    result=[train_score, test_score,pre_score, re_score,f_score, roc_auc ]\n",
    "    return result"
   ]
  },
  {
   "cell_type": "code",
   "execution_count": 153,
   "id": "da9b4867",
   "metadata": {},
   "outputs": [
    {
     "data": {
      "text/html": [
       "<div>\n",
       "<style scoped>\n",
       "    .dataframe tbody tr th:only-of-type {\n",
       "        vertical-align: middle;\n",
       "    }\n",
       "\n",
       "    .dataframe tbody tr th {\n",
       "        vertical-align: top;\n",
       "    }\n",
       "\n",
       "    .dataframe thead th {\n",
       "        text-align: right;\n",
       "    }\n",
       "</style>\n",
       "<table border=\"1\" class=\"dataframe\">\n",
       "  <thead>\n",
       "    <tr style=\"text-align: right;\">\n",
       "      <th></th>\n",
       "      <th>SGD</th>\n",
       "      <th>logistic Reg</th>\n",
       "      <th>svc</th>\n",
       "      <th>Decision Tree</th>\n",
       "      <th>Random Forest</th>\n",
       "      <th>Extra Random Tree</th>\n",
       "    </tr>\n",
       "  </thead>\n",
       "  <tbody>\n",
       "    <tr>\n",
       "      <th>train score</th>\n",
       "      <td>0.802981</td>\n",
       "      <td>0.810081</td>\n",
       "      <td>0.804196</td>\n",
       "      <td>0.998849</td>\n",
       "      <td>0.998849</td>\n",
       "      <td>0.998849</td>\n",
       "    </tr>\n",
       "    <tr>\n",
       "      <th>test score</th>\n",
       "      <td>0.812320</td>\n",
       "      <td>0.819996</td>\n",
       "      <td>0.814239</td>\n",
       "      <td>0.943005</td>\n",
       "      <td>0.952984</td>\n",
       "      <td>0.951833</td>\n",
       "    </tr>\n",
       "    <tr>\n",
       "      <th>precision_score</th>\n",
       "      <td>0.887105</td>\n",
       "      <td>0.896451</td>\n",
       "      <td>0.900851</td>\n",
       "      <td>0.903123</td>\n",
       "      <td>0.918287</td>\n",
       "      <td>0.916307</td>\n",
       "    </tr>\n",
       "    <tr>\n",
       "      <th>recall_score</th>\n",
       "      <td>0.709615</td>\n",
       "      <td>0.717789</td>\n",
       "      <td>0.700272</td>\n",
       "      <td>0.990658</td>\n",
       "      <td>0.992993</td>\n",
       "      <td>0.992993</td>\n",
       "    </tr>\n",
       "    <tr>\n",
       "      <th>f1_score</th>\n",
       "      <td>0.788495</td>\n",
       "      <td>0.797233</td>\n",
       "      <td>0.787998</td>\n",
       "      <td>0.944867</td>\n",
       "      <td>0.954180</td>\n",
       "      <td>0.953110</td>\n",
       "    </tr>\n",
       "    <tr>\n",
       "      <th>auc</th>\n",
       "      <td>0.882016</td>\n",
       "      <td>0.882742</td>\n",
       "      <td>0.890834</td>\n",
       "      <td>0.943680</td>\n",
       "      <td>0.996680</td>\n",
       "      <td>0.996906</td>\n",
       "    </tr>\n",
       "  </tbody>\n",
       "</table>\n",
       "</div>"
      ],
      "text/plain": [
       "                      SGD  logistic Reg       svc  Decision Tree  \\\n",
       "train score      0.802981      0.810081  0.804196       0.998849   \n",
       "test score       0.812320      0.819996  0.814239       0.943005   \n",
       "precision_score  0.887105      0.896451  0.900851       0.903123   \n",
       "recall_score     0.709615      0.717789  0.700272       0.990658   \n",
       "f1_score         0.788495      0.797233  0.787998       0.944867   \n",
       "auc              0.882016      0.882742  0.890834       0.943680   \n",
       "\n",
       "                 Random Forest  Extra Random Tree  \n",
       "train score           0.998849           0.998849  \n",
       "test score            0.952984           0.951833  \n",
       "precision_score       0.918287           0.916307  \n",
       "recall_score          0.992993           0.992993  \n",
       "f1_score              0.954180           0.953110  \n",
       "auc                   0.996680           0.996906  "
      ]
     },
     "execution_count": 153,
     "metadata": {},
     "output_type": "execute_result"
    }
   ],
   "source": [
    "#making dataframe on evaluation metrices\n",
    "all_evaluation_imp_feat=pd.DataFrame({'SGD':model_imp_feat(sgd_s),\n",
    "                            'logistic Reg':model_imp_feat(lr_s),\n",
    "                            'svc':model_imp_feat(svc_s),\n",
    "                            'Decision Tree':model_imp_feat(dt_s),\n",
    "                           'Random Forest':model_imp_feat(rf_s),\n",
    "                            'Extra Random Tree':model_imp_feat(rt_s)}\n",
    "                           ,index=['train score','test score', \n",
    "                                   'precision_score', 'recall_score', 'f1_score', 'auc'])\n",
    "all_evaluation_imp_feat"
   ]
  },
  {
   "cell_type": "code",
   "execution_count": 157,
   "id": "3bd6cba2",
   "metadata": {},
   "outputs": [],
   "source": [
    "#saving the html table for website\n",
    "all_evaluation_imp_feat.to_html('Resources/Cleaned_data/over_metrics_imp.html')"
   ]
  },
  {
   "cell_type": "markdown",
   "id": "b02dda49",
   "metadata": {},
   "source": [
    "## Saving the best model"
   ]
  },
  {
   "cell_type": "code",
   "execution_count": 154,
   "id": "8890169d",
   "metadata": {},
   "outputs": [
    {
     "data": {
      "text/plain": [
       "['model.pkl']"
      ]
     },
     "execution_count": 154,
     "metadata": {},
     "output_type": "execute_result"
    }
   ],
   "source": [
    "import joblib\n",
    "joblib.dump(rf_s, 'model.pkl')"
   ]
  },
  {
   "cell_type": "code",
   "execution_count": 155,
   "id": "791a7c21",
   "metadata": {},
   "outputs": [
    {
     "data": {
      "text/plain": [
       "['scaler.pkl']"
      ]
     },
     "execution_count": 155,
     "metadata": {},
     "output_type": "execute_result"
    }
   ],
   "source": [
    "#saving standard scaler\n",
    "joblib.dump(scaler1, 'scaler.pkl')"
   ]
  }
 ],
 "metadata": {
  "kernelspec": {
   "display_name": "Python 3 (ipykernel)",
   "language": "python",
   "name": "python3"
  },
  "language_info": {
   "codemirror_mode": {
    "name": "ipython",
    "version": 3
   },
   "file_extension": ".py",
   "mimetype": "text/x-python",
   "name": "python",
   "nbconvert_exporter": "python",
   "pygments_lexer": "ipython3",
   "version": "3.8.10"
  }
 },
 "nbformat": 4,
 "nbformat_minor": 5
}
