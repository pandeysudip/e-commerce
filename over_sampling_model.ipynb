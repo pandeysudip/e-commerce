{
 "cells": [
  {
   "cell_type": "code",
   "execution_count": null,
   "id": "10d5c1d8",
   "metadata": {},
   "outputs": [],
   "source": []
  },
  {
   "cell_type": "code",
   "execution_count": 69,
   "id": "70fd9a0b",
   "metadata": {},
   "outputs": [],
   "source": [
    "#importing modules\n",
    "import pandas as pd\n",
    "import numpy as np\n",
    "from pathlib import Path\n",
    "import matplotlib.pyplot as plt\n",
    "import seaborn as sns\n",
    "from sklearn.model_selection import train_test_split\n",
    "from sklearn.preprocessing import StandardScaler, LabelEncoder\n",
    "from sklearn.linear_model import SGDClassifier\n",
    "from sklearn.model_selection import cross_val_predict, cross_val_score\n",
    "from sklearn.metrics import confusion_matrix, classification_report\n",
    "from sklearn.metrics import roc_curve, auc\n",
    "from sklearn.model_selection import RandomizedSearchCV\n",
    "from sklearn.model_selection import GridSearchCV\n",
    "from sklearn.linear_model import LogisticRegression\n",
    "from sklearn.svm import SVC\n",
    "from sklearn.tree import DecisionTreeClassifier\n",
    "from sklearn.ensemble import RandomForestClassifier\n",
    "from sklearn.ensemble import ExtraTreesClassifier"
   ]
  },
  {
   "cell_type": "code",
   "execution_count": 2,
   "id": "c1796b19",
   "metadata": {},
   "outputs": [],
   "source": [
    "#importing under sampling dataset\n",
    "ecommerce_df = pd.read_csv(Path('Resources/Cleaned_data/over_sampling_data.csv'))"
   ]
  },
  {
   "cell_type": "code",
   "execution_count": 4,
   "id": "309f0174",
   "metadata": {},
   "outputs": [
    {
     "data": {
      "text/html": [
       "<div>\n",
       "<style scoped>\n",
       "    .dataframe tbody tr th:only-of-type {\n",
       "        vertical-align: middle;\n",
       "    }\n",
       "\n",
       "    .dataframe tbody tr th {\n",
       "        vertical-align: top;\n",
       "    }\n",
       "\n",
       "    .dataframe thead th {\n",
       "        text-align: right;\n",
       "    }\n",
       "</style>\n",
       "<table border=\"1\" class=\"dataframe\">\n",
       "  <thead>\n",
       "    <tr style=\"text-align: right;\">\n",
       "      <th></th>\n",
       "      <th>Administrative_Avg</th>\n",
       "      <th>Informational_Avg</th>\n",
       "      <th>ProductRelated_Avg</th>\n",
       "      <th>BounceRates</th>\n",
       "      <th>ExitRates</th>\n",
       "      <th>PageValues</th>\n",
       "      <th>SpecialDay</th>\n",
       "      <th>Month</th>\n",
       "      <th>OperatingSystems</th>\n",
       "      <th>Browser</th>\n",
       "      <th>Region</th>\n",
       "      <th>TrafficType</th>\n",
       "      <th>VisitorType</th>\n",
       "      <th>Weekend</th>\n",
       "      <th>Revenue</th>\n",
       "    </tr>\n",
       "  </thead>\n",
       "  <tbody>\n",
       "    <tr>\n",
       "      <th>0</th>\n",
       "      <td>0.0</td>\n",
       "      <td>0.0</td>\n",
       "      <td>0.000000</td>\n",
       "      <td>0.20</td>\n",
       "      <td>0.20</td>\n",
       "      <td>0.0</td>\n",
       "      <td>0.0</td>\n",
       "      <td>Feb</td>\n",
       "      <td>1</td>\n",
       "      <td>1</td>\n",
       "      <td>1</td>\n",
       "      <td>1</td>\n",
       "      <td>Returning_Visitor</td>\n",
       "      <td>False</td>\n",
       "      <td>False</td>\n",
       "    </tr>\n",
       "    <tr>\n",
       "      <th>1</th>\n",
       "      <td>0.0</td>\n",
       "      <td>0.0</td>\n",
       "      <td>32.000000</td>\n",
       "      <td>0.00</td>\n",
       "      <td>0.10</td>\n",
       "      <td>0.0</td>\n",
       "      <td>0.0</td>\n",
       "      <td>Feb</td>\n",
       "      <td>2</td>\n",
       "      <td>2</td>\n",
       "      <td>1</td>\n",
       "      <td>2</td>\n",
       "      <td>Returning_Visitor</td>\n",
       "      <td>False</td>\n",
       "      <td>False</td>\n",
       "    </tr>\n",
       "    <tr>\n",
       "      <th>2</th>\n",
       "      <td>0.0</td>\n",
       "      <td>0.0</td>\n",
       "      <td>0.000000</td>\n",
       "      <td>0.20</td>\n",
       "      <td>0.20</td>\n",
       "      <td>0.0</td>\n",
       "      <td>0.0</td>\n",
       "      <td>Feb</td>\n",
       "      <td>Other</td>\n",
       "      <td>1</td>\n",
       "      <td>9</td>\n",
       "      <td>3</td>\n",
       "      <td>Returning_Visitor</td>\n",
       "      <td>False</td>\n",
       "      <td>False</td>\n",
       "    </tr>\n",
       "    <tr>\n",
       "      <th>3</th>\n",
       "      <td>0.0</td>\n",
       "      <td>0.0</td>\n",
       "      <td>1.333333</td>\n",
       "      <td>0.05</td>\n",
       "      <td>0.14</td>\n",
       "      <td>0.0</td>\n",
       "      <td>0.0</td>\n",
       "      <td>Feb</td>\n",
       "      <td>3</td>\n",
       "      <td>2</td>\n",
       "      <td>2</td>\n",
       "      <td>4</td>\n",
       "      <td>Returning_Visitor</td>\n",
       "      <td>False</td>\n",
       "      <td>False</td>\n",
       "    </tr>\n",
       "    <tr>\n",
       "      <th>4</th>\n",
       "      <td>0.0</td>\n",
       "      <td>0.0</td>\n",
       "      <td>62.750000</td>\n",
       "      <td>0.02</td>\n",
       "      <td>0.05</td>\n",
       "      <td>0.0</td>\n",
       "      <td>0.0</td>\n",
       "      <td>Feb</td>\n",
       "      <td>3</td>\n",
       "      <td>Other</td>\n",
       "      <td>1</td>\n",
       "      <td>4</td>\n",
       "      <td>Returning_Visitor</td>\n",
       "      <td>True</td>\n",
       "      <td>False</td>\n",
       "    </tr>\n",
       "  </tbody>\n",
       "</table>\n",
       "</div>"
      ],
      "text/plain": [
       "   Administrative_Avg  Informational_Avg  ProductRelated_Avg  BounceRates  \\\n",
       "0                 0.0                0.0            0.000000         0.20   \n",
       "1                 0.0                0.0           32.000000         0.00   \n",
       "2                 0.0                0.0            0.000000         0.20   \n",
       "3                 0.0                0.0            1.333333         0.05   \n",
       "4                 0.0                0.0           62.750000         0.02   \n",
       "\n",
       "   ExitRates  PageValues  SpecialDay Month OperatingSystems Browser  Region  \\\n",
       "0       0.20         0.0         0.0   Feb                1       1       1   \n",
       "1       0.10         0.0         0.0   Feb                2       2       1   \n",
       "2       0.20         0.0         0.0   Feb            Other       1       9   \n",
       "3       0.14         0.0         0.0   Feb                3       2       2   \n",
       "4       0.05         0.0         0.0   Feb                3   Other       1   \n",
       "\n",
       "  TrafficType        VisitorType  Weekend  Revenue  \n",
       "0           1  Returning_Visitor    False    False  \n",
       "1           2  Returning_Visitor    False    False  \n",
       "2           3  Returning_Visitor    False    False  \n",
       "3           4  Returning_Visitor    False    False  \n",
       "4           4  Returning_Visitor     True    False  "
      ]
     },
     "execution_count": 4,
     "metadata": {},
     "output_type": "execute_result"
    }
   ],
   "source": [
    "#looking the few rows\n",
    "ecommerce_df.head()"
   ]
  },
  {
   "cell_type": "code",
   "execution_count": 5,
   "id": "0b3791ff",
   "metadata": {},
   "outputs": [
    {
     "data": {
      "text/plain": [
       "False    10422\n",
       "True     10422\n",
       "Name: Revenue, dtype: int64"
      ]
     },
     "execution_count": 5,
     "metadata": {},
     "output_type": "execute_result"
    }
   ],
   "source": [
    "ecommerce_df[\"Revenue\"].value_counts()"
   ]
  },
  {
   "cell_type": "code",
   "execution_count": 6,
   "id": "53ced051",
   "metadata": {},
   "outputs": [
    {
     "data": {
      "text/plain": [
       "(20844, 15)"
      ]
     },
     "execution_count": 6,
     "metadata": {},
     "output_type": "execute_result"
    }
   ],
   "source": [
    "#shape of dataframe\n",
    "ecommerce_df.shape"
   ]
  },
  {
   "cell_type": "code",
   "execution_count": 7,
   "id": "7ee085a5",
   "metadata": {},
   "outputs": [],
   "source": [
    "# create feature matrix (X)\n",
    "#selecting all columns except 'Revenue'\n",
    "X=ecommerce_df.drop('Revenue', axis=1) \n",
    "\n",
    "# create response vector (y)\n",
    "##selecting 'Revenue' column\n",
    "y=ecommerce_df['Revenue'].values "
   ]
  },
  {
   "cell_type": "code",
   "execution_count": 8,
   "id": "addf2a4f",
   "metadata": {},
   "outputs": [],
   "source": [
    "# Seperating categorical columns\n",
    "cat_columns=['Month','OperatingSystems', 'Browser', 'Region',\n",
    "             'TrafficType','VisitorType','Weekend']"
   ]
  },
  {
   "cell_type": "code",
   "execution_count": 9,
   "id": "fd3e4ef0",
   "metadata": {},
   "outputs": [
    {
     "name": "stdout",
     "output_type": "stream",
     "text": [
      "Index(['Administrative_Avg', 'Informational_Avg', 'ProductRelated_Avg',\n",
      "       'BounceRates', 'ExitRates', 'PageValues', 'SpecialDay', 'Month_Aug',\n",
      "       'Month_Dec', 'Month_Feb', 'Month_Jul', 'Month_June', 'Month_Mar',\n",
      "       'Month_May', 'Month_Nov', 'Month_Oct', 'Month_Sep',\n",
      "       'OperatingSystems_1', 'OperatingSystems_2', 'OperatingSystems_3',\n",
      "       'OperatingSystems_Other', 'Browser_1', 'Browser_10', 'Browser_2',\n",
      "       'Browser_4', 'Browser_5', 'Browser_6', 'Browser_Other', 'Region_1',\n",
      "       'Region_2', 'Region_3', 'Region_4', 'Region_5', 'Region_6', 'Region_7',\n",
      "       'Region_8', 'Region_9', 'TrafficType_1', 'TrafficType_10',\n",
      "       'TrafficType_11', 'TrafficType_13', 'TrafficType_2', 'TrafficType_3',\n",
      "       'TrafficType_4', 'TrafficType_5', 'TrafficType_6', 'TrafficType_8',\n",
      "       'TrafficType_Other', 'VisitorType_New_Visitor', 'VisitorType_Other',\n",
      "       'VisitorType_Returning_Visitor', 'Weekend_False', 'Weekend_True'],\n",
      "      dtype='object')\n"
     ]
    },
    {
     "data": {
      "text/html": [
       "<div>\n",
       "<style scoped>\n",
       "    .dataframe tbody tr th:only-of-type {\n",
       "        vertical-align: middle;\n",
       "    }\n",
       "\n",
       "    .dataframe tbody tr th {\n",
       "        vertical-align: top;\n",
       "    }\n",
       "\n",
       "    .dataframe thead th {\n",
       "        text-align: right;\n",
       "    }\n",
       "</style>\n",
       "<table border=\"1\" class=\"dataframe\">\n",
       "  <thead>\n",
       "    <tr style=\"text-align: right;\">\n",
       "      <th></th>\n",
       "      <th>Administrative_Avg</th>\n",
       "      <th>Informational_Avg</th>\n",
       "      <th>ProductRelated_Avg</th>\n",
       "      <th>BounceRates</th>\n",
       "      <th>ExitRates</th>\n",
       "      <th>PageValues</th>\n",
       "      <th>SpecialDay</th>\n",
       "      <th>Month_Aug</th>\n",
       "      <th>Month_Dec</th>\n",
       "      <th>Month_Feb</th>\n",
       "      <th>...</th>\n",
       "      <th>TrafficType_4</th>\n",
       "      <th>TrafficType_5</th>\n",
       "      <th>TrafficType_6</th>\n",
       "      <th>TrafficType_8</th>\n",
       "      <th>TrafficType_Other</th>\n",
       "      <th>VisitorType_New_Visitor</th>\n",
       "      <th>VisitorType_Other</th>\n",
       "      <th>VisitorType_Returning_Visitor</th>\n",
       "      <th>Weekend_False</th>\n",
       "      <th>Weekend_True</th>\n",
       "    </tr>\n",
       "  </thead>\n",
       "  <tbody>\n",
       "    <tr>\n",
       "      <th>0</th>\n",
       "      <td>0.0</td>\n",
       "      <td>0.0</td>\n",
       "      <td>0.000000</td>\n",
       "      <td>0.20</td>\n",
       "      <td>0.20</td>\n",
       "      <td>0.0</td>\n",
       "      <td>0.0</td>\n",
       "      <td>0</td>\n",
       "      <td>0</td>\n",
       "      <td>1</td>\n",
       "      <td>...</td>\n",
       "      <td>0</td>\n",
       "      <td>0</td>\n",
       "      <td>0</td>\n",
       "      <td>0</td>\n",
       "      <td>0</td>\n",
       "      <td>0</td>\n",
       "      <td>0</td>\n",
       "      <td>1</td>\n",
       "      <td>1</td>\n",
       "      <td>0</td>\n",
       "    </tr>\n",
       "    <tr>\n",
       "      <th>1</th>\n",
       "      <td>0.0</td>\n",
       "      <td>0.0</td>\n",
       "      <td>32.000000</td>\n",
       "      <td>0.00</td>\n",
       "      <td>0.10</td>\n",
       "      <td>0.0</td>\n",
       "      <td>0.0</td>\n",
       "      <td>0</td>\n",
       "      <td>0</td>\n",
       "      <td>1</td>\n",
       "      <td>...</td>\n",
       "      <td>0</td>\n",
       "      <td>0</td>\n",
       "      <td>0</td>\n",
       "      <td>0</td>\n",
       "      <td>0</td>\n",
       "      <td>0</td>\n",
       "      <td>0</td>\n",
       "      <td>1</td>\n",
       "      <td>1</td>\n",
       "      <td>0</td>\n",
       "    </tr>\n",
       "    <tr>\n",
       "      <th>2</th>\n",
       "      <td>0.0</td>\n",
       "      <td>0.0</td>\n",
       "      <td>0.000000</td>\n",
       "      <td>0.20</td>\n",
       "      <td>0.20</td>\n",
       "      <td>0.0</td>\n",
       "      <td>0.0</td>\n",
       "      <td>0</td>\n",
       "      <td>0</td>\n",
       "      <td>1</td>\n",
       "      <td>...</td>\n",
       "      <td>0</td>\n",
       "      <td>0</td>\n",
       "      <td>0</td>\n",
       "      <td>0</td>\n",
       "      <td>0</td>\n",
       "      <td>0</td>\n",
       "      <td>0</td>\n",
       "      <td>1</td>\n",
       "      <td>1</td>\n",
       "      <td>0</td>\n",
       "    </tr>\n",
       "    <tr>\n",
       "      <th>3</th>\n",
       "      <td>0.0</td>\n",
       "      <td>0.0</td>\n",
       "      <td>1.333333</td>\n",
       "      <td>0.05</td>\n",
       "      <td>0.14</td>\n",
       "      <td>0.0</td>\n",
       "      <td>0.0</td>\n",
       "      <td>0</td>\n",
       "      <td>0</td>\n",
       "      <td>1</td>\n",
       "      <td>...</td>\n",
       "      <td>1</td>\n",
       "      <td>0</td>\n",
       "      <td>0</td>\n",
       "      <td>0</td>\n",
       "      <td>0</td>\n",
       "      <td>0</td>\n",
       "      <td>0</td>\n",
       "      <td>1</td>\n",
       "      <td>1</td>\n",
       "      <td>0</td>\n",
       "    </tr>\n",
       "    <tr>\n",
       "      <th>4</th>\n",
       "      <td>0.0</td>\n",
       "      <td>0.0</td>\n",
       "      <td>62.750000</td>\n",
       "      <td>0.02</td>\n",
       "      <td>0.05</td>\n",
       "      <td>0.0</td>\n",
       "      <td>0.0</td>\n",
       "      <td>0</td>\n",
       "      <td>0</td>\n",
       "      <td>1</td>\n",
       "      <td>...</td>\n",
       "      <td>1</td>\n",
       "      <td>0</td>\n",
       "      <td>0</td>\n",
       "      <td>0</td>\n",
       "      <td>0</td>\n",
       "      <td>0</td>\n",
       "      <td>0</td>\n",
       "      <td>1</td>\n",
       "      <td>0</td>\n",
       "      <td>1</td>\n",
       "    </tr>\n",
       "  </tbody>\n",
       "</table>\n",
       "<p>5 rows × 53 columns</p>\n",
       "</div>"
      ],
      "text/plain": [
       "   Administrative_Avg  Informational_Avg  ProductRelated_Avg  BounceRates  \\\n",
       "0                 0.0                0.0            0.000000         0.20   \n",
       "1                 0.0                0.0           32.000000         0.00   \n",
       "2                 0.0                0.0            0.000000         0.20   \n",
       "3                 0.0                0.0            1.333333         0.05   \n",
       "4                 0.0                0.0           62.750000         0.02   \n",
       "\n",
       "   ExitRates  PageValues  SpecialDay  Month_Aug  Month_Dec  Month_Feb  ...  \\\n",
       "0       0.20         0.0         0.0          0          0          1  ...   \n",
       "1       0.10         0.0         0.0          0          0          1  ...   \n",
       "2       0.20         0.0         0.0          0          0          1  ...   \n",
       "3       0.14         0.0         0.0          0          0          1  ...   \n",
       "4       0.05         0.0         0.0          0          0          1  ...   \n",
       "\n",
       "   TrafficType_4  TrafficType_5  TrafficType_6  TrafficType_8  \\\n",
       "0              0              0              0              0   \n",
       "1              0              0              0              0   \n",
       "2              0              0              0              0   \n",
       "3              1              0              0              0   \n",
       "4              1              0              0              0   \n",
       "\n",
       "   TrafficType_Other  VisitorType_New_Visitor  VisitorType_Other  \\\n",
       "0                  0                        0                  0   \n",
       "1                  0                        0                  0   \n",
       "2                  0                        0                  0   \n",
       "3                  0                        0                  0   \n",
       "4                  0                        0                  0   \n",
       "\n",
       "   VisitorType_Returning_Visitor  Weekend_False  Weekend_True  \n",
       "0                              1              1             0  \n",
       "1                              1              1             0  \n",
       "2                              1              1             0  \n",
       "3                              1              1             0  \n",
       "4                              1              0             1  \n",
       "\n",
       "[5 rows x 53 columns]"
      ]
     },
     "execution_count": 9,
     "metadata": {},
     "output_type": "execute_result"
    }
   ],
   "source": [
    "# One-hot encoding the entire dataframe\n",
    "X_dummies = pd.get_dummies(X, columns = cat_columns)\n",
    "print(X_dummies.columns)\n",
    "X_dummies.head()"
   ]
  },
  {
   "cell_type": "code",
   "execution_count": 10,
   "id": "acedf273",
   "metadata": {},
   "outputs": [
    {
     "name": "stdout",
     "output_type": "stream",
     "text": [
      "Total column before one hot encoding: 14, Total columns after one hot encoding: 53\n"
     ]
    }
   ],
   "source": [
    "#Total columns before and after one-hot encoding\n",
    "print(f'Total column before one hot encoding: {X.shape[1]}, Total columns after one hot encoding: {X_dummies.shape[1]}')"
   ]
  },
  {
   "cell_type": "code",
   "execution_count": 11,
   "id": "58a61e0e",
   "metadata": {},
   "outputs": [
    {
     "data": {
      "text/plain": [
       "array([0, 0, 0, ..., 1, 1, 1])"
      ]
     },
     "execution_count": 11,
     "metadata": {},
     "output_type": "execute_result"
    }
   ],
   "source": [
    "# Converting output labels to 0 and 1\n",
    "y_label = LabelEncoder().fit_transform(y)\n",
    "y_label"
   ]
  },
  {
   "cell_type": "code",
   "execution_count": 12,
   "id": "e943b3c7",
   "metadata": {},
   "outputs": [],
   "source": [
    "#Training set**: Used to train the classifier.\n",
    "#Testing set**: Used to estimate the error rate of the trained classifier.\n",
    "X_train, X_test, y_train, y_test = train_test_split(X_dummies, y_label, random_state=42)"
   ]
  },
  {
   "cell_type": "code",
   "execution_count": 13,
   "id": "3d0602c6",
   "metadata": {},
   "outputs": [
    {
     "data": {
      "text/plain": [
       "array([[-0.49176122, -0.26201191, -0.35329174, ...,  0.46069117,\n",
       "        -1.77048594,  1.77048594],\n",
       "       [ 2.845514  , -0.12725511,  0.09027359, ...,  0.46069117,\n",
       "         0.56481668, -0.56481668],\n",
       "       [-0.11814113,  0.20739094, -0.17978272, ...,  0.46069117,\n",
       "         0.56481668, -0.56481668],\n",
       "       ...,\n",
       "       [-0.49176122, -0.26201191, -0.06603435, ...,  0.46069117,\n",
       "        -1.77048594,  1.77048594],\n",
       "       [-0.30633607, -0.26201191, -0.22378354, ..., -2.17065155,\n",
       "         0.56481668, -0.56481668],\n",
       "       [-0.49176122, -0.26201191, -0.39395585, ...,  0.46069117,\n",
       "         0.56481668, -0.56481668]])"
      ]
     },
     "execution_count": 13,
     "metadata": {},
     "output_type": "execute_result"
    }
   ],
   "source": [
    "# Scaling the X data by using StandardScaler()\n",
    "scaler = StandardScaler().fit(X_train)\n",
    "X_train_scaled = scaler.transform(X_train)\n",
    "X_train_scaled"
   ]
  },
  {
   "cell_type": "code",
   "execution_count": 14,
   "id": "5593a361",
   "metadata": {},
   "outputs": [
    {
     "data": {
      "text/plain": [
       "array([[ 0.48263956, -0.26201191,  0.08368685, ...,  0.46069117,\n",
       "         0.56481668, -0.56481668],\n",
       "       [-0.49176122, -0.26201191, -0.22028632, ...,  0.46069117,\n",
       "         0.56481668, -0.56481668],\n",
       "       [-0.49176122,  6.04385761,  0.8350282 , ...,  0.46069117,\n",
       "        -1.77048594,  1.77048594],\n",
       "       ...,\n",
       "       [-0.49176122, -0.26201191, -0.7231451 , ..., -2.17065155,\n",
       "        -1.77048594,  1.77048594],\n",
       "       [ 0.04417273,  1.07183085, -0.17184811, ...,  0.46069117,\n",
       "        -1.77048594,  1.77048594],\n",
       "       [-0.49176122, -0.26201191, -0.60712615, ..., -2.17065155,\n",
       "         0.56481668, -0.56481668]])"
      ]
     },
     "execution_count": 14,
     "metadata": {},
     "output_type": "execute_result"
    }
   ],
   "source": [
    "# Transforming the test dataset based on the fit from the training dataset\n",
    "X_test_scaled = scaler.transform(X_test)\n",
    "X_test_scaled"
   ]
  },
  {
   "cell_type": "code",
   "execution_count": 15,
   "id": "46a83dfe",
   "metadata": {},
   "outputs": [],
   "source": [
    "#defining function for model scoring with training set only\n",
    "def train_score(model, X_train_scaled=X_train_scaled, y_train=y_train):\n",
    "    #printing the accuracy score\n",
    "    train_score=model.score(X_train_scaled, y_train)\n",
    "    print(\"******************Train Score******************\")\n",
    "    print(train_score)\n",
    "    print()\n",
    "    \n",
    "    cvs=cross_val_score(model,X_train_scaled, y_train,cv=3, scoring='accuracy' )\n",
    "    print(\"************Using K=3 cross validation**********\")\n",
    "    print(cvs)\n",
    "    print()\n",
    "    \n",
    "    #predection on the test set and confusion matrix\n",
    "    y_train_pred=cross_val_predict(model,X_train_scaled, y_train,cv=3)\n",
    "    cm=confusion_matrix(y_train, y_train_pred)\n",
    "    print(\"******Confusion Matrix using cross_val_predict****\")\n",
    "    print(cm)\n",
    "    print()\n",
    "    \n",
    "    #classification report\n",
    "    cr=classification_report(y_train, y_train_pred)\n",
    "    print(\"***********Classification Report******************\")\n",
    "    print(cr)\n",
    "    print()\n",
    "    \n",
    "    #roc curve\n",
    "    y_train_predc=cross_val_predict(model,X_train_scaled, y_train,cv=3,\n",
    "                                    method=\"predict_proba\")\n",
    "    y_proba = y_train_predc[:,1]  #proba of positive class\n",
    "    fpr, tpr, thresholds = roc_curve(y_train, y_proba)\n",
    "    \n",
    "    plt.figure()\n",
    "    plt.plot(fpr, tpr, color='darkorange')\n",
    "    plt.plot([0, 1], [0, 1], color='navy', linestyle='--')\n",
    "    plt.xlim([0.0, 1.0])\n",
    "    plt.ylim([0.0, 1.05])\n",
    "    plt.xlabel('False Positive Rate')\n",
    "    plt.ylabel('True Positive Rate')\n",
    "    plt.title(f\"roc curve for {model}\")\n",
    "    print(\"ROC Curve\")\n",
    "    plt.show()\n",
    "    \n",
    "    # area under the curve (AUC)\n",
    "    roc_auc = auc(fpr, tpr)\n",
    "    roc_auc\n",
    "    print()\n",
    "    print(\"**************Area under the curve******************\")\n",
    "    print(roc_auc)\n",
    "    \n",
    "    \n",
    "    \n",
    "#defining function for model scoring with test set\n",
    "def test_score(model, X_train_scaled=X_train_scaled, X_test_scaled=X_test_scaled, \n",
    "               y_train=y_train,y_test=y_test):\n",
    "    #printing the accuracy score\n",
    "    train_score=model.score(X_train_scaled, y_train)\n",
    "    test_score=model.score(X_test_scaled, y_test)\n",
    "    print(\"********************Train Score******************\")\n",
    "    print(train_score)\n",
    "    print()\n",
    "\n",
    "    print(\"*********************Test Score******************\")\n",
    "    print(test_score)\n",
    "    print()\n",
    "    \n",
    "    #predection on the test set and confusion matrix\n",
    "    y_pred=model.predict(X_test_scaled)\n",
    "    cm=confusion_matrix(y_test, y_pred)\n",
    "    print(\"**************Confusion Matrix******************\")\n",
    "    print(cm)\n",
    "    print()\n",
    "    \n",
    "    #classification report\n",
    "    cr=classification_report(y_test, y_pred)\n",
    "    print(\"**********Classification Report******************\")\n",
    "    print(cr)\n",
    "    print()\n",
    "    \n",
    "    #roc curve\n",
    "    y_proba = model.predict_proba(X_test_scaled)[:,1]  #proba of positive class\n",
    "    fpr, tpr, thresholds = roc_curve(y_test, y_proba)\n",
    "    \n",
    "    plt.figure()\n",
    "    plt.plot(fpr, tpr, color='darkorange')\n",
    "    plt.plot([0, 1], [0, 1], color='navy', linestyle='--')\n",
    "    plt.xlim([0.0, 1.0])\n",
    "    plt.ylim([0.0, 1.05])\n",
    "    plt.xlabel('False Positive Rate')\n",
    "    plt.ylabel('True Positive Rate')\n",
    "    plt.title(f\"roc curve for {model}\")\n",
    "    print(\"ROC Curve\")\n",
    "    plt.show()\n",
    "    \n",
    "    # area under the curve (AUC)\n",
    "    roc_auc = auc(fpr, tpr)\n",
    "    roc_auc\n",
    "    print()\n",
    "    print(\"**************Area under the curve******************\")\n",
    "    print(roc_auc)\n"
   ]
  },
  {
   "cell_type": "code",
   "execution_count": 16,
   "id": "c59b08f3",
   "metadata": {},
   "outputs": [],
   "source": [
    "## Stochastic Gradent Descent Classifier"
   ]
  },
  {
   "cell_type": "code",
   "execution_count": 19,
   "id": "b7aa0e80",
   "metadata": {},
   "outputs": [
    {
     "data": {
      "text/plain": [
       "SGDClassifier(loss='log', random_state=42)"
      ]
     },
     "execution_count": 19,
     "metadata": {},
     "output_type": "execute_result"
    }
   ],
   "source": [
    "# Creating a sgd classifier model on the scaled data\n",
    "sgd=SGDClassifier(random_state=42, loss='log', penalty='l2')\n",
    "\n",
    "# Fit the model to the data\n",
    "sgd.fit(X_train_scaled, y_train)"
   ]
  },
  {
   "cell_type": "code",
   "execution_count": 20,
   "id": "9bf35ea9",
   "metadata": {},
   "outputs": [
    {
     "name": "stdout",
     "output_type": "stream",
     "text": [
      "******************Train Score******************\n",
      "0.8096334676645558\n",
      "\n",
      "************Using K=3 cross validation**********\n",
      "[0.8025331  0.80656304 0.80694684]\n",
      "\n",
      "******Confusion Matrix using cross_val_predict****\n",
      "[[6472 1310]\n",
      " [1733 6118]]\n",
      "\n",
      "***********Classification Report******************\n",
      "              precision    recall  f1-score   support\n",
      "\n",
      "           0       0.79      0.83      0.81      7782\n",
      "           1       0.82      0.78      0.80      7851\n",
      "\n",
      "    accuracy                           0.81     15633\n",
      "   macro avg       0.81      0.81      0.81     15633\n",
      "weighted avg       0.81      0.81      0.81     15633\n",
      "\n",
      "\n",
      "ROC Curve\n"
     ]
    },
    {
     "data": {
      "image/png": "[encoded data removed]",
      "text/plain": [
       "<Figure size 432x288 with 1 Axes>"
      ]
     },
     "metadata": {
      "needs_background": "light"
     },
     "output_type": "display_data"
    },
    {
     "name": "stdout",
     "output_type": "stream",
     "text": [
      "\n",
      "**************Area under the curve******************\n",
      "0.8867596009865184\n"
     ]
    }
   ],
   "source": [
    "#score for logistic regression using only training data\n",
    "train_score(sgd)"
   ]
  },
  {
   "cell_type": "markdown",
   "id": "66304f3c",
   "metadata": {},
   "source": [
    "### Tuning hyperparamaters using Grid Search CV for Stochastic Gradent Descent Classifier"
   ]
  },
  {
   "cell_type": "code",
   "execution_count": 21,
   "id": "4ff36f1a",
   "metadata": {},
   "outputs": [],
   "source": [
    "#### Using GridSearchCV\n",
    "param_grid_sgd = {\n",
    "              'penalty': ['l1','l2'],\n",
    "             'loss':['log', 'modified_huber'],\n",
    "                'max_iter':[500,1000, 2000]}\n",
    "grid_sgd = GridSearchCV(sgd, param_grid_sgd, cv=5, verbose=1, n_jobs=-1)"
   ]
  },
  {
   "cell_type": "code",
   "execution_count": 22,
   "id": "699e8b38",
   "metadata": {},
   "outputs": [
    {
     "name": "stdout",
     "output_type": "stream",
     "text": [
      "Fitting 5 folds for each of 12 candidates, totalling 60 fits\n"
     ]
    },
    {
     "data": {
      "text/plain": [
       "GridSearchCV(cv=5, estimator=SGDClassifier(loss='log', random_state=42),\n",
       "             n_jobs=-1,\n",
       "             param_grid={'loss': ['log', 'modified_huber'],\n",
       "                         'max_iter': [500, 1000, 2000],\n",
       "                         'penalty': ['l1', 'l2']},\n",
       "             verbose=1)"
      ]
     },
     "execution_count": 22,
     "metadata": {},
     "output_type": "execute_result"
    }
   ],
   "source": [
    "grid_sgd.fit(X_train_scaled, y_train)"
   ]
  },
  {
   "cell_type": "code",
   "execution_count": 23,
   "id": "08025318",
   "metadata": {},
   "outputs": [
    {
     "name": "stdout",
     "output_type": "stream",
     "text": [
      "{'loss': 'log', 'max_iter': 500, 'penalty': 'l1'}\n"
     ]
    }
   ],
   "source": [
    "# best parameters for this dataset\n",
    "print(grid_sgd.best_params_)"
   ]
  },
  {
   "cell_type": "code",
   "execution_count": 24,
   "id": "7c5ab48f",
   "metadata": {},
   "outputs": [
    {
     "name": "stdout",
     "output_type": "stream",
     "text": [
      "0.8084180238530898\n"
     ]
    }
   ],
   "source": [
    "# best score\n",
    "print(grid_sgd.best_score_)"
   ]
  },
  {
   "cell_type": "code",
   "execution_count": 25,
   "id": "cc03ae43",
   "metadata": {},
   "outputs": [
    {
     "data": {
      "text/plain": [
       "SGDClassifier(loss='log', max_iter=500, penalty='l1', random_state=42)"
      ]
     },
     "execution_count": 25,
     "metadata": {},
     "output_type": "execute_result"
    }
   ],
   "source": [
    "#best estimator\n",
    "sgd_b=grid_sgd.best_estimator_\n",
    "sgd_b"
   ]
  },
  {
   "cell_type": "code",
   "execution_count": 26,
   "id": "4069b3f1",
   "metadata": {},
   "outputs": [
    {
     "name": "stdout",
     "output_type": "stream",
     "text": [
      "******************Train Score******************\n",
      "0.8088658606793322\n",
      "\n",
      "************Using K=3 cross validation**********\n",
      "[0.8025331  0.80905776 0.80061409]\n",
      "\n",
      "******Confusion Matrix using cross_val_predict****\n",
      "[[6489 1293]\n",
      " [1770 6081]]\n",
      "\n",
      "***********Classification Report******************\n",
      "              precision    recall  f1-score   support\n",
      "\n",
      "           0       0.79      0.83      0.81      7782\n",
      "           1       0.82      0.77      0.80      7851\n",
      "\n",
      "    accuracy                           0.80     15633\n",
      "   macro avg       0.81      0.80      0.80     15633\n",
      "weighted avg       0.81      0.80      0.80     15633\n",
      "\n",
      "\n",
      "ROC Curve\n"
     ]
    },
    {
     "data": {
      "image/png": "[encoded data removed]",
      "text/plain": [
       "<Figure size 432x288 with 1 Axes>"
      ]
     },
     "metadata": {
      "needs_background": "light"
     },
     "output_type": "display_data"
    },
    {
     "name": "stdout",
     "output_type": "stream",
     "text": [
      "\n",
      "**************Area under the curve******************\n",
      "0.8918546161135759\n"
     ]
    }
   ],
   "source": [
    "#score for Stochastic Gradent Descent Classifier using training data\n",
    "train_score(sgd_b)"
   ]
  },
  {
   "cell_type": "code",
   "execution_count": 27,
   "id": "acab28ed",
   "metadata": {},
   "outputs": [],
   "source": [
    "##  Logistic Regression"
   ]
  },
  {
   "cell_type": "code",
   "execution_count": 29,
   "id": "4a4d73e7",
   "metadata": {},
   "outputs": [
    {
     "data": {
      "text/plain": [
       "LogisticRegression()"
      ]
     },
     "execution_count": 29,
     "metadata": {},
     "output_type": "execute_result"
    }
   ],
   "source": [
    "# Creating a Logistic Regression model on the scaled data\n",
    "lr= LogisticRegression()\n",
    "\n",
    "# Fit the model to the data\n",
    "lr.fit(X_train_scaled, y_train)"
   ]
  },
  {
   "cell_type": "code",
   "execution_count": 30,
   "id": "7c9cdf53",
   "metadata": {},
   "outputs": [
    {
     "name": "stdout",
     "output_type": "stream",
     "text": [
      "******************Train Score******************\n",
      "0.8208277361990661\n",
      "\n",
      "************Using K=3 cross validation**********\n",
      "[0.82191518 0.81539052 0.81423911]\n",
      "\n",
      "******Confusion Matrix using cross_val_predict****\n",
      "[[6605 1177]\n",
      " [1681 6170]]\n",
      "\n",
      "***********Classification Report******************\n",
      "              precision    recall  f1-score   support\n",
      "\n",
      "           0       0.80      0.85      0.82      7782\n",
      "           1       0.84      0.79      0.81      7851\n",
      "\n",
      "    accuracy                           0.82     15633\n",
      "   macro avg       0.82      0.82      0.82     15633\n",
      "weighted avg       0.82      0.82      0.82     15633\n",
      "\n",
      "\n",
      "ROC Curve\n"
     ]
    },
    {
     "data": {
      "image/png": "[encoded data removed]",
      "text/plain": [
       "<Figure size 432x288 with 1 Axes>"
      ]
     },
     "metadata": {
      "needs_background": "light"
     },
     "output_type": "display_data"
    },
    {
     "name": "stdout",
     "output_type": "stream",
     "text": [
      "\n",
      "**************Area under the curve******************\n",
      "0.9065239140937771\n"
     ]
    }
   ],
   "source": [
    "#score for logistic regression using only training data\n",
    "train_score(lr)"
   ]
  },
  {
   "cell_type": "markdown",
   "id": "e6dacc75",
   "metadata": {},
   "source": [
    "### Tuning hyperparamaters  using Grid Search CV for Logistic Regresssion"
   ]
  },
  {
   "cell_type": "code",
   "execution_count": 31,
   "id": "9ae251ba",
   "metadata": {},
   "outputs": [],
   "source": [
    "#### Using GridSearchCV\n",
    "param_grid_lr = {'C': [0.001, 0.01,0.1,1, 5, 10],\n",
    "                 'solver':['lbfgs','saga'],\n",
    "                'max_iter':[100,500,1000, 10000]}\n",
    "grid_lr = GridSearchCV(lr, param_grid_lr, cv=5, verbose=1, n_jobs=-1)"
   ]
  },
  {
   "cell_type": "code",
   "execution_count": 32,
   "id": "aae64815",
   "metadata": {},
   "outputs": [
    {
     "name": "stdout",
     "output_type": "stream",
     "text": [
      "Fitting 5 folds for each of 48 candidates, totalling 240 fits\n"
     ]
    },
    {
     "data": {
      "text/plain": [
       "GridSearchCV(cv=5, estimator=LogisticRegression(), n_jobs=-1,\n",
       "             param_grid={'C': [0.001, 0.01, 0.1, 1, 5, 10],\n",
       "                         'max_iter': [100, 500, 1000, 10000],\n",
       "                         'solver': ['lbfgs', 'saga']},\n",
       "             verbose=1)"
      ]
     },
     "execution_count": 32,
     "metadata": {},
     "output_type": "execute_result"
    }
   ],
   "source": [
    "grid_lr.fit(X_train_scaled, y_train)"
   ]
  },
  {
   "cell_type": "code",
   "execution_count": 33,
   "id": "95258de4",
   "metadata": {},
   "outputs": [
    {
     "name": "stdout",
     "output_type": "stream",
     "text": [
      "{'C': 1, 'max_iter': 100, 'solver': 'lbfgs'}\n"
     ]
    }
   ],
   "source": [
    "# best parameters for this dataset\n",
    "print(grid_lr.best_params_)"
   ]
  },
  {
   "cell_type": "code",
   "execution_count": 34,
   "id": "d6fc2430",
   "metadata": {},
   "outputs": [
    {
     "name": "stdout",
     "output_type": "stream",
     "text": [
      "0.8193556379835012\n"
     ]
    }
   ],
   "source": [
    "# best score\n",
    "print(grid_lr.best_score_)"
   ]
  },
  {
   "cell_type": "code",
   "execution_count": 35,
   "id": "f9f6abe5",
   "metadata": {},
   "outputs": [
    {
     "data": {
      "text/plain": [
       "LogisticRegression(C=1)"
      ]
     },
     "execution_count": 35,
     "metadata": {},
     "output_type": "execute_result"
    }
   ],
   "source": [
    "#best estimator\n",
    "lr_b=grid_lr.best_estimator_\n",
    "lr_b"
   ]
  },
  {
   "cell_type": "code",
   "execution_count": 36,
   "id": "c257f9fd",
   "metadata": {},
   "outputs": [
    {
     "name": "stdout",
     "output_type": "stream",
     "text": [
      "******************Train Score******************\n",
      "0.8208277361990661\n",
      "\n",
      "************Using K=3 cross validation**********\n",
      "[0.82191518 0.81539052 0.81423911]\n",
      "\n",
      "******Confusion Matrix using cross_val_predict****\n",
      "[[6605 1177]\n",
      " [1681 6170]]\n",
      "\n",
      "***********Classification Report******************\n",
      "              precision    recall  f1-score   support\n",
      "\n",
      "           0       0.80      0.85      0.82      7782\n",
      "           1       0.84      0.79      0.81      7851\n",
      "\n",
      "    accuracy                           0.82     15633\n",
      "   macro avg       0.82      0.82      0.82     15633\n",
      "weighted avg       0.82      0.82      0.82     15633\n",
      "\n",
      "\n",
      "ROC Curve\n"
     ]
    },
    {
     "data": {
      "image/png": "[encoded data removed]",
      "text/plain": [
       "<Figure size 432x288 with 1 Axes>"
      ]
     },
     "metadata": {
      "needs_background": "light"
     },
     "output_type": "display_data"
    },
    {
     "name": "stdout",
     "output_type": "stream",
     "text": [
      "\n",
      "**************Area under the curve******************\n",
      "0.9065239140937771\n"
     ]
    }
   ],
   "source": [
    "#score for logistic regression using training data only after hyperparamater tuining\n",
    "train_score(lr_b)"
   ]
  },
  {
   "cell_type": "code",
   "execution_count": 37,
   "id": "97cf92a7",
   "metadata": {},
   "outputs": [],
   "source": [
    "## Support Vector Classifier"
   ]
  },
  {
   "cell_type": "code",
   "execution_count": 39,
   "id": "b188058c",
   "metadata": {},
   "outputs": [
    {
     "data": {
      "text/plain": [
       "SVC(kernel='linear', probability=True)"
      ]
     },
     "execution_count": 39,
     "metadata": {},
     "output_type": "execute_result"
    }
   ],
   "source": [
    "# Creating a support vector classifier model on the scaled data\n",
    "svc= SVC(kernel='linear',  probability=True)\n",
    "\n",
    "# Fit the model to the data\n",
    "svc.fit(X_train_scaled, y_train)"
   ]
  },
  {
   "cell_type": "code",
   "execution_count": 40,
   "id": "bd1f2255",
   "metadata": {},
   "outputs": [
    {
     "name": "stdout",
     "output_type": "stream",
     "text": [
      "******************Train Score******************\n",
      "0.8296552165291371\n",
      "\n",
      "************Using K=3 cross validation**********\n",
      "[0.83745922 0.82153138 0.82594512]\n",
      "\n",
      "******Confusion Matrix using cross_val_predict****\n",
      "[[6803  979]\n",
      " [1705 6146]]\n",
      "\n",
      "***********Classification Report******************\n",
      "              precision    recall  f1-score   support\n",
      "\n",
      "           0       0.80      0.87      0.84      7782\n",
      "           1       0.86      0.78      0.82      7851\n",
      "\n",
      "    accuracy                           0.83     15633\n",
      "   macro avg       0.83      0.83      0.83     15633\n",
      "weighted avg       0.83      0.83      0.83     15633\n",
      "\n",
      "\n",
      "ROC Curve\n"
     ]
    },
    {
     "data": {
      "image/png": "[encoded data removed]",
      "text/plain": [
       "<Figure size 432x288 with 1 Axes>"
      ]
     },
     "metadata": {
      "needs_background": "light"
     },
     "output_type": "display_data"
    },
    {
     "name": "stdout",
     "output_type": "stream",
     "text": [
      "\n",
      "**************Area under the curve******************\n",
      "0.9119962668226953\n"
     ]
    }
   ],
   "source": [
    "#score for support vector classifier using only training data\n",
    "train_score(svc)"
   ]
  },
  {
   "cell_type": "markdown",
   "id": "83707041",
   "metadata": {},
   "source": [
    "### Tuning hyperparamaters  using Randomized Search CV for SVC"
   ]
  },
  {
   "cell_type": "code",
   "execution_count": null,
   "id": "02e904d2",
   "metadata": {},
   "outputs": [],
   "source": [
    "#### Using GridSearchCV\n",
    "param_rand_svc ={'C': [0.001,0.1,2.0,5.0],\n",
    "                'kernel':['linear', 'poly','rbf'],\n",
    "                'gamma':['auto','scale']}\n",
    "rand_svc = RandomizedSearchCV(svc, param_rand_svc, cv=3, verbose=6, n_jobs=-1)"
   ]
  },
  {
   "cell_type": "code",
   "execution_count": null,
   "id": "ae81342d",
   "metadata": {},
   "outputs": [],
   "source": [
    "rand_svc.fit(X_train_scaled, y_train)"
   ]
  },
  {
   "cell_type": "code",
   "execution_count": null,
   "id": "3dded538",
   "metadata": {},
   "outputs": [],
   "source": [
    "# best parameters for this dataset\n",
    "print(rand_svc.best_params_)"
   ]
  },
  {
   "cell_type": "code",
   "execution_count": null,
   "id": "95c56be3",
   "metadata": {},
   "outputs": [],
   "source": [
    "# best score\n",
    "print(rand_svc.best_score_)"
   ]
  },
  {
   "cell_type": "code",
   "execution_count": null,
   "id": "1b0a3349",
   "metadata": {},
   "outputs": [],
   "source": [
    "#best estimator\n",
    "svc_b=rand_svc.best_estimator_\n",
    "svc_b"
   ]
  },
  {
   "cell_type": "code",
   "execution_count": null,
   "id": "e087c0ee",
   "metadata": {},
   "outputs": [],
   "source": [
    "#score for support vector classifier using training data\n",
    "train_score(svc_b)"
   ]
  },
  {
   "cell_type": "code",
   "execution_count": null,
   "id": "9789bc97",
   "metadata": {},
   "outputs": [],
   "source": []
  },
  {
   "cell_type": "code",
   "execution_count": 43,
   "id": "56d19291",
   "metadata": {},
   "outputs": [],
   "source": [
    "##  Decision Tree Classifier"
   ]
  },
  {
   "cell_type": "code",
   "execution_count": 44,
   "id": "9179bfe4",
   "metadata": {},
   "outputs": [
    {
     "data": {
      "text/plain": [
       "DecisionTreeClassifier()"
      ]
     },
     "execution_count": 44,
     "metadata": {},
     "output_type": "execute_result"
    }
   ],
   "source": [
    "# Creating a Decision Tree model on the scaled data\n",
    "dt= DecisionTreeClassifier()\n",
    "\n",
    "# Fit the model to the data\n",
    "dt.fit(X_train_scaled, y_train)"
   ]
  },
  {
   "cell_type": "code",
   "execution_count": 45,
   "id": "93092022",
   "metadata": {},
   "outputs": [
    {
     "name": "stdout",
     "output_type": "stream",
     "text": [
      "******************Train Score******************\n",
      "1.0\n",
      "\n",
      "************Using K=3 cross validation**********\n",
      "[0.92995586 0.93264249 0.93264249]\n",
      "\n",
      "******Confusion Matrix using cross_val_predict****\n",
      "[[6857  925]\n",
      " [ 174 7677]]\n",
      "\n",
      "***********Classification Report******************\n",
      "              precision    recall  f1-score   support\n",
      "\n",
      "           0       0.98      0.88      0.93      7782\n",
      "           1       0.89      0.98      0.93      7851\n",
      "\n",
      "    accuracy                           0.93     15633\n",
      "   macro avg       0.93      0.93      0.93     15633\n",
      "weighted avg       0.93      0.93      0.93     15633\n",
      "\n",
      "\n",
      "ROC Curve\n"
     ]
    },
    {
     "data": {
      "image/png": "[encoded data removed]",
      "text/plain": [
       "<Figure size 432x288 with 1 Axes>"
      ]
     },
     "metadata": {
      "needs_background": "light"
     },
     "output_type": "display_data"
    },
    {
     "name": "stdout",
     "output_type": "stream",
     "text": [
      "\n",
      "**************Area under the curve******************\n",
      "0.9312230530720247\n"
     ]
    }
   ],
   "source": [
    "#score for Decision Tree using only training data\n",
    "train_score(dt)"
   ]
  },
  {
   "cell_type": "markdown",
   "id": "e8f03342",
   "metadata": {},
   "source": [
    "### Tuning hyperparamaters  using Grid Search CV for Decision Tree"
   ]
  },
  {
   "cell_type": "code",
   "execution_count": 46,
   "id": "c839bd66",
   "metadata": {},
   "outputs": [],
   "source": [
    "#### Using GridSearchCV\n",
    "param_grid_dt = {'criterion': ['gini','entropy'],\n",
    "             'max_depth':[10,100,1000,10000],\n",
    "                'min_samples_leaf':[1,5,10,100,1000,10000],\n",
    "                'max_features':['auto','sqrt','log2']}\n",
    "grid_dt = GridSearchCV(dt, param_grid_dt, cv=3, verbose=1, n_jobs=-1)"
   ]
  },
  {
   "cell_type": "code",
   "execution_count": 47,
   "id": "0edcd75f",
   "metadata": {},
   "outputs": [
    {
     "name": "stdout",
     "output_type": "stream",
     "text": [
      "Fitting 3 folds for each of 144 candidates, totalling 432 fits\n"
     ]
    },
    {
     "data": {
      "text/plain": [
       "GridSearchCV(cv=3, estimator=DecisionTreeClassifier(), n_jobs=-1,\n",
       "             param_grid={'criterion': ['gini', 'entropy'],\n",
       "                         'max_depth': [10, 100, 1000, 10000],\n",
       "                         'max_features': ['auto', 'sqrt', 'log2'],\n",
       "                         'min_samples_leaf': [1, 5, 10, 100, 1000, 10000]},\n",
       "             verbose=1)"
      ]
     },
     "execution_count": 47,
     "metadata": {},
     "output_type": "execute_result"
    }
   ],
   "source": [
    "grid_dt.fit(X_train_scaled, y_train)"
   ]
  },
  {
   "cell_type": "code",
   "execution_count": 48,
   "id": "ddfc06d6",
   "metadata": {},
   "outputs": [
    {
     "name": "stdout",
     "output_type": "stream",
     "text": [
      "{'criterion': 'gini', 'max_depth': 100, 'max_features': 'sqrt', 'min_samples_leaf': 1}\n"
     ]
    }
   ],
   "source": [
    "# best parameters for this dataset\n",
    "print(grid_dt.best_params_)"
   ]
  },
  {
   "cell_type": "code",
   "execution_count": 49,
   "id": "3cd003d1",
   "metadata": {},
   "outputs": [
    {
     "name": "stdout",
     "output_type": "stream",
     "text": [
      "0.9278449433889847\n"
     ]
    }
   ],
   "source": [
    "# best score\n",
    "print(grid_dt.best_score_)"
   ]
  },
  {
   "cell_type": "code",
   "execution_count": 50,
   "id": "5bc713a3",
   "metadata": {},
   "outputs": [
    {
     "data": {
      "text/plain": [
       "DecisionTreeClassifier(max_depth=100, max_features='sqrt')"
      ]
     },
     "execution_count": 50,
     "metadata": {},
     "output_type": "execute_result"
    }
   ],
   "source": [
    "#best estimator\n",
    "dt_b=grid_dt.best_estimator_\n",
    "dt_b"
   ]
  },
  {
   "cell_type": "code",
   "execution_count": 51,
   "id": "a2fe5b81",
   "metadata": {},
   "outputs": [
    {
     "name": "stdout",
     "output_type": "stream",
     "text": [
      "******************Train Score******************\n",
      "1.0\n",
      "\n",
      "************Using K=3 cross validation**********\n",
      "[0.91441182 0.92093648 0.92208789]\n",
      "\n",
      "******Confusion Matrix using cross_val_predict****\n",
      "[[6694 1088]\n",
      " [ 206 7645]]\n",
      "\n",
      "***********Classification Report******************\n",
      "              precision    recall  f1-score   support\n",
      "\n",
      "           0       0.97      0.86      0.91      7782\n",
      "           1       0.88      0.97      0.92      7851\n",
      "\n",
      "    accuracy                           0.92     15633\n",
      "   macro avg       0.92      0.92      0.92     15633\n",
      "weighted avg       0.92      0.92      0.92     15633\n",
      "\n",
      "\n",
      "ROC Curve\n"
     ]
    },
    {
     "data": {
      "image/png": "[encoded data removed]",
      "text/plain": [
       "<Figure size 432x288 with 1 Axes>"
      ]
     },
     "metadata": {
      "needs_background": "light"
     },
     "output_type": "display_data"
    },
    {
     "name": "stdout",
     "output_type": "stream",
     "text": [
      "\n",
      "**************Area under the curve******************\n",
      "0.9231517290962841\n"
     ]
    }
   ],
   "source": [
    "#score for decision tree using training data\n",
    "train_score(dt_b)"
   ]
  },
  {
   "cell_type": "code",
   "execution_count": 52,
   "id": "17c54d74",
   "metadata": {},
   "outputs": [],
   "source": [
    "##  Random Forest Classifier"
   ]
  },
  {
   "cell_type": "code",
   "execution_count": 53,
   "id": "90c5a4c3",
   "metadata": {},
   "outputs": [
    {
     "data": {
      "text/plain": [
       "RandomForestClassifier()"
      ]
     },
     "execution_count": 53,
     "metadata": {},
     "output_type": "execute_result"
    }
   ],
   "source": [
    "# Creating a Random Forest Classifer model on the scaled data\n",
    "rf= RandomForestClassifier()\n",
    "\n",
    "# Fit the model to the data\n",
    "rf.fit(X_train_scaled, y_train)"
   ]
  },
  {
   "cell_type": "code",
   "execution_count": 54,
   "id": "99b90d2e",
   "metadata": {},
   "outputs": [
    {
     "name": "stdout",
     "output_type": "stream",
     "text": [
      "******************Train Score******************\n",
      "1.0\n",
      "\n",
      "************Using K=3 cross validation**********\n",
      "[0.93974285 0.94358089 0.95010555]\n",
      "\n",
      "******Confusion Matrix using cross_val_predict****\n",
      "[[7047  735]\n",
      " [ 132 7719]]\n",
      "\n",
      "***********Classification Report******************\n",
      "              precision    recall  f1-score   support\n",
      "\n",
      "           0       0.98      0.91      0.94      7782\n",
      "           1       0.91      0.98      0.95      7851\n",
      "\n",
      "    accuracy                           0.94     15633\n",
      "   macro avg       0.95      0.94      0.94     15633\n",
      "weighted avg       0.95      0.94      0.94     15633\n",
      "\n",
      "\n",
      "ROC Curve\n"
     ]
    },
    {
     "data": {
      "image/png": "[encoded data removed]",
      "text/plain": [
       "<Figure size 432x288 with 1 Axes>"
      ]
     },
     "metadata": {
      "needs_background": "light"
     },
     "output_type": "display_data"
    },
    {
     "name": "stdout",
     "output_type": "stream",
     "text": [
      "\n",
      "**************Area under the curve******************\n",
      "0.9930080589582883\n"
     ]
    }
   ],
   "source": [
    "#score for Random Forest Classifer using only training data\n",
    "train_score(rf)"
   ]
  },
  {
   "cell_type": "code",
   "execution_count": 55,
   "id": "388ae8c1",
   "metadata": {},
   "outputs": [
    {
     "name": "stdout",
     "output_type": "stream",
     "text": [
      "[6.61107747e-02 2.95631169e-02 8.14836988e-02 6.66051921e-02\n",
      " 1.05623142e-01 3.83208374e-01 5.86148740e-03 3.38000057e-03\n",
      " 5.99033520e-03 1.29981634e-03 3.65200812e-03 1.94551515e-03\n",
      " 8.68584364e-03 1.14464128e-02 3.09897613e-02 4.39555096e-03\n",
      " 5.56843916e-03 5.51827418e-03 7.57457830e-03 8.01279298e-03\n",
      " 2.99067630e-03 5.03962472e-03 1.53727329e-03 7.75447735e-03\n",
      " 4.41144262e-03 3.37756063e-03 1.46105794e-03 1.83959994e-03\n",
      " 1.04916353e-02 5.83280447e-03 8.84650818e-03 5.91089790e-03\n",
      " 2.51704516e-03 4.74332801e-03 4.63746719e-03 3.67775579e-03\n",
      " 3.82645698e-03 6.77933147e-03 2.86967519e-03 2.91315015e-03\n",
      " 3.91070655e-03 1.14984854e-02 7.89940640e-03 4.19002402e-03\n",
      " 2.43772714e-03 2.65821404e-03 4.96273217e-03 2.86165813e-03\n",
      " 7.43956762e-03 3.80722406e-04 7.87093402e-03 7.65712182e-03\n",
      " 7.85981633e-03]\n"
     ]
    },
    {
     "data": {
      "image/png": "[encoded data removed]",
      "text/plain": [
       "<Figure size 432x288 with 1 Axes>"
      ]
     },
     "metadata": {
      "needs_background": "light"
     },
     "output_type": "display_data"
    }
   ],
   "source": [
    "# plotting columns with its importances\n",
    "features_rf = rf.feature_importances_\n",
    "print(features_rf)\n",
    "plt.bar(x = range(len(features_rf)), height=features_rf)\n",
    "plt.show()"
   ]
  },
  {
   "cell_type": "markdown",
   "id": "9b0f8ea1",
   "metadata": {},
   "source": [
    "### Tuning hyperparamaters  using Randomized Search CV for Random Forest"
   ]
  },
  {
   "cell_type": "code",
   "execution_count": 62,
   "id": "7bb6e0f1",
   "metadata": {},
   "outputs": [],
   "source": [
    "\n",
    "param_grid_rf = {'n_estimators':[100,200,500],\n",
    "              'criterion': ['gini','entropy'],\n",
    "             'max_depth':[1,2,5,10,100,1000,10000],\n",
    "                'min_samples_leaf':[1,5,10,100,1000,10000],\n",
    "                'max_features':['auto','sqrt','log2']}\n",
    "grid_rf = RandomizedSearchCV(rf, param_grid_rf, cv=5, verbose=1, n_jobs=-1)"
   ]
  },
  {
   "cell_type": "code",
   "execution_count": 63,
   "id": "c66c56b8",
   "metadata": {},
   "outputs": [
    {
     "name": "stdout",
     "output_type": "stream",
     "text": [
      "Fitting 5 folds for each of 10 candidates, totalling 50 fits\n"
     ]
    },
    {
     "data": {
      "text/plain": [
       "RandomizedSearchCV(cv=5, estimator=RandomForestClassifier(), n_jobs=-1,\n",
       "                   param_distributions={'criterion': ['gini', 'entropy'],\n",
       "                                        'max_depth': [1, 2, 5, 10, 100, 1000,\n",
       "                                                      10000],\n",
       "                                        'max_features': ['auto', 'sqrt',\n",
       "                                                         'log2'],\n",
       "                                        'min_samples_leaf': [1, 5, 10, 100,\n",
       "                                                             1000, 10000],\n",
       "                                        'n_estimators': [100, 200, 500]},\n",
       "                   verbose=1)"
      ]
     },
     "execution_count": 63,
     "metadata": {},
     "output_type": "execute_result"
    }
   ],
   "source": [
    "grid_rf.fit(X_train_scaled, y_train)"
   ]
  },
  {
   "cell_type": "code",
   "execution_count": 64,
   "id": "5c84aa1f",
   "metadata": {},
   "outputs": [
    {
     "name": "stdout",
     "output_type": "stream",
     "text": [
      "{'n_estimators': 200, 'min_samples_leaf': 5, 'max_features': 'sqrt', 'max_depth': 1000, 'criterion': 'gini'}\n"
     ]
    }
   ],
   "source": [
    "# best parameters for this dataset\n",
    "print(grid_rf.best_params_)"
   ]
  },
  {
   "cell_type": "code",
   "execution_count": 65,
   "id": "3dd3933c",
   "metadata": {},
   "outputs": [
    {
     "name": "stdout",
     "output_type": "stream",
     "text": [
      "0.9095500952327171\n"
     ]
    }
   ],
   "source": [
    "# best score\n",
    "print(grid_rf.best_score_)"
   ]
  },
  {
   "cell_type": "code",
   "execution_count": 66,
   "id": "b348f125",
   "metadata": {},
   "outputs": [
    {
     "data": {
      "text/plain": [
       "RandomForestClassifier(max_depth=1000, max_features='sqrt', min_samples_leaf=5,\n",
       "                       n_estimators=200)"
      ]
     },
     "execution_count": 66,
     "metadata": {},
     "output_type": "execute_result"
    }
   ],
   "source": [
    "#best estimator\n",
    "rf_b=grid_rf.best_estimator_\n",
    "rf_b"
   ]
  },
  {
   "cell_type": "code",
   "execution_count": 67,
   "id": "783451a9",
   "metadata": {},
   "outputs": [
    {
     "name": "stdout",
     "output_type": "stream",
     "text": [
      "******************Train Score******************\n",
      "0.9502974477067742\n",
      "\n",
      "************Using K=3 cross validation**********\n",
      "[0.90289772 0.90328152 0.90635195]\n",
      "\n",
      "******Confusion Matrix using cross_val_predict****\n",
      "[[6859  923]\n",
      " [ 571 7280]]\n",
      "\n",
      "***********Classification Report******************\n",
      "              precision    recall  f1-score   support\n",
      "\n",
      "           0       0.92      0.88      0.90      7782\n",
      "           1       0.89      0.93      0.91      7851\n",
      "\n",
      "    accuracy                           0.90     15633\n",
      "   macro avg       0.91      0.90      0.90     15633\n",
      "weighted avg       0.91      0.90      0.90     15633\n",
      "\n",
      "\n",
      "ROC Curve\n"
     ]
    },
    {
     "data": {
      "image/png": "[encoded data removed]",
      "text/plain": [
       "<Figure size 432x288 with 1 Axes>"
      ]
     },
     "metadata": {
      "needs_background": "light"
     },
     "output_type": "display_data"
    },
    {
     "name": "stdout",
     "output_type": "stream",
     "text": [
      "\n",
      "**************Area under the curve******************\n",
      "0.9662493987788036\n"
     ]
    }
   ],
   "source": [
    "#score for random forest using training data\n",
    "train_score(rf_b)"
   ]
  },
  {
   "cell_type": "markdown",
   "id": "79552485",
   "metadata": {},
   "source": [
    "##  Extremely Random Trees\n"
   ]
  },
  {
   "cell_type": "code",
   "execution_count": 70,
   "id": "c8a0a8c7",
   "metadata": {},
   "outputs": [
    {
     "data": {
      "text/plain": [
       "ExtraTreesClassifier()"
      ]
     },
     "execution_count": 70,
     "metadata": {},
     "output_type": "execute_result"
    }
   ],
   "source": [
    "# Creating a Extremely Random Trees model on the scaled data\n",
    "rt= ExtraTreesClassifier()\n",
    "\n",
    "# Fit the model to the data\n",
    "rt.fit(X_train_scaled, y_train)"
   ]
  },
  {
   "cell_type": "code",
   "execution_count": 71,
   "id": "a5ac981b",
   "metadata": {},
   "outputs": [
    {
     "name": "stdout",
     "output_type": "stream",
     "text": [
      "******************Train Score******************\n",
      "1.0\n",
      "\n",
      "************Using K=3 cross validation**********\n",
      "[0.95317597 0.94972174 0.95701401]\n",
      "\n",
      "******Confusion Matrix using cross_val_predict****\n",
      "[[7276  506]\n",
      " [ 252 7599]]\n",
      "\n",
      "***********Classification Report******************\n",
      "              precision    recall  f1-score   support\n",
      "\n",
      "           0       0.97      0.93      0.95      7782\n",
      "           1       0.94      0.97      0.95      7851\n",
      "\n",
      "    accuracy                           0.95     15633\n",
      "   macro avg       0.95      0.95      0.95     15633\n",
      "weighted avg       0.95      0.95      0.95     15633\n",
      "\n",
      "\n",
      "ROC Curve\n"
     ]
    },
    {
     "data": {
      "image/png": "[encoded data removed]",
      "text/plain": [
       "<Figure size 432x288 with 1 Axes>"
      ]
     },
     "metadata": {
      "needs_background": "light"
     },
     "output_type": "display_data"
    },
    {
     "name": "stdout",
     "output_type": "stream",
     "text": [
      "\n",
      "**************Area under the curve******************\n",
      "0.991873476446647\n"
     ]
    }
   ],
   "source": [
    "#score for Extremely Random Trees using only training data\n",
    "train_score(rt)"
   ]
  },
  {
   "cell_type": "code",
   "execution_count": 72,
   "id": "e588e9dd",
   "metadata": {},
   "outputs": [
    {
     "name": "stdout",
     "output_type": "stream",
     "text": [
      "[0.06182331 0.04026043 0.06367932 0.06940263 0.11222907 0.24465176\n",
      " 0.00934061 0.0057077  0.00967007 0.00290077 0.00604098 0.00370308\n",
      " 0.0110934  0.0114173  0.03237709 0.00698972 0.00706197 0.00844858\n",
      " 0.01093446 0.01064652 0.00550059 0.00739996 0.00298922 0.01308803\n",
      " 0.00713513 0.00571777 0.00255904 0.00356279 0.01951731 0.01162239\n",
      " 0.01546122 0.01287325 0.00485555 0.01019954 0.01005414 0.00707309\n",
      " 0.00702522 0.00978092 0.00431854 0.00381635 0.00637133 0.01585915\n",
      " 0.01224853 0.00699637 0.00367723 0.00520295 0.00600164 0.00500257\n",
      " 0.0101578  0.00048171 0.00943116 0.01302502 0.0126157 ]\n"
     ]
    },
    {
     "data": {
      "image/png": "[encoded data removed]",
      "text/plain": [
       "<Figure size 432x288 with 1 Axes>"
      ]
     },
     "metadata": {
      "needs_background": "light"
     },
     "output_type": "display_data"
    }
   ],
   "source": [
    "# plotting columns with its importances\n",
    "features_rt = rt.feature_importances_\n",
    "print(features_rt)\n",
    "plt.bar(x = range(len(features_rt)), height=features_rt)\n",
    "plt.show()"
   ]
  },
  {
   "cell_type": "markdown",
   "id": "1403e12c",
   "metadata": {},
   "source": [
    "### Tuning hyperparamaters  using Randomized Search CV for Extremely Random Tree"
   ]
  },
  {
   "cell_type": "code",
   "execution_count": 73,
   "id": "1eea5fa4",
   "metadata": {},
   "outputs": [],
   "source": [
    "#### Using GridSearchCV\n",
    "param_rand_rt = {'n_estimators':[100,200,500],\n",
    "              'criterion': ['gini','entropy'],\n",
    "             'max_depth':[5,10,1000,10000],\n",
    "                'min_samples_leaf':[10,100,1000,10000],\n",
    "                'max_features':['auto','sqrt','log2']}\n",
    "rand_rt = RandomizedSearchCV(rt, param_rand_rt, cv=5, verbose=1, n_jobs=-1)"
   ]
  },
  {
   "cell_type": "code",
   "execution_count": 74,
   "id": "61fe2bc9",
   "metadata": {},
   "outputs": [
    {
     "name": "stdout",
     "output_type": "stream",
     "text": [
      "Fitting 5 folds for each of 10 candidates, totalling 50 fits\n"
     ]
    },
    {
     "data": {
      "text/plain": [
       "RandomizedSearchCV(cv=5, estimator=ExtraTreesClassifier(), n_jobs=-1,\n",
       "                   param_distributions={'criterion': ['gini', 'entropy'],\n",
       "                                        'max_depth': [5, 10, 1000, 10000],\n",
       "                                        'max_features': ['auto', 'sqrt',\n",
       "                                                         'log2'],\n",
       "                                        'min_samples_leaf': [10, 100, 1000,\n",
       "                                                             10000],\n",
       "                                        'n_estimators': [100, 200, 500]},\n",
       "                   verbose=1)"
      ]
     },
     "execution_count": 74,
     "metadata": {},
     "output_type": "execute_result"
    }
   ],
   "source": [
    "rand_rt.fit(X_train_scaled, y_train)"
   ]
  },
  {
   "cell_type": "code",
   "execution_count": 75,
   "id": "a8f2f6c0",
   "metadata": {},
   "outputs": [
    {
     "name": "stdout",
     "output_type": "stream",
     "text": [
      "{'n_estimators': 200, 'min_samples_leaf': 10, 'max_features': 'auto', 'max_depth': 10000, 'criterion': 'gini'}\n"
     ]
    }
   ],
   "source": [
    "# best parameters for this dataset\n",
    "print(rand_rt.best_params_)"
   ]
  },
  {
   "cell_type": "code",
   "execution_count": 76,
   "id": "ded272ce",
   "metadata": {},
   "outputs": [
    {
     "name": "stdout",
     "output_type": "stream",
     "text": [
      "0.8483975143943704\n"
     ]
    }
   ],
   "source": [
    "# best score\n",
    "print(rand_rt.best_score_)"
   ]
  },
  {
   "cell_type": "code",
   "execution_count": 77,
   "id": "45915de5",
   "metadata": {},
   "outputs": [
    {
     "data": {
      "text/plain": [
       "ExtraTreesClassifier(max_depth=10000, min_samples_leaf=10, n_estimators=200)"
      ]
     },
     "execution_count": 77,
     "metadata": {},
     "output_type": "execute_result"
    }
   ],
   "source": [
    "#best estimator\n",
    "rt_b=rand_rt.best_estimator_\n",
    "rt_b"
   ]
  },
  {
   "cell_type": "code",
   "execution_count": 78,
   "id": "27db2636",
   "metadata": {},
   "outputs": [
    {
     "name": "stdout",
     "output_type": "stream",
     "text": [
      "******************Train Score******************\n",
      "0.8886330198938144\n",
      "\n",
      "************Using K=3 cross validation**********\n",
      "[0.83841873 0.84052965 0.84225676]\n",
      "\n",
      "******Confusion Matrix using cross_val_predict****\n",
      "[[6168 1614]\n",
      " [ 872 6979]]\n",
      "\n",
      "***********Classification Report******************\n",
      "              precision    recall  f1-score   support\n",
      "\n",
      "           0       0.88      0.79      0.83      7782\n",
      "           1       0.81      0.89      0.85      7851\n",
      "\n",
      "    accuracy                           0.84     15633\n",
      "   macro avg       0.84      0.84      0.84     15633\n",
      "weighted avg       0.84      0.84      0.84     15633\n",
      "\n",
      "\n",
      "ROC Curve\n"
     ]
    },
    {
     "data": {
      "image/png": "[encoded data removed]",
      "text/plain": [
       "<Figure size 432x288 with 1 Axes>"
      ]
     },
     "metadata": {
      "needs_background": "light"
     },
     "output_type": "display_data"
    },
    {
     "name": "stdout",
     "output_type": "stream",
     "text": [
      "\n",
      "**************Area under the curve******************\n",
      "0.9192744354740424\n"
     ]
    }
   ],
   "source": [
    "#score for extra tree classifier using training data\n",
    "train_score(rt_b)"
   ]
  },
  {
   "cell_type": "code",
   "execution_count": null,
   "id": "5ba04feb",
   "metadata": {},
   "outputs": [],
   "source": []
  }
 ],
 "metadata": {
  "kernelspec": {
   "display_name": "Python 3 (ipykernel)",
   "language": "python",
   "name": "python3"
  },
  "language_info": {
   "codemirror_mode": {
    "name": "ipython",
    "version": 3
   },
   "file_extension": ".py",
   "mimetype": "text/x-python",
   "name": "python",
   "nbconvert_exporter": "python",
   "pygments_lexer": "ipython3",
   "version": "3.8.10"
  }
 },
 "nbformat": 4,
 "nbformat_minor": 5
}
