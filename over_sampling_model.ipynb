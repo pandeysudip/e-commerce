{
 "cells": [
  {
   "cell_type": "code",
   "execution_count": null,
   "id": "96c03c1c",
   "metadata": {},
   "outputs": [],
   "source": []
  },
  {
   "cell_type": "code",
   "execution_count": 18,
   "id": "2d7e80b0",
   "metadata": {},
   "outputs": [],
   "source": [
    "#importing modules\n",
    "import pandas as pd\n",
    "import numpy as np\n",
    "from pathlib import Path\n",
    "import matplotlib.pyplot as plt\n",
    "import seaborn as sns\n",
    "from sklearn.model_selection import train_test_split\n",
    "from sklearn.preprocessing import StandardScaler, LabelEncoder\n",
    "from sklearn.linear_model import SGDClassifier\n",
    "from sklearn.model_selection import cross_val_predict, cross_val_score\n",
    "from sklearn.metrics import confusion_matrix, classification_report\n",
    "from sklearn.metrics import roc_curve, auc\n",
    "from sklearn.model_selection import RandomizedSearchCV\n",
    "from sklearn.model_selection import GridSearchCV"
   ]
  },
  {
   "cell_type": "code",
   "execution_count": 2,
   "id": "c19d7ce4",
   "metadata": {},
   "outputs": [],
   "source": [
    "#importing under sampling dataset\n",
    "ecommerce_df = pd.read_csv(Path('Resources/Cleaned_data/over_sampling_data.csv'))"
   ]
  },
  {
   "cell_type": "code",
   "execution_count": 4,
   "id": "0a067a5d",
   "metadata": {},
   "outputs": [
    {
     "data": {
      "text/html": [
       "<div>\n",
       "<style scoped>\n",
       "    .dataframe tbody tr th:only-of-type {\n",
       "        vertical-align: middle;\n",
       "    }\n",
       "\n",
       "    .dataframe tbody tr th {\n",
       "        vertical-align: top;\n",
       "    }\n",
       "\n",
       "    .dataframe thead th {\n",
       "        text-align: right;\n",
       "    }\n",
       "</style>\n",
       "<table border=\"1\" class=\"dataframe\">\n",
       "  <thead>\n",
       "    <tr style=\"text-align: right;\">\n",
       "      <th></th>\n",
       "      <th>Administrative_Avg</th>\n",
       "      <th>Informational_Avg</th>\n",
       "      <th>ProductRelated_Avg</th>\n",
       "      <th>BounceRates</th>\n",
       "      <th>ExitRates</th>\n",
       "      <th>PageValues</th>\n",
       "      <th>SpecialDay</th>\n",
       "      <th>Month</th>\n",
       "      <th>OperatingSystems</th>\n",
       "      <th>Browser</th>\n",
       "      <th>Region</th>\n",
       "      <th>TrafficType</th>\n",
       "      <th>VisitorType</th>\n",
       "      <th>Weekend</th>\n",
       "      <th>Revenue</th>\n",
       "    </tr>\n",
       "  </thead>\n",
       "  <tbody>\n",
       "    <tr>\n",
       "      <th>0</th>\n",
       "      <td>0.0</td>\n",
       "      <td>0.0</td>\n",
       "      <td>0.000000</td>\n",
       "      <td>0.20</td>\n",
       "      <td>0.20</td>\n",
       "      <td>0.0</td>\n",
       "      <td>0.0</td>\n",
       "      <td>Feb</td>\n",
       "      <td>1</td>\n",
       "      <td>1</td>\n",
       "      <td>1</td>\n",
       "      <td>1</td>\n",
       "      <td>Returning_Visitor</td>\n",
       "      <td>False</td>\n",
       "      <td>False</td>\n",
       "    </tr>\n",
       "    <tr>\n",
       "      <th>1</th>\n",
       "      <td>0.0</td>\n",
       "      <td>0.0</td>\n",
       "      <td>32.000000</td>\n",
       "      <td>0.00</td>\n",
       "      <td>0.10</td>\n",
       "      <td>0.0</td>\n",
       "      <td>0.0</td>\n",
       "      <td>Feb</td>\n",
       "      <td>2</td>\n",
       "      <td>2</td>\n",
       "      <td>1</td>\n",
       "      <td>2</td>\n",
       "      <td>Returning_Visitor</td>\n",
       "      <td>False</td>\n",
       "      <td>False</td>\n",
       "    </tr>\n",
       "    <tr>\n",
       "      <th>2</th>\n",
       "      <td>0.0</td>\n",
       "      <td>0.0</td>\n",
       "      <td>0.000000</td>\n",
       "      <td>0.20</td>\n",
       "      <td>0.20</td>\n",
       "      <td>0.0</td>\n",
       "      <td>0.0</td>\n",
       "      <td>Feb</td>\n",
       "      <td>Other</td>\n",
       "      <td>1</td>\n",
       "      <td>9</td>\n",
       "      <td>3</td>\n",
       "      <td>Returning_Visitor</td>\n",
       "      <td>False</td>\n",
       "      <td>False</td>\n",
       "    </tr>\n",
       "    <tr>\n",
       "      <th>3</th>\n",
       "      <td>0.0</td>\n",
       "      <td>0.0</td>\n",
       "      <td>1.333333</td>\n",
       "      <td>0.05</td>\n",
       "      <td>0.14</td>\n",
       "      <td>0.0</td>\n",
       "      <td>0.0</td>\n",
       "      <td>Feb</td>\n",
       "      <td>3</td>\n",
       "      <td>2</td>\n",
       "      <td>2</td>\n",
       "      <td>4</td>\n",
       "      <td>Returning_Visitor</td>\n",
       "      <td>False</td>\n",
       "      <td>False</td>\n",
       "    </tr>\n",
       "    <tr>\n",
       "      <th>4</th>\n",
       "      <td>0.0</td>\n",
       "      <td>0.0</td>\n",
       "      <td>62.750000</td>\n",
       "      <td>0.02</td>\n",
       "      <td>0.05</td>\n",
       "      <td>0.0</td>\n",
       "      <td>0.0</td>\n",
       "      <td>Feb</td>\n",
       "      <td>3</td>\n",
       "      <td>Other</td>\n",
       "      <td>1</td>\n",
       "      <td>4</td>\n",
       "      <td>Returning_Visitor</td>\n",
       "      <td>True</td>\n",
       "      <td>False</td>\n",
       "    </tr>\n",
       "  </tbody>\n",
       "</table>\n",
       "</div>"
      ],
      "text/plain": [
       "   Administrative_Avg  Informational_Avg  ProductRelated_Avg  BounceRates  \\\n",
       "0                 0.0                0.0            0.000000         0.20   \n",
       "1                 0.0                0.0           32.000000         0.00   \n",
       "2                 0.0                0.0            0.000000         0.20   \n",
       "3                 0.0                0.0            1.333333         0.05   \n",
       "4                 0.0                0.0           62.750000         0.02   \n",
       "\n",
       "   ExitRates  PageValues  SpecialDay Month OperatingSystems Browser  Region  \\\n",
       "0       0.20         0.0         0.0   Feb                1       1       1   \n",
       "1       0.10         0.0         0.0   Feb                2       2       1   \n",
       "2       0.20         0.0         0.0   Feb            Other       1       9   \n",
       "3       0.14         0.0         0.0   Feb                3       2       2   \n",
       "4       0.05         0.0         0.0   Feb                3   Other       1   \n",
       "\n",
       "  TrafficType        VisitorType  Weekend  Revenue  \n",
       "0           1  Returning_Visitor    False    False  \n",
       "1           2  Returning_Visitor    False    False  \n",
       "2           3  Returning_Visitor    False    False  \n",
       "3           4  Returning_Visitor    False    False  \n",
       "4           4  Returning_Visitor     True    False  "
      ]
     },
     "execution_count": 4,
     "metadata": {},
     "output_type": "execute_result"
    }
   ],
   "source": [
    "#looking the few rows\n",
    "ecommerce_df.head()"
   ]
  },
  {
   "cell_type": "code",
   "execution_count": 5,
   "id": "5524a638",
   "metadata": {},
   "outputs": [
    {
     "data": {
      "text/plain": [
       "False    10422\n",
       "True     10422\n",
       "Name: Revenue, dtype: int64"
      ]
     },
     "execution_count": 5,
     "metadata": {},
     "output_type": "execute_result"
    }
   ],
   "source": [
    "ecommerce_df[\"Revenue\"].value_counts()"
   ]
  },
  {
   "cell_type": "code",
   "execution_count": 6,
   "id": "6a349670",
   "metadata": {},
   "outputs": [
    {
     "data": {
      "text/plain": [
       "(20844, 15)"
      ]
     },
     "execution_count": 6,
     "metadata": {},
     "output_type": "execute_result"
    }
   ],
   "source": [
    "#shape of dataframe\n",
    "ecommerce_df.shape"
   ]
  },
  {
   "cell_type": "code",
   "execution_count": 7,
   "id": "773b4080",
   "metadata": {},
   "outputs": [],
   "source": [
    "# create feature matrix (X)\n",
    "#selecting all columns except 'Revenue'\n",
    "X=ecommerce_df.drop('Revenue', axis=1) \n",
    "\n",
    "# create response vector (y)\n",
    "##selecting 'Revenue' column\n",
    "y=ecommerce_df['Revenue'].values "
   ]
  },
  {
   "cell_type": "code",
   "execution_count": 8,
   "id": "28c11bd5",
   "metadata": {},
   "outputs": [],
   "source": [
    "# Seperating categorical columns\n",
    "cat_columns=['Month','OperatingSystems', 'Browser', 'Region',\n",
    "             'TrafficType','VisitorType','Weekend']"
   ]
  },
  {
   "cell_type": "code",
   "execution_count": 9,
   "id": "6bf28136",
   "metadata": {},
   "outputs": [
    {
     "name": "stdout",
     "output_type": "stream",
     "text": [
      "Index(['Administrative_Avg', 'Informational_Avg', 'ProductRelated_Avg',\n",
      "       'BounceRates', 'ExitRates', 'PageValues', 'SpecialDay', 'Month_Aug',\n",
      "       'Month_Dec', 'Month_Feb', 'Month_Jul', 'Month_June', 'Month_Mar',\n",
      "       'Month_May', 'Month_Nov', 'Month_Oct', 'Month_Sep',\n",
      "       'OperatingSystems_1', 'OperatingSystems_2', 'OperatingSystems_3',\n",
      "       'OperatingSystems_Other', 'Browser_1', 'Browser_10', 'Browser_2',\n",
      "       'Browser_4', 'Browser_5', 'Browser_6', 'Browser_Other', 'Region_1',\n",
      "       'Region_2', 'Region_3', 'Region_4', 'Region_5', 'Region_6', 'Region_7',\n",
      "       'Region_8', 'Region_9', 'TrafficType_1', 'TrafficType_10',\n",
      "       'TrafficType_11', 'TrafficType_13', 'TrafficType_2', 'TrafficType_3',\n",
      "       'TrafficType_4', 'TrafficType_5', 'TrafficType_6', 'TrafficType_8',\n",
      "       'TrafficType_Other', 'VisitorType_New_Visitor', 'VisitorType_Other',\n",
      "       'VisitorType_Returning_Visitor', 'Weekend_False', 'Weekend_True'],\n",
      "      dtype='object')\n"
     ]
    },
    {
     "data": {
      "text/html": [
       "<div>\n",
       "<style scoped>\n",
       "    .dataframe tbody tr th:only-of-type {\n",
       "        vertical-align: middle;\n",
       "    }\n",
       "\n",
       "    .dataframe tbody tr th {\n",
       "        vertical-align: top;\n",
       "    }\n",
       "\n",
       "    .dataframe thead th {\n",
       "        text-align: right;\n",
       "    }\n",
       "</style>\n",
       "<table border=\"1\" class=\"dataframe\">\n",
       "  <thead>\n",
       "    <tr style=\"text-align: right;\">\n",
       "      <th></th>\n",
       "      <th>Administrative_Avg</th>\n",
       "      <th>Informational_Avg</th>\n",
       "      <th>ProductRelated_Avg</th>\n",
       "      <th>BounceRates</th>\n",
       "      <th>ExitRates</th>\n",
       "      <th>PageValues</th>\n",
       "      <th>SpecialDay</th>\n",
       "      <th>Month_Aug</th>\n",
       "      <th>Month_Dec</th>\n",
       "      <th>Month_Feb</th>\n",
       "      <th>...</th>\n",
       "      <th>TrafficType_4</th>\n",
       "      <th>TrafficType_5</th>\n",
       "      <th>TrafficType_6</th>\n",
       "      <th>TrafficType_8</th>\n",
       "      <th>TrafficType_Other</th>\n",
       "      <th>VisitorType_New_Visitor</th>\n",
       "      <th>VisitorType_Other</th>\n",
       "      <th>VisitorType_Returning_Visitor</th>\n",
       "      <th>Weekend_False</th>\n",
       "      <th>Weekend_True</th>\n",
       "    </tr>\n",
       "  </thead>\n",
       "  <tbody>\n",
       "    <tr>\n",
       "      <th>0</th>\n",
       "      <td>0.0</td>\n",
       "      <td>0.0</td>\n",
       "      <td>0.000000</td>\n",
       "      <td>0.20</td>\n",
       "      <td>0.20</td>\n",
       "      <td>0.0</td>\n",
       "      <td>0.0</td>\n",
       "      <td>0</td>\n",
       "      <td>0</td>\n",
       "      <td>1</td>\n",
       "      <td>...</td>\n",
       "      <td>0</td>\n",
       "      <td>0</td>\n",
       "      <td>0</td>\n",
       "      <td>0</td>\n",
       "      <td>0</td>\n",
       "      <td>0</td>\n",
       "      <td>0</td>\n",
       "      <td>1</td>\n",
       "      <td>1</td>\n",
       "      <td>0</td>\n",
       "    </tr>\n",
       "    <tr>\n",
       "      <th>1</th>\n",
       "      <td>0.0</td>\n",
       "      <td>0.0</td>\n",
       "      <td>32.000000</td>\n",
       "      <td>0.00</td>\n",
       "      <td>0.10</td>\n",
       "      <td>0.0</td>\n",
       "      <td>0.0</td>\n",
       "      <td>0</td>\n",
       "      <td>0</td>\n",
       "      <td>1</td>\n",
       "      <td>...</td>\n",
       "      <td>0</td>\n",
       "      <td>0</td>\n",
       "      <td>0</td>\n",
       "      <td>0</td>\n",
       "      <td>0</td>\n",
       "      <td>0</td>\n",
       "      <td>0</td>\n",
       "      <td>1</td>\n",
       "      <td>1</td>\n",
       "      <td>0</td>\n",
       "    </tr>\n",
       "    <tr>\n",
       "      <th>2</th>\n",
       "      <td>0.0</td>\n",
       "      <td>0.0</td>\n",
       "      <td>0.000000</td>\n",
       "      <td>0.20</td>\n",
       "      <td>0.20</td>\n",
       "      <td>0.0</td>\n",
       "      <td>0.0</td>\n",
       "      <td>0</td>\n",
       "      <td>0</td>\n",
       "      <td>1</td>\n",
       "      <td>...</td>\n",
       "      <td>0</td>\n",
       "      <td>0</td>\n",
       "      <td>0</td>\n",
       "      <td>0</td>\n",
       "      <td>0</td>\n",
       "      <td>0</td>\n",
       "      <td>0</td>\n",
       "      <td>1</td>\n",
       "      <td>1</td>\n",
       "      <td>0</td>\n",
       "    </tr>\n",
       "    <tr>\n",
       "      <th>3</th>\n",
       "      <td>0.0</td>\n",
       "      <td>0.0</td>\n",
       "      <td>1.333333</td>\n",
       "      <td>0.05</td>\n",
       "      <td>0.14</td>\n",
       "      <td>0.0</td>\n",
       "      <td>0.0</td>\n",
       "      <td>0</td>\n",
       "      <td>0</td>\n",
       "      <td>1</td>\n",
       "      <td>...</td>\n",
       "      <td>1</td>\n",
       "      <td>0</td>\n",
       "      <td>0</td>\n",
       "      <td>0</td>\n",
       "      <td>0</td>\n",
       "      <td>0</td>\n",
       "      <td>0</td>\n",
       "      <td>1</td>\n",
       "      <td>1</td>\n",
       "      <td>0</td>\n",
       "    </tr>\n",
       "    <tr>\n",
       "      <th>4</th>\n",
       "      <td>0.0</td>\n",
       "      <td>0.0</td>\n",
       "      <td>62.750000</td>\n",
       "      <td>0.02</td>\n",
       "      <td>0.05</td>\n",
       "      <td>0.0</td>\n",
       "      <td>0.0</td>\n",
       "      <td>0</td>\n",
       "      <td>0</td>\n",
       "      <td>1</td>\n",
       "      <td>...</td>\n",
       "      <td>1</td>\n",
       "      <td>0</td>\n",
       "      <td>0</td>\n",
       "      <td>0</td>\n",
       "      <td>0</td>\n",
       "      <td>0</td>\n",
       "      <td>0</td>\n",
       "      <td>1</td>\n",
       "      <td>0</td>\n",
       "      <td>1</td>\n",
       "    </tr>\n",
       "  </tbody>\n",
       "</table>\n",
       "<p>5 rows × 53 columns</p>\n",
       "</div>"
      ],
      "text/plain": [
       "   Administrative_Avg  Informational_Avg  ProductRelated_Avg  BounceRates  \\\n",
       "0                 0.0                0.0            0.000000         0.20   \n",
       "1                 0.0                0.0           32.000000         0.00   \n",
       "2                 0.0                0.0            0.000000         0.20   \n",
       "3                 0.0                0.0            1.333333         0.05   \n",
       "4                 0.0                0.0           62.750000         0.02   \n",
       "\n",
       "   ExitRates  PageValues  SpecialDay  Month_Aug  Month_Dec  Month_Feb  ...  \\\n",
       "0       0.20         0.0         0.0          0          0          1  ...   \n",
       "1       0.10         0.0         0.0          0          0          1  ...   \n",
       "2       0.20         0.0         0.0          0          0          1  ...   \n",
       "3       0.14         0.0         0.0          0          0          1  ...   \n",
       "4       0.05         0.0         0.0          0          0          1  ...   \n",
       "\n",
       "   TrafficType_4  TrafficType_5  TrafficType_6  TrafficType_8  \\\n",
       "0              0              0              0              0   \n",
       "1              0              0              0              0   \n",
       "2              0              0              0              0   \n",
       "3              1              0              0              0   \n",
       "4              1              0              0              0   \n",
       "\n",
       "   TrafficType_Other  VisitorType_New_Visitor  VisitorType_Other  \\\n",
       "0                  0                        0                  0   \n",
       "1                  0                        0                  0   \n",
       "2                  0                        0                  0   \n",
       "3                  0                        0                  0   \n",
       "4                  0                        0                  0   \n",
       "\n",
       "   VisitorType_Returning_Visitor  Weekend_False  Weekend_True  \n",
       "0                              1              1             0  \n",
       "1                              1              1             0  \n",
       "2                              1              1             0  \n",
       "3                              1              1             0  \n",
       "4                              1              0             1  \n",
       "\n",
       "[5 rows x 53 columns]"
      ]
     },
     "execution_count": 9,
     "metadata": {},
     "output_type": "execute_result"
    }
   ],
   "source": [
    "# One-hot encoding the entire dataframe\n",
    "X_dummies = pd.get_dummies(X, columns = cat_columns)\n",
    "print(X_dummies.columns)\n",
    "X_dummies.head()"
   ]
  },
  {
   "cell_type": "code",
   "execution_count": 10,
   "id": "e8642144",
   "metadata": {},
   "outputs": [
    {
     "name": "stdout",
     "output_type": "stream",
     "text": [
      "Total column before one hot encoding: 14, Total columns after one hot encoding: 53\n"
     ]
    }
   ],
   "source": [
    "#Total columns before and after one-hot encoding\n",
    "print(f'Total column before one hot encoding: {X.shape[1]}, Total columns after one hot encoding: {X_dummies.shape[1]}')"
   ]
  },
  {
   "cell_type": "code",
   "execution_count": 11,
   "id": "0d50ef8e",
   "metadata": {},
   "outputs": [
    {
     "data": {
      "text/plain": [
       "array([0, 0, 0, ..., 1, 1, 1])"
      ]
     },
     "execution_count": 11,
     "metadata": {},
     "output_type": "execute_result"
    }
   ],
   "source": [
    "# Converting output labels to 0 and 1\n",
    "y_label = LabelEncoder().fit_transform(y)\n",
    "y_label"
   ]
  },
  {
   "cell_type": "code",
   "execution_count": 12,
   "id": "1dc63cf0",
   "metadata": {},
   "outputs": [],
   "source": [
    "#Training set**: Used to train the classifier.\n",
    "#Testing set**: Used to estimate the error rate of the trained classifier.\n",
    "X_train, X_test, y_train, y_test = train_test_split(X_dummies, y_label, random_state=42)"
   ]
  },
  {
   "cell_type": "code",
   "execution_count": 13,
   "id": "d36ddb30",
   "metadata": {},
   "outputs": [
    {
     "data": {
      "text/plain": [
       "array([[-0.49176122, -0.26201191, -0.35329174, ...,  0.46069117,\n",
       "        -1.77048594,  1.77048594],\n",
       "       [ 2.845514  , -0.12725511,  0.09027359, ...,  0.46069117,\n",
       "         0.56481668, -0.56481668],\n",
       "       [-0.11814113,  0.20739094, -0.17978272, ...,  0.46069117,\n",
       "         0.56481668, -0.56481668],\n",
       "       ...,\n",
       "       [-0.49176122, -0.26201191, -0.06603435, ...,  0.46069117,\n",
       "        -1.77048594,  1.77048594],\n",
       "       [-0.30633607, -0.26201191, -0.22378354, ..., -2.17065155,\n",
       "         0.56481668, -0.56481668],\n",
       "       [-0.49176122, -0.26201191, -0.39395585, ...,  0.46069117,\n",
       "         0.56481668, -0.56481668]])"
      ]
     },
     "execution_count": 13,
     "metadata": {},
     "output_type": "execute_result"
    }
   ],
   "source": [
    "# Scaling the X data by using StandardScaler()\n",
    "scaler = StandardScaler().fit(X_train)\n",
    "X_train_scaled = scaler.transform(X_train)\n",
    "X_train_scaled"
   ]
  },
  {
   "cell_type": "code",
   "execution_count": 14,
   "id": "213fffb2",
   "metadata": {},
   "outputs": [
    {
     "data": {
      "text/plain": [
       "array([[ 0.48263956, -0.26201191,  0.08368685, ...,  0.46069117,\n",
       "         0.56481668, -0.56481668],\n",
       "       [-0.49176122, -0.26201191, -0.22028632, ...,  0.46069117,\n",
       "         0.56481668, -0.56481668],\n",
       "       [-0.49176122,  6.04385761,  0.8350282 , ...,  0.46069117,\n",
       "        -1.77048594,  1.77048594],\n",
       "       ...,\n",
       "       [-0.49176122, -0.26201191, -0.7231451 , ..., -2.17065155,\n",
       "        -1.77048594,  1.77048594],\n",
       "       [ 0.04417273,  1.07183085, -0.17184811, ...,  0.46069117,\n",
       "        -1.77048594,  1.77048594],\n",
       "       [-0.49176122, -0.26201191, -0.60712615, ..., -2.17065155,\n",
       "         0.56481668, -0.56481668]])"
      ]
     },
     "execution_count": 14,
     "metadata": {},
     "output_type": "execute_result"
    }
   ],
   "source": [
    "# Transforming the test dataset based on the fit from the training dataset\n",
    "X_test_scaled = scaler.transform(X_test)\n",
    "X_test_scaled"
   ]
  },
  {
   "cell_type": "code",
   "execution_count": 15,
   "id": "7ccd041f",
   "metadata": {},
   "outputs": [],
   "source": [
    "#defining function for model scoring with training set only\n",
    "def train_score(model, X_train_scaled=X_train_scaled, y_train=y_train):\n",
    "    #printing the accuracy score\n",
    "    train_score=model.score(X_train_scaled, y_train)\n",
    "    print(\"******************Train Score******************\")\n",
    "    print(train_score)\n",
    "    print()\n",
    "    \n",
    "    cvs=cross_val_score(model,X_train_scaled, y_train,cv=3, scoring='accuracy' )\n",
    "    print(\"************Using K=3 cross validation**********\")\n",
    "    print(cvs)\n",
    "    print()\n",
    "    \n",
    "    #predection on the test set and confusion matrix\n",
    "    y_train_pred=cross_val_predict(model,X_train_scaled, y_train,cv=3)\n",
    "    cm=confusion_matrix(y_train, y_train_pred)\n",
    "    print(\"******Confusion Matrix using cross_val_predict****\")\n",
    "    print(cm)\n",
    "    print()\n",
    "    \n",
    "    #classification report\n",
    "    cr=classification_report(y_train, y_train_pred)\n",
    "    print(\"***********Classification Report******************\")\n",
    "    print(cr)\n",
    "    print()\n",
    "    \n",
    "    #roc curve\n",
    "    y_train_predc=cross_val_predict(model,X_train_scaled, y_train,cv=3,\n",
    "                                    method=\"predict_proba\")\n",
    "    y_proba = y_train_predc[:,1]  #proba of positive class\n",
    "    fpr, tpr, thresholds = roc_curve(y_train, y_proba)\n",
    "    \n",
    "    plt.figure()\n",
    "    plt.plot(fpr, tpr, color='darkorange')\n",
    "    plt.plot([0, 1], [0, 1], color='navy', linestyle='--')\n",
    "    plt.xlim([0.0, 1.0])\n",
    "    plt.ylim([0.0, 1.05])\n",
    "    plt.xlabel('False Positive Rate')\n",
    "    plt.ylabel('True Positive Rate')\n",
    "    plt.title(f\"roc curve for {model}\")\n",
    "    print(\"ROC Curve\")\n",
    "    plt.show()\n",
    "    \n",
    "    # area under the curve (AUC)\n",
    "    roc_auc = auc(fpr, tpr)\n",
    "    roc_auc\n",
    "    print()\n",
    "    print(\"**************Area under the curve******************\")\n",
    "    print(roc_auc)\n",
    "    \n",
    "    \n",
    "    \n",
    "#defining function for model scoring with test set\n",
    "def test_score(model, X_train_scaled=X_train_scaled, X_test_scaled=X_test_scaled, \n",
    "               y_train=y_train,y_test=y_test):\n",
    "    #printing the accuracy score\n",
    "    train_score=model.score(X_train_scaled, y_train)\n",
    "    test_score=model.score(X_test_scaled, y_test)\n",
    "    print(\"********************Train Score******************\")\n",
    "    print(train_score)\n",
    "    print()\n",
    "\n",
    "    print(\"*********************Test Score******************\")\n",
    "    print(test_score)\n",
    "    print()\n",
    "    \n",
    "    #predection on the test set and confusion matrix\n",
    "    y_pred=model.predict(X_test_scaled)\n",
    "    cm=confusion_matrix(y_test, y_pred)\n",
    "    print(\"**************Confusion Matrix******************\")\n",
    "    print(cm)\n",
    "    print()\n",
    "    \n",
    "    #classification report\n",
    "    cr=classification_report(y_test, y_pred)\n",
    "    print(\"**********Classification Report******************\")\n",
    "    print(cr)\n",
    "    print()\n",
    "    \n",
    "    #roc curve\n",
    "    y_proba = model.predict_proba(X_test_scaled)[:,1]  #proba of positive class\n",
    "    fpr, tpr, thresholds = roc_curve(y_test, y_proba)\n",
    "    \n",
    "    plt.figure()\n",
    "    plt.plot(fpr, tpr, color='darkorange')\n",
    "    plt.plot([0, 1], [0, 1], color='navy', linestyle='--')\n",
    "    plt.xlim([0.0, 1.0])\n",
    "    plt.ylim([0.0, 1.05])\n",
    "    plt.xlabel('False Positive Rate')\n",
    "    plt.ylabel('True Positive Rate')\n",
    "    plt.title(f\"roc curve for {model}\")\n",
    "    print(\"ROC Curve\")\n",
    "    plt.show()\n",
    "    \n",
    "    # area under the curve (AUC)\n",
    "    roc_auc = auc(fpr, tpr)\n",
    "    roc_auc\n",
    "    print()\n",
    "    print(\"**************Area under the curve******************\")\n",
    "    print(roc_auc)\n"
   ]
  },
  {
   "cell_type": "code",
   "execution_count": 16,
   "id": "22045f60",
   "metadata": {},
   "outputs": [],
   "source": [
    "## Stochastic Gradent Descent Classifier"
   ]
  },
  {
   "cell_type": "code",
   "execution_count": 19,
   "id": "c9b64bfd",
   "metadata": {},
   "outputs": [
    {
     "data": {
      "text/plain": [
       "SGDClassifier(loss='log', random_state=42)"
      ]
     },
     "execution_count": 19,
     "metadata": {},
     "output_type": "execute_result"
    }
   ],
   "source": [
    "# Creating a sgd classifier model on the scaled data\n",
    "sgd=SGDClassifier(random_state=42, loss='log', penalty='l2')\n",
    "\n",
    "# Fit the model to the data\n",
    "sgd.fit(X_train_scaled, y_train)"
   ]
  },
  {
   "cell_type": "code",
   "execution_count": 20,
   "id": "ba3d99d5",
   "metadata": {},
   "outputs": [
    {
     "name": "stdout",
     "output_type": "stream",
     "text": [
      "******************Train Score******************\n",
      "0.8096334676645558\n",
      "\n",
      "************Using K=3 cross validation**********\n",
      "[0.8025331  0.80656304 0.80694684]\n",
      "\n",
      "******Confusion Matrix using cross_val_predict****\n",
      "[[6472 1310]\n",
      " [1733 6118]]\n",
      "\n",
      "***********Classification Report******************\n",
      "              precision    recall  f1-score   support\n",
      "\n",
      "           0       0.79      0.83      0.81      7782\n",
      "           1       0.82      0.78      0.80      7851\n",
      "\n",
      "    accuracy                           0.81     15633\n",
      "   macro avg       0.81      0.81      0.81     15633\n",
      "weighted avg       0.81      0.81      0.81     15633\n",
      "\n",
      "\n",
      "ROC Curve\n"
     ]
    },
    {
     "data": {
      "image/png": "[encoded data removed]",
      "text/plain": [
       "<Figure size 432x288 with 1 Axes>"
      ]
     },
     "metadata": {
      "needs_background": "light"
     },
     "output_type": "display_data"
    },
    {
     "name": "stdout",
     "output_type": "stream",
     "text": [
      "\n",
      "**************Area under the curve******************\n",
      "0.8867596009865184\n"
     ]
    }
   ],
   "source": [
    "#score for logistic regression using only training data\n",
    "train_score(sgd)"
   ]
  },
  {
   "cell_type": "markdown",
   "id": "0a8ae8b9",
   "metadata": {},
   "source": [
    "### Tuning hyperparamaters using Grid Search CV for Stochastic Gradent Descent Classifier"
   ]
  },
  {
   "cell_type": "code",
   "execution_count": 21,
   "id": "6c1d1c86",
   "metadata": {},
   "outputs": [],
   "source": [
    "#### Using GridSearchCV\n",
    "param_grid_sgd = {\n",
    "              'penalty': ['l1','l2'],\n",
    "             'loss':['log', 'modified_huber'],\n",
    "                'max_iter':[500,1000, 2000]}\n",
    "grid_sgd = GridSearchCV(sgd, param_grid_sgd, cv=5, verbose=1, n_jobs=-1)"
   ]
  },
  {
   "cell_type": "code",
   "execution_count": 22,
   "id": "8af46945",
   "metadata": {},
   "outputs": [
    {
     "name": "stdout",
     "output_type": "stream",
     "text": [
      "Fitting 5 folds for each of 12 candidates, totalling 60 fits\n"
     ]
    },
    {
     "data": {
      "text/plain": [
       "GridSearchCV(cv=5, estimator=SGDClassifier(loss='log', random_state=42),\n",
       "             n_jobs=-1,\n",
       "             param_grid={'loss': ['log', 'modified_huber'],\n",
       "                         'max_iter': [500, 1000, 2000],\n",
       "                         'penalty': ['l1', 'l2']},\n",
       "             verbose=1)"
      ]
     },
     "execution_count": 22,
     "metadata": {},
     "output_type": "execute_result"
    }
   ],
   "source": [
    "grid_sgd.fit(X_train_scaled, y_train)"
   ]
  },
  {
   "cell_type": "code",
   "execution_count": 23,
   "id": "12bf57a2",
   "metadata": {},
   "outputs": [
    {
     "name": "stdout",
     "output_type": "stream",
     "text": [
      "{'loss': 'log', 'max_iter': 500, 'penalty': 'l1'}\n"
     ]
    }
   ],
   "source": [
    "# best parameters for this dataset\n",
    "print(grid_sgd.best_params_)"
   ]
  },
  {
   "cell_type": "code",
   "execution_count": 24,
   "id": "cd035059",
   "metadata": {},
   "outputs": [
    {
     "name": "stdout",
     "output_type": "stream",
     "text": [
      "0.8084180238530898\n"
     ]
    }
   ],
   "source": [
    "# best score\n",
    "print(grid_sgd.best_score_)"
   ]
  },
  {
   "cell_type": "code",
   "execution_count": 25,
   "id": "d3df5306",
   "metadata": {},
   "outputs": [
    {
     "data": {
      "text/plain": [
       "SGDClassifier(loss='log', max_iter=500, penalty='l1', random_state=42)"
      ]
     },
     "execution_count": 25,
     "metadata": {},
     "output_type": "execute_result"
    }
   ],
   "source": [
    "#best estimator\n",
    "sgd_b=grid_sgd.best_estimator_\n",
    "sgd_b"
   ]
  },
  {
   "cell_type": "code",
   "execution_count": 26,
   "id": "a8186e67",
   "metadata": {},
   "outputs": [
    {
     "name": "stdout",
     "output_type": "stream",
     "text": [
      "******************Train Score******************\n",
      "0.8088658606793322\n",
      "\n",
      "************Using K=3 cross validation**********\n",
      "[0.8025331  0.80905776 0.80061409]\n",
      "\n",
      "******Confusion Matrix using cross_val_predict****\n",
      "[[6489 1293]\n",
      " [1770 6081]]\n",
      "\n",
      "***********Classification Report******************\n",
      "              precision    recall  f1-score   support\n",
      "\n",
      "           0       0.79      0.83      0.81      7782\n",
      "           1       0.82      0.77      0.80      7851\n",
      "\n",
      "    accuracy                           0.80     15633\n",
      "   macro avg       0.81      0.80      0.80     15633\n",
      "weighted avg       0.81      0.80      0.80     15633\n",
      "\n",
      "\n",
      "ROC Curve\n"
     ]
    },
    {
     "data": {
      "image/png": "[encoded data removed]",
      "text/plain": [
       "<Figure size 432x288 with 1 Axes>"
      ]
     },
     "metadata": {
      "needs_background": "light"
     },
     "output_type": "display_data"
    },
    {
     "name": "stdout",
     "output_type": "stream",
     "text": [
      "\n",
      "**************Area under the curve******************\n",
      "0.8918546161135759\n"
     ]
    }
   ],
   "source": [
    "#score for Stochastic Gradent Descent Classifier using training data\n",
    "train_score(sgd_b)"
   ]
  },
  {
   "cell_type": "code",
   "execution_count": null,
   "id": "73c26cbf",
   "metadata": {},
   "outputs": [],
   "source": []
  }
 ],
 "metadata": {
  "kernelspec": {
   "display_name": "Python 3 (ipykernel)",
   "language": "python",
   "name": "python3"
  },
  "language_info": {
   "codemirror_mode": {
    "name": "ipython",
    "version": 3
   },
   "file_extension": ".py",
   "mimetype": "text/x-python",
   "name": "python",
   "nbconvert_exporter": "python",
   "pygments_lexer": "ipython3",
   "version": "3.8.10"
  }
 },
 "nbformat": 4,
 "nbformat_minor": 5
}
