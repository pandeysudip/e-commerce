{
 "cells": [
  {
   "cell_type": "code",
   "execution_count": 92,
   "id": "02174b7a",
   "metadata": {},
   "outputs": [],
   "source": [
    "#importing modules\n",
    "import pandas as pd\n",
    "import numpy as np\n",
    "from pathlib import Path\n",
    "import matplotlib.pyplot as plt\n",
    "import seaborn as sns\n",
    "from sklearn.model_selection import train_test_split\n",
    "from sklearn.preprocessing import StandardScaler, LabelEncoder\n",
    "from sklearn.linear_model import SGDClassifier\n",
    "from sklearn.model_selection import cross_val_predict, cross_val_score\n",
    "from sklearn.metrics import confusion_matrix, classification_report\n",
    "from sklearn.metrics import roc_curve, auc\n",
    "from sklearn.model_selection import RandomizedSearchCV\n",
    "from sklearn.model_selection import GridSearchCV\n",
    "from sklearn.linear_model import LogisticRegression\n",
    "from sklearn.svm import SVC\n",
    "from sklearn.tree import DecisionTreeClassifier\n",
    "from sklearn.ensemble import RandomForestClassifier"
   ]
  },
  {
   "cell_type": "code",
   "execution_count": 12,
   "id": "29034187",
   "metadata": {},
   "outputs": [],
   "source": [
    "#importing under sampling dataset\n",
    "ecommerce_df = pd.read_csv(Path('Resources/Cleaned_data/under_sampling_data.csv'))"
   ]
  },
  {
   "cell_type": "code",
   "execution_count": 13,
   "id": "da56a263",
   "metadata": {},
   "outputs": [
    {
     "data": {
      "text/html": [
       "<div>\n",
       "<style scoped>\n",
       "    .dataframe tbody tr th:only-of-type {\n",
       "        vertical-align: middle;\n",
       "    }\n",
       "\n",
       "    .dataframe tbody tr th {\n",
       "        vertical-align: top;\n",
       "    }\n",
       "\n",
       "    .dataframe thead th {\n",
       "        text-align: right;\n",
       "    }\n",
       "</style>\n",
       "<table border=\"1\" class=\"dataframe\">\n",
       "  <thead>\n",
       "    <tr style=\"text-align: right;\">\n",
       "      <th></th>\n",
       "      <th>Administrative_Avg</th>\n",
       "      <th>Informational_Avg</th>\n",
       "      <th>ProductRelated_Avg</th>\n",
       "      <th>BounceRates</th>\n",
       "      <th>ExitRates</th>\n",
       "      <th>PageValues</th>\n",
       "      <th>SpecialDay</th>\n",
       "      <th>Month</th>\n",
       "      <th>OperatingSystems</th>\n",
       "      <th>Browser</th>\n",
       "      <th>Region</th>\n",
       "      <th>TrafficType</th>\n",
       "      <th>VisitorType</th>\n",
       "      <th>Weekend</th>\n",
       "      <th>Revenue</th>\n",
       "    </tr>\n",
       "  </thead>\n",
       "  <tbody>\n",
       "    <tr>\n",
       "      <th>0</th>\n",
       "      <td>44.541667</td>\n",
       "      <td>40.666667</td>\n",
       "      <td>53.708333</td>\n",
       "      <td>0.000000</td>\n",
       "      <td>0.018182</td>\n",
       "      <td>0.000000</td>\n",
       "      <td>0.0</td>\n",
       "      <td>Dec</td>\n",
       "      <td>2</td>\n",
       "      <td>2</td>\n",
       "      <td>2</td>\n",
       "      <td>1</td>\n",
       "      <td>Returning_Visitor</td>\n",
       "      <td>False</td>\n",
       "      <td>False</td>\n",
       "    </tr>\n",
       "    <tr>\n",
       "      <th>1</th>\n",
       "      <td>0.000000</td>\n",
       "      <td>0.000000</td>\n",
       "      <td>53.166667</td>\n",
       "      <td>0.000000</td>\n",
       "      <td>0.050000</td>\n",
       "      <td>0.000000</td>\n",
       "      <td>0.0</td>\n",
       "      <td>Mar</td>\n",
       "      <td>1</td>\n",
       "      <td>1</td>\n",
       "      <td>6</td>\n",
       "      <td>1</td>\n",
       "      <td>Returning_Visitor</td>\n",
       "      <td>True</td>\n",
       "      <td>False</td>\n",
       "    </tr>\n",
       "    <tr>\n",
       "      <th>2</th>\n",
       "      <td>0.000000</td>\n",
       "      <td>0.000000</td>\n",
       "      <td>220.678571</td>\n",
       "      <td>0.014286</td>\n",
       "      <td>0.033333</td>\n",
       "      <td>0.000000</td>\n",
       "      <td>0.0</td>\n",
       "      <td>Dec</td>\n",
       "      <td>1</td>\n",
       "      <td>1</td>\n",
       "      <td>3</td>\n",
       "      <td>1</td>\n",
       "      <td>Returning_Visitor</td>\n",
       "      <td>False</td>\n",
       "      <td>False</td>\n",
       "    </tr>\n",
       "    <tr>\n",
       "      <th>3</th>\n",
       "      <td>5.666667</td>\n",
       "      <td>0.000000</td>\n",
       "      <td>24.086352</td>\n",
       "      <td>0.009524</td>\n",
       "      <td>0.040317</td>\n",
       "      <td>0.000000</td>\n",
       "      <td>0.0</td>\n",
       "      <td>Dec</td>\n",
       "      <td>2</td>\n",
       "      <td>2</td>\n",
       "      <td>1</td>\n",
       "      <td>2</td>\n",
       "      <td>Returning_Visitor</td>\n",
       "      <td>False</td>\n",
       "      <td>False</td>\n",
       "    </tr>\n",
       "    <tr>\n",
       "      <th>4</th>\n",
       "      <td>22.260000</td>\n",
       "      <td>0.000000</td>\n",
       "      <td>30.232723</td>\n",
       "      <td>0.000000</td>\n",
       "      <td>0.008337</td>\n",
       "      <td>17.634346</td>\n",
       "      <td>0.0</td>\n",
       "      <td>Nov</td>\n",
       "      <td>2</td>\n",
       "      <td>2</td>\n",
       "      <td>9</td>\n",
       "      <td>2</td>\n",
       "      <td>Returning_Visitor</td>\n",
       "      <td>False</td>\n",
       "      <td>False</td>\n",
       "    </tr>\n",
       "  </tbody>\n",
       "</table>\n",
       "</div>"
      ],
      "text/plain": [
       "   Administrative_Avg  Informational_Avg  ProductRelated_Avg  BounceRates  \\\n",
       "0           44.541667          40.666667           53.708333     0.000000   \n",
       "1            0.000000           0.000000           53.166667     0.000000   \n",
       "2            0.000000           0.000000          220.678571     0.014286   \n",
       "3            5.666667           0.000000           24.086352     0.009524   \n",
       "4           22.260000           0.000000           30.232723     0.000000   \n",
       "\n",
       "   ExitRates  PageValues  SpecialDay Month OperatingSystems Browser  Region  \\\n",
       "0   0.018182    0.000000         0.0   Dec                2       2       2   \n",
       "1   0.050000    0.000000         0.0   Mar                1       1       6   \n",
       "2   0.033333    0.000000         0.0   Dec                1       1       3   \n",
       "3   0.040317    0.000000         0.0   Dec                2       2       1   \n",
       "4   0.008337   17.634346         0.0   Nov                2       2       9   \n",
       "\n",
       "  TrafficType        VisitorType  Weekend  Revenue  \n",
       "0           1  Returning_Visitor    False    False  \n",
       "1           1  Returning_Visitor     True    False  \n",
       "2           1  Returning_Visitor    False    False  \n",
       "3           2  Returning_Visitor    False    False  \n",
       "4           2  Returning_Visitor    False    False  "
      ]
     },
     "execution_count": 13,
     "metadata": {},
     "output_type": "execute_result"
    }
   ],
   "source": [
    "#looking the few rows\n",
    "ecommerce_df.head()"
   ]
  },
  {
   "cell_type": "code",
   "execution_count": 14,
   "id": "0a6c0197",
   "metadata": {},
   "outputs": [
    {
     "data": {
      "text/plain": [
       "False    1908\n",
       "True     1908\n",
       "Name: Revenue, dtype: int64"
      ]
     },
     "execution_count": 14,
     "metadata": {},
     "output_type": "execute_result"
    }
   ],
   "source": [
    "ecommerce_df[\"Revenue\"].value_counts()"
   ]
  },
  {
   "cell_type": "code",
   "execution_count": 15,
   "id": "c1b43f4b",
   "metadata": {},
   "outputs": [
    {
     "data": {
      "text/plain": [
       "(3816, 15)"
      ]
     },
     "execution_count": 15,
     "metadata": {},
     "output_type": "execute_result"
    }
   ],
   "source": [
    "#shape of dataframe\n",
    "ecommerce_df.shape"
   ]
  },
  {
   "cell_type": "code",
   "execution_count": 16,
   "id": "c3aea0d4",
   "metadata": {},
   "outputs": [],
   "source": [
    "# create feature matrix (X)\n",
    "#selecting all columns except 'Revenue'\n",
    "X=ecommerce_df.drop('Revenue', axis=1) \n",
    "\n",
    "# create response vector (y)\n",
    "##selecting 'Revenue' column\n",
    "y=ecommerce_df['Revenue'].values "
   ]
  },
  {
   "cell_type": "code",
   "execution_count": 17,
   "id": "bcdfe476",
   "metadata": {},
   "outputs": [],
   "source": [
    "# Seperating categorical columns\n",
    "cat_columns=['Month','OperatingSystems', 'Browser', 'Region',\n",
    "             'TrafficType','VisitorType','Weekend']"
   ]
  },
  {
   "cell_type": "code",
   "execution_count": 18,
   "id": "7ce0c890",
   "metadata": {},
   "outputs": [
    {
     "name": "stdout",
     "output_type": "stream",
     "text": [
      "Index(['Administrative_Avg', 'Informational_Avg', 'ProductRelated_Avg',\n",
      "       'BounceRates', 'ExitRates', 'PageValues', 'SpecialDay', 'Month_Aug',\n",
      "       'Month_Dec', 'Month_Feb', 'Month_Jul', 'Month_June', 'Month_Mar',\n",
      "       'Month_May', 'Month_Nov', 'Month_Oct', 'Month_Sep',\n",
      "       'OperatingSystems_1', 'OperatingSystems_2', 'OperatingSystems_3',\n",
      "       'OperatingSystems_Other', 'Browser_1', 'Browser_10', 'Browser_2',\n",
      "       'Browser_4', 'Browser_5', 'Browser_6', 'Browser_Other', 'Region_1',\n",
      "       'Region_2', 'Region_3', 'Region_4', 'Region_5', 'Region_6', 'Region_7',\n",
      "       'Region_8', 'Region_9', 'TrafficType_1', 'TrafficType_10',\n",
      "       'TrafficType_11', 'TrafficType_13', 'TrafficType_2', 'TrafficType_3',\n",
      "       'TrafficType_4', 'TrafficType_5', 'TrafficType_6', 'TrafficType_8',\n",
      "       'TrafficType_Other', 'VisitorType_New_Visitor', 'VisitorType_Other',\n",
      "       'VisitorType_Returning_Visitor', 'Weekend_False', 'Weekend_True'],\n",
      "      dtype='object')\n"
     ]
    },
    {
     "data": {
      "text/html": [
       "<div>\n",
       "<style scoped>\n",
       "    .dataframe tbody tr th:only-of-type {\n",
       "        vertical-align: middle;\n",
       "    }\n",
       "\n",
       "    .dataframe tbody tr th {\n",
       "        vertical-align: top;\n",
       "    }\n",
       "\n",
       "    .dataframe thead th {\n",
       "        text-align: right;\n",
       "    }\n",
       "</style>\n",
       "<table border=\"1\" class=\"dataframe\">\n",
       "  <thead>\n",
       "    <tr style=\"text-align: right;\">\n",
       "      <th></th>\n",
       "      <th>Administrative_Avg</th>\n",
       "      <th>Informational_Avg</th>\n",
       "      <th>ProductRelated_Avg</th>\n",
       "      <th>BounceRates</th>\n",
       "      <th>ExitRates</th>\n",
       "      <th>PageValues</th>\n",
       "      <th>SpecialDay</th>\n",
       "      <th>Month_Aug</th>\n",
       "      <th>Month_Dec</th>\n",
       "      <th>Month_Feb</th>\n",
       "      <th>...</th>\n",
       "      <th>TrafficType_4</th>\n",
       "      <th>TrafficType_5</th>\n",
       "      <th>TrafficType_6</th>\n",
       "      <th>TrafficType_8</th>\n",
       "      <th>TrafficType_Other</th>\n",
       "      <th>VisitorType_New_Visitor</th>\n",
       "      <th>VisitorType_Other</th>\n",
       "      <th>VisitorType_Returning_Visitor</th>\n",
       "      <th>Weekend_False</th>\n",
       "      <th>Weekend_True</th>\n",
       "    </tr>\n",
       "  </thead>\n",
       "  <tbody>\n",
       "    <tr>\n",
       "      <th>0</th>\n",
       "      <td>44.541667</td>\n",
       "      <td>40.666667</td>\n",
       "      <td>53.708333</td>\n",
       "      <td>0.000000</td>\n",
       "      <td>0.018182</td>\n",
       "      <td>0.000000</td>\n",
       "      <td>0.0</td>\n",
       "      <td>0</td>\n",
       "      <td>1</td>\n",
       "      <td>0</td>\n",
       "      <td>...</td>\n",
       "      <td>0</td>\n",
       "      <td>0</td>\n",
       "      <td>0</td>\n",
       "      <td>0</td>\n",
       "      <td>0</td>\n",
       "      <td>0</td>\n",
       "      <td>0</td>\n",
       "      <td>1</td>\n",
       "      <td>1</td>\n",
       "      <td>0</td>\n",
       "    </tr>\n",
       "    <tr>\n",
       "      <th>1</th>\n",
       "      <td>0.000000</td>\n",
       "      <td>0.000000</td>\n",
       "      <td>53.166667</td>\n",
       "      <td>0.000000</td>\n",
       "      <td>0.050000</td>\n",
       "      <td>0.000000</td>\n",
       "      <td>0.0</td>\n",
       "      <td>0</td>\n",
       "      <td>0</td>\n",
       "      <td>0</td>\n",
       "      <td>...</td>\n",
       "      <td>0</td>\n",
       "      <td>0</td>\n",
       "      <td>0</td>\n",
       "      <td>0</td>\n",
       "      <td>0</td>\n",
       "      <td>0</td>\n",
       "      <td>0</td>\n",
       "      <td>1</td>\n",
       "      <td>0</td>\n",
       "      <td>1</td>\n",
       "    </tr>\n",
       "    <tr>\n",
       "      <th>2</th>\n",
       "      <td>0.000000</td>\n",
       "      <td>0.000000</td>\n",
       "      <td>220.678571</td>\n",
       "      <td>0.014286</td>\n",
       "      <td>0.033333</td>\n",
       "      <td>0.000000</td>\n",
       "      <td>0.0</td>\n",
       "      <td>0</td>\n",
       "      <td>1</td>\n",
       "      <td>0</td>\n",
       "      <td>...</td>\n",
       "      <td>0</td>\n",
       "      <td>0</td>\n",
       "      <td>0</td>\n",
       "      <td>0</td>\n",
       "      <td>0</td>\n",
       "      <td>0</td>\n",
       "      <td>0</td>\n",
       "      <td>1</td>\n",
       "      <td>1</td>\n",
       "      <td>0</td>\n",
       "    </tr>\n",
       "    <tr>\n",
       "      <th>3</th>\n",
       "      <td>5.666667</td>\n",
       "      <td>0.000000</td>\n",
       "      <td>24.086352</td>\n",
       "      <td>0.009524</td>\n",
       "      <td>0.040317</td>\n",
       "      <td>0.000000</td>\n",
       "      <td>0.0</td>\n",
       "      <td>0</td>\n",
       "      <td>1</td>\n",
       "      <td>0</td>\n",
       "      <td>...</td>\n",
       "      <td>0</td>\n",
       "      <td>0</td>\n",
       "      <td>0</td>\n",
       "      <td>0</td>\n",
       "      <td>0</td>\n",
       "      <td>0</td>\n",
       "      <td>0</td>\n",
       "      <td>1</td>\n",
       "      <td>1</td>\n",
       "      <td>0</td>\n",
       "    </tr>\n",
       "    <tr>\n",
       "      <th>4</th>\n",
       "      <td>22.260000</td>\n",
       "      <td>0.000000</td>\n",
       "      <td>30.232723</td>\n",
       "      <td>0.000000</td>\n",
       "      <td>0.008337</td>\n",
       "      <td>17.634346</td>\n",
       "      <td>0.0</td>\n",
       "      <td>0</td>\n",
       "      <td>0</td>\n",
       "      <td>0</td>\n",
       "      <td>...</td>\n",
       "      <td>0</td>\n",
       "      <td>0</td>\n",
       "      <td>0</td>\n",
       "      <td>0</td>\n",
       "      <td>0</td>\n",
       "      <td>0</td>\n",
       "      <td>0</td>\n",
       "      <td>1</td>\n",
       "      <td>1</td>\n",
       "      <td>0</td>\n",
       "    </tr>\n",
       "  </tbody>\n",
       "</table>\n",
       "<p>5 rows × 53 columns</p>\n",
       "</div>"
      ],
      "text/plain": [
       "   Administrative_Avg  Informational_Avg  ProductRelated_Avg  BounceRates  \\\n",
       "0           44.541667          40.666667           53.708333     0.000000   \n",
       "1            0.000000           0.000000           53.166667     0.000000   \n",
       "2            0.000000           0.000000          220.678571     0.014286   \n",
       "3            5.666667           0.000000           24.086352     0.009524   \n",
       "4           22.260000           0.000000           30.232723     0.000000   \n",
       "\n",
       "   ExitRates  PageValues  SpecialDay  Month_Aug  Month_Dec  Month_Feb  ...  \\\n",
       "0   0.018182    0.000000         0.0          0          1          0  ...   \n",
       "1   0.050000    0.000000         0.0          0          0          0  ...   \n",
       "2   0.033333    0.000000         0.0          0          1          0  ...   \n",
       "3   0.040317    0.000000         0.0          0          1          0  ...   \n",
       "4   0.008337   17.634346         0.0          0          0          0  ...   \n",
       "\n",
       "   TrafficType_4  TrafficType_5  TrafficType_6  TrafficType_8  \\\n",
       "0              0              0              0              0   \n",
       "1              0              0              0              0   \n",
       "2              0              0              0              0   \n",
       "3              0              0              0              0   \n",
       "4              0              0              0              0   \n",
       "\n",
       "   TrafficType_Other  VisitorType_New_Visitor  VisitorType_Other  \\\n",
       "0                  0                        0                  0   \n",
       "1                  0                        0                  0   \n",
       "2                  0                        0                  0   \n",
       "3                  0                        0                  0   \n",
       "4                  0                        0                  0   \n",
       "\n",
       "   VisitorType_Returning_Visitor  Weekend_False  Weekend_True  \n",
       "0                              1              1             0  \n",
       "1                              1              0             1  \n",
       "2                              1              1             0  \n",
       "3                              1              1             0  \n",
       "4                              1              1             0  \n",
       "\n",
       "[5 rows x 53 columns]"
      ]
     },
     "execution_count": 18,
     "metadata": {},
     "output_type": "execute_result"
    }
   ],
   "source": [
    "# One-hot encoding the entire dataframe\n",
    "X_dummies = pd.get_dummies(X, columns = cat_columns)\n",
    "print(X_dummies.columns)\n",
    "X_dummies.head()"
   ]
  },
  {
   "cell_type": "code",
   "execution_count": 19,
   "id": "c690533a",
   "metadata": {},
   "outputs": [
    {
     "name": "stdout",
     "output_type": "stream",
     "text": [
      "Total column before one hot encoding: 14, Total columns after one hot encoding: 53\n"
     ]
    }
   ],
   "source": [
    "#Total columns before and after one-hot encoding\n",
    "print(f'Total column before one hot encoding: {X.shape[1]}, Total columns after one hot encoding: {X_dummies.shape[1]}')"
   ]
  },
  {
   "cell_type": "code",
   "execution_count": 22,
   "id": "9b3a92ae",
   "metadata": {},
   "outputs": [
    {
     "data": {
      "text/plain": [
       "array([0, 0, 0, ..., 1, 1, 1])"
      ]
     },
     "execution_count": 22,
     "metadata": {},
     "output_type": "execute_result"
    }
   ],
   "source": [
    "# Converting output labels to 0 and 1\n",
    "y_label = LabelEncoder().fit_transform(y)\n",
    "y_label"
   ]
  },
  {
   "cell_type": "code",
   "execution_count": 23,
   "id": "95666b36",
   "metadata": {},
   "outputs": [],
   "source": [
    "#Training set**: Used to train the classifier.\n",
    "#Testing set**: Used to estimate the error rate of the trained classifier.\n",
    "X_train, X_test, y_train, y_test = train_test_split(X_dummies, y_label, random_state=42)"
   ]
  },
  {
   "cell_type": "code",
   "execution_count": 24,
   "id": "79bfac27",
   "metadata": {},
   "outputs": [
    {
     "data": {
      "text/plain": [
       "array([[-0.25984905, -0.26915436,  1.38554087, ...,  0.48224282,\n",
       "         0.55717103, -0.55717103],\n",
       "       [-0.46387811,  0.31627294, -0.34015459, ...,  0.48224282,\n",
       "         0.55717103, -0.55717103],\n",
       "       [-0.46387811, -0.26915436, -1.05942478, ...,  0.48224282,\n",
       "         0.55717103, -0.55717103],\n",
       "       ...,\n",
       "       [-0.46387811, -0.26915436,  0.22058076, ...,  0.48224282,\n",
       "         0.55717103, -0.55717103],\n",
       "       [-0.46387811, -0.26915436,  0.07184404, ..., -2.07364414,\n",
       "         0.55717103, -0.55717103],\n",
       "       [-0.02820316,  0.58319748, -0.37365499, ...,  0.48224282,\n",
       "         0.55717103, -0.55717103]])"
      ]
     },
     "execution_count": 24,
     "metadata": {},
     "output_type": "execute_result"
    }
   ],
   "source": [
    "# Scaling the X data by using StandardScaler()\n",
    "scaler = StandardScaler().fit(X_train)\n",
    "X_train_scaled = scaler.transform(X_train)\n",
    "X_train_scaled"
   ]
  },
  {
   "cell_type": "code",
   "execution_count": 25,
   "id": "cce22d93",
   "metadata": {},
   "outputs": [
    {
     "data": {
      "text/plain": [
       "array([[ 0.21621873, -0.26915436, -0.57945596, ..., -2.07364414,\n",
       "         0.55717103, -0.55717103],\n",
       "       [-0.13777792, -0.26915436, -0.40758609, ...,  0.48224282,\n",
       "         0.55717103, -0.55717103],\n",
       "       [ 0.42957387,  0.35502945, -0.47588607, ...,  0.48224282,\n",
       "         0.55717103, -0.55717103],\n",
       "       ...,\n",
       "       [ 0.45273756, -0.26915436,  0.74889613, ...,  0.48224282,\n",
       "        -1.79478103,  1.79478103],\n",
       "       [ 2.42106239, -0.26915436,  0.1023663 , ...,  0.48224282,\n",
       "        -1.79478103,  1.79478103],\n",
       "       [ 0.16747686,  0.07506465, -0.45772341, ...,  0.48224282,\n",
       "         0.55717103, -0.55717103]])"
      ]
     },
     "execution_count": 25,
     "metadata": {},
     "output_type": "execute_result"
    }
   ],
   "source": [
    "# Transforming the test dataset based on the fit from the training dataset\n",
    "X_test_scaled = scaler.transform(X_test)\n",
    "X_test_scaled"
   ]
  },
  {
   "cell_type": "code",
   "execution_count": 30,
   "id": "de2eeb90",
   "metadata": {},
   "outputs": [],
   "source": [
    "#defining function for model scoring with training set only\n",
    "def train_score(model, X_train_scaled=X_train_scaled, y_train=y_train):\n",
    "    #printing the accuracy score\n",
    "    train_score=model.score(X_train_scaled, y_train)\n",
    "    print(\"******************Train Score******************\")\n",
    "    print(train_score)\n",
    "    print()\n",
    "    \n",
    "    cvs=cross_val_score(model,X_train_scaled, y_train,cv=3, scoring='accuracy' )\n",
    "    print(\"************Using K=3 cross validation**********\")\n",
    "    print(cvs)\n",
    "    print()\n",
    "    \n",
    "    #predection on the test set and confusion matrix\n",
    "    y_train_pred=cross_val_predict(model,X_train_scaled, y_train,cv=3)\n",
    "    cm=confusion_matrix(y_train, y_train_pred)\n",
    "    print(\"******Confusion Matrix using cross_val_predict****\")\n",
    "    print(cm)\n",
    "    print()\n",
    "    \n",
    "    #classification report\n",
    "    cr=classification_report(y_train, y_train_pred)\n",
    "    print(\"***********Classification Report******************\")\n",
    "    print(cr)\n",
    "    print()\n",
    "    \n",
    "    #roc curve\n",
    "    y_train_predc=cross_val_predict(model,X_train_scaled, y_train,cv=3,\n",
    "                                    method=\"predict_proba\")\n",
    "    y_proba = y_train_predc[:,1]  #proba of positive class\n",
    "    fpr, tpr, thresholds = roc_curve(y_train, y_proba)\n",
    "    \n",
    "    plt.figure()\n",
    "    plt.plot(fpr, tpr, color='darkorange')\n",
    "    plt.plot([0, 1], [0, 1], color='navy', linestyle='--')\n",
    "    plt.xlim([0.0, 1.0])\n",
    "    plt.ylim([0.0, 1.05])\n",
    "    plt.xlabel('False Positive Rate')\n",
    "    plt.ylabel('True Positive Rate')\n",
    "    plt.title(f\"roc curve for {model}\")\n",
    "    print(\"ROC Curve\")\n",
    "    plt.show()\n",
    "    \n",
    "    # area under the curve (AUC)\n",
    "    roc_auc = auc(fpr, tpr)\n",
    "    roc_auc\n",
    "    print()\n",
    "    print(\"**************Area under the curve******************\")\n",
    "    print(roc_auc)\n",
    "    \n",
    "    \n",
    "    \n",
    "#defining function for model scoring with test set\n",
    "def test_score(model, X_train_scaled=X_train_scaled, X_test_scaled=X_test_scaled, \n",
    "               y_train=y_train,y_test=y_test):\n",
    "    #printing the accuracy score\n",
    "    train_score=model.score(X_train_scaled, y_train)\n",
    "    test_score=model.score(X_test_scaled, y_test)\n",
    "    print(\"********************Train Score******************\")\n",
    "    print(train_score)\n",
    "    print()\n",
    "\n",
    "    print(\"*********************Test Score******************\")\n",
    "    print(test_score)\n",
    "    print()\n",
    "    \n",
    "    #predection on the test set and confusion matrix\n",
    "    y_pred=model.predict(X_test_scaled)\n",
    "    cm=confusion_matrix(y_test, y_pred)\n",
    "    print(\"**************Confusion Matrix******************\")\n",
    "    print(cm)\n",
    "    print()\n",
    "    \n",
    "    #classification report\n",
    "    cr=classification_report(y_test, y_pred)\n",
    "    print(\"**********Classification Report******************\")\n",
    "    print(cr)\n",
    "    print()\n",
    "    \n",
    "    #roc curve\n",
    "    y_proba = model.predict_proba(X_test_scaled)[:,1]  #proba of positive class\n",
    "    fpr, tpr, thresholds = roc_curve(y_test, y_proba)\n",
    "    \n",
    "    plt.figure()\n",
    "    plt.plot(fpr, tpr, color='darkorange')\n",
    "    plt.plot([0, 1], [0, 1], color='navy', linestyle='--')\n",
    "    plt.xlim([0.0, 1.0])\n",
    "    plt.ylim([0.0, 1.05])\n",
    "    plt.xlabel('False Positive Rate')\n",
    "    plt.ylabel('True Positive Rate')\n",
    "    plt.title(f\"roc curve for {model}\")\n",
    "    print(\"ROC Curve\")\n",
    "    plt.show()\n",
    "    \n",
    "    # area under the curve (AUC)\n",
    "    roc_auc = auc(fpr, tpr)\n",
    "    roc_auc\n",
    "    print()\n",
    "    print(\"**************Area under the curve******************\")\n",
    "    print(roc_auc)\n"
   ]
  },
  {
   "cell_type": "markdown",
   "id": "c077ee66",
   "metadata": {},
   "source": [
    "## Model 1: Stochastic Gradent Descent Classifier"
   ]
  },
  {
   "cell_type": "code",
   "execution_count": 40,
   "id": "428e16d9",
   "metadata": {},
   "outputs": [
    {
     "data": {
      "text/plain": [
       "SGDClassifier(loss='log', random_state=42)"
      ]
     },
     "execution_count": 40,
     "metadata": {},
     "output_type": "execute_result"
    }
   ],
   "source": [
    "# Creating a sgd classifier model on the scaled data\n",
    "sgd=SGDClassifier(random_state=42, loss='log', penalty='l2')\n",
    "\n",
    "# Fit the model to the data\n",
    "sgd.fit(X_train_scaled, y_train)"
   ]
  },
  {
   "cell_type": "code",
   "execution_count": 41,
   "id": "aad37304",
   "metadata": {},
   "outputs": [
    {
     "name": "stdout",
     "output_type": "stream",
     "text": [
      "******************Train Score******************\n",
      "0.7896575821104123\n",
      "\n",
      "************Using K=3 cross validation**********\n",
      "[0.78197065 0.77463312 0.77568134]\n",
      "\n",
      "******Confusion Matrix using cross_val_predict****\n",
      "[[1117  303]\n",
      " [ 334 1108]]\n",
      "\n",
      "***********Classification Report******************\n",
      "              precision    recall  f1-score   support\n",
      "\n",
      "           0       0.77      0.79      0.78      1420\n",
      "           1       0.79      0.77      0.78      1442\n",
      "\n",
      "    accuracy                           0.78      2862\n",
      "   macro avg       0.78      0.78      0.78      2862\n",
      "weighted avg       0.78      0.78      0.78      2862\n",
      "\n",
      "\n",
      "ROC Curve\n"
     ]
    },
    {
     "data": {
      "image/png": "[encoded data removed]",
      "text/plain": [
       "<Figure size 432x288 with 1 Axes>"
      ]
     },
     "metadata": {
      "needs_background": "light"
     },
     "output_type": "display_data"
    },
    {
     "name": "stdout",
     "output_type": "stream",
     "text": [
      "\n",
      "**************Area under the curve******************\n",
      "0.8589332109159813\n"
     ]
    }
   ],
   "source": [
    "#score for logistic regression using only training data\n",
    "train_score(sgd_clf)"
   ]
  },
  {
   "cell_type": "markdown",
   "id": "5a186dac",
   "metadata": {},
   "source": [
    "### Tuning hyperparamaters using Grid Search CV for Stochastic Gradent Descent Classifier"
   ]
  },
  {
   "cell_type": "code",
   "execution_count": 51,
   "id": "f2a9648a",
   "metadata": {},
   "outputs": [],
   "source": [
    "#### Using GridSearchCV\n",
    "param_grid_sgd = {\n",
    "              'penalty': ['l1','l2', 'elasticnet'],\n",
    "             'loss':['log', 'modified_huber'],\n",
    "                'max_iter':[10, 50, 100,500,1000]}\n",
    "grid_sgd = GridSearchCV(sgd, param_grid_sgd, cv=5, verbose=1, n_jobs=-1)"
   ]
  },
  {
   "cell_type": "code",
   "execution_count": 52,
   "id": "03a300e4",
   "metadata": {},
   "outputs": [
    {
     "name": "stdout",
     "output_type": "stream",
     "text": [
      "Fitting 5 folds for each of 30 candidates, totalling 150 fits\n"
     ]
    },
    {
     "data": {
      "text/plain": [
       "GridSearchCV(cv=5, estimator=SGDClassifier(loss='log', random_state=42),\n",
       "             n_jobs=-1,\n",
       "             param_grid={'loss': ['log', 'modified_huber'],\n",
       "                         'max_iter': [10, 50, 100, 500, 1000],\n",
       "                         'penalty': ['l1', 'l2', 'elasticnet']},\n",
       "             verbose=1)"
      ]
     },
     "execution_count": 52,
     "metadata": {},
     "output_type": "execute_result"
    }
   ],
   "source": [
    "grid_sgd.fit(X_train_scaled, y_train)"
   ]
  },
  {
   "cell_type": "code",
   "execution_count": 53,
   "id": "0df300f3",
   "metadata": {},
   "outputs": [
    {
     "name": "stdout",
     "output_type": "stream",
     "text": [
      "{'loss': 'log', 'max_iter': 50, 'penalty': 'l1'}\n"
     ]
    }
   ],
   "source": [
    "# best parameters for this dataset\n",
    "print(grid_sgd.best_params_)"
   ]
  },
  {
   "cell_type": "code",
   "execution_count": 54,
   "id": "22bfdf94",
   "metadata": {},
   "outputs": [
    {
     "name": "stdout",
     "output_type": "stream",
     "text": [
      "0.7983975884499445\n"
     ]
    }
   ],
   "source": [
    "# best score\n",
    "print(grid_sgd.best_score_)"
   ]
  },
  {
   "cell_type": "code",
   "execution_count": 55,
   "id": "427bbb33",
   "metadata": {},
   "outputs": [
    {
     "data": {
      "text/plain": [
       "SGDClassifier(loss='log', max_iter=50, penalty='l1', random_state=42)"
      ]
     },
     "execution_count": 55,
     "metadata": {},
     "output_type": "execute_result"
    }
   ],
   "source": [
    "#best estimator\n",
    "sgd_b=grid_sgd.best_estimator_\n",
    "sgd_b"
   ]
  },
  {
   "cell_type": "code",
   "execution_count": 57,
   "id": "289207fe",
   "metadata": {},
   "outputs": [
    {
     "name": "stdout",
     "output_type": "stream",
     "text": [
      "******************Train Score******************\n",
      "0.7973445143256463\n",
      "\n",
      "************Using K=3 cross validation**********\n",
      "[0.77987421 0.79769392 0.778826  ]\n",
      "\n",
      "******Confusion Matrix using cross_val_predict****\n",
      "[[1206  214]\n",
      " [ 400 1042]]\n",
      "\n",
      "***********Classification Report******************\n",
      "              precision    recall  f1-score   support\n",
      "\n",
      "           0       0.75      0.85      0.80      1420\n",
      "           1       0.83      0.72      0.77      1442\n",
      "\n",
      "    accuracy                           0.79      2862\n",
      "   macro avg       0.79      0.79      0.78      2862\n",
      "weighted avg       0.79      0.79      0.78      2862\n",
      "\n",
      "\n",
      "ROC Curve\n"
     ]
    },
    {
     "data": {
      "image/png": "[encoded data removed]",
      "text/plain": [
       "<Figure size 432x288 with 1 Axes>"
      ]
     },
     "metadata": {
      "needs_background": "light"
     },
     "output_type": "display_data"
    },
    {
     "name": "stdout",
     "output_type": "stream",
     "text": [
      "\n",
      "**************Area under the curve******************\n",
      "0.8685650309624737\n"
     ]
    }
   ],
   "source": [
    "#score for Stochastic Gradent Descent Classifier using training data\n",
    "train_score(sgd_b)"
   ]
  },
  {
   "cell_type": "markdown",
   "id": "27655ac6",
   "metadata": {},
   "source": [
    "## Model 2: Logistic Regression"
   ]
  },
  {
   "cell_type": "code",
   "execution_count": 60,
   "id": "9fbdfc78",
   "metadata": {},
   "outputs": [
    {
     "data": {
      "text/plain": [
       "LogisticRegression()"
      ]
     },
     "execution_count": 60,
     "metadata": {},
     "output_type": "execute_result"
    }
   ],
   "source": [
    "# Creating a Logistic Regression model on the scaled data\n",
    "lr= LogisticRegression()\n",
    "\n",
    "# Fit the model to the data\n",
    "lr.fit(X_train_scaled, y_train)"
   ]
  },
  {
   "cell_type": "code",
   "execution_count": 61,
   "id": "7353457f",
   "metadata": {},
   "outputs": [
    {
     "name": "stdout",
     "output_type": "stream",
     "text": [
      "******************Train Score******************\n",
      "0.8200559049615653\n",
      "\n",
      "************Using K=3 cross validation**********\n",
      "[0.79769392 0.80712788 0.79874214]\n",
      "\n",
      "******Confusion Matrix using cross_val_predict****\n",
      "[[1177  243]\n",
      " [ 326 1116]]\n",
      "\n",
      "***********Classification Report******************\n",
      "              precision    recall  f1-score   support\n",
      "\n",
      "           0       0.78      0.83      0.81      1420\n",
      "           1       0.82      0.77      0.80      1442\n",
      "\n",
      "    accuracy                           0.80      2862\n",
      "   macro avg       0.80      0.80      0.80      2862\n",
      "weighted avg       0.80      0.80      0.80      2862\n",
      "\n",
      "\n",
      "ROC Curve\n"
     ]
    },
    {
     "data": {
      "image/png": "[encoded data removed]",
      "text/plain": [
       "<Figure size 432x288 with 1 Axes>"
      ]
     },
     "metadata": {
      "needs_background": "light"
     },
     "output_type": "display_data"
    },
    {
     "name": "stdout",
     "output_type": "stream",
     "text": [
      "\n",
      "**************Area under the curve******************\n",
      "0.8953409779062727\n"
     ]
    }
   ],
   "source": [
    "#score for logistic regression using only training data\n",
    "train_score(lr)"
   ]
  },
  {
   "cell_type": "markdown",
   "id": "fccf7350",
   "metadata": {},
   "source": [
    "### Tuning hyperparamaters  using Grid Search CV for Logistic Regresssion"
   ]
  },
  {
   "cell_type": "code",
   "execution_count": 75,
   "id": "7d405077",
   "metadata": {},
   "outputs": [],
   "source": [
    "#### Using GridSearchCV\n",
    "param_grid_lr = {'C': [0.001, 0.01,0.1,1, 5, 10],\n",
    "                 'solver':['lbfgs','saga'],\n",
    "                'max_iter':[100,500,1000, 10000]}\n",
    "grid_lr = GridSearchCV(lr, param_grid_lr, cv=5, verbose=1, n_jobs=-1)"
   ]
  },
  {
   "cell_type": "code",
   "execution_count": 76,
   "id": "2ee76e27",
   "metadata": {},
   "outputs": [
    {
     "name": "stdout",
     "output_type": "stream",
     "text": [
      "Fitting 5 folds for each of 48 candidates, totalling 240 fits\n"
     ]
    },
    {
     "data": {
      "text/plain": [
       "GridSearchCV(cv=5, estimator=LogisticRegression(), n_jobs=-1,\n",
       "             param_grid={'C': [0.001, 0.01, 0.1, 1, 5, 10],\n",
       "                         'max_iter': [100, 500, 1000, 10000],\n",
       "                         'solver': ['lbfgs', 'saga']},\n",
       "             verbose=1)"
      ]
     },
     "execution_count": 76,
     "metadata": {},
     "output_type": "execute_result"
    }
   ],
   "source": [
    "grid_lr.fit(X_train_scaled, y_train)"
   ]
  },
  {
   "cell_type": "code",
   "execution_count": 77,
   "id": "0b2a8da5",
   "metadata": {},
   "outputs": [
    {
     "name": "stdout",
     "output_type": "stream",
     "text": [
      "{'C': 5, 'max_iter': 100, 'solver': 'lbfgs'}\n"
     ]
    }
   ],
   "source": [
    "# best parameters for this dataset\n",
    "print(grid_lr.best_params_)"
   ]
  },
  {
   "cell_type": "code",
   "execution_count": 78,
   "id": "fc036a3f",
   "metadata": {},
   "outputs": [
    {
     "name": "stdout",
     "output_type": "stream",
     "text": [
      "0.8043294401933145\n"
     ]
    }
   ],
   "source": [
    "# best score\n",
    "print(grid_lr.best_score_)"
   ]
  },
  {
   "cell_type": "code",
   "execution_count": 79,
   "id": "a0301104",
   "metadata": {},
   "outputs": [
    {
     "data": {
      "text/plain": [
       "LogisticRegression(C=5)"
      ]
     },
     "execution_count": 79,
     "metadata": {},
     "output_type": "execute_result"
    }
   ],
   "source": [
    "#best estimator\n",
    "lr_b=grid_lr.best_estimator_\n",
    "lr_b"
   ]
  },
  {
   "cell_type": "code",
   "execution_count": 80,
   "id": "fcf70817",
   "metadata": {},
   "outputs": [
    {
     "name": "stdout",
     "output_type": "stream",
     "text": [
      "******************Train Score******************\n",
      "0.8200559049615653\n",
      "\n",
      "************Using K=3 cross validation**********\n",
      "[0.79874214 0.80607966 0.79979036]\n",
      "\n",
      "******Confusion Matrix using cross_val_predict****\n",
      "[[1179  241]\n",
      " [ 327 1115]]\n",
      "\n",
      "***********Classification Report******************\n",
      "              precision    recall  f1-score   support\n",
      "\n",
      "           0       0.78      0.83      0.81      1420\n",
      "           1       0.82      0.77      0.80      1442\n",
      "\n",
      "    accuracy                           0.80      2862\n",
      "   macro avg       0.80      0.80      0.80      2862\n",
      "weighted avg       0.80      0.80      0.80      2862\n",
      "\n",
      "\n",
      "ROC Curve\n"
     ]
    },
    {
     "data": {
      "image/png": "[encoded data removed]",
      "text/plain": [
       "<Figure size 432x288 with 1 Axes>"
      ]
     },
     "metadata": {
      "needs_background": "light"
     },
     "output_type": "display_data"
    },
    {
     "name": "stdout",
     "output_type": "stream",
     "text": [
      "\n",
      "**************Area under the curve******************\n",
      "0.896222480514153\n"
     ]
    }
   ],
   "source": [
    "#score for logistic regression using training data only after hyperparamater tuining\n",
    "train_score(lr_b)"
   ]
  },
  {
   "cell_type": "markdown",
   "id": "9eca3dc8",
   "metadata": {},
   "source": [
    "## Model 3: Support Vector Classifier"
   ]
  },
  {
   "cell_type": "code",
   "execution_count": 83,
   "id": "4d03467f",
   "metadata": {},
   "outputs": [
    {
     "data": {
      "text/plain": [
       "SVC(kernel='linear', probability=True)"
      ]
     },
     "execution_count": 83,
     "metadata": {},
     "output_type": "execute_result"
    }
   ],
   "source": [
    "# Creating a support vector classifier model on the scaled data\n",
    "svc= SVC(kernel='linear',  probability=True)\n",
    "\n",
    "# Fit the model to the data\n",
    "svc.fit(X_train_scaled, y_train)"
   ]
  },
  {
   "cell_type": "code",
   "execution_count": 84,
   "id": "6ae224f6",
   "metadata": {},
   "outputs": [
    {
     "name": "stdout",
     "output_type": "stream",
     "text": [
      "******************Train Score******************\n",
      "0.8277428371767994\n",
      "\n",
      "************Using K=3 cross validation**********\n",
      "[0.80293501 0.82809224 0.81656184]\n",
      "\n",
      "******Confusion Matrix using cross_val_predict****\n",
      "[[1211  209]\n",
      " [ 318 1124]]\n",
      "\n",
      "***********Classification Report******************\n",
      "              precision    recall  f1-score   support\n",
      "\n",
      "           0       0.79      0.85      0.82      1420\n",
      "           1       0.84      0.78      0.81      1442\n",
      "\n",
      "    accuracy                           0.82      2862\n",
      "   macro avg       0.82      0.82      0.82      2862\n",
      "weighted avg       0.82      0.82      0.82      2862\n",
      "\n",
      "\n",
      "ROC Curve\n"
     ]
    },
    {
     "data": {
      "image/png": "[encoded data removed]",
      "text/plain": [
       "<Figure size 432x288 with 1 Axes>"
      ]
     },
     "metadata": {
      "needs_background": "light"
     },
     "output_type": "display_data"
    },
    {
     "name": "stdout",
     "output_type": "stream",
     "text": [
      "\n",
      "**************Area under the curve******************\n",
      "0.9023373249203963\n"
     ]
    }
   ],
   "source": [
    "#score for support vector classifier using only training data\n",
    "train_score(svc)"
   ]
  },
  {
   "cell_type": "markdown",
   "id": "8b701759",
   "metadata": {},
   "source": [
    "### Tuning hyperparamaters  using Randomized Search CV for SVC"
   ]
  },
  {
   "cell_type": "code",
   "execution_count": 85,
   "id": "279ee936",
   "metadata": {},
   "outputs": [],
   "source": [
    "#### Using GridSearchCV\n",
    "param_rand_svc ={'C': [1.0,2.0],\n",
    "                'kernel':['linear', 'poly','rbf'],\n",
    "                'gamma':['auto','scale']}\n",
    "rand_svc = RandomizedSearchCV(svc, param_rand_svc, cv=3, verbose=6, n_jobs=-1)"
   ]
  },
  {
   "cell_type": "code",
   "execution_count": 86,
   "id": "2a83a5ff",
   "metadata": {},
   "outputs": [
    {
     "name": "stdout",
     "output_type": "stream",
     "text": [
      "Fitting 3 folds for each of 10 candidates, totalling 30 fits\n"
     ]
    },
    {
     "data": {
      "text/plain": [
       "RandomizedSearchCV(cv=3, estimator=SVC(kernel='linear', probability=True),\n",
       "                   n_jobs=-1,\n",
       "                   param_distributions={'C': [1.0, 2.0],\n",
       "                                        'gamma': ['auto', 'scale'],\n",
       "                                        'kernel': ['linear', 'poly', 'rbf']},\n",
       "                   verbose=4)"
      ]
     },
     "execution_count": 86,
     "metadata": {},
     "output_type": "execute_result"
    }
   ],
   "source": [
    "rand_svc.fit(X_train_scaled, y_train)"
   ]
  },
  {
   "cell_type": "code",
   "execution_count": 87,
   "id": "92de3092",
   "metadata": {},
   "outputs": [
    {
     "name": "stdout",
     "output_type": "stream",
     "text": [
      "{'kernel': 'linear', 'gamma': 'scale', 'C': 2.0}\n"
     ]
    }
   ],
   "source": [
    "# best parameters for this dataset\n",
    "print(rand_svc.best_params_)"
   ]
  },
  {
   "cell_type": "code",
   "execution_count": 88,
   "id": "52e02af1",
   "metadata": {},
   "outputs": [
    {
     "name": "stdout",
     "output_type": "stream",
     "text": [
      "0.8183088749126485\n"
     ]
    }
   ],
   "source": [
    "# best score\n",
    "print(rand_svc.best_score_)"
   ]
  },
  {
   "cell_type": "code",
   "execution_count": 89,
   "id": "4de8f519",
   "metadata": {},
   "outputs": [
    {
     "data": {
      "text/plain": [
       "SVC(C=2.0, kernel='linear', probability=True)"
      ]
     },
     "execution_count": 89,
     "metadata": {},
     "output_type": "execute_result"
    }
   ],
   "source": [
    "#best estimator\n",
    "svc_b=rand_svc.best_estimator_\n",
    "svc_b"
   ]
  },
  {
   "cell_type": "code",
   "execution_count": 90,
   "id": "1302442b",
   "metadata": {},
   "outputs": [
    {
     "name": "stdout",
     "output_type": "stream",
     "text": [
      "******************Train Score******************\n",
      "0.8280922431865828\n",
      "\n",
      "************Using K=3 cross validation**********\n",
      "[0.80712788 0.83228512 0.81551363]\n",
      "\n",
      "******Confusion Matrix using cross_val_predict****\n",
      "[[1213  207]\n",
      " [ 313 1129]]\n",
      "\n",
      "***********Classification Report******************\n",
      "              precision    recall  f1-score   support\n",
      "\n",
      "           0       0.79      0.85      0.82      1420\n",
      "           1       0.85      0.78      0.81      1442\n",
      "\n",
      "    accuracy                           0.82      2862\n",
      "   macro avg       0.82      0.82      0.82      2862\n",
      "weighted avg       0.82      0.82      0.82      2862\n",
      "\n",
      "\n",
      "ROC Curve\n"
     ]
    },
    {
     "data": {
      "image/png": "[encoded data removed]",
      "text/plain": [
       "<Figure size 432x288 with 1 Axes>"
      ]
     },
     "metadata": {
      "needs_background": "light"
     },
     "output_type": "display_data"
    },
    {
     "name": "stdout",
     "output_type": "stream",
     "text": [
      "\n",
      "**************Area under the curve******************\n",
      "0.9026408450704226\n",
      "[CV 3/3] END .C=2.0, gamma=scale, kernel=linear;, score=0.816 total time=   3.7s\n",
      "[CV 1/3] END ....C=2.0, gamma=scale, kernel=rbf;, score=0.751 total time=   2.2s\n",
      "[CV 3/3] END ....C=1.0, gamma=auto, kernel=poly;, score=0.703 total time=   1.6s\n",
      "[CV 2/3] END .C=2.0, gamma=scale, kernel=linear;, score=0.832 total time=   3.6s\n",
      "[CV 3/3] END ..C=2.0, gamma=auto, kernel=linear;, score=0.816 total time=   4.1s\n",
      "[CV 2/3] END .....C=1.0, gamma=auto, kernel=rbf;, score=0.756 total time=   2.2s\n",
      "[CV 1/3] END ....C=1.0, gamma=scale, kernel=rbf;, score=0.737 total time=   2.2s\n",
      "[CV 3/3] END ....C=2.0, gamma=scale, kernel=rbf;, score=0.764 total time=   2.4s\n",
      "[CV 1/3] END ...C=2.0, gamma=scale, kernel=poly;, score=0.711 total time=   1.5s\n",
      "[CV 2/3] END .C=1.0, gamma=scale, kernel=linear;, score=0.828 total time=   2.1s\n",
      "[CV 3/3] END .C=1.0, gamma=scale, kernel=linear;, score=0.817 total time=   2.2s\n",
      "[CV 2/3] END ....C=2.0, gamma=scale, kernel=rbf;, score=0.764 total time=   2.5s\n",
      "[CV 2/3] END ...C=2.0, gamma=scale, kernel=poly;, score=0.704 total time=   1.5s\n",
      "[CV 3/3] END .....C=1.0, gamma=auto, kernel=rbf;, score=0.761 total time=   2.2s\n",
      "[CV 3/3] END ....C=2.0, gamma=auto, kernel=poly;, score=0.714 total time=   1.4s\n",
      "[CV 2/3] END ..C=2.0, gamma=auto, kernel=linear;, score=0.832 total time=   3.6s\n",
      "[CV 3/3] END ...C=2.0, gamma=scale, kernel=poly;, score=0.713 total time=   1.4s\n",
      "[CV 1/3] END .C=2.0, gamma=scale, kernel=linear;, score=0.807 total time=   3.4s\n",
      "[CV 2/3] END ....C=1.0, gamma=scale, kernel=rbf;, score=0.755 total time=   2.3s\n",
      "[CV 1/3] END ....C=1.0, gamma=auto, kernel=poly;, score=0.688 total time=   1.7s\n",
      "[CV 2/3] END ...C=1.0, gamma=scale, kernel=poly;, score=0.704 total time=   1.3s\n",
      "[CV 1/3] END .....C=1.0, gamma=auto, kernel=rbf;, score=0.738 total time=   2.1s\n",
      "[CV 1/3] END ....C=2.0, gamma=auto, kernel=poly;, score=0.709 total time=   1.4s\n",
      "[CV 1/3] END ..C=2.0, gamma=auto, kernel=linear;, score=0.807 total time=   3.8s\n",
      "[CV 1/3] END ...C=1.0, gamma=scale, kernel=poly;, score=0.690 total time=   1.3s\n",
      "[CV 1/3] END .C=1.0, gamma=scale, kernel=linear;, score=0.803 total time=   2.2s\n",
      "[CV 2/3] END ....C=2.0, gamma=auto, kernel=poly;, score=0.708 total time=   1.3s\n",
      "[CV 3/3] END ....C=1.0, gamma=scale, kernel=rbf;, score=0.761 total time=   2.2s\n",
      "[CV 2/3] END ....C=1.0, gamma=auto, kernel=poly;, score=0.702 total time=   1.7s\n",
      "[CV 3/3] END ...C=1.0, gamma=scale, kernel=poly;, score=0.702 total time=   1.3s\n"
     ]
    }
   ],
   "source": [
    "#score for support vector classifier using training data\n",
    "train_score(svc_b)"
   ]
  },
  {
   "cell_type": "markdown",
   "id": "c3078b52",
   "metadata": {},
   "source": [
    "## Model 4: Decision Tree Classifier"
   ]
  },
  {
   "cell_type": "code",
   "execution_count": 93,
   "id": "4ae49d71",
   "metadata": {},
   "outputs": [
    {
     "data": {
      "text/plain": [
       "DecisionTreeClassifier()"
      ]
     },
     "execution_count": 93,
     "metadata": {},
     "output_type": "execute_result"
    }
   ],
   "source": [
    "# Creating a Decision Tree model on the scaled data\n",
    "dt= DecisionTreeClassifier()\n",
    "\n",
    "# Fit the model to the data\n",
    "dt.fit(X_train_scaled, y_train)"
   ]
  },
  {
   "cell_type": "code",
   "execution_count": 94,
   "id": "a9d04d07",
   "metadata": {},
   "outputs": [
    {
     "name": "stdout",
     "output_type": "stream",
     "text": [
      "******************Train Score******************\n",
      "1.0\n",
      "\n",
      "************Using K=3 cross validation**********\n",
      "[0.7966457  0.80922432 0.7672956 ]\n",
      "\n",
      "******Confusion Matrix using cross_val_predict****\n",
      "[[1124  296]\n",
      " [ 290 1152]]\n",
      "\n",
      "***********Classification Report******************\n",
      "              precision    recall  f1-score   support\n",
      "\n",
      "           0       0.79      0.79      0.79      1420\n",
      "           1       0.80      0.80      0.80      1442\n",
      "\n",
      "    accuracy                           0.80      2862\n",
      "   macro avg       0.80      0.80      0.80      2862\n",
      "weighted avg       0.80      0.80      0.80      2862\n",
      "\n",
      "\n",
      "ROC Curve\n"
     ]
    },
    {
     "data": {
      "image/png": "[encoded data removed]",
      "text/plain": [
       "<Figure size 432x288 with 1 Axes>"
      ]
     },
     "metadata": {
      "needs_background": "light"
     },
     "output_type": "display_data"
    },
    {
     "name": "stdout",
     "output_type": "stream",
     "text": [
      "\n",
      "**************Area under the curve******************\n",
      "0.795252095094841\n"
     ]
    }
   ],
   "source": [
    "#score for Decision Tree using only training data\n",
    "train_score(dt)"
   ]
  },
  {
   "cell_type": "markdown",
   "id": "b1fba518",
   "metadata": {},
   "source": [
    "### Tuning hyperparamaters  using Grid Search CV for Decision Tree"
   ]
  },
  {
   "cell_type": "code",
   "execution_count": 102,
   "id": "bdfbbd1b",
   "metadata": {},
   "outputs": [],
   "source": [
    "#### Using GridSearchCV\n",
    "param_grid_dt = {'criterion': ['gini','entropy'],\n",
    "             'max_depth':[10,100,1000,10000],\n",
    "                'min_samples_leaf':[1,5,10,100,1000,10000],\n",
    "                'max_features':['auto','sqrt','log2']}\n",
    "grid_dt = GridSearchCV(dt, param_grid_dt, cv=3, verbose=1, n_jobs=-1)"
   ]
  },
  {
   "cell_type": "code",
   "execution_count": 103,
   "id": "417e9324",
   "metadata": {},
   "outputs": [
    {
     "name": "stdout",
     "output_type": "stream",
     "text": [
      "Fitting 3 folds for each of 144 candidates, totalling 432 fits\n"
     ]
    },
    {
     "data": {
      "text/plain": [
       "GridSearchCV(cv=3, estimator=DecisionTreeClassifier(), n_jobs=-1,\n",
       "             param_grid={'criterion': ['gini', 'entropy'],\n",
       "                         'max_depth': [10, 100, 1000, 10000],\n",
       "                         'max_features': ['auto', 'sqrt', 'log2'],\n",
       "                         'min_samples_leaf': [1, 5, 10, 100, 1000, 10000]},\n",
       "             verbose=1)"
      ]
     },
     "execution_count": 103,
     "metadata": {},
     "output_type": "execute_result"
    }
   ],
   "source": [
    "grid_dt.fit(X_train_scaled, y_train)"
   ]
  },
  {
   "cell_type": "code",
   "execution_count": 104,
   "id": "0cf284f9",
   "metadata": {},
   "outputs": [
    {
     "name": "stdout",
     "output_type": "stream",
     "text": [
      "{'criterion': 'entropy', 'max_depth': 10, 'max_features': 'log2', 'min_samples_leaf': 10}\n"
     ]
    }
   ],
   "source": [
    "# best parameters for this dataset\n",
    "print(grid_dt.best_params_)"
   ]
  },
  {
   "cell_type": "code",
   "execution_count": 105,
   "id": "db94667a",
   "metadata": {},
   "outputs": [
    {
     "name": "stdout",
     "output_type": "stream",
     "text": [
      "0.8232005590496158\n"
     ]
    }
   ],
   "source": [
    "# best score\n",
    "print(grid_dt.best_score_)"
   ]
  },
  {
   "cell_type": "code",
   "execution_count": 106,
   "id": "6e5abaf0",
   "metadata": {},
   "outputs": [
    {
     "data": {
      "text/plain": [
       "DecisionTreeClassifier(criterion='entropy', max_depth=10, max_features='log2',\n",
       "                       min_samples_leaf=10)"
      ]
     },
     "execution_count": 106,
     "metadata": {},
     "output_type": "execute_result"
    }
   ],
   "source": [
    "#best estimator\n",
    "dt_b=grid_dt.best_estimator_\n",
    "dt_b"
   ]
  },
  {
   "cell_type": "code",
   "execution_count": 107,
   "id": "378bf0d6",
   "metadata": {},
   "outputs": [
    {
     "name": "stdout",
     "output_type": "stream",
     "text": [
      "******************Train Score******************\n",
      "0.6995108315863033\n",
      "\n",
      "************Using K=3 cross validation**********\n",
      "[0.83647799 0.71278826 0.67505241]\n",
      "\n",
      "******Confusion Matrix using cross_val_predict****\n",
      "[[ 839  581]\n",
      " [ 316 1126]]\n",
      "\n",
      "***********Classification Report******************\n",
      "              precision    recall  f1-score   support\n",
      "\n",
      "           0       0.73      0.59      0.65      1420\n",
      "           1       0.66      0.78      0.72      1442\n",
      "\n",
      "    accuracy                           0.69      2862\n",
      "   macro avg       0.69      0.69      0.68      2862\n",
      "weighted avg       0.69      0.69      0.68      2862\n",
      "\n",
      "\n",
      "ROC Curve\n"
     ]
    },
    {
     "data": {
      "image/png": "[encoded data removed]",
      "text/plain": [
       "<Figure size 432x288 with 1 Axes>"
      ]
     },
     "metadata": {
      "needs_background": "light"
     },
     "output_type": "display_data"
    },
    {
     "name": "stdout",
     "output_type": "stream",
     "text": [
      "\n",
      "**************Area under the curve******************\n",
      "0.7781367818561857\n"
     ]
    }
   ],
   "source": [
    "#score for decision tree using training data\n",
    "train_score(dt_b)"
   ]
  },
  {
   "cell_type": "markdown",
   "id": "bb2d56f5",
   "metadata": {},
   "source": [
    "## Model 5: Random Forest Classifier"
   ]
  },
  {
   "cell_type": "code",
   "execution_count": 108,
   "id": "e75bdcb8",
   "metadata": {},
   "outputs": [
    {
     "data": {
      "text/plain": [
       "RandomForestClassifier()"
      ]
     },
     "execution_count": 108,
     "metadata": {},
     "output_type": "execute_result"
    }
   ],
   "source": [
    "# Creating a Random Forest Classifer model on the scaled data\n",
    "rf= RandomForestClassifier()\n",
    "\n",
    "# Fit the model to the data\n",
    "rf.fit(X_train_scaled, y_train)"
   ]
  },
  {
   "cell_type": "code",
   "execution_count": 109,
   "id": "57260d7a",
   "metadata": {},
   "outputs": [
    {
     "name": "stdout",
     "output_type": "stream",
     "text": [
      "******************Train Score******************\n",
      "1.0\n",
      "\n",
      "************Using K=3 cross validation**********\n",
      "[0.84800839 0.85534591 0.8427673 ]\n",
      "\n",
      "******Confusion Matrix using cross_val_predict****\n",
      "[[1199  221]\n",
      " [ 206 1236]]\n",
      "\n",
      "***********Classification Report******************\n",
      "              precision    recall  f1-score   support\n",
      "\n",
      "           0       0.85      0.84      0.85      1420\n",
      "           1       0.85      0.86      0.85      1442\n",
      "\n",
      "    accuracy                           0.85      2862\n",
      "   macro avg       0.85      0.85      0.85      2862\n",
      "weighted avg       0.85      0.85      0.85      2862\n",
      "\n",
      "\n",
      "ROC Curve\n"
     ]
    },
    {
     "data": {
      "image/png": "[encoded data removed]",
      "text/plain": [
       "<Figure size 432x288 with 1 Axes>"
      ]
     },
     "metadata": {
      "needs_background": "light"
     },
     "output_type": "display_data"
    },
    {
     "name": "stdout",
     "output_type": "stream",
     "text": [
      "\n",
      "**************Area under the curve******************\n",
      "0.9193774296263015\n"
     ]
    }
   ],
   "source": [
    "#score for Random Forest Classifer using only training data\n",
    "train_score(rf)"
   ]
  },
  {
   "cell_type": "code",
   "execution_count": 110,
   "id": "e9c70a9b",
   "metadata": {},
   "outputs": [
    {
     "name": "stdout",
     "output_type": "stream",
     "text": [
      "[0.06352801 0.03162489 0.08868011 0.06078085 0.10445727 0.35737833\n",
      " 0.00816955 0.00447775 0.00687922 0.00111503 0.00485939 0.00191372\n",
      " 0.00909603 0.01194707 0.03100751 0.00503795 0.00644297 0.00599801\n",
      " 0.00898928 0.00843461 0.0037271  0.00613457 0.00174208 0.00987404\n",
      " 0.00527334 0.00389436 0.00117513 0.00227859 0.01176552 0.00727466\n",
      " 0.01004249 0.00682456 0.00366142 0.00391072 0.00402203 0.00293996\n",
      " 0.0039195  0.00744568 0.00334023 0.00263964 0.00332476 0.01290912\n",
      " 0.00795716 0.00509075 0.00284583 0.00284671 0.00517833 0.00351595\n",
      " 0.00848496 0.00065279 0.00864531 0.00781067 0.00803449]\n"
     ]
    },
    {
     "data": {
      "image/png": "[encoded data removed]",
      "text/plain": [
       "<Figure size 432x288 with 1 Axes>"
      ]
     },
     "metadata": {
      "needs_background": "light"
     },
     "output_type": "display_data"
    }
   ],
   "source": [
    "# plotting columns with its importances\n",
    "features_rf = rf.feature_importances_\n",
    "print(features_rf)\n",
    "plt.bar(x = range(len(features_rf)), height=features_rf)\n",
    "plt.show()"
   ]
  },
  {
   "cell_type": "markdown",
   "id": "3bdd6e59",
   "metadata": {},
   "source": [
    "### Tuning hyperparamaters  using Grid Search CV for Random Forest"
   ]
  },
  {
   "cell_type": "code",
   "execution_count": 112,
   "id": "10b201d1",
   "metadata": {},
   "outputs": [],
   "source": [
    "#### Using GridSearchCV\n",
    "param_grid_rf = {'n_estimators':[100,200,500],\n",
    "              'criterion': ['gini','entropy'],\n",
    "             'max_depth':[1,2,5,10,100,1000,10000],\n",
    "                'min_samples_leaf':[1,5,10,100,1000,10000],\n",
    "                'max_features':['auto','sqrt','log2']}\n",
    "grid_rf = GridSearchCV(rf, param_grid_rf, cv=3, verbose=1, n_jobs=-1)"
   ]
  },
  {
   "cell_type": "code",
   "execution_count": 113,
   "id": "9a33942e",
   "metadata": {},
   "outputs": [
    {
     "name": "stdout",
     "output_type": "stream",
     "text": [
      "Fitting 3 folds for each of 756 candidates, totalling 2268 fits\n"
     ]
    },
    {
     "data": {
      "text/plain": [
       "GridSearchCV(cv=3, estimator=RandomForestClassifier(), n_jobs=-1,\n",
       "             param_grid={'criterion': ['gini', 'entropy'],\n",
       "                         'max_depth': [1, 2, 5, 10, 100, 1000, 10000],\n",
       "                         'max_features': ['auto', 'sqrt', 'log2'],\n",
       "                         'min_samples_leaf': [1, 5, 10, 100, 1000, 10000],\n",
       "                         'n_estimators': [100, 200, 500]},\n",
       "             verbose=1)"
      ]
     },
     "execution_count": 113,
     "metadata": {},
     "output_type": "execute_result"
    }
   ],
   "source": [
    "grid_rf.fit(X_train_scaled, y_train)"
   ]
  },
  {
   "cell_type": "code",
   "execution_count": 114,
   "id": "1c51f8ca",
   "metadata": {},
   "outputs": [
    {
     "name": "stdout",
     "output_type": "stream",
     "text": [
      "{'criterion': 'entropy', 'max_depth': 10000, 'max_features': 'auto', 'min_samples_leaf': 5, 'n_estimators': 200}\n"
     ]
    }
   ],
   "source": [
    "# best parameters for this dataset\n",
    "print(grid_rf.best_params_)"
   ]
  },
  {
   "cell_type": "code",
   "execution_count": 115,
   "id": "b4c3481b",
   "metadata": {},
   "outputs": [
    {
     "name": "stdout",
     "output_type": "stream",
     "text": [
      "0.8560447239692522\n"
     ]
    }
   ],
   "source": [
    "# best score\n",
    "print(grid_rf.best_score_)"
   ]
  },
  {
   "cell_type": "code",
   "execution_count": 116,
   "id": "f1ff489a",
   "metadata": {},
   "outputs": [
    {
     "data": {
      "text/plain": [
       "RandomForestClassifier(criterion='entropy', max_depth=10000, min_samples_leaf=5,\n",
       "                       n_estimators=200)"
      ]
     },
     "execution_count": 116,
     "metadata": {},
     "output_type": "execute_result"
    }
   ],
   "source": [
    "#best estimator\n",
    "rf_b=grid_rf.best_estimator_\n",
    "rf_b"
   ]
  },
  {
   "cell_type": "code",
   "execution_count": 117,
   "id": "f23690c6",
   "metadata": {},
   "outputs": [
    {
     "name": "stdout",
     "output_type": "stream",
     "text": [
      "******************Train Score******************\n",
      "0.8990216631726066\n",
      "\n",
      "************Using K=3 cross validation**********\n",
      "[0.84067086 0.85953878 0.8490566 ]\n",
      "\n",
      "******Confusion Matrix using cross_val_predict****\n",
      "[[1213  207]\n",
      " [ 224 1218]]\n",
      "\n",
      "***********Classification Report******************\n",
      "              precision    recall  f1-score   support\n",
      "\n",
      "           0       0.84      0.85      0.85      1420\n",
      "           1       0.85      0.84      0.85      1442\n",
      "\n",
      "    accuracy                           0.85      2862\n",
      "   macro avg       0.85      0.85      0.85      2862\n",
      "weighted avg       0.85      0.85      0.85      2862\n",
      "\n",
      "\n",
      "ROC Curve\n"
     ]
    },
    {
     "data": {
      "image/png": "[encoded data removed]",
      "text/plain": [
       "<Figure size 432x288 with 1 Axes>"
      ]
     },
     "metadata": {
      "needs_background": "light"
     },
     "output_type": "display_data"
    },
    {
     "name": "stdout",
     "output_type": "stream",
     "text": [
      "\n",
      "**************Area under the curve******************\n",
      "0.921864194878006\n"
     ]
    }
   ],
   "source": [
    "#score for random forest using training data\n",
    "train_score(rf_b)"
   ]
  },
  {
   "cell_type": "code",
   "execution_count": null,
   "id": "f5978e07",
   "metadata": {},
   "outputs": [],
   "source": []
  }
 ],
 "metadata": {
  "kernelspec": {
   "display_name": "Python 3 (ipykernel)",
   "language": "python",
   "name": "python3"
  },
  "language_info": {
   "codemirror_mode": {
    "name": "ipython",
    "version": 3
   },
   "file_extension": ".py",
   "mimetype": "text/x-python",
   "name": "python",
   "nbconvert_exporter": "python",
   "pygments_lexer": "ipython3",
   "version": "3.8.10"
  }
 },
 "nbformat": 4,
 "nbformat_minor": 5
}
