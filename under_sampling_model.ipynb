{
 "cells": [
  {
   "cell_type": "markdown",
   "id": "fea4c0a9",
   "metadata": {},
   "source": [
    "## MODEL Building (Under sampling dataset)"
   ]
  },
  {
   "cell_type": "code",
   "execution_count": 163,
   "id": "4d5fdd66",
   "metadata": {},
   "outputs": [],
   "source": [
    "#importing modules\n",
    "import pandas as pd\n",
    "import numpy as np\n",
    "from pathlib import Path\n",
    "import matplotlib.pyplot as plt\n",
    "import seaborn as sns\n",
    "from sklearn.model_selection import train_test_split\n",
    "from sklearn.preprocessing import StandardScaler, LabelEncoder\n",
    "from sklearn.linear_model import SGDClassifier\n",
    "from sklearn.model_selection import cross_val_predict, cross_val_score\n",
    "from sklearn.metrics import confusion_matrix, classification_report\n",
    "from sklearn.metrics import roc_curve, auc\n",
    "from sklearn.model_selection import RandomizedSearchCV\n",
    "from sklearn.model_selection import GridSearchCV\n",
    "from sklearn.linear_model import LogisticRegression\n",
    "from sklearn.svm import SVC\n",
    "from sklearn.tree import DecisionTreeClassifier\n",
    "from sklearn.ensemble import RandomForestClassifier\n",
    "from sklearn.ensemble import ExtraTreesClassifier\n",
    "from sklearn.ensemble import AdaBoostClassifier\n",
    "from sklearn.feature_selection import SelectFromModel"
   ]
  },
  {
   "cell_type": "code",
   "execution_count": 12,
   "id": "8b8c9752",
   "metadata": {},
   "outputs": [],
   "source": [
    "#importing under sampling dataset\n",
    "ecommerce_df = pd.read_csv(Path('Resources/Cleaned_data/under_sampling_data.csv'))"
   ]
  },
  {
   "cell_type": "code",
   "execution_count": 13,
   "id": "a0e592f8",
   "metadata": {},
   "outputs": [
    {
     "data": {
      "text/html": [
       "<div>\n",
       "<style scoped>\n",
       "    .dataframe tbody tr th:only-of-type {\n",
       "        vertical-align: middle;\n",
       "    }\n",
       "\n",
       "    .dataframe tbody tr th {\n",
       "        vertical-align: top;\n",
       "    }\n",
       "\n",
       "    .dataframe thead th {\n",
       "        text-align: right;\n",
       "    }\n",
       "</style>\n",
       "<table border=\"1\" class=\"dataframe\">\n",
       "  <thead>\n",
       "    <tr style=\"text-align: right;\">\n",
       "      <th></th>\n",
       "      <th>Administrative_Avg</th>\n",
       "      <th>Informational_Avg</th>\n",
       "      <th>ProductRelated_Avg</th>\n",
       "      <th>BounceRates</th>\n",
       "      <th>ExitRates</th>\n",
       "      <th>PageValues</th>\n",
       "      <th>SpecialDay</th>\n",
       "      <th>Month</th>\n",
       "      <th>OperatingSystems</th>\n",
       "      <th>Browser</th>\n",
       "      <th>Region</th>\n",
       "      <th>TrafficType</th>\n",
       "      <th>VisitorType</th>\n",
       "      <th>Weekend</th>\n",
       "      <th>Revenue</th>\n",
       "    </tr>\n",
       "  </thead>\n",
       "  <tbody>\n",
       "    <tr>\n",
       "      <th>0</th>\n",
       "      <td>44.541667</td>\n",
       "      <td>40.666667</td>\n",
       "      <td>53.708333</td>\n",
       "      <td>0.000000</td>\n",
       "      <td>0.018182</td>\n",
       "      <td>0.000000</td>\n",
       "      <td>0.0</td>\n",
       "      <td>Dec</td>\n",
       "      <td>2</td>\n",
       "      <td>2</td>\n",
       "      <td>2</td>\n",
       "      <td>1</td>\n",
       "      <td>Returning_Visitor</td>\n",
       "      <td>False</td>\n",
       "      <td>False</td>\n",
       "    </tr>\n",
       "    <tr>\n",
       "      <th>1</th>\n",
       "      <td>0.000000</td>\n",
       "      <td>0.000000</td>\n",
       "      <td>53.166667</td>\n",
       "      <td>0.000000</td>\n",
       "      <td>0.050000</td>\n",
       "      <td>0.000000</td>\n",
       "      <td>0.0</td>\n",
       "      <td>Mar</td>\n",
       "      <td>1</td>\n",
       "      <td>1</td>\n",
       "      <td>6</td>\n",
       "      <td>1</td>\n",
       "      <td>Returning_Visitor</td>\n",
       "      <td>True</td>\n",
       "      <td>False</td>\n",
       "    </tr>\n",
       "    <tr>\n",
       "      <th>2</th>\n",
       "      <td>0.000000</td>\n",
       "      <td>0.000000</td>\n",
       "      <td>220.678571</td>\n",
       "      <td>0.014286</td>\n",
       "      <td>0.033333</td>\n",
       "      <td>0.000000</td>\n",
       "      <td>0.0</td>\n",
       "      <td>Dec</td>\n",
       "      <td>1</td>\n",
       "      <td>1</td>\n",
       "      <td>3</td>\n",
       "      <td>1</td>\n",
       "      <td>Returning_Visitor</td>\n",
       "      <td>False</td>\n",
       "      <td>False</td>\n",
       "    </tr>\n",
       "    <tr>\n",
       "      <th>3</th>\n",
       "      <td>5.666667</td>\n",
       "      <td>0.000000</td>\n",
       "      <td>24.086352</td>\n",
       "      <td>0.009524</td>\n",
       "      <td>0.040317</td>\n",
       "      <td>0.000000</td>\n",
       "      <td>0.0</td>\n",
       "      <td>Dec</td>\n",
       "      <td>2</td>\n",
       "      <td>2</td>\n",
       "      <td>1</td>\n",
       "      <td>2</td>\n",
       "      <td>Returning_Visitor</td>\n",
       "      <td>False</td>\n",
       "      <td>False</td>\n",
       "    </tr>\n",
       "    <tr>\n",
       "      <th>4</th>\n",
       "      <td>22.260000</td>\n",
       "      <td>0.000000</td>\n",
       "      <td>30.232723</td>\n",
       "      <td>0.000000</td>\n",
       "      <td>0.008337</td>\n",
       "      <td>17.634346</td>\n",
       "      <td>0.0</td>\n",
       "      <td>Nov</td>\n",
       "      <td>2</td>\n",
       "      <td>2</td>\n",
       "      <td>9</td>\n",
       "      <td>2</td>\n",
       "      <td>Returning_Visitor</td>\n",
       "      <td>False</td>\n",
       "      <td>False</td>\n",
       "    </tr>\n",
       "  </tbody>\n",
       "</table>\n",
       "</div>"
      ],
      "text/plain": [
       "   Administrative_Avg  Informational_Avg  ProductRelated_Avg  BounceRates  \\\n",
       "0           44.541667          40.666667           53.708333     0.000000   \n",
       "1            0.000000           0.000000           53.166667     0.000000   \n",
       "2            0.000000           0.000000          220.678571     0.014286   \n",
       "3            5.666667           0.000000           24.086352     0.009524   \n",
       "4           22.260000           0.000000           30.232723     0.000000   \n",
       "\n",
       "   ExitRates  PageValues  SpecialDay Month OperatingSystems Browser  Region  \\\n",
       "0   0.018182    0.000000         0.0   Dec                2       2       2   \n",
       "1   0.050000    0.000000         0.0   Mar                1       1       6   \n",
       "2   0.033333    0.000000         0.0   Dec                1       1       3   \n",
       "3   0.040317    0.000000         0.0   Dec                2       2       1   \n",
       "4   0.008337   17.634346         0.0   Nov                2       2       9   \n",
       "\n",
       "  TrafficType        VisitorType  Weekend  Revenue  \n",
       "0           1  Returning_Visitor    False    False  \n",
       "1           1  Returning_Visitor     True    False  \n",
       "2           1  Returning_Visitor    False    False  \n",
       "3           2  Returning_Visitor    False    False  \n",
       "4           2  Returning_Visitor    False    False  "
      ]
     },
     "execution_count": 13,
     "metadata": {},
     "output_type": "execute_result"
    }
   ],
   "source": [
    "#looking the few rows\n",
    "ecommerce_df.head()"
   ]
  },
  {
   "cell_type": "code",
   "execution_count": 14,
   "id": "bd7853b3",
   "metadata": {},
   "outputs": [
    {
     "data": {
      "text/plain": [
       "False    1908\n",
       "True     1908\n",
       "Name: Revenue, dtype: int64"
      ]
     },
     "execution_count": 14,
     "metadata": {},
     "output_type": "execute_result"
    }
   ],
   "source": [
    "ecommerce_df[\"Revenue\"].value_counts()"
   ]
  },
  {
   "cell_type": "code",
   "execution_count": 15,
   "id": "8832860b",
   "metadata": {},
   "outputs": [
    {
     "data": {
      "text/plain": [
       "(3816, 15)"
      ]
     },
     "execution_count": 15,
     "metadata": {},
     "output_type": "execute_result"
    }
   ],
   "source": [
    "#shape of dataframe\n",
    "ecommerce_df.shape"
   ]
  },
  {
   "cell_type": "code",
   "execution_count": 16,
   "id": "340b014e",
   "metadata": {},
   "outputs": [],
   "source": [
    "# create feature matrix (X)\n",
    "#selecting all columns except 'Revenue'\n",
    "X=ecommerce_df.drop('Revenue', axis=1) \n",
    "\n",
    "# create response vector (y)\n",
    "##selecting 'Revenue' column\n",
    "y=ecommerce_df['Revenue'].values "
   ]
  },
  {
   "cell_type": "code",
   "execution_count": 17,
   "id": "3dfdd9c4",
   "metadata": {},
   "outputs": [],
   "source": [
    "# Seperating categorical columns\n",
    "cat_columns=['Month','OperatingSystems', 'Browser', 'Region',\n",
    "             'TrafficType','VisitorType','Weekend']"
   ]
  },
  {
   "cell_type": "code",
   "execution_count": 18,
   "id": "7b1856d8",
   "metadata": {},
   "outputs": [
    {
     "name": "stdout",
     "output_type": "stream",
     "text": [
      "Index(['Administrative_Avg', 'Informational_Avg', 'ProductRelated_Avg',\n",
      "       'BounceRates', 'ExitRates', 'PageValues', 'SpecialDay', 'Month_Aug',\n",
      "       'Month_Dec', 'Month_Feb', 'Month_Jul', 'Month_June', 'Month_Mar',\n",
      "       'Month_May', 'Month_Nov', 'Month_Oct', 'Month_Sep',\n",
      "       'OperatingSystems_1', 'OperatingSystems_2', 'OperatingSystems_3',\n",
      "       'OperatingSystems_Other', 'Browser_1', 'Browser_10', 'Browser_2',\n",
      "       'Browser_4', 'Browser_5', 'Browser_6', 'Browser_Other', 'Region_1',\n",
      "       'Region_2', 'Region_3', 'Region_4', 'Region_5', 'Region_6', 'Region_7',\n",
      "       'Region_8', 'Region_9', 'TrafficType_1', 'TrafficType_10',\n",
      "       'TrafficType_11', 'TrafficType_13', 'TrafficType_2', 'TrafficType_3',\n",
      "       'TrafficType_4', 'TrafficType_5', 'TrafficType_6', 'TrafficType_8',\n",
      "       'TrafficType_Other', 'VisitorType_New_Visitor', 'VisitorType_Other',\n",
      "       'VisitorType_Returning_Visitor', 'Weekend_False', 'Weekend_True'],\n",
      "      dtype='object')\n"
     ]
    },
    {
     "data": {
      "text/html": [
       "<div>\n",
       "<style scoped>\n",
       "    .dataframe tbody tr th:only-of-type {\n",
       "        vertical-align: middle;\n",
       "    }\n",
       "\n",
       "    .dataframe tbody tr th {\n",
       "        vertical-align: top;\n",
       "    }\n",
       "\n",
       "    .dataframe thead th {\n",
       "        text-align: right;\n",
       "    }\n",
       "</style>\n",
       "<table border=\"1\" class=\"dataframe\">\n",
       "  <thead>\n",
       "    <tr style=\"text-align: right;\">\n",
       "      <th></th>\n",
       "      <th>Administrative_Avg</th>\n",
       "      <th>Informational_Avg</th>\n",
       "      <th>ProductRelated_Avg</th>\n",
       "      <th>BounceRates</th>\n",
       "      <th>ExitRates</th>\n",
       "      <th>PageValues</th>\n",
       "      <th>SpecialDay</th>\n",
       "      <th>Month_Aug</th>\n",
       "      <th>Month_Dec</th>\n",
       "      <th>Month_Feb</th>\n",
       "      <th>...</th>\n",
       "      <th>TrafficType_4</th>\n",
       "      <th>TrafficType_5</th>\n",
       "      <th>TrafficType_6</th>\n",
       "      <th>TrafficType_8</th>\n",
       "      <th>TrafficType_Other</th>\n",
       "      <th>VisitorType_New_Visitor</th>\n",
       "      <th>VisitorType_Other</th>\n",
       "      <th>VisitorType_Returning_Visitor</th>\n",
       "      <th>Weekend_False</th>\n",
       "      <th>Weekend_True</th>\n",
       "    </tr>\n",
       "  </thead>\n",
       "  <tbody>\n",
       "    <tr>\n",
       "      <th>0</th>\n",
       "      <td>44.541667</td>\n",
       "      <td>40.666667</td>\n",
       "      <td>53.708333</td>\n",
       "      <td>0.000000</td>\n",
       "      <td>0.018182</td>\n",
       "      <td>0.000000</td>\n",
       "      <td>0.0</td>\n",
       "      <td>0</td>\n",
       "      <td>1</td>\n",
       "      <td>0</td>\n",
       "      <td>...</td>\n",
       "      <td>0</td>\n",
       "      <td>0</td>\n",
       "      <td>0</td>\n",
       "      <td>0</td>\n",
       "      <td>0</td>\n",
       "      <td>0</td>\n",
       "      <td>0</td>\n",
       "      <td>1</td>\n",
       "      <td>1</td>\n",
       "      <td>0</td>\n",
       "    </tr>\n",
       "    <tr>\n",
       "      <th>1</th>\n",
       "      <td>0.000000</td>\n",
       "      <td>0.000000</td>\n",
       "      <td>53.166667</td>\n",
       "      <td>0.000000</td>\n",
       "      <td>0.050000</td>\n",
       "      <td>0.000000</td>\n",
       "      <td>0.0</td>\n",
       "      <td>0</td>\n",
       "      <td>0</td>\n",
       "      <td>0</td>\n",
       "      <td>...</td>\n",
       "      <td>0</td>\n",
       "      <td>0</td>\n",
       "      <td>0</td>\n",
       "      <td>0</td>\n",
       "      <td>0</td>\n",
       "      <td>0</td>\n",
       "      <td>0</td>\n",
       "      <td>1</td>\n",
       "      <td>0</td>\n",
       "      <td>1</td>\n",
       "    </tr>\n",
       "    <tr>\n",
       "      <th>2</th>\n",
       "      <td>0.000000</td>\n",
       "      <td>0.000000</td>\n",
       "      <td>220.678571</td>\n",
       "      <td>0.014286</td>\n",
       "      <td>0.033333</td>\n",
       "      <td>0.000000</td>\n",
       "      <td>0.0</td>\n",
       "      <td>0</td>\n",
       "      <td>1</td>\n",
       "      <td>0</td>\n",
       "      <td>...</td>\n",
       "      <td>0</td>\n",
       "      <td>0</td>\n",
       "      <td>0</td>\n",
       "      <td>0</td>\n",
       "      <td>0</td>\n",
       "      <td>0</td>\n",
       "      <td>0</td>\n",
       "      <td>1</td>\n",
       "      <td>1</td>\n",
       "      <td>0</td>\n",
       "    </tr>\n",
       "    <tr>\n",
       "      <th>3</th>\n",
       "      <td>5.666667</td>\n",
       "      <td>0.000000</td>\n",
       "      <td>24.086352</td>\n",
       "      <td>0.009524</td>\n",
       "      <td>0.040317</td>\n",
       "      <td>0.000000</td>\n",
       "      <td>0.0</td>\n",
       "      <td>0</td>\n",
       "      <td>1</td>\n",
       "      <td>0</td>\n",
       "      <td>...</td>\n",
       "      <td>0</td>\n",
       "      <td>0</td>\n",
       "      <td>0</td>\n",
       "      <td>0</td>\n",
       "      <td>0</td>\n",
       "      <td>0</td>\n",
       "      <td>0</td>\n",
       "      <td>1</td>\n",
       "      <td>1</td>\n",
       "      <td>0</td>\n",
       "    </tr>\n",
       "    <tr>\n",
       "      <th>4</th>\n",
       "      <td>22.260000</td>\n",
       "      <td>0.000000</td>\n",
       "      <td>30.232723</td>\n",
       "      <td>0.000000</td>\n",
       "      <td>0.008337</td>\n",
       "      <td>17.634346</td>\n",
       "      <td>0.0</td>\n",
       "      <td>0</td>\n",
       "      <td>0</td>\n",
       "      <td>0</td>\n",
       "      <td>...</td>\n",
       "      <td>0</td>\n",
       "      <td>0</td>\n",
       "      <td>0</td>\n",
       "      <td>0</td>\n",
       "      <td>0</td>\n",
       "      <td>0</td>\n",
       "      <td>0</td>\n",
       "      <td>1</td>\n",
       "      <td>1</td>\n",
       "      <td>0</td>\n",
       "    </tr>\n",
       "  </tbody>\n",
       "</table>\n",
       "<p>5 rows × 53 columns</p>\n",
       "</div>"
      ],
      "text/plain": [
       "   Administrative_Avg  Informational_Avg  ProductRelated_Avg  BounceRates  \\\n",
       "0           44.541667          40.666667           53.708333     0.000000   \n",
       "1            0.000000           0.000000           53.166667     0.000000   \n",
       "2            0.000000           0.000000          220.678571     0.014286   \n",
       "3            5.666667           0.000000           24.086352     0.009524   \n",
       "4           22.260000           0.000000           30.232723     0.000000   \n",
       "\n",
       "   ExitRates  PageValues  SpecialDay  Month_Aug  Month_Dec  Month_Feb  ...  \\\n",
       "0   0.018182    0.000000         0.0          0          1          0  ...   \n",
       "1   0.050000    0.000000         0.0          0          0          0  ...   \n",
       "2   0.033333    0.000000         0.0          0          1          0  ...   \n",
       "3   0.040317    0.000000         0.0          0          1          0  ...   \n",
       "4   0.008337   17.634346         0.0          0          0          0  ...   \n",
       "\n",
       "   TrafficType_4  TrafficType_5  TrafficType_6  TrafficType_8  \\\n",
       "0              0              0              0              0   \n",
       "1              0              0              0              0   \n",
       "2              0              0              0              0   \n",
       "3              0              0              0              0   \n",
       "4              0              0              0              0   \n",
       "\n",
       "   TrafficType_Other  VisitorType_New_Visitor  VisitorType_Other  \\\n",
       "0                  0                        0                  0   \n",
       "1                  0                        0                  0   \n",
       "2                  0                        0                  0   \n",
       "3                  0                        0                  0   \n",
       "4                  0                        0                  0   \n",
       "\n",
       "   VisitorType_Returning_Visitor  Weekend_False  Weekend_True  \n",
       "0                              1              1             0  \n",
       "1                              1              0             1  \n",
       "2                              1              1             0  \n",
       "3                              1              1             0  \n",
       "4                              1              1             0  \n",
       "\n",
       "[5 rows x 53 columns]"
      ]
     },
     "execution_count": 18,
     "metadata": {},
     "output_type": "execute_result"
    }
   ],
   "source": [
    "# One-hot encoding the entire dataframe\n",
    "X_dummies = pd.get_dummies(X, columns = cat_columns)\n",
    "print(X_dummies.columns)\n",
    "X_dummies.head()"
   ]
  },
  {
   "cell_type": "code",
   "execution_count": 19,
   "id": "99a9d492",
   "metadata": {},
   "outputs": [
    {
     "name": "stdout",
     "output_type": "stream",
     "text": [
      "Total column before one hot encoding: 14, Total columns after one hot encoding: 53\n"
     ]
    }
   ],
   "source": [
    "#Total columns before and after one-hot encoding\n",
    "print(f'Total column before one hot encoding: {X.shape[1]}, Total columns after one hot encoding: {X_dummies.shape[1]}')"
   ]
  },
  {
   "cell_type": "code",
   "execution_count": 22,
   "id": "2b5fc8e7",
   "metadata": {},
   "outputs": [
    {
     "data": {
      "text/plain": [
       "array([0, 0, 0, ..., 1, 1, 1])"
      ]
     },
     "execution_count": 22,
     "metadata": {},
     "output_type": "execute_result"
    }
   ],
   "source": [
    "# Converting output labels to 0 and 1\n",
    "y_label = LabelEncoder().fit_transform(y)\n",
    "y_label"
   ]
  },
  {
   "cell_type": "code",
   "execution_count": 23,
   "id": "657bcd10",
   "metadata": {},
   "outputs": [],
   "source": [
    "#Training set**: Used to train the classifier.\n",
    "#Testing set**: Used to estimate the error rate of the trained classifier.\n",
    "X_train, X_test, y_train, y_test = train_test_split(X_dummies, y_label, random_state=42)"
   ]
  },
  {
   "cell_type": "code",
   "execution_count": 24,
   "id": "618ef1c6",
   "metadata": {},
   "outputs": [
    {
     "data": {
      "text/plain": [
       "array([[-0.25984905, -0.26915436,  1.38554087, ...,  0.48224282,\n",
       "         0.55717103, -0.55717103],\n",
       "       [-0.46387811,  0.31627294, -0.34015459, ...,  0.48224282,\n",
       "         0.55717103, -0.55717103],\n",
       "       [-0.46387811, -0.26915436, -1.05942478, ...,  0.48224282,\n",
       "         0.55717103, -0.55717103],\n",
       "       ...,\n",
       "       [-0.46387811, -0.26915436,  0.22058076, ...,  0.48224282,\n",
       "         0.55717103, -0.55717103],\n",
       "       [-0.46387811, -0.26915436,  0.07184404, ..., -2.07364414,\n",
       "         0.55717103, -0.55717103],\n",
       "       [-0.02820316,  0.58319748, -0.37365499, ...,  0.48224282,\n",
       "         0.55717103, -0.55717103]])"
      ]
     },
     "execution_count": 24,
     "metadata": {},
     "output_type": "execute_result"
    }
   ],
   "source": [
    "# Scaling the X data by using StandardScaler()\n",
    "scaler = StandardScaler().fit(X_train)\n",
    "X_train_scaled = scaler.transform(X_train)\n",
    "X_train_scaled"
   ]
  },
  {
   "cell_type": "code",
   "execution_count": 25,
   "id": "d491fd5c",
   "metadata": {},
   "outputs": [
    {
     "data": {
      "text/plain": [
       "array([[ 0.21621873, -0.26915436, -0.57945596, ..., -2.07364414,\n",
       "         0.55717103, -0.55717103],\n",
       "       [-0.13777792, -0.26915436, -0.40758609, ...,  0.48224282,\n",
       "         0.55717103, -0.55717103],\n",
       "       [ 0.42957387,  0.35502945, -0.47588607, ...,  0.48224282,\n",
       "         0.55717103, -0.55717103],\n",
       "       ...,\n",
       "       [ 0.45273756, -0.26915436,  0.74889613, ...,  0.48224282,\n",
       "        -1.79478103,  1.79478103],\n",
       "       [ 2.42106239, -0.26915436,  0.1023663 , ...,  0.48224282,\n",
       "        -1.79478103,  1.79478103],\n",
       "       [ 0.16747686,  0.07506465, -0.45772341, ...,  0.48224282,\n",
       "         0.55717103, -0.55717103]])"
      ]
     },
     "execution_count": 25,
     "metadata": {},
     "output_type": "execute_result"
    }
   ],
   "source": [
    "# Transforming the test dataset based on the fit from the training dataset\n",
    "X_test_scaled = scaler.transform(X_test)\n",
    "X_test_scaled"
   ]
  },
  {
   "cell_type": "code",
   "execution_count": 30,
   "id": "f8dbf150",
   "metadata": {},
   "outputs": [],
   "source": [
    "#defining function for model scoring with training set only\n",
    "def train_score(model, X_train_scaled=X_train_scaled, y_train=y_train):\n",
    "    #printing the accuracy score\n",
    "    train_score=model.score(X_train_scaled, y_train)\n",
    "    print(\"******************Train Score******************\")\n",
    "    print(train_score)\n",
    "    print()\n",
    "    \n",
    "    cvs=cross_val_score(model,X_train_scaled, y_train,cv=3, scoring='accuracy' )\n",
    "    print(\"************Using K=3 cross validation**********\")\n",
    "    print(cvs)\n",
    "    print()\n",
    "    \n",
    "    #predection on the test set and confusion matrix\n",
    "    y_train_pred=cross_val_predict(model,X_train_scaled, y_train,cv=3)\n",
    "    cm=confusion_matrix(y_train, y_train_pred)\n",
    "    print(\"******Confusion Matrix using cross_val_predict****\")\n",
    "    print(cm)\n",
    "    print()\n",
    "    \n",
    "    #classification report\n",
    "    cr=classification_report(y_train, y_train_pred)\n",
    "    print(\"***********Classification Report******************\")\n",
    "    print(cr)\n",
    "    print()\n",
    "    \n",
    "    #roc curve\n",
    "    y_train_predc=cross_val_predict(model,X_train_scaled, y_train,cv=3,\n",
    "                                    method=\"predict_proba\")\n",
    "    y_proba = y_train_predc[:,1]  #proba of positive class\n",
    "    fpr, tpr, thresholds = roc_curve(y_train, y_proba)\n",
    "    \n",
    "    plt.figure()\n",
    "    plt.plot(fpr, tpr, color='darkorange')\n",
    "    plt.plot([0, 1], [0, 1], color='navy', linestyle='--')\n",
    "    plt.xlim([0.0, 1.0])\n",
    "    plt.ylim([0.0, 1.05])\n",
    "    plt.xlabel('False Positive Rate')\n",
    "    plt.ylabel('True Positive Rate')\n",
    "    plt.title(f\"roc curve for {model}\")\n",
    "    print(\"ROC Curve\")\n",
    "    plt.show()\n",
    "    \n",
    "    # area under the curve (AUC)\n",
    "    roc_auc = auc(fpr, tpr)\n",
    "    roc_auc\n",
    "    print()\n",
    "    print(\"**************Area under the curve******************\")\n",
    "    print(roc_auc)\n",
    "    \n",
    "    \n",
    "    \n",
    "#defining function for model scoring with test set\n",
    "def test_score(model, X_train_scaled=X_train_scaled, X_test_scaled=X_test_scaled, \n",
    "               y_train=y_train,y_test=y_test):\n",
    "    #printing the accuracy score\n",
    "    train_score=model.score(X_train_scaled, y_train)\n",
    "    test_score=model.score(X_test_scaled, y_test)\n",
    "    print(\"********************Train Score******************\")\n",
    "    print(train_score)\n",
    "    print()\n",
    "\n",
    "    print(\"*********************Test Score******************\")\n",
    "    print(test_score)\n",
    "    print()\n",
    "    \n",
    "    #predection on the test set and confusion matrix\n",
    "    y_pred=model.predict(X_test_scaled)\n",
    "    cm=confusion_matrix(y_test, y_pred)\n",
    "    print(\"**************Confusion Matrix******************\")\n",
    "    print(cm)\n",
    "    print()\n",
    "    \n",
    "    #classification report\n",
    "    cr=classification_report(y_test, y_pred)\n",
    "    print(\"**********Classification Report******************\")\n",
    "    print(cr)\n",
    "    print()\n",
    "    \n",
    "    #roc curve\n",
    "    y_proba = model.predict_proba(X_test_scaled)[:,1]  #proba of positive class\n",
    "    fpr, tpr, thresholds = roc_curve(y_test, y_proba)\n",
    "    \n",
    "    plt.figure()\n",
    "    plt.plot(fpr, tpr, color='darkorange')\n",
    "    plt.plot([0, 1], [0, 1], color='navy', linestyle='--')\n",
    "    plt.xlim([0.0, 1.0])\n",
    "    plt.ylim([0.0, 1.05])\n",
    "    plt.xlabel('False Positive Rate')\n",
    "    plt.ylabel('True Positive Rate')\n",
    "    plt.title(f\"roc curve for {model}\")\n",
    "    print(\"ROC Curve\")\n",
    "    plt.show()\n",
    "    \n",
    "    # area under the curve (AUC)\n",
    "    roc_auc = auc(fpr, tpr)\n",
    "    roc_auc\n",
    "    print()\n",
    "    print(\"**************Area under the curve******************\")\n",
    "    print(roc_auc)\n"
   ]
  },
  {
   "cell_type": "markdown",
   "id": "97edb4b6",
   "metadata": {},
   "source": [
    "## Model 1: Stochastic Gradent Descent Classifier"
   ]
  },
  {
   "cell_type": "code",
   "execution_count": 40,
   "id": "e7abdff9",
   "metadata": {},
   "outputs": [
    {
     "data": {
      "text/plain": [
       "SGDClassifier(loss='log', random_state=42)"
      ]
     },
     "execution_count": 40,
     "metadata": {},
     "output_type": "execute_result"
    }
   ],
   "source": [
    "# Creating a sgd classifier model on the scaled data\n",
    "sgd=SGDClassifier(random_state=42, loss='log', penalty='l2')\n",
    "\n",
    "# Fit the model to the data\n",
    "sgd.fit(X_train_scaled, y_train)"
   ]
  },
  {
   "cell_type": "code",
   "execution_count": 41,
   "id": "9d3517f9",
   "metadata": {},
   "outputs": [
    {
     "name": "stdout",
     "output_type": "stream",
     "text": [
      "******************Train Score******************\n",
      "0.7896575821104123\n",
      "\n",
      "************Using K=3 cross validation**********\n",
      "[0.78197065 0.77463312 0.77568134]\n",
      "\n",
      "******Confusion Matrix using cross_val_predict****\n",
      "[[1117  303]\n",
      " [ 334 1108]]\n",
      "\n",
      "***********Classification Report******************\n",
      "              precision    recall  f1-score   support\n",
      "\n",
      "           0       0.77      0.79      0.78      1420\n",
      "           1       0.79      0.77      0.78      1442\n",
      "\n",
      "    accuracy                           0.78      2862\n",
      "   macro avg       0.78      0.78      0.78      2862\n",
      "weighted avg       0.78      0.78      0.78      2862\n",
      "\n",
      "\n",
      "ROC Curve\n"
     ]
    },
    {
     "data": {
      "image/png": "[encoded data removed]",
      "text/plain": [
       "<Figure size 432x288 with 1 Axes>"
      ]
     },
     "metadata": {
      "needs_background": "light"
     },
     "output_type": "display_data"
    },
    {
     "name": "stdout",
     "output_type": "stream",
     "text": [
      "\n",
      "**************Area under the curve******************\n",
      "0.8589332109159813\n"
     ]
    }
   ],
   "source": [
    "#score for logistic regression using only training data\n",
    "train_score(sgd)"
   ]
  },
  {
   "cell_type": "markdown",
   "id": "84f66b9f",
   "metadata": {},
   "source": [
    "### Tuning hyperparamaters using Grid Search CV for Stochastic Gradent Descent Classifier"
   ]
  },
  {
   "cell_type": "code",
   "execution_count": 51,
   "id": "d13c5ef9",
   "metadata": {},
   "outputs": [],
   "source": [
    "#### Using GridSearchCV\n",
    "param_grid_sgd = {\n",
    "              'penalty': ['l1','l2', 'elasticnet'],\n",
    "             'loss':['log', 'modified_huber'],\n",
    "                'max_iter':[10, 50, 100,500,1000]}\n",
    "grid_sgd = GridSearchCV(sgd, param_grid_sgd, cv=5, verbose=1, n_jobs=-1)"
   ]
  },
  {
   "cell_type": "code",
   "execution_count": 52,
   "id": "df63b15f",
   "metadata": {},
   "outputs": [
    {
     "name": "stdout",
     "output_type": "stream",
     "text": [
      "Fitting 5 folds for each of 30 candidates, totalling 150 fits\n"
     ]
    },
    {
     "data": {
      "text/plain": [
       "GridSearchCV(cv=5, estimator=SGDClassifier(loss='log', random_state=42),\n",
       "             n_jobs=-1,\n",
       "             param_grid={'loss': ['log', 'modified_huber'],\n",
       "                         'max_iter': [10, 50, 100, 500, 1000],\n",
       "                         'penalty': ['l1', 'l2', 'elasticnet']},\n",
       "             verbose=1)"
      ]
     },
     "execution_count": 52,
     "metadata": {},
     "output_type": "execute_result"
    }
   ],
   "source": [
    "grid_sgd.fit(X_train_scaled, y_train)"
   ]
  },
  {
   "cell_type": "code",
   "execution_count": 53,
   "id": "42f4977b",
   "metadata": {},
   "outputs": [
    {
     "name": "stdout",
     "output_type": "stream",
     "text": [
      "{'loss': 'log', 'max_iter': 50, 'penalty': 'l1'}\n"
     ]
    }
   ],
   "source": [
    "# best parameters for this dataset\n",
    "print(grid_sgd.best_params_)"
   ]
  },
  {
   "cell_type": "code",
   "execution_count": 54,
   "id": "ff7848fd",
   "metadata": {},
   "outputs": [
    {
     "name": "stdout",
     "output_type": "stream",
     "text": [
      "0.7983975884499445\n"
     ]
    }
   ],
   "source": [
    "# best score\n",
    "print(grid_sgd.best_score_)"
   ]
  },
  {
   "cell_type": "code",
   "execution_count": 55,
   "id": "2d9e1e73",
   "metadata": {},
   "outputs": [
    {
     "data": {
      "text/plain": [
       "SGDClassifier(loss='log', max_iter=50, penalty='l1', random_state=42)"
      ]
     },
     "execution_count": 55,
     "metadata": {},
     "output_type": "execute_result"
    }
   ],
   "source": [
    "#best estimator\n",
    "sgd_b=grid_sgd.best_estimator_\n",
    "sgd_b"
   ]
  },
  {
   "cell_type": "code",
   "execution_count": 57,
   "id": "bd4b8846",
   "metadata": {},
   "outputs": [
    {
     "name": "stdout",
     "output_type": "stream",
     "text": [
      "******************Train Score******************\n",
      "0.7973445143256463\n",
      "\n",
      "************Using K=3 cross validation**********\n",
      "[0.77987421 0.79769392 0.778826  ]\n",
      "\n",
      "******Confusion Matrix using cross_val_predict****\n",
      "[[1206  214]\n",
      " [ 400 1042]]\n",
      "\n",
      "***********Classification Report******************\n",
      "              precision    recall  f1-score   support\n",
      "\n",
      "           0       0.75      0.85      0.80      1420\n",
      "           1       0.83      0.72      0.77      1442\n",
      "\n",
      "    accuracy                           0.79      2862\n",
      "   macro avg       0.79      0.79      0.78      2862\n",
      "weighted avg       0.79      0.79      0.78      2862\n",
      "\n",
      "\n",
      "ROC Curve\n"
     ]
    },
    {
     "data": {
      "image/png": "[encoded data removed]",
      "text/plain": [
       "<Figure size 432x288 with 1 Axes>"
      ]
     },
     "metadata": {
      "needs_background": "light"
     },
     "output_type": "display_data"
    },
    {
     "name": "stdout",
     "output_type": "stream",
     "text": [
      "\n",
      "**************Area under the curve******************\n",
      "0.8685650309624737\n"
     ]
    }
   ],
   "source": [
    "#score for Stochastic Gradent Descent Classifier using training data\n",
    "train_score(sgd_b)"
   ]
  },
  {
   "cell_type": "markdown",
   "id": "ecfa46d1",
   "metadata": {},
   "source": [
    "## Model 2: Logistic Regression"
   ]
  },
  {
   "cell_type": "code",
   "execution_count": 60,
   "id": "f72fb4ba",
   "metadata": {},
   "outputs": [
    {
     "data": {
      "text/plain": [
       "LogisticRegression()"
      ]
     },
     "execution_count": 60,
     "metadata": {},
     "output_type": "execute_result"
    }
   ],
   "source": [
    "# Creating a Logistic Regression model on the scaled data\n",
    "lr= LogisticRegression()\n",
    "\n",
    "# Fit the model to the data\n",
    "lr.fit(X_train_scaled, y_train)"
   ]
  },
  {
   "cell_type": "code",
   "execution_count": 61,
   "id": "1ef96f7a",
   "metadata": {},
   "outputs": [
    {
     "name": "stdout",
     "output_type": "stream",
     "text": [
      "******************Train Score******************\n",
      "0.8200559049615653\n",
      "\n",
      "************Using K=3 cross validation**********\n",
      "[0.79769392 0.80712788 0.79874214]\n",
      "\n",
      "******Confusion Matrix using cross_val_predict****\n",
      "[[1177  243]\n",
      " [ 326 1116]]\n",
      "\n",
      "***********Classification Report******************\n",
      "              precision    recall  f1-score   support\n",
      "\n",
      "           0       0.78      0.83      0.81      1420\n",
      "           1       0.82      0.77      0.80      1442\n",
      "\n",
      "    accuracy                           0.80      2862\n",
      "   macro avg       0.80      0.80      0.80      2862\n",
      "weighted avg       0.80      0.80      0.80      2862\n",
      "\n",
      "\n",
      "ROC Curve\n"
     ]
    },
    {
     "data": {
      "image/png": "[encoded data removed]",
      "text/plain": [
       "<Figure size 432x288 with 1 Axes>"
      ]
     },
     "metadata": {
      "needs_background": "light"
     },
     "output_type": "display_data"
    },
    {
     "name": "stdout",
     "output_type": "stream",
     "text": [
      "\n",
      "**************Area under the curve******************\n",
      "0.8953409779062727\n"
     ]
    }
   ],
   "source": [
    "#score for logistic regression using only training data\n",
    "train_score(lr)"
   ]
  },
  {
   "cell_type": "markdown",
   "id": "a03bff99",
   "metadata": {},
   "source": [
    "### Tuning hyperparamaters  using Grid Search CV for Logistic Regresssion"
   ]
  },
  {
   "cell_type": "code",
   "execution_count": 75,
   "id": "bfd213f7",
   "metadata": {},
   "outputs": [],
   "source": [
    "#### Using GridSearchCV\n",
    "param_grid_lr = {'C': [0.001, 0.01,0.1,1, 5, 10],\n",
    "                 'solver':['lbfgs','saga'],\n",
    "                'max_iter':[100,500,1000, 10000]}\n",
    "grid_lr = GridSearchCV(lr, param_grid_lr, cv=5, verbose=1, n_jobs=-1)"
   ]
  },
  {
   "cell_type": "code",
   "execution_count": 76,
   "id": "d8cd2327",
   "metadata": {},
   "outputs": [
    {
     "name": "stdout",
     "output_type": "stream",
     "text": [
      "Fitting 5 folds for each of 48 candidates, totalling 240 fits\n"
     ]
    },
    {
     "data": {
      "text/plain": [
       "GridSearchCV(cv=5, estimator=LogisticRegression(), n_jobs=-1,\n",
       "             param_grid={'C': [0.001, 0.01, 0.1, 1, 5, 10],\n",
       "                         'max_iter': [100, 500, 1000, 10000],\n",
       "                         'solver': ['lbfgs', 'saga']},\n",
       "             verbose=1)"
      ]
     },
     "execution_count": 76,
     "metadata": {},
     "output_type": "execute_result"
    }
   ],
   "source": [
    "grid_lr.fit(X_train_scaled, y_train)"
   ]
  },
  {
   "cell_type": "code",
   "execution_count": 77,
   "id": "f121e9a8",
   "metadata": {},
   "outputs": [
    {
     "name": "stdout",
     "output_type": "stream",
     "text": [
      "{'C': 5, 'max_iter': 100, 'solver': 'lbfgs'}\n"
     ]
    }
   ],
   "source": [
    "# best parameters for this dataset\n",
    "print(grid_lr.best_params_)"
   ]
  },
  {
   "cell_type": "code",
   "execution_count": 78,
   "id": "0e76170c",
   "metadata": {},
   "outputs": [
    {
     "name": "stdout",
     "output_type": "stream",
     "text": [
      "0.8043294401933145\n"
     ]
    }
   ],
   "source": [
    "# best score\n",
    "print(grid_lr.best_score_)"
   ]
  },
  {
   "cell_type": "code",
   "execution_count": 186,
   "id": "5923a04d",
   "metadata": {},
   "outputs": [
    {
     "data": {
      "text/plain": [
       "LogisticRegression(C=5)"
      ]
     },
     "execution_count": 186,
     "metadata": {},
     "output_type": "execute_result"
    }
   ],
   "source": [
    "#best estimator\n",
    "lr_b=grid_lr.best_estimator_\n",
    "lr_b"
   ]
  },
  {
   "cell_type": "code",
   "execution_count": 193,
   "id": "76be39a4",
   "metadata": {},
   "outputs": [
    {
     "name": "stdout",
     "output_type": "stream",
     "text": [
      "******************Train Score******************\n",
      "0.8200559049615653\n",
      "\n",
      "************Using K=3 cross validation**********\n",
      "[0.79874214 0.80607966 0.79979036]\n",
      "\n",
      "******Confusion Matrix using cross_val_predict****\n",
      "[[1179  241]\n",
      " [ 327 1115]]\n",
      "\n",
      "***********Classification Report******************\n",
      "              precision    recall  f1-score   support\n",
      "\n",
      "           0       0.78      0.83      0.81      1420\n",
      "           1       0.82      0.77      0.80      1442\n",
      "\n",
      "    accuracy                           0.80      2862\n",
      "   macro avg       0.80      0.80      0.80      2862\n",
      "weighted avg       0.80      0.80      0.80      2862\n",
      "\n",
      "\n",
      "ROC Curve\n"
     ]
    },
    {
     "data": {
      "image/png": "[encoded data removed]",
      "text/plain": [
       "<Figure size 432x288 with 1 Axes>"
      ]
     },
     "metadata": {
      "needs_background": "light"
     },
     "output_type": "display_data"
    },
    {
     "name": "stdout",
     "output_type": "stream",
     "text": [
      "\n",
      "**************Area under the curve******************\n",
      "0.896222480514153\n"
     ]
    }
   ],
   "source": [
    "#score for logistic regression using training data only after hyperparamater tuining\n",
    "train_score(lr_b)"
   ]
  },
  {
   "cell_type": "markdown",
   "id": "7fd4f1cd",
   "metadata": {},
   "source": [
    "## Model 3: Support Vector Classifier"
   ]
  },
  {
   "cell_type": "code",
   "execution_count": 83,
   "id": "42e34c39",
   "metadata": {},
   "outputs": [
    {
     "data": {
      "text/plain": [
       "SVC(kernel='linear', probability=True)"
      ]
     },
     "execution_count": 83,
     "metadata": {},
     "output_type": "execute_result"
    }
   ],
   "source": [
    "# Creating a support vector classifier model on the scaled data\n",
    "svc= SVC(kernel='linear',  probability=True)\n",
    "\n",
    "# Fit the model to the data\n",
    "svc.fit(X_train_scaled, y_train)"
   ]
  },
  {
   "cell_type": "code",
   "execution_count": 84,
   "id": "d7748f2a",
   "metadata": {},
   "outputs": [
    {
     "name": "stdout",
     "output_type": "stream",
     "text": [
      "******************Train Score******************\n",
      "0.8277428371767994\n",
      "\n",
      "************Using K=3 cross validation**********\n",
      "[0.80293501 0.82809224 0.81656184]\n",
      "\n",
      "******Confusion Matrix using cross_val_predict****\n",
      "[[1211  209]\n",
      " [ 318 1124]]\n",
      "\n",
      "***********Classification Report******************\n",
      "              precision    recall  f1-score   support\n",
      "\n",
      "           0       0.79      0.85      0.82      1420\n",
      "           1       0.84      0.78      0.81      1442\n",
      "\n",
      "    accuracy                           0.82      2862\n",
      "   macro avg       0.82      0.82      0.82      2862\n",
      "weighted avg       0.82      0.82      0.82      2862\n",
      "\n",
      "\n",
      "ROC Curve\n"
     ]
    },
    {
     "data": {
      "image/png": "[encoded data removed]",
      "text/plain": [
       "<Figure size 432x288 with 1 Axes>"
      ]
     },
     "metadata": {
      "needs_background": "light"
     },
     "output_type": "display_data"
    },
    {
     "name": "stdout",
     "output_type": "stream",
     "text": [
      "\n",
      "**************Area under the curve******************\n",
      "0.9023373249203963\n"
     ]
    }
   ],
   "source": [
    "#score for support vector classifier using only training data\n",
    "train_score(svc)"
   ]
  },
  {
   "cell_type": "markdown",
   "id": "e7b9d0d8",
   "metadata": {},
   "source": [
    "### Tuning hyperparamaters  using Randomized Search CV for SVC"
   ]
  },
  {
   "cell_type": "code",
   "execution_count": 85,
   "id": "3280ab3f",
   "metadata": {},
   "outputs": [],
   "source": [
    "#### Using GridSearchCV\n",
    "param_rand_svc ={'C': [1.0,2.0],\n",
    "                'kernel':['linear', 'poly','rbf'],\n",
    "                'gamma':['auto','scale']}\n",
    "rand_svc = RandomizedSearchCV(svc, param_rand_svc, cv=3, verbose=6, n_jobs=-1)"
   ]
  },
  {
   "cell_type": "code",
   "execution_count": 86,
   "id": "b36aa9c5",
   "metadata": {},
   "outputs": [
    {
     "name": "stdout",
     "output_type": "stream",
     "text": [
      "Fitting 3 folds for each of 10 candidates, totalling 30 fits\n"
     ]
    },
    {
     "data": {
      "text/plain": [
       "RandomizedSearchCV(cv=3, estimator=SVC(kernel='linear', probability=True),\n",
       "                   n_jobs=-1,\n",
       "                   param_distributions={'C': [1.0, 2.0],\n",
       "                                        'gamma': ['auto', 'scale'],\n",
       "                                        'kernel': ['linear', 'poly', 'rbf']},\n",
       "                   verbose=4)"
      ]
     },
     "execution_count": 86,
     "metadata": {},
     "output_type": "execute_result"
    }
   ],
   "source": [
    "rand_svc.fit(X_train_scaled, y_train)"
   ]
  },
  {
   "cell_type": "code",
   "execution_count": 87,
   "id": "4a76f274",
   "metadata": {},
   "outputs": [
    {
     "name": "stdout",
     "output_type": "stream",
     "text": [
      "{'kernel': 'linear', 'gamma': 'scale', 'C': 2.0}\n"
     ]
    }
   ],
   "source": [
    "# best parameters for this dataset\n",
    "print(rand_svc.best_params_)"
   ]
  },
  {
   "cell_type": "code",
   "execution_count": 88,
   "id": "084bc8cd",
   "metadata": {},
   "outputs": [
    {
     "name": "stdout",
     "output_type": "stream",
     "text": [
      "0.8183088749126485\n"
     ]
    }
   ],
   "source": [
    "# best score\n",
    "print(rand_svc.best_score_)"
   ]
  },
  {
   "cell_type": "code",
   "execution_count": 89,
   "id": "da9ff737",
   "metadata": {},
   "outputs": [
    {
     "data": {
      "text/plain": [
       "SVC(C=2.0, kernel='linear', probability=True)"
      ]
     },
     "execution_count": 89,
     "metadata": {},
     "output_type": "execute_result"
    }
   ],
   "source": [
    "#best estimator\n",
    "svc_b=rand_svc.best_estimator_\n",
    "svc_b"
   ]
  },
  {
   "cell_type": "code",
   "execution_count": 90,
   "id": "4e94648a",
   "metadata": {},
   "outputs": [
    {
     "name": "stdout",
     "output_type": "stream",
     "text": [
      "******************Train Score******************\n",
      "0.8280922431865828\n",
      "\n",
      "************Using K=3 cross validation**********\n",
      "[0.80712788 0.83228512 0.81551363]\n",
      "\n",
      "******Confusion Matrix using cross_val_predict****\n",
      "[[1213  207]\n",
      " [ 313 1129]]\n",
      "\n",
      "***********Classification Report******************\n",
      "              precision    recall  f1-score   support\n",
      "\n",
      "           0       0.79      0.85      0.82      1420\n",
      "           1       0.85      0.78      0.81      1442\n",
      "\n",
      "    accuracy                           0.82      2862\n",
      "   macro avg       0.82      0.82      0.82      2862\n",
      "weighted avg       0.82      0.82      0.82      2862\n",
      "\n",
      "\n",
      "ROC Curve\n"
     ]
    },
    {
     "data": {
      "image/png": "[encoded data removed]",
      "text/plain": [
       "<Figure size 432x288 with 1 Axes>"
      ]
     },
     "metadata": {
      "needs_background": "light"
     },
     "output_type": "display_data"
    },
    {
     "name": "stdout",
     "output_type": "stream",
     "text": [
      "\n",
      "**************Area under the curve******************\n",
      "0.9026408450704226\n",
      "[CV 3/3] END .C=2.0, gamma=scale, kernel=linear;, score=0.816 total time=   3.7s\n",
      "[CV 1/3] END ....C=2.0, gamma=scale, kernel=rbf;, score=0.751 total time=   2.2s\n",
      "[CV 3/3] END ....C=1.0, gamma=auto, kernel=poly;, score=0.703 total time=   1.6s\n",
      "[CV 2/3] END .C=2.0, gamma=scale, kernel=linear;, score=0.832 total time=   3.6s\n",
      "[CV 3/3] END ..C=2.0, gamma=auto, kernel=linear;, score=0.816 total time=   4.1s\n",
      "[CV 2/3] END .....C=1.0, gamma=auto, kernel=rbf;, score=0.756 total time=   2.2s\n",
      "[CV 1/3] END ....C=1.0, gamma=scale, kernel=rbf;, score=0.737 total time=   2.2s\n",
      "[CV 3/3] END ....C=2.0, gamma=scale, kernel=rbf;, score=0.764 total time=   2.4s\n",
      "[CV 1/3] END ...C=2.0, gamma=scale, kernel=poly;, score=0.711 total time=   1.5s\n",
      "[CV 2/3] END .C=1.0, gamma=scale, kernel=linear;, score=0.828 total time=   2.1s\n",
      "[CV 3/3] END .C=1.0, gamma=scale, kernel=linear;, score=0.817 total time=   2.2s\n",
      "[CV 2/3] END ....C=2.0, gamma=scale, kernel=rbf;, score=0.764 total time=   2.5s\n",
      "[CV 2/3] END ...C=2.0, gamma=scale, kernel=poly;, score=0.704 total time=   1.5s\n",
      "[CV 3/3] END .....C=1.0, gamma=auto, kernel=rbf;, score=0.761 total time=   2.2s\n",
      "[CV 3/3] END ....C=2.0, gamma=auto, kernel=poly;, score=0.714 total time=   1.4s\n",
      "[CV 2/3] END ..C=2.0, gamma=auto, kernel=linear;, score=0.832 total time=   3.6s\n",
      "[CV 3/3] END ...C=2.0, gamma=scale, kernel=poly;, score=0.713 total time=   1.4s\n",
      "[CV 1/3] END .C=2.0, gamma=scale, kernel=linear;, score=0.807 total time=   3.4s\n",
      "[CV 2/3] END ....C=1.0, gamma=scale, kernel=rbf;, score=0.755 total time=   2.3s\n",
      "[CV 1/3] END ....C=1.0, gamma=auto, kernel=poly;, score=0.688 total time=   1.7s\n",
      "[CV 2/3] END ...C=1.0, gamma=scale, kernel=poly;, score=0.704 total time=   1.3s\n",
      "[CV 1/3] END .....C=1.0, gamma=auto, kernel=rbf;, score=0.738 total time=   2.1s\n",
      "[CV 1/3] END ....C=2.0, gamma=auto, kernel=poly;, score=0.709 total time=   1.4s\n",
      "[CV 1/3] END ..C=2.0, gamma=auto, kernel=linear;, score=0.807 total time=   3.8s\n",
      "[CV 1/3] END ...C=1.0, gamma=scale, kernel=poly;, score=0.690 total time=   1.3s\n",
      "[CV 1/3] END .C=1.0, gamma=scale, kernel=linear;, score=0.803 total time=   2.2s\n",
      "[CV 2/3] END ....C=2.0, gamma=auto, kernel=poly;, score=0.708 total time=   1.3s\n",
      "[CV 3/3] END ....C=1.0, gamma=scale, kernel=rbf;, score=0.761 total time=   2.2s\n",
      "[CV 2/3] END ....C=1.0, gamma=auto, kernel=poly;, score=0.702 total time=   1.7s\n",
      "[CV 3/3] END ...C=1.0, gamma=scale, kernel=poly;, score=0.702 total time=   1.3s\n"
     ]
    }
   ],
   "source": [
    "#score for support vector classifier using training data\n",
    "train_score(svc_b)"
   ]
  },
  {
   "cell_type": "markdown",
   "id": "33061f07",
   "metadata": {},
   "source": [
    "## Model 4: Decision Tree Classifier"
   ]
  },
  {
   "cell_type": "code",
   "execution_count": 93,
   "id": "bdd309db",
   "metadata": {},
   "outputs": [
    {
     "data": {
      "text/plain": [
       "DecisionTreeClassifier()"
      ]
     },
     "execution_count": 93,
     "metadata": {},
     "output_type": "execute_result"
    }
   ],
   "source": [
    "# Creating a Decision Tree model on the scaled data\n",
    "dt= DecisionTreeClassifier()\n",
    "\n",
    "# Fit the model to the data\n",
    "dt.fit(X_train_scaled, y_train)"
   ]
  },
  {
   "cell_type": "code",
   "execution_count": 94,
   "id": "9e2db93b",
   "metadata": {},
   "outputs": [
    {
     "name": "stdout",
     "output_type": "stream",
     "text": [
      "******************Train Score******************\n",
      "1.0\n",
      "\n",
      "************Using K=3 cross validation**********\n",
      "[0.7966457  0.80922432 0.7672956 ]\n",
      "\n",
      "******Confusion Matrix using cross_val_predict****\n",
      "[[1124  296]\n",
      " [ 290 1152]]\n",
      "\n",
      "***********Classification Report******************\n",
      "              precision    recall  f1-score   support\n",
      "\n",
      "           0       0.79      0.79      0.79      1420\n",
      "           1       0.80      0.80      0.80      1442\n",
      "\n",
      "    accuracy                           0.80      2862\n",
      "   macro avg       0.80      0.80      0.80      2862\n",
      "weighted avg       0.80      0.80      0.80      2862\n",
      "\n",
      "\n",
      "ROC Curve\n"
     ]
    },
    {
     "data": {
      "image/png": "[encoded data removed]",
      "text/plain": [
       "<Figure size 432x288 with 1 Axes>"
      ]
     },
     "metadata": {
      "needs_background": "light"
     },
     "output_type": "display_data"
    },
    {
     "name": "stdout",
     "output_type": "stream",
     "text": [
      "\n",
      "**************Area under the curve******************\n",
      "0.795252095094841\n"
     ]
    }
   ],
   "source": [
    "#score for Decision Tree using only training data\n",
    "train_score(dt)"
   ]
  },
  {
   "cell_type": "markdown",
   "id": "f97d341c",
   "metadata": {},
   "source": [
    "### Tuning hyperparamaters  using Grid Search CV for Decision Tree"
   ]
  },
  {
   "cell_type": "code",
   "execution_count": 102,
   "id": "51a8f52a",
   "metadata": {},
   "outputs": [],
   "source": [
    "#### Using GridSearchCV\n",
    "param_grid_dt = {'criterion': ['gini','entropy'],\n",
    "             'max_depth':[10,100,1000,10000],\n",
    "                'min_samples_leaf':[1,5,10,100,1000,10000],\n",
    "                'max_features':['auto','sqrt','log2']}\n",
    "grid_dt = GridSearchCV(dt, param_grid_dt, cv=3, verbose=1, n_jobs=-1)"
   ]
  },
  {
   "cell_type": "code",
   "execution_count": 103,
   "id": "e8a07361",
   "metadata": {},
   "outputs": [
    {
     "name": "stdout",
     "output_type": "stream",
     "text": [
      "Fitting 3 folds for each of 144 candidates, totalling 432 fits\n"
     ]
    },
    {
     "data": {
      "text/plain": [
       "GridSearchCV(cv=3, estimator=DecisionTreeClassifier(), n_jobs=-1,\n",
       "             param_grid={'criterion': ['gini', 'entropy'],\n",
       "                         'max_depth': [10, 100, 1000, 10000],\n",
       "                         'max_features': ['auto', 'sqrt', 'log2'],\n",
       "                         'min_samples_leaf': [1, 5, 10, 100, 1000, 10000]},\n",
       "             verbose=1)"
      ]
     },
     "execution_count": 103,
     "metadata": {},
     "output_type": "execute_result"
    }
   ],
   "source": [
    "grid_dt.fit(X_train_scaled, y_train)"
   ]
  },
  {
   "cell_type": "code",
   "execution_count": 104,
   "id": "3915130c",
   "metadata": {},
   "outputs": [
    {
     "name": "stdout",
     "output_type": "stream",
     "text": [
      "{'criterion': 'entropy', 'max_depth': 10, 'max_features': 'log2', 'min_samples_leaf': 10}\n"
     ]
    }
   ],
   "source": [
    "# best parameters for this dataset\n",
    "print(grid_dt.best_params_)"
   ]
  },
  {
   "cell_type": "code",
   "execution_count": 105,
   "id": "d8ba60df",
   "metadata": {},
   "outputs": [
    {
     "name": "stdout",
     "output_type": "stream",
     "text": [
      "0.8232005590496158\n"
     ]
    }
   ],
   "source": [
    "# best score\n",
    "print(grid_dt.best_score_)"
   ]
  },
  {
   "cell_type": "code",
   "execution_count": 106,
   "id": "d70346c8",
   "metadata": {},
   "outputs": [
    {
     "data": {
      "text/plain": [
       "DecisionTreeClassifier(criterion='entropy', max_depth=10, max_features='log2',\n",
       "                       min_samples_leaf=10)"
      ]
     },
     "execution_count": 106,
     "metadata": {},
     "output_type": "execute_result"
    }
   ],
   "source": [
    "#best estimator\n",
    "dt_b=grid_dt.best_estimator_\n",
    "dt_b"
   ]
  },
  {
   "cell_type": "code",
   "execution_count": 107,
   "id": "dd8c15d5",
   "metadata": {},
   "outputs": [
    {
     "name": "stdout",
     "output_type": "stream",
     "text": [
      "******************Train Score******************\n",
      "0.6995108315863033\n",
      "\n",
      "************Using K=3 cross validation**********\n",
      "[0.83647799 0.71278826 0.67505241]\n",
      "\n",
      "******Confusion Matrix using cross_val_predict****\n",
      "[[ 839  581]\n",
      " [ 316 1126]]\n",
      "\n",
      "***********Classification Report******************\n",
      "              precision    recall  f1-score   support\n",
      "\n",
      "           0       0.73      0.59      0.65      1420\n",
      "           1       0.66      0.78      0.72      1442\n",
      "\n",
      "    accuracy                           0.69      2862\n",
      "   macro avg       0.69      0.69      0.68      2862\n",
      "weighted avg       0.69      0.69      0.68      2862\n",
      "\n",
      "\n",
      "ROC Curve\n"
     ]
    },
    {
     "data": {
      "image/png": "[encoded data removed]",
      "text/plain": [
       "<Figure size 432x288 with 1 Axes>"
      ]
     },
     "metadata": {
      "needs_background": "light"
     },
     "output_type": "display_data"
    },
    {
     "name": "stdout",
     "output_type": "stream",
     "text": [
      "\n",
      "**************Area under the curve******************\n",
      "0.7781367818561857\n"
     ]
    }
   ],
   "source": [
    "#score for decision tree using training data\n",
    "train_score(dt_b)"
   ]
  },
  {
   "cell_type": "markdown",
   "id": "901e8897",
   "metadata": {},
   "source": [
    "## Model 5: Random Forest Classifier"
   ]
  },
  {
   "cell_type": "code",
   "execution_count": 108,
   "id": "1b6c04ff",
   "metadata": {},
   "outputs": [
    {
     "data": {
      "text/plain": [
       "RandomForestClassifier()"
      ]
     },
     "execution_count": 108,
     "metadata": {},
     "output_type": "execute_result"
    }
   ],
   "source": [
    "# Creating a Random Forest Classifer model on the scaled data\n",
    "rf= RandomForestClassifier()\n",
    "\n",
    "# Fit the model to the data\n",
    "rf.fit(X_train_scaled, y_train)"
   ]
  },
  {
   "cell_type": "code",
   "execution_count": 109,
   "id": "205820ac",
   "metadata": {},
   "outputs": [
    {
     "name": "stdout",
     "output_type": "stream",
     "text": [
      "******************Train Score******************\n",
      "1.0\n",
      "\n",
      "************Using K=3 cross validation**********\n",
      "[0.84800839 0.85534591 0.8427673 ]\n",
      "\n",
      "******Confusion Matrix using cross_val_predict****\n",
      "[[1199  221]\n",
      " [ 206 1236]]\n",
      "\n",
      "***********Classification Report******************\n",
      "              precision    recall  f1-score   support\n",
      "\n",
      "           0       0.85      0.84      0.85      1420\n",
      "           1       0.85      0.86      0.85      1442\n",
      "\n",
      "    accuracy                           0.85      2862\n",
      "   macro avg       0.85      0.85      0.85      2862\n",
      "weighted avg       0.85      0.85      0.85      2862\n",
      "\n",
      "\n",
      "ROC Curve\n"
     ]
    },
    {
     "data": {
      "image/png": "[encoded data removed]",
      "text/plain": [
       "<Figure size 432x288 with 1 Axes>"
      ]
     },
     "metadata": {
      "needs_background": "light"
     },
     "output_type": "display_data"
    },
    {
     "name": "stdout",
     "output_type": "stream",
     "text": [
      "\n",
      "**************Area under the curve******************\n",
      "0.9193774296263015\n"
     ]
    }
   ],
   "source": [
    "#score for Random Forest Classifer using only training data\n",
    "train_score(rf)"
   ]
  },
  {
   "cell_type": "code",
   "execution_count": 110,
   "id": "c57943ec",
   "metadata": {},
   "outputs": [
    {
     "name": "stdout",
     "output_type": "stream",
     "text": [
      "[0.06352801 0.03162489 0.08868011 0.06078085 0.10445727 0.35737833\n",
      " 0.00816955 0.00447775 0.00687922 0.00111503 0.00485939 0.00191372\n",
      " 0.00909603 0.01194707 0.03100751 0.00503795 0.00644297 0.00599801\n",
      " 0.00898928 0.00843461 0.0037271  0.00613457 0.00174208 0.00987404\n",
      " 0.00527334 0.00389436 0.00117513 0.00227859 0.01176552 0.00727466\n",
      " 0.01004249 0.00682456 0.00366142 0.00391072 0.00402203 0.00293996\n",
      " 0.0039195  0.00744568 0.00334023 0.00263964 0.00332476 0.01290912\n",
      " 0.00795716 0.00509075 0.00284583 0.00284671 0.00517833 0.00351595\n",
      " 0.00848496 0.00065279 0.00864531 0.00781067 0.00803449]\n"
     ]
    },
    {
     "data": {
      "image/png": "[encoded data removed]",
      "text/plain": [
       "<Figure size 432x288 with 1 Axes>"
      ]
     },
     "metadata": {
      "needs_background": "light"
     },
     "output_type": "display_data"
    }
   ],
   "source": [
    "# plotting columns with its importances\n",
    "features_rf = rf.feature_importances_\n",
    "print(features_rf)\n",
    "plt.bar(x = range(len(features_rf)), height=features_rf)\n",
    "plt.show()"
   ]
  },
  {
   "cell_type": "markdown",
   "id": "0e1ec537",
   "metadata": {},
   "source": [
    "### Tuning hyperparamaters  using Grid Search CV for Random Forest"
   ]
  },
  {
   "cell_type": "code",
   "execution_count": 112,
   "id": "3ab5e47d",
   "metadata": {},
   "outputs": [],
   "source": [
    "#### Using GridSearchCV\n",
    "param_grid_rf = {'n_estimators':[100,200,500],\n",
    "              'criterion': ['gini','entropy'],\n",
    "             'max_depth':[1,2,5,10,100,1000,10000],\n",
    "                'min_samples_leaf':[1,5,10,100,1000,10000],\n",
    "                'max_features':['auto','sqrt','log2']}\n",
    "grid_rf = GridSearchCV(rf, param_grid_rf, cv=3, verbose=1, n_jobs=-1)"
   ]
  },
  {
   "cell_type": "code",
   "execution_count": 113,
   "id": "c06d12e0",
   "metadata": {},
   "outputs": [
    {
     "name": "stdout",
     "output_type": "stream",
     "text": [
      "Fitting 3 folds for each of 756 candidates, totalling 2268 fits\n"
     ]
    },
    {
     "data": {
      "text/plain": [
       "GridSearchCV(cv=3, estimator=RandomForestClassifier(), n_jobs=-1,\n",
       "             param_grid={'criterion': ['gini', 'entropy'],\n",
       "                         'max_depth': [1, 2, 5, 10, 100, 1000, 10000],\n",
       "                         'max_features': ['auto', 'sqrt', 'log2'],\n",
       "                         'min_samples_leaf': [1, 5, 10, 100, 1000, 10000],\n",
       "                         'n_estimators': [100, 200, 500]},\n",
       "             verbose=1)"
      ]
     },
     "execution_count": 113,
     "metadata": {},
     "output_type": "execute_result"
    }
   ],
   "source": [
    "grid_rf.fit(X_train_scaled, y_train)"
   ]
  },
  {
   "cell_type": "code",
   "execution_count": 114,
   "id": "b70c5a15",
   "metadata": {},
   "outputs": [
    {
     "name": "stdout",
     "output_type": "stream",
     "text": [
      "{'criterion': 'entropy', 'max_depth': 10000, 'max_features': 'auto', 'min_samples_leaf': 5, 'n_estimators': 200}\n"
     ]
    }
   ],
   "source": [
    "# best parameters for this dataset\n",
    "print(grid_rf.best_params_)"
   ]
  },
  {
   "cell_type": "code",
   "execution_count": 115,
   "id": "ff102630",
   "metadata": {},
   "outputs": [
    {
     "name": "stdout",
     "output_type": "stream",
     "text": [
      "0.8560447239692522\n"
     ]
    }
   ],
   "source": [
    "# best score\n",
    "print(grid_rf.best_score_)"
   ]
  },
  {
   "cell_type": "code",
   "execution_count": 116,
   "id": "9200433b",
   "metadata": {},
   "outputs": [
    {
     "data": {
      "text/plain": [
       "RandomForestClassifier(criterion='entropy', max_depth=10000, min_samples_leaf=5,\n",
       "                       n_estimators=200)"
      ]
     },
     "execution_count": 116,
     "metadata": {},
     "output_type": "execute_result"
    }
   ],
   "source": [
    "#best estimator\n",
    "rf_b=grid_rf.best_estimator_\n",
    "rf_b"
   ]
  },
  {
   "cell_type": "code",
   "execution_count": 117,
   "id": "65de679f",
   "metadata": {},
   "outputs": [
    {
     "name": "stdout",
     "output_type": "stream",
     "text": [
      "******************Train Score******************\n",
      "0.8990216631726066\n",
      "\n",
      "************Using K=3 cross validation**********\n",
      "[0.84067086 0.85953878 0.8490566 ]\n",
      "\n",
      "******Confusion Matrix using cross_val_predict****\n",
      "[[1213  207]\n",
      " [ 224 1218]]\n",
      "\n",
      "***********Classification Report******************\n",
      "              precision    recall  f1-score   support\n",
      "\n",
      "           0       0.84      0.85      0.85      1420\n",
      "           1       0.85      0.84      0.85      1442\n",
      "\n",
      "    accuracy                           0.85      2862\n",
      "   macro avg       0.85      0.85      0.85      2862\n",
      "weighted avg       0.85      0.85      0.85      2862\n",
      "\n",
      "\n",
      "ROC Curve\n"
     ]
    },
    {
     "data": {
      "image/png": "[encoded data removed]",
      "text/plain": [
       "<Figure size 432x288 with 1 Axes>"
      ]
     },
     "metadata": {
      "needs_background": "light"
     },
     "output_type": "display_data"
    },
    {
     "name": "stdout",
     "output_type": "stream",
     "text": [
      "\n",
      "**************Area under the curve******************\n",
      "0.921864194878006\n"
     ]
    }
   ],
   "source": [
    "#score for random forest using training data\n",
    "train_score(rf_b)"
   ]
  },
  {
   "cell_type": "markdown",
   "id": "a26a7660",
   "metadata": {},
   "source": [
    "## Model 6: Extremely Random Trees\n",
    "Changing the behavior of the decision trees so that they randomly choose their splits"
   ]
  },
  {
   "cell_type": "code",
   "execution_count": 119,
   "id": "009acfa4",
   "metadata": {},
   "outputs": [
    {
     "data": {
      "text/plain": [
       "ExtraTreesClassifier()"
      ]
     },
     "execution_count": 119,
     "metadata": {},
     "output_type": "execute_result"
    }
   ],
   "source": [
    "# Creating a Extremely Random Trees model on the scaled data\n",
    "rt= ExtraTreesClassifier()\n",
    "\n",
    "# Fit the model to the data\n",
    "rt.fit(X_train_scaled, y_train)"
   ]
  },
  {
   "cell_type": "code",
   "execution_count": 120,
   "id": "74faa637",
   "metadata": {},
   "outputs": [
    {
     "name": "stdout",
     "output_type": "stream",
     "text": [
      "******************Train Score******************\n",
      "1.0\n",
      "\n",
      "************Using K=3 cross validation**********\n",
      "[0.78930818 0.80188679 0.7966457 ]\n",
      "\n",
      "******Confusion Matrix using cross_val_predict****\n",
      "[[1109  311]\n",
      " [ 279 1163]]\n",
      "\n",
      "***********Classification Report******************\n",
      "              precision    recall  f1-score   support\n",
      "\n",
      "           0       0.80      0.78      0.79      1420\n",
      "           1       0.79      0.81      0.80      1442\n",
      "\n",
      "    accuracy                           0.79      2862\n",
      "   macro avg       0.79      0.79      0.79      2862\n",
      "weighted avg       0.79      0.79      0.79      2862\n",
      "\n",
      "\n",
      "ROC Curve\n"
     ]
    },
    {
     "data": {
      "image/png": "[encoded data removed]",
      "text/plain": [
       "<Figure size 432x288 with 1 Axes>"
      ]
     },
     "metadata": {
      "needs_background": "light"
     },
     "output_type": "display_data"
    },
    {
     "name": "stdout",
     "output_type": "stream",
     "text": [
      "\n",
      "**************Area under the curve******************\n",
      "0.8672869742728215\n"
     ]
    }
   ],
   "source": [
    "#score for Extremely Random Trees using only training data\n",
    "train_score(rt)"
   ]
  },
  {
   "cell_type": "code",
   "execution_count": 121,
   "id": "8e65fdfd",
   "metadata": {},
   "outputs": [
    {
     "name": "stdout",
     "output_type": "stream",
     "text": [
      "[0.06013954 0.03667711 0.06722651 0.07086891 0.1109287  0.22699697\n",
      " 0.00989271 0.00654243 0.00962263 0.00369972 0.00687004 0.00370473\n",
      " 0.01109611 0.01356857 0.03051275 0.00794218 0.00695705 0.00914088\n",
      " 0.0126003  0.01234159 0.00719881 0.00838173 0.00375086 0.01493735\n",
      " 0.0084536  0.00717886 0.00283872 0.00411764 0.01805566 0.0124875\n",
      " 0.01579838 0.01186988 0.00599687 0.00968965 0.00805548 0.00628177\n",
      " 0.00698033 0.01077758 0.00438572 0.00463168 0.00533602 0.01647123\n",
      " 0.0133639  0.00842242 0.00425946 0.00527918 0.00636639 0.00528108\n",
      " 0.01057101 0.00069093 0.01073377 0.01157307 0.01245407]\n"
     ]
    },
    {
     "data": {
      "image/png": "[encoded data removed]",
      "text/plain": [
       "<Figure size 432x288 with 1 Axes>"
      ]
     },
     "metadata": {
      "needs_background": "light"
     },
     "output_type": "display_data"
    }
   ],
   "source": [
    "# plotting columns with its importances\n",
    "features_rt = rt.feature_importances_\n",
    "print(features_rt)\n",
    "plt.bar(x = range(len(features_rt)), height=features_rt)\n",
    "plt.show()"
   ]
  },
  {
   "cell_type": "markdown",
   "id": "f9a35cdc",
   "metadata": {},
   "source": [
    "### Tuning hyperparamaters  using Randomized Search CV for Extremely Random Tree"
   ]
  },
  {
   "cell_type": "code",
   "execution_count": 123,
   "id": "4bb9f296",
   "metadata": {},
   "outputs": [],
   "source": [
    "#### Using GridSearchCV\n",
    "param_rand_rt = {'n_estimators':[100,200,500],\n",
    "              'criterion': ['gini','entropy'],\n",
    "             'max_depth':[5,10,1000,10000],\n",
    "                'min_samples_leaf':[10,100,1000,10000],\n",
    "                'max_features':['auto','sqrt','log2']}\n",
    "rand_rt = RandomizedSearchCV(rt, param_rand_rt, cv=5, verbose=1, n_jobs=-1)"
   ]
  },
  {
   "cell_type": "code",
   "execution_count": 124,
   "id": "1285ac1c",
   "metadata": {},
   "outputs": [
    {
     "name": "stdout",
     "output_type": "stream",
     "text": [
      "Fitting 5 folds for each of 10 candidates, totalling 50 fits\n"
     ]
    },
    {
     "data": {
      "text/plain": [
       "RandomizedSearchCV(cv=5, estimator=ExtraTreesClassifier(), n_jobs=-1,\n",
       "                   param_distributions={'criterion': ['gini', 'entropy'],\n",
       "                                        'max_depth': [5, 10, 1000, 10000],\n",
       "                                        'max_features': ['auto', 'sqrt',\n",
       "                                                         'log2'],\n",
       "                                        'min_samples_leaf': [10, 100, 1000,\n",
       "                                                             10000],\n",
       "                                        'n_estimators': [100, 200, 500]},\n",
       "                   verbose=1)"
      ]
     },
     "execution_count": 124,
     "metadata": {},
     "output_type": "execute_result"
    }
   ],
   "source": [
    "rand_rt.fit(X_train_scaled, y_train)"
   ]
  },
  {
   "cell_type": "code",
   "execution_count": 125,
   "id": "4d78b597",
   "metadata": {},
   "outputs": [
    {
     "name": "stdout",
     "output_type": "stream",
     "text": [
      "{'n_estimators': 500, 'min_samples_leaf': 10, 'max_features': 'sqrt', 'max_depth': 10000, 'criterion': 'entropy'}\n"
     ]
    }
   ],
   "source": [
    "# best parameters for this dataset\n",
    "print(rand_rt.best_params_)"
   ]
  },
  {
   "cell_type": "code",
   "execution_count": 126,
   "id": "e432eca2",
   "metadata": {},
   "outputs": [
    {
     "name": "stdout",
     "output_type": "stream",
     "text": [
      "0.7641495502752047\n"
     ]
    }
   ],
   "source": [
    "# best score\n",
    "print(rand_rt.best_score_)"
   ]
  },
  {
   "cell_type": "code",
   "execution_count": 165,
   "id": "c6e26a71",
   "metadata": {},
   "outputs": [
    {
     "data": {
      "text/plain": [
       "ExtraTreesClassifier(criterion='entropy', max_depth=10000, max_features='sqrt',\n",
       "                     min_samples_leaf=10, n_estimators=500)"
      ]
     },
     "execution_count": 165,
     "metadata": {},
     "output_type": "execute_result"
    }
   ],
   "source": [
    "#best estimator\n",
    "rt_b=rand_rt.best_estimator_\n",
    "rt_b"
   ]
  },
  {
   "cell_type": "code",
   "execution_count": 166,
   "id": "7b67e8e6",
   "metadata": {},
   "outputs": [
    {
     "name": "stdout",
     "output_type": "stream",
     "text": [
      "******************Train Score******************\n",
      "0.8127183787561146\n",
      "\n",
      "************Using K=3 cross validation**********\n",
      "[0.75890985 0.77044025 0.7557652 ]\n",
      "\n",
      "******Confusion Matrix using cross_val_predict****\n",
      "[[ 985  435]\n",
      " [ 258 1184]]\n",
      "\n",
      "***********Classification Report******************\n",
      "              precision    recall  f1-score   support\n",
      "\n",
      "           0       0.79      0.69      0.74      1420\n",
      "           1       0.73      0.82      0.77      1442\n",
      "\n",
      "    accuracy                           0.76      2862\n",
      "   macro avg       0.76      0.76      0.76      2862\n",
      "weighted avg       0.76      0.76      0.76      2862\n",
      "\n",
      "\n",
      "ROC Curve\n"
     ]
    },
    {
     "data": {
      "image/png": "[encoded data removed]",
      "text/plain": [
       "<Figure size 432x288 with 1 Axes>"
      ]
     },
     "metadata": {
      "needs_background": "light"
     },
     "output_type": "display_data"
    },
    {
     "name": "stdout",
     "output_type": "stream",
     "text": [
      "\n",
      "**************Area under the curve******************\n",
      "0.8450748178390732\n"
     ]
    }
   ],
   "source": [
    "#score for extra tree classifier using training data\n",
    "train_score(rt_b)"
   ]
  },
  {
   "cell_type": "markdown",
   "id": "a1bbbc87",
   "metadata": {},
   "source": [
    "## Model 7: Boosting\n",
    "In Bosting each new weak learner is trained on data that skews the training dataset to data points that the previous weak learners didn't estimate well."
   ]
  },
  {
   "cell_type": "code",
   "execution_count": 131,
   "id": "294edf7a",
   "metadata": {},
   "outputs": [
    {
     "data": {
      "text/plain": [
       "AdaBoostClassifier(base_estimator=DecisionTreeClassifier())"
      ]
     },
     "execution_count": 131,
     "metadata": {},
     "output_type": "execute_result"
    }
   ],
   "source": [
    "# Creating a AdaBoostClassifier model on the scaled data\n",
    "ab= AdaBoostClassifier(base_estimator = dt)\n",
    "\n",
    "# Fit the model to the data\n",
    "ab.fit(X_train_scaled, y_train)"
   ]
  },
  {
   "cell_type": "code",
   "execution_count": 132,
   "id": "a2d6a8de",
   "metadata": {},
   "outputs": [
    {
     "name": "stdout",
     "output_type": "stream",
     "text": [
      "******************Train Score******************\n",
      "1.0\n",
      "\n",
      "************Using K=3 cross validation**********\n",
      "[0.80188679 0.80188679 0.76310273]\n",
      "\n",
      "******Confusion Matrix using cross_val_predict****\n",
      "[[1126  294]\n",
      " [ 287 1155]]\n",
      "\n",
      "***********Classification Report******************\n",
      "              precision    recall  f1-score   support\n",
      "\n",
      "           0       0.80      0.79      0.79      1420\n",
      "           1       0.80      0.80      0.80      1442\n",
      "\n",
      "    accuracy                           0.80      2862\n",
      "   macro avg       0.80      0.80      0.80      2862\n",
      "weighted avg       0.80      0.80      0.80      2862\n",
      "\n",
      "\n",
      "ROC Curve\n"
     ]
    },
    {
     "data": {
      "image/png": "[encoded data removed]",
      "text/plain": [
       "<Figure size 432x288 with 1 Axes>"
      ]
     },
     "metadata": {
      "needs_background": "light"
     },
     "output_type": "display_data"
    },
    {
     "name": "stdout",
     "output_type": "stream",
     "text": [
      "\n",
      "**************Area under the curve******************\n",
      "0.7889516711922017\n"
     ]
    }
   ],
   "source": [
    "#score for adaboost using only training data\n",
    "train_score(ab)"
   ]
  },
  {
   "cell_type": "code",
   "execution_count": 133,
   "id": "3213dc9c",
   "metadata": {},
   "outputs": [
    {
     "name": "stdout",
     "output_type": "stream",
     "text": [
      "[4.78429540e-02 2.18725355e-02 6.63964489e-02 3.26407636e-02\n",
      " 9.03563271e-02 5.09381437e-01 2.96130268e-03 3.97891515e-03\n",
      " 6.09272892e-03 1.07418803e-03 6.87855549e-03 2.52135313e-04\n",
      " 6.84226139e-03 1.22787102e-02 4.64378440e-02 0.00000000e+00\n",
      " 7.12078959e-03 9.70629603e-04 1.63442670e-03 6.85311894e-03\n",
      " 1.16279821e-03 2.01571221e-03 2.29990843e-03 2.87306362e-03\n",
      " 1.04457406e-02 2.89047492e-03 1.16143039e-03 3.62340251e-03\n",
      " 5.89425022e-03 5.96248869e-03 1.28598864e-02 8.23572393e-03\n",
      " 1.13359367e-03 4.22066293e-03 9.40117524e-04 2.10311538e-03\n",
      " 2.87260820e-04 5.15665162e-03 1.41565690e-03 3.75040322e-03\n",
      " 3.18698160e-03 1.83696497e-03 7.28301668e-03 2.55580641e-03\n",
      " 1.39770663e-03 4.40035561e-03 3.35006878e-03 4.51757289e-03\n",
      " 1.11399589e-02 0.00000000e+00 1.74713329e-03 4.56310783e-03\n",
      " 3.72291186e-03]\n"
     ]
    },
    {
     "data": {
      "image/png": "[encoded data removed]",
      "text/plain": [
       "<Figure size 432x288 with 1 Axes>"
      ]
     },
     "metadata": {
      "needs_background": "light"
     },
     "output_type": "display_data"
    }
   ],
   "source": [
    "# plotting columns with its importances\n",
    "features_ab = ab.feature_importances_\n",
    "print(features_ab)\n",
    "plt.bar(x = range(len(features_ab)), height=features_ab)\n",
    "plt.show()"
   ]
  },
  {
   "cell_type": "markdown",
   "id": "a3e8441f",
   "metadata": {},
   "source": [
    "### Tuning hyperparamaters  using Grid Search CV for AdaBoostClassifier"
   ]
  },
  {
   "cell_type": "code",
   "execution_count": 153,
   "id": "5d7807ca",
   "metadata": {},
   "outputs": [],
   "source": [
    "#### Using GridSearchCV\n",
    "param_ab = {'n_estimators':[100,200,500, 1000, 2000, 5000],\n",
    "             'learning_rate':[0.1]}\n",
    "rand_ab = GridSearchCV(ab, param_ab, cv=3, verbose=1, n_jobs=-1)"
   ]
  },
  {
   "cell_type": "code",
   "execution_count": 154,
   "id": "8340f9eb",
   "metadata": {},
   "outputs": [
    {
     "name": "stdout",
     "output_type": "stream",
     "text": [
      "Fitting 3 folds for each of 6 candidates, totalling 18 fits\n"
     ]
    },
    {
     "data": {
      "text/plain": [
       "GridSearchCV(cv=3,\n",
       "             estimator=AdaBoostClassifier(base_estimator=DecisionTreeClassifier()),\n",
       "             n_jobs=-1,\n",
       "             param_grid={'learning_rate': [0.1],\n",
       "                         'n_estimators': [100, 200, 500, 1000, 2000, 5000]},\n",
       "             verbose=1)"
      ]
     },
     "execution_count": 154,
     "metadata": {},
     "output_type": "execute_result"
    }
   ],
   "source": [
    "rand_ab.fit(X_train_scaled, y_train)"
   ]
  },
  {
   "cell_type": "code",
   "execution_count": 155,
   "id": "386da01c",
   "metadata": {},
   "outputs": [
    {
     "name": "stdout",
     "output_type": "stream",
     "text": [
      "{'learning_rate': 0.1, 'n_estimators': 500}\n"
     ]
    }
   ],
   "source": [
    "# best parameters for this dataset\n",
    "print(rand_ab.best_params_)"
   ]
  },
  {
   "cell_type": "code",
   "execution_count": 156,
   "id": "2abe1d18",
   "metadata": {},
   "outputs": [
    {
     "name": "stdout",
     "output_type": "stream",
     "text": [
      "0.7955974842767296\n"
     ]
    }
   ],
   "source": [
    "# best score\n",
    "print(rand_ab.best_score_)"
   ]
  },
  {
   "cell_type": "code",
   "execution_count": 189,
   "id": "22fbf27c",
   "metadata": {},
   "outputs": [
    {
     "data": {
      "text/plain": [
       "AdaBoostClassifier(base_estimator=DecisionTreeClassifier(), learning_rate=0.1,\n",
       "                   n_estimators=500)"
      ]
     },
     "execution_count": 189,
     "metadata": {},
     "output_type": "execute_result"
    }
   ],
   "source": [
    "#best estimator\n",
    "ab_b=rand_ab.best_estimator_\n",
    "ab_b"
   ]
  },
  {
   "cell_type": "code",
   "execution_count": 190,
   "id": "1b56f3cc",
   "metadata": {},
   "outputs": [
    {
     "name": "stdout",
     "output_type": "stream",
     "text": [
      "******************Train Score******************\n",
      "1.0\n",
      "\n",
      "************Using K=3 cross validation**********\n",
      "[0.80503145 0.81027254 0.77358491]\n",
      "\n",
      "******Confusion Matrix using cross_val_predict****\n",
      "[[1129  291]\n",
      " [ 305 1137]]\n",
      "\n",
      "***********Classification Report******************\n",
      "              precision    recall  f1-score   support\n",
      "\n",
      "           0       0.79      0.80      0.79      1420\n",
      "           1       0.80      0.79      0.79      1442\n",
      "\n",
      "    accuracy                           0.79      2862\n",
      "   macro avg       0.79      0.79      0.79      2862\n",
      "weighted avg       0.79      0.79      0.79      2862\n",
      "\n",
      "\n",
      "ROC Curve\n"
     ]
    },
    {
     "data": {
      "image/png": "[encoded data removed]",
      "text/plain": [
       "<Figure size 432x288 with 1 Axes>"
      ]
     },
     "metadata": {
      "needs_background": "light"
     },
     "output_type": "display_data"
    },
    {
     "name": "stdout",
     "output_type": "stream",
     "text": [
      "\n",
      "**************Area under the curve******************\n",
      "0.7892822957160438\n"
     ]
    }
   ],
   "source": [
    "#score for adaboost classifier using training data\n",
    "train_score(ab_b)"
   ]
  },
  {
   "cell_type": "markdown",
   "id": "fcd001eb",
   "metadata": {},
   "source": [
    "## Real and predicted value using different model"
   ]
  },
  {
   "cell_type": "code",
   "execution_count": 159,
   "id": "8107c135",
   "metadata": {},
   "outputs": [],
   "source": [
    "#Predected value\n",
    "y_pred_sgd=sgd_clf.predict(X_test_scaled)\n",
    "y_pred_lr=lr.predict(X_test_scaled)\n",
    "y_pred_svc=svc.predict(X_test_scaled)\n",
    "y_pred_dt=dt.predict(X_test_scaled)\n",
    "y_pred_rf=rf.predict(X_test_scaled)\n",
    "y_pred_rt=rt.predict(X_test_scaled)\n",
    "y_pred_ab=ab.predict(X_test_scaled)"
   ]
  },
  {
   "cell_type": "code",
   "execution_count": 162,
   "id": "e445b103",
   "metadata": {},
   "outputs": [
    {
     "data": {
      "text/html": [
       "<div>\n",
       "<style scoped>\n",
       "    .dataframe tbody tr th:only-of-type {\n",
       "        vertical-align: middle;\n",
       "    }\n",
       "\n",
       "    .dataframe tbody tr th {\n",
       "        vertical-align: top;\n",
       "    }\n",
       "\n",
       "    .dataframe thead th {\n",
       "        text-align: right;\n",
       "    }\n",
       "</style>\n",
       "<table border=\"1\" class=\"dataframe\">\n",
       "  <thead>\n",
       "    <tr style=\"text-align: right;\">\n",
       "      <th></th>\n",
       "      <th>Real value</th>\n",
       "      <th>SGD Classifier</th>\n",
       "      <th>Logistic Regression</th>\n",
       "      <th>SVC</th>\n",
       "      <th>Decision Tree</th>\n",
       "      <th>Random Forest</th>\n",
       "      <th>Extra Random Tree</th>\n",
       "      <th>AdaBoost</th>\n",
       "    </tr>\n",
       "  </thead>\n",
       "  <tbody>\n",
       "    <tr>\n",
       "      <th>0</th>\n",
       "      <td>False</td>\n",
       "      <td>False</td>\n",
       "      <td>False</td>\n",
       "      <td>False</td>\n",
       "      <td>False</td>\n",
       "      <td>False</td>\n",
       "      <td>False</td>\n",
       "      <td>False</td>\n",
       "    </tr>\n",
       "    <tr>\n",
       "      <th>1</th>\n",
       "      <td>True</td>\n",
       "      <td>False</td>\n",
       "      <td>True</td>\n",
       "      <td>True</td>\n",
       "      <td>True</td>\n",
       "      <td>True</td>\n",
       "      <td>True</td>\n",
       "      <td>True</td>\n",
       "    </tr>\n",
       "    <tr>\n",
       "      <th>2</th>\n",
       "      <td>True</td>\n",
       "      <td>False</td>\n",
       "      <td>True</td>\n",
       "      <td>False</td>\n",
       "      <td>False</td>\n",
       "      <td>True</td>\n",
       "      <td>False</td>\n",
       "      <td>True</td>\n",
       "    </tr>\n",
       "    <tr>\n",
       "      <th>3</th>\n",
       "      <td>True</td>\n",
       "      <td>True</td>\n",
       "      <td>True</td>\n",
       "      <td>True</td>\n",
       "      <td>True</td>\n",
       "      <td>True</td>\n",
       "      <td>True</td>\n",
       "      <td>True</td>\n",
       "    </tr>\n",
       "    <tr>\n",
       "      <th>4</th>\n",
       "      <td>False</td>\n",
       "      <td>False</td>\n",
       "      <td>False</td>\n",
       "      <td>False</td>\n",
       "      <td>False</td>\n",
       "      <td>False</td>\n",
       "      <td>False</td>\n",
       "      <td>False</td>\n",
       "    </tr>\n",
       "    <tr>\n",
       "      <th>...</th>\n",
       "      <td>...</td>\n",
       "      <td>...</td>\n",
       "      <td>...</td>\n",
       "      <td>...</td>\n",
       "      <td>...</td>\n",
       "      <td>...</td>\n",
       "      <td>...</td>\n",
       "      <td>...</td>\n",
       "    </tr>\n",
       "    <tr>\n",
       "      <th>949</th>\n",
       "      <td>False</td>\n",
       "      <td>False</td>\n",
       "      <td>False</td>\n",
       "      <td>False</td>\n",
       "      <td>False</td>\n",
       "      <td>False</td>\n",
       "      <td>False</td>\n",
       "      <td>False</td>\n",
       "    </tr>\n",
       "    <tr>\n",
       "      <th>950</th>\n",
       "      <td>True</td>\n",
       "      <td>True</td>\n",
       "      <td>True</td>\n",
       "      <td>True</td>\n",
       "      <td>True</td>\n",
       "      <td>True</td>\n",
       "      <td>True</td>\n",
       "      <td>True</td>\n",
       "    </tr>\n",
       "    <tr>\n",
       "      <th>951</th>\n",
       "      <td>True</td>\n",
       "      <td>True</td>\n",
       "      <td>True</td>\n",
       "      <td>True</td>\n",
       "      <td>True</td>\n",
       "      <td>True</td>\n",
       "      <td>True</td>\n",
       "      <td>True</td>\n",
       "    </tr>\n",
       "    <tr>\n",
       "      <th>952</th>\n",
       "      <td>False</td>\n",
       "      <td>True</td>\n",
       "      <td>True</td>\n",
       "      <td>True</td>\n",
       "      <td>True</td>\n",
       "      <td>True</td>\n",
       "      <td>True</td>\n",
       "      <td>True</td>\n",
       "    </tr>\n",
       "    <tr>\n",
       "      <th>953</th>\n",
       "      <td>False</td>\n",
       "      <td>False</td>\n",
       "      <td>False</td>\n",
       "      <td>False</td>\n",
       "      <td>False</td>\n",
       "      <td>False</td>\n",
       "      <td>False</td>\n",
       "      <td>False</td>\n",
       "    </tr>\n",
       "  </tbody>\n",
       "</table>\n",
       "<p>954 rows × 8 columns</p>\n",
       "</div>"
      ],
      "text/plain": [
       "    Real value SGD Classifier Logistic Regression    SVC Decision Tree  \\\n",
       "0        False          False               False  False         False   \n",
       "1         True          False                True   True          True   \n",
       "2         True          False                True  False         False   \n",
       "3         True           True                True   True          True   \n",
       "4        False          False               False  False         False   \n",
       "..         ...            ...                 ...    ...           ...   \n",
       "949      False          False               False  False         False   \n",
       "950       True           True                True   True          True   \n",
       "951       True           True                True   True          True   \n",
       "952      False           True                True   True          True   \n",
       "953      False          False               False  False         False   \n",
       "\n",
       "    Random Forest Extra Random Tree AdaBoost  \n",
       "0           False             False    False  \n",
       "1            True              True     True  \n",
       "2            True             False     True  \n",
       "3            True              True     True  \n",
       "4           False             False    False  \n",
       "..            ...               ...      ...  \n",
       "949         False             False    False  \n",
       "950          True              True     True  \n",
       "951          True              True     True  \n",
       "952          True              True     True  \n",
       "953         False             False    False  \n",
       "\n",
       "[954 rows x 8 columns]"
      ]
     },
     "execution_count": 162,
     "metadata": {},
     "output_type": "execute_result"
    }
   ],
   "source": [
    "df_pred=pd.DataFrame({'Real value':y_test,\n",
    "                     'SGD Classifier':y_pred_sgd,\n",
    "                     'Logistic Regression':y_pred_lr,\n",
    "                     'SVC':y_pred_svc,\n",
    "                     'Decision Tree':y_pred_dt,\n",
    "                     'Random Forest':y_pred_rf,\n",
    "                     'Extra Random Tree':y_pred_rt,\n",
    "                     'AdaBoost':y_pred_ab})\n",
    "df_pred.replace({1:'True', 0: 'False'}, inplace=True)\n",
    "df_pred"
   ]
  },
  {
   "cell_type": "code",
   "execution_count": 198,
   "id": "9f6b5593",
   "metadata": {},
   "outputs": [
    {
     "name": "stdout",
     "output_type": "stream",
     "text": [
      "SGD Classifier\n",
      "********************Train Score******************\n",
      "0.7973445143256463\n",
      "\n",
      "*********************Test Score******************\n",
      "0.79979035639413\n",
      "\n",
      "**************Confusion Matrix******************\n",
      "[[363 125]\n",
      " [ 66 400]]\n",
      "\n",
      "**********Classification Report******************\n",
      "              precision    recall  f1-score   support\n",
      "\n",
      "           0       0.85      0.74      0.79       488\n",
      "           1       0.76      0.86      0.81       466\n",
      "\n",
      "    accuracy                           0.80       954\n",
      "   macro avg       0.80      0.80      0.80       954\n",
      "weighted avg       0.81      0.80      0.80       954\n",
      "\n",
      "\n",
      "ROC Curve\n"
     ]
    },
    {
     "data": {
      "image/png": "[encoded data removed]",
      "text/plain": [
       "<Figure size 432x288 with 1 Axes>"
      ]
     },
     "metadata": {
      "needs_background": "light"
     },
     "output_type": "display_data"
    },
    {
     "name": "stdout",
     "output_type": "stream",
     "text": [
      "\n",
      "**************Area under the curve******************\n",
      "0.8811739252796736\n",
      "None\n",
      "****************************************************************************************************\n",
      "****************************************************************************************************\n",
      "\n",
      "Logistic Regression\n",
      "********************Train Score******************\n",
      "0.8200559049615653\n",
      "\n",
      "*********************Test Score******************\n",
      "0.8228511530398323\n",
      "\n",
      "**************Confusion Matrix******************\n",
      "[[418  70]\n",
      " [ 99 367]]\n",
      "\n",
      "**********Classification Report******************\n",
      "              precision    recall  f1-score   support\n",
      "\n",
      "           0       0.81      0.86      0.83       488\n",
      "           1       0.84      0.79      0.81       466\n",
      "\n",
      "    accuracy                           0.82       954\n",
      "   macro avg       0.82      0.82      0.82       954\n",
      "weighted avg       0.82      0.82      0.82       954\n",
      "\n",
      "\n",
      "ROC Curve\n"
     ]
    },
    {
     "data": {
      "image/png": "[encoded data removed]",
      "text/plain": [
       "<Figure size 432x288 with 1 Axes>"
      ]
     },
     "metadata": {
      "needs_background": "light"
     },
     "output_type": "display_data"
    },
    {
     "name": "stdout",
     "output_type": "stream",
     "text": [
      "\n",
      "**************Area under the curve******************\n",
      "0.90177126574263\n",
      "None\n",
      "****************************************************************************************************\n",
      "****************************************************************************************************\n",
      "\n",
      "SVC\n",
      "********************Train Score******************\n",
      "0.8280922431865828\n",
      "\n",
      "*********************Test Score******************\n",
      "0.8280922431865828\n",
      "\n",
      "**************Confusion Matrix******************\n",
      "[[421  67]\n",
      " [ 97 369]]\n",
      "\n",
      "**********Classification Report******************\n",
      "              precision    recall  f1-score   support\n",
      "\n",
      "           0       0.81      0.86      0.84       488\n",
      "           1       0.85      0.79      0.82       466\n",
      "\n",
      "    accuracy                           0.83       954\n",
      "   macro avg       0.83      0.83      0.83       954\n",
      "weighted avg       0.83      0.83      0.83       954\n",
      "\n",
      "\n",
      "ROC Curve\n"
     ]
    },
    {
     "data": {
      "image/png": "[encoded data removed]",
      "text/plain": [
       "<Figure size 432x288 with 1 Axes>"
      ]
     },
     "metadata": {
      "needs_background": "light"
     },
     "output_type": "display_data"
    },
    {
     "name": "stdout",
     "output_type": "stream",
     "text": [
      "\n",
      "**************Area under the curve******************\n",
      "0.90754722788996\n",
      "None\n",
      "****************************************************************************************************\n",
      "****************************************************************************************************\n",
      "\n",
      "Decision Tree\n",
      "********************Train Score******************\n",
      "0.6995108315863033\n",
      "\n",
      "*********************Test Score******************\n",
      "0.6572327044025157\n",
      "\n",
      "**************Confusion Matrix******************\n",
      "[[269 219]\n",
      " [108 358]]\n",
      "\n",
      "**********Classification Report******************\n",
      "              precision    recall  f1-score   support\n",
      "\n",
      "           0       0.71      0.55      0.62       488\n",
      "           1       0.62      0.77      0.69       466\n",
      "\n",
      "    accuracy                           0.66       954\n",
      "   macro avg       0.67      0.66      0.65       954\n",
      "weighted avg       0.67      0.66      0.65       954\n",
      "\n",
      "\n",
      "ROC Curve\n"
     ]
    },
    {
     "data": {
      "image/png": "[encoded data removed]",
      "text/plain": [
       "<Figure size 432x288 with 1 Axes>"
      ]
     },
     "metadata": {
      "needs_background": "light"
     },
     "output_type": "display_data"
    },
    {
     "name": "stdout",
     "output_type": "stream",
     "text": [
      "\n",
      "**************Area under the curve******************\n",
      "0.7023499613030325\n",
      "None\n",
      "****************************************************************************************************\n",
      "****************************************************************************************************\n",
      "\n",
      "Random Forest\n",
      "********************Train Score******************\n",
      "0.8990216631726066\n",
      "\n",
      "*********************Test Score******************\n",
      "0.850104821802935\n",
      "\n",
      "**************Confusion Matrix******************\n",
      "[[411  77]\n",
      " [ 66 400]]\n",
      "\n",
      "**********Classification Report******************\n",
      "              precision    recall  f1-score   support\n",
      "\n",
      "           0       0.86      0.84      0.85       488\n",
      "           1       0.84      0.86      0.85       466\n",
      "\n",
      "    accuracy                           0.85       954\n",
      "   macro avg       0.85      0.85      0.85       954\n",
      "weighted avg       0.85      0.85      0.85       954\n",
      "\n",
      "\n",
      "ROC Curve\n"
     ]
    },
    {
     "data": {
      "image/png": "[encoded data removed]",
      "text/plain": [
       "<Figure size 432x288 with 1 Axes>"
      ]
     },
     "metadata": {
      "needs_background": "light"
     },
     "output_type": "display_data"
    },
    {
     "name": "stdout",
     "output_type": "stream",
     "text": [
      "\n",
      "**************Area under the curve******************\n",
      "0.9257897699289382\n",
      "None\n",
      "****************************************************************************************************\n",
      "****************************************************************************************************\n",
      "\n",
      "Extra Random Tree\n",
      "********************Train Score******************\n",
      "0.8127183787561146\n",
      "\n",
      "*********************Test Score******************\n",
      "0.7683438155136268\n",
      "\n",
      "**************Confusion Matrix******************\n",
      "[[345 143]\n",
      " [ 78 388]]\n",
      "\n",
      "**********Classification Report******************\n",
      "              precision    recall  f1-score   support\n",
      "\n",
      "           0       0.82      0.71      0.76       488\n",
      "           1       0.73      0.83      0.78       466\n",
      "\n",
      "    accuracy                           0.77       954\n",
      "   macro avg       0.77      0.77      0.77       954\n",
      "weighted avg       0.77      0.77      0.77       954\n",
      "\n",
      "\n",
      "ROC Curve\n"
     ]
    },
    {
     "data": {
      "image/png": "[encoded data removed]",
      "text/plain": [
       "<Figure size 432x288 with 1 Axes>"
      ]
     },
     "metadata": {
      "needs_background": "light"
     },
     "output_type": "display_data"
    },
    {
     "name": "stdout",
     "output_type": "stream",
     "text": [
      "\n",
      "**************Area under the curve******************\n",
      "0.8584526489833251\n",
      "None\n",
      "****************************************************************************************************\n",
      "****************************************************************************************************\n",
      "\n",
      "AdaBoost\n",
      "********************Train Score******************\n",
      "1.0\n",
      "\n",
      "*********************Test Score******************\n",
      "0.79979035639413\n",
      "\n",
      "**************Confusion Matrix******************\n",
      "[[397  91]\n",
      " [100 366]]\n",
      "\n",
      "**********Classification Report******************\n",
      "              precision    recall  f1-score   support\n",
      "\n",
      "           0       0.80      0.81      0.81       488\n",
      "           1       0.80      0.79      0.79       466\n",
      "\n",
      "    accuracy                           0.80       954\n",
      "   macro avg       0.80      0.80      0.80       954\n",
      "weighted avg       0.80      0.80      0.80       954\n",
      "\n",
      "\n",
      "ROC Curve\n"
     ]
    },
    {
     "data": {
      "image/png": "[encoded data removed]",
      "text/plain": [
       "<Figure size 432x288 with 1 Axes>"
      ]
     },
     "metadata": {
      "needs_background": "light"
     },
     "output_type": "display_data"
    },
    {
     "name": "stdout",
     "output_type": "stream",
     "text": [
      "\n",
      "**************Area under the curve******************\n",
      "0.7994661577429114\n",
      "None\n",
      "****************************************************************************************************\n",
      "****************************************************************************************************\n",
      "\n"
     ]
    }
   ],
   "source": [
    "# score for different models using test data\n",
    "print('SGD Classifier')\n",
    "print(test_score(sgd_b))\n",
    "print(\"*\"*100)\n",
    "print(\"*\"*100)\n",
    "print('')\n",
    "\n",
    "print('Logistic Regression')\n",
    "print(test_score(lr_b))\n",
    "print(\"*\"*100)\n",
    "print(\"*\"*100)\n",
    "print('')\n",
    "\n",
    "print('SVC')\n",
    "print(test_score(svc_b))\n",
    "print(\"*\"*100)\n",
    "print(\"*\"*100)\n",
    "print('')\n",
    "\n",
    "print('Decision Tree')\n",
    "print(test_score(dt_b))\n",
    "print(\"*\"*100)\n",
    "print(\"*\"*100)\n",
    "print('')\n",
    "\n",
    "print('Random Forest')\n",
    "print(test_score(rf_b))\n",
    "print(\"*\"*100)\n",
    "print(\"*\"*100)\n",
    "print('')\n",
    "\n",
    "print('Extra Random Tree')\n",
    "print(test_score(rt_b))\n",
    "print(\"*\"*100)\n",
    "print(\"*\"*100)\n",
    "print('')\n",
    "\n",
    "print('AdaBoost')\n",
    "print(test_score(ab_b))\n",
    "print(\"*\"*100)\n",
    "print(\"*\"*100)\n",
    "print('')"
   ]
  },
  {
   "cell_type": "markdown",
   "id": "66aef1a5",
   "metadata": {},
   "source": [
    "## Trying to improve score by selecting important features based on Decision Tree\n"
   ]
  },
  {
   "cell_type": "code",
   "execution_count": 72,
   "id": "def1d3a3",
   "metadata": {},
   "outputs": [
    {
     "data": {
      "text/plain": [
       "SelectFromModel(estimator=AdaBoostClassifier(base_estimator=DecisionTreeClassifier()))"
      ]
     },
     "execution_count": 72,
     "metadata": {},
     "output_type": "execute_result"
    }
   ],
   "source": [
    "#selecting and fitting model\n",
    "sel = SelectFromModel(ab)\n",
    "sel.fit(X_train_scaled, y_train)"
   ]
  },
  {
   "cell_type": "code",
   "execution_count": 73,
   "id": "b7209cea",
   "metadata": {},
   "outputs": [
    {
     "data": {
      "text/plain": [
       "array([ True, False,  True,  True,  True,  True,  True, False, False,\n",
       "       False, False, False, False, False, False, False, False, False,\n",
       "       False, False,  True, False, False, False, False, False, False,\n",
       "       False, False, False, False, False, False, False, False, False,\n",
       "       False, False, False, False, False, False, False, False, False,\n",
       "       False])"
      ]
     },
     "execution_count": 73,
     "metadata": {},
     "output_type": "execute_result"
    }
   ],
   "source": [
    "sel.get_support()"
   ]
  },
  {
   "cell_type": "code",
   "execution_count": 74,
   "id": "0c7c5662",
   "metadata": {},
   "outputs": [],
   "source": [
    "#splitting data using train_test split\n",
    "X_train_sel, X_test_sel, y_train, y_test=train_test_split(sel.transform(X_dummies), y_label, random_state=1)\n",
    "\n",
    "scaler1 = StandardScaler().fit(X_train_sel)\n",
    "X_selected_train_scaled = scaler1.transform(X_train_sel)\n",
    "X_selected_test_scaled = scaler1.transform(X_test_sel)\n"
   ]
  },
  {
   "cell_type": "markdown",
   "id": "a9815ee6",
   "metadata": {},
   "source": [
    "### SGD Classifier after selecting important features"
   ]
  },
  {
   "cell_type": "code",
   "execution_count": 76,
   "id": "8496e13b",
   "metadata": {},
   "outputs": [
    {
     "name": "stdout",
     "output_type": "stream",
     "text": [
      "Training Score: 0.8025856044723969\n",
      "Testing Score: 0.8197064989517819\n"
     ]
    }
   ],
   "source": [
    "#after model selection\n",
    "sgd_s = SGDClassifier(random_state=42, loss='log').fit(X_selected_train_scaled, y_train)\n",
    "print(f'Training Score: {sgd_s.score(X_selected_train_scaled, y_train)}')\n",
    "print(f'Testing Score: {sgd_s.score(X_selected_test_scaled, y_test)}')"
   ]
  },
  {
   "cell_type": "markdown",
   "id": "27296e7e",
   "metadata": {},
   "source": [
    "### Logistic Regression after selecting important features"
   ]
  },
  {
   "cell_type": "code",
   "execution_count": 78,
   "id": "72cea882",
   "metadata": {},
   "outputs": [
    {
     "name": "stdout",
     "output_type": "stream",
     "text": [
      "Training Score: 0.8043326345213138\n",
      "Testing Score: 0.8218029350104822\n"
     ]
    }
   ],
   "source": [
    "#after model selection\n",
    "lr_s = LogisticRegression().fit(X_selected_train_scaled, y_train)\n",
    "print(f'Training Score: {lr_s.score(X_selected_train_scaled, y_train)}')\n",
    "print(f'Testing Score: {lr_s.score(X_selected_test_scaled, y_test)}')"
   ]
  },
  {
   "cell_type": "markdown",
   "id": "bc0b2104",
   "metadata": {},
   "source": [
    "### SVC after selecting important features"
   ]
  },
  {
   "cell_type": "code",
   "execution_count": 82,
   "id": "8f902d1b",
   "metadata": {},
   "outputs": [
    {
     "name": "stdout",
     "output_type": "stream",
     "text": [
      "Training Score: 0.8004891684136967\n",
      "Testing Score: 0.7976939203354297\n"
     ]
    }
   ],
   "source": [
    "#after model selection\n",
    "# Support vector machine linear classifier\n",
    "svc_s=SVC(kernel='linear').fit(X_selected_train_scaled, y_train)\n",
    "print(f'Training Score: {svc_s.score(X_selected_train_scaled, y_train)}')\n",
    "print(f'Testing Score: {svc_s.score(X_selected_test_scaled, y_test)}')"
   ]
  },
  {
   "cell_type": "markdown",
   "id": "d3a3579c",
   "metadata": {},
   "source": [
    "### Decision Tree after selecting important features"
   ]
  },
  {
   "cell_type": "code",
   "execution_count": 127,
   "id": "f18b4fe0",
   "metadata": {},
   "outputs": [
    {
     "name": "stdout",
     "output_type": "stream",
     "text": [
      "Training Score: 0.9993011879804332\n",
      "Testing Score: 0.7788259958071279\n"
     ]
    }
   ],
   "source": [
    "#after model selection\n",
    "dt_s = DecisionTreeClassifier().fit(X_selected_train_scaled, y_train)\n",
    "print(f'Training Score: {dt_s.score(X_selected_train_scaled, y_train)}')\n",
    "print(f'Testing Score: {dt_s.score(X_selected_test_scaled, y_test)}')"
   ]
  },
  {
   "cell_type": "markdown",
   "id": "d6a966f8",
   "metadata": {},
   "source": [
    "### Random Forest after selecting important features"
   ]
  },
  {
   "cell_type": "code",
   "execution_count": 129,
   "id": "9f79065b",
   "metadata": {},
   "outputs": [
    {
     "name": "stdout",
     "output_type": "stream",
     "text": [
      "Training Score: 0.9993011879804332\n",
      "Testing Score: 0.8511530398322851\n"
     ]
    }
   ],
   "source": [
    "#after model selection\n",
    "rf_s = RandomForestClassifier().fit(X_selected_train_scaled, y_train)\n",
    "print(f'Training Score: {rf_s.score(X_selected_train_scaled, y_train)}')\n",
    "print(f'Testing Score: {rf_s.score(X_selected_test_scaled, y_test)}')"
   ]
  },
  {
   "cell_type": "code",
   "execution_count": 167,
   "id": "39a4f6ac",
   "metadata": {},
   "outputs": [],
   "source": [
    "#train and test score for all the models after selecting important features\n",
    "sgd_train=sgd.score(X_train_scaled, y_train)\n",
    "sgd_test=sgd.score(X_test_scaled, y_test)\n",
    "\n",
    "\n",
    "lr_train=lr_b.score(X_train_scaled, y_train)\n",
    "lr_test=lr_b.score(X_test_scaled, y_test)\n",
    "\n",
    "\n",
    "svc_train=svc_b.score(X_train_scaled, y_train)\n",
    "svc_test=svc_b.score(X_test_scaled, y_test)\n",
    "\n",
    "\n",
    "dt_train=dt_b.score(X_train_scaled, y_train)\n",
    "dt_test=dt_b.score(X_test_scaled, y_test)\n",
    "\n",
    "\n",
    "rf_train=rf_b.score(X_train_scaled, y_train)\n",
    "rf_test=rf_b.score(X_test_scaled, y_test)\n",
    "\n",
    "\n",
    "rt_train=rt_b.score(X_train_scaled, y_train)\n",
    "rt_test=rt_b.score(X_test_scaled, y_test)\n",
    "\n",
    "\n",
    "ab_train=ab_b.score(X_train_scaled, y_train)\n",
    "ab_test=ab_b.score(X_test_scaled, y_test)\n"
   ]
  },
  {
   "cell_type": "code",
   "execution_count": 168,
   "id": "ffc74cfd",
   "metadata": {},
   "outputs": [
    {
     "data": {
      "text/html": [
       "<div>\n",
       "<style scoped>\n",
       "    .dataframe tbody tr th:only-of-type {\n",
       "        vertical-align: middle;\n",
       "    }\n",
       "\n",
       "    .dataframe tbody tr th {\n",
       "        vertical-align: top;\n",
       "    }\n",
       "\n",
       "    .dataframe thead th {\n",
       "        text-align: right;\n",
       "    }\n",
       "</style>\n",
       "<table border=\"1\" class=\"dataframe\">\n",
       "  <thead>\n",
       "    <tr style=\"text-align: right;\">\n",
       "      <th></th>\n",
       "      <th>SGD</th>\n",
       "      <th>logistic Reg</th>\n",
       "      <th>svc</th>\n",
       "      <th>Decision Tree</th>\n",
       "      <th>Random Forest</th>\n",
       "      <th>Extra Random Tree</th>\n",
       "      <th>Ada Boost</th>\n",
       "    </tr>\n",
       "  </thead>\n",
       "  <tbody>\n",
       "    <tr>\n",
       "      <th>train score</th>\n",
       "      <td>0.789658</td>\n",
       "      <td>0.820056</td>\n",
       "      <td>0.828092</td>\n",
       "      <td>0.699511</td>\n",
       "      <td>0.899022</td>\n",
       "      <td>0.812718</td>\n",
       "      <td>1.00000</td>\n",
       "    </tr>\n",
       "    <tr>\n",
       "      <th>test score</th>\n",
       "      <td>0.775681</td>\n",
       "      <td>0.822851</td>\n",
       "      <td>0.828092</td>\n",
       "      <td>0.657233</td>\n",
       "      <td>0.850105</td>\n",
       "      <td>0.768344</td>\n",
       "      <td>0.79979</td>\n",
       "    </tr>\n",
       "  </tbody>\n",
       "</table>\n",
       "</div>"
      ],
      "text/plain": [
       "                  SGD  logistic Reg       svc  Decision Tree  Random Forest  \\\n",
       "train score  0.789658      0.820056  0.828092       0.699511       0.899022   \n",
       "test score   0.775681      0.822851  0.828092       0.657233       0.850105   \n",
       "\n",
       "             Extra Random Tree  Ada Boost  \n",
       "train score           0.812718    1.00000  \n",
       "test score            0.768344    0.79979  "
      ]
     },
     "execution_count": 168,
     "metadata": {},
     "output_type": "execute_result"
    }
   ],
   "source": [
    "#making dataframe on evaluation metrices\n",
    "evaluation_df=pd.DataFrame({'SGD':[sgd_train,sgd_test],\n",
    "                            'logistic Reg':[lr_train,lr_test],\n",
    "                            'svc':[svc_train,svc_test],\n",
    "                            'Decision Tree':[dt_train,dt_test],\n",
    "                           'Random Forest':[rf_train,rf_test],\n",
    "                            'Extra Random Tree':[rt_train,rt_test],\n",
    "                           'Ada Boost':[ab_train,ab_test]}\n",
    "                           ,index=['train score','test score'])\n",
    "evaluation_df"
   ]
  },
  {
   "cell_type": "code",
   "execution_count": null,
   "id": "dc365973",
   "metadata": {},
   "outputs": [],
   "source": []
  }
 ],
 "metadata": {
  "kernelspec": {
   "display_name": "Python 3 (ipykernel)",
   "language": "python",
   "name": "python3"
  },
  "language_info": {
   "codemirror_mode": {
    "name": "ipython",
    "version": 3
   },
   "file_extension": ".py",
   "mimetype": "text/x-python",
   "name": "python",
   "nbconvert_exporter": "python",
   "pygments_lexer": "ipython3",
   "version": "3.8.10"
  }
 },
 "nbformat": 4,
 "nbformat_minor": 5
}
