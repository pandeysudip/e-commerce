{
 "cells": [
  {
   "cell_type": "code",
   "execution_count": 34,
   "id": "0ff6fdd3",
   "metadata": {},
   "outputs": [],
   "source": [
    "#importing modules\n",
    "import pandas as pd\n",
    "import numpy as np\n",
    "from pathlib import Path\n",
    "import matplotlib.pyplot as plt\n",
    "import seaborn as sns\n",
    "from sklearn.model_selection import train_test_split\n",
    "from sklearn.preprocessing import StandardScaler, LabelEncoder\n",
    "from sklearn.linear_model import SGDClassifier\n",
    "from sklearn.model_selection import cross_val_predict, cross_val_score\n",
    "from sklearn.metrics import confusion_matrix, classification_report\n",
    "from sklearn.metrics import roc_curve, auc"
   ]
  },
  {
   "cell_type": "code",
   "execution_count": 12,
   "id": "27b04d17",
   "metadata": {},
   "outputs": [],
   "source": [
    "#importing under sampling dataset\n",
    "ecommerce_df = pd.read_csv(Path('Resources/Cleaned_data/under_sampling_data.csv'))"
   ]
  },
  {
   "cell_type": "code",
   "execution_count": 13,
   "id": "8bc0096e",
   "metadata": {},
   "outputs": [
    {
     "data": {
      "text/html": [
       "<div>\n",
       "<style scoped>\n",
       "    .dataframe tbody tr th:only-of-type {\n",
       "        vertical-align: middle;\n",
       "    }\n",
       "\n",
       "    .dataframe tbody tr th {\n",
       "        vertical-align: top;\n",
       "    }\n",
       "\n",
       "    .dataframe thead th {\n",
       "        text-align: right;\n",
       "    }\n",
       "</style>\n",
       "<table border=\"1\" class=\"dataframe\">\n",
       "  <thead>\n",
       "    <tr style=\"text-align: right;\">\n",
       "      <th></th>\n",
       "      <th>Administrative_Avg</th>\n",
       "      <th>Informational_Avg</th>\n",
       "      <th>ProductRelated_Avg</th>\n",
       "      <th>BounceRates</th>\n",
       "      <th>ExitRates</th>\n",
       "      <th>PageValues</th>\n",
       "      <th>SpecialDay</th>\n",
       "      <th>Month</th>\n",
       "      <th>OperatingSystems</th>\n",
       "      <th>Browser</th>\n",
       "      <th>Region</th>\n",
       "      <th>TrafficType</th>\n",
       "      <th>VisitorType</th>\n",
       "      <th>Weekend</th>\n",
       "      <th>Revenue</th>\n",
       "    </tr>\n",
       "  </thead>\n",
       "  <tbody>\n",
       "    <tr>\n",
       "      <th>0</th>\n",
       "      <td>44.541667</td>\n",
       "      <td>40.666667</td>\n",
       "      <td>53.708333</td>\n",
       "      <td>0.000000</td>\n",
       "      <td>0.018182</td>\n",
       "      <td>0.000000</td>\n",
       "      <td>0.0</td>\n",
       "      <td>Dec</td>\n",
       "      <td>2</td>\n",
       "      <td>2</td>\n",
       "      <td>2</td>\n",
       "      <td>1</td>\n",
       "      <td>Returning_Visitor</td>\n",
       "      <td>False</td>\n",
       "      <td>False</td>\n",
       "    </tr>\n",
       "    <tr>\n",
       "      <th>1</th>\n",
       "      <td>0.000000</td>\n",
       "      <td>0.000000</td>\n",
       "      <td>53.166667</td>\n",
       "      <td>0.000000</td>\n",
       "      <td>0.050000</td>\n",
       "      <td>0.000000</td>\n",
       "      <td>0.0</td>\n",
       "      <td>Mar</td>\n",
       "      <td>1</td>\n",
       "      <td>1</td>\n",
       "      <td>6</td>\n",
       "      <td>1</td>\n",
       "      <td>Returning_Visitor</td>\n",
       "      <td>True</td>\n",
       "      <td>False</td>\n",
       "    </tr>\n",
       "    <tr>\n",
       "      <th>2</th>\n",
       "      <td>0.000000</td>\n",
       "      <td>0.000000</td>\n",
       "      <td>220.678571</td>\n",
       "      <td>0.014286</td>\n",
       "      <td>0.033333</td>\n",
       "      <td>0.000000</td>\n",
       "      <td>0.0</td>\n",
       "      <td>Dec</td>\n",
       "      <td>1</td>\n",
       "      <td>1</td>\n",
       "      <td>3</td>\n",
       "      <td>1</td>\n",
       "      <td>Returning_Visitor</td>\n",
       "      <td>False</td>\n",
       "      <td>False</td>\n",
       "    </tr>\n",
       "    <tr>\n",
       "      <th>3</th>\n",
       "      <td>5.666667</td>\n",
       "      <td>0.000000</td>\n",
       "      <td>24.086352</td>\n",
       "      <td>0.009524</td>\n",
       "      <td>0.040317</td>\n",
       "      <td>0.000000</td>\n",
       "      <td>0.0</td>\n",
       "      <td>Dec</td>\n",
       "      <td>2</td>\n",
       "      <td>2</td>\n",
       "      <td>1</td>\n",
       "      <td>2</td>\n",
       "      <td>Returning_Visitor</td>\n",
       "      <td>False</td>\n",
       "      <td>False</td>\n",
       "    </tr>\n",
       "    <tr>\n",
       "      <th>4</th>\n",
       "      <td>22.260000</td>\n",
       "      <td>0.000000</td>\n",
       "      <td>30.232723</td>\n",
       "      <td>0.000000</td>\n",
       "      <td>0.008337</td>\n",
       "      <td>17.634346</td>\n",
       "      <td>0.0</td>\n",
       "      <td>Nov</td>\n",
       "      <td>2</td>\n",
       "      <td>2</td>\n",
       "      <td>9</td>\n",
       "      <td>2</td>\n",
       "      <td>Returning_Visitor</td>\n",
       "      <td>False</td>\n",
       "      <td>False</td>\n",
       "    </tr>\n",
       "  </tbody>\n",
       "</table>\n",
       "</div>"
      ],
      "text/plain": [
       "   Administrative_Avg  Informational_Avg  ProductRelated_Avg  BounceRates  \\\n",
       "0           44.541667          40.666667           53.708333     0.000000   \n",
       "1            0.000000           0.000000           53.166667     0.000000   \n",
       "2            0.000000           0.000000          220.678571     0.014286   \n",
       "3            5.666667           0.000000           24.086352     0.009524   \n",
       "4           22.260000           0.000000           30.232723     0.000000   \n",
       "\n",
       "   ExitRates  PageValues  SpecialDay Month OperatingSystems Browser  Region  \\\n",
       "0   0.018182    0.000000         0.0   Dec                2       2       2   \n",
       "1   0.050000    0.000000         0.0   Mar                1       1       6   \n",
       "2   0.033333    0.000000         0.0   Dec                1       1       3   \n",
       "3   0.040317    0.000000         0.0   Dec                2       2       1   \n",
       "4   0.008337   17.634346         0.0   Nov                2       2       9   \n",
       "\n",
       "  TrafficType        VisitorType  Weekend  Revenue  \n",
       "0           1  Returning_Visitor    False    False  \n",
       "1           1  Returning_Visitor     True    False  \n",
       "2           1  Returning_Visitor    False    False  \n",
       "3           2  Returning_Visitor    False    False  \n",
       "4           2  Returning_Visitor    False    False  "
      ]
     },
     "execution_count": 13,
     "metadata": {},
     "output_type": "execute_result"
    }
   ],
   "source": [
    "#looking the few rows\n",
    "ecommerce_df.head()"
   ]
  },
  {
   "cell_type": "code",
   "execution_count": 14,
   "id": "4fa26289",
   "metadata": {},
   "outputs": [
    {
     "data": {
      "text/plain": [
       "False    1908\n",
       "True     1908\n",
       "Name: Revenue, dtype: int64"
      ]
     },
     "execution_count": 14,
     "metadata": {},
     "output_type": "execute_result"
    }
   ],
   "source": [
    "ecommerce_df[\"Revenue\"].value_counts()"
   ]
  },
  {
   "cell_type": "code",
   "execution_count": 15,
   "id": "2a186e06",
   "metadata": {},
   "outputs": [
    {
     "data": {
      "text/plain": [
       "(3816, 15)"
      ]
     },
     "execution_count": 15,
     "metadata": {},
     "output_type": "execute_result"
    }
   ],
   "source": [
    "#shape of dataframe\n",
    "ecommerce_df.shape"
   ]
  },
  {
   "cell_type": "code",
   "execution_count": 16,
   "id": "aafdf804",
   "metadata": {},
   "outputs": [],
   "source": [
    "# create feature matrix (X)\n",
    "#selecting all columns except 'Revenue'\n",
    "X=ecommerce_df.drop('Revenue', axis=1) \n",
    "\n",
    "# create response vector (y)\n",
    "##selecting 'Revenue' column\n",
    "y=ecommerce_df['Revenue'].values "
   ]
  },
  {
   "cell_type": "code",
   "execution_count": 17,
   "id": "ed73eed2",
   "metadata": {},
   "outputs": [],
   "source": [
    "# Seperating categorical columns\n",
    "cat_columns=['Month','OperatingSystems', 'Browser', 'Region',\n",
    "             'TrafficType','VisitorType','Weekend']"
   ]
  },
  {
   "cell_type": "code",
   "execution_count": 18,
   "id": "265e518e",
   "metadata": {},
   "outputs": [
    {
     "name": "stdout",
     "output_type": "stream",
     "text": [
      "Index(['Administrative_Avg', 'Informational_Avg', 'ProductRelated_Avg',\n",
      "       'BounceRates', 'ExitRates', 'PageValues', 'SpecialDay', 'Month_Aug',\n",
      "       'Month_Dec', 'Month_Feb', 'Month_Jul', 'Month_June', 'Month_Mar',\n",
      "       'Month_May', 'Month_Nov', 'Month_Oct', 'Month_Sep',\n",
      "       'OperatingSystems_1', 'OperatingSystems_2', 'OperatingSystems_3',\n",
      "       'OperatingSystems_Other', 'Browser_1', 'Browser_10', 'Browser_2',\n",
      "       'Browser_4', 'Browser_5', 'Browser_6', 'Browser_Other', 'Region_1',\n",
      "       'Region_2', 'Region_3', 'Region_4', 'Region_5', 'Region_6', 'Region_7',\n",
      "       'Region_8', 'Region_9', 'TrafficType_1', 'TrafficType_10',\n",
      "       'TrafficType_11', 'TrafficType_13', 'TrafficType_2', 'TrafficType_3',\n",
      "       'TrafficType_4', 'TrafficType_5', 'TrafficType_6', 'TrafficType_8',\n",
      "       'TrafficType_Other', 'VisitorType_New_Visitor', 'VisitorType_Other',\n",
      "       'VisitorType_Returning_Visitor', 'Weekend_False', 'Weekend_True'],\n",
      "      dtype='object')\n"
     ]
    },
    {
     "data": {
      "text/html": [
       "<div>\n",
       "<style scoped>\n",
       "    .dataframe tbody tr th:only-of-type {\n",
       "        vertical-align: middle;\n",
       "    }\n",
       "\n",
       "    .dataframe tbody tr th {\n",
       "        vertical-align: top;\n",
       "    }\n",
       "\n",
       "    .dataframe thead th {\n",
       "        text-align: right;\n",
       "    }\n",
       "</style>\n",
       "<table border=\"1\" class=\"dataframe\">\n",
       "  <thead>\n",
       "    <tr style=\"text-align: right;\">\n",
       "      <th></th>\n",
       "      <th>Administrative_Avg</th>\n",
       "      <th>Informational_Avg</th>\n",
       "      <th>ProductRelated_Avg</th>\n",
       "      <th>BounceRates</th>\n",
       "      <th>ExitRates</th>\n",
       "      <th>PageValues</th>\n",
       "      <th>SpecialDay</th>\n",
       "      <th>Month_Aug</th>\n",
       "      <th>Month_Dec</th>\n",
       "      <th>Month_Feb</th>\n",
       "      <th>...</th>\n",
       "      <th>TrafficType_4</th>\n",
       "      <th>TrafficType_5</th>\n",
       "      <th>TrafficType_6</th>\n",
       "      <th>TrafficType_8</th>\n",
       "      <th>TrafficType_Other</th>\n",
       "      <th>VisitorType_New_Visitor</th>\n",
       "      <th>VisitorType_Other</th>\n",
       "      <th>VisitorType_Returning_Visitor</th>\n",
       "      <th>Weekend_False</th>\n",
       "      <th>Weekend_True</th>\n",
       "    </tr>\n",
       "  </thead>\n",
       "  <tbody>\n",
       "    <tr>\n",
       "      <th>0</th>\n",
       "      <td>44.541667</td>\n",
       "      <td>40.666667</td>\n",
       "      <td>53.708333</td>\n",
       "      <td>0.000000</td>\n",
       "      <td>0.018182</td>\n",
       "      <td>0.000000</td>\n",
       "      <td>0.0</td>\n",
       "      <td>0</td>\n",
       "      <td>1</td>\n",
       "      <td>0</td>\n",
       "      <td>...</td>\n",
       "      <td>0</td>\n",
       "      <td>0</td>\n",
       "      <td>0</td>\n",
       "      <td>0</td>\n",
       "      <td>0</td>\n",
       "      <td>0</td>\n",
       "      <td>0</td>\n",
       "      <td>1</td>\n",
       "      <td>1</td>\n",
       "      <td>0</td>\n",
       "    </tr>\n",
       "    <tr>\n",
       "      <th>1</th>\n",
       "      <td>0.000000</td>\n",
       "      <td>0.000000</td>\n",
       "      <td>53.166667</td>\n",
       "      <td>0.000000</td>\n",
       "      <td>0.050000</td>\n",
       "      <td>0.000000</td>\n",
       "      <td>0.0</td>\n",
       "      <td>0</td>\n",
       "      <td>0</td>\n",
       "      <td>0</td>\n",
       "      <td>...</td>\n",
       "      <td>0</td>\n",
       "      <td>0</td>\n",
       "      <td>0</td>\n",
       "      <td>0</td>\n",
       "      <td>0</td>\n",
       "      <td>0</td>\n",
       "      <td>0</td>\n",
       "      <td>1</td>\n",
       "      <td>0</td>\n",
       "      <td>1</td>\n",
       "    </tr>\n",
       "    <tr>\n",
       "      <th>2</th>\n",
       "      <td>0.000000</td>\n",
       "      <td>0.000000</td>\n",
       "      <td>220.678571</td>\n",
       "      <td>0.014286</td>\n",
       "      <td>0.033333</td>\n",
       "      <td>0.000000</td>\n",
       "      <td>0.0</td>\n",
       "      <td>0</td>\n",
       "      <td>1</td>\n",
       "      <td>0</td>\n",
       "      <td>...</td>\n",
       "      <td>0</td>\n",
       "      <td>0</td>\n",
       "      <td>0</td>\n",
       "      <td>0</td>\n",
       "      <td>0</td>\n",
       "      <td>0</td>\n",
       "      <td>0</td>\n",
       "      <td>1</td>\n",
       "      <td>1</td>\n",
       "      <td>0</td>\n",
       "    </tr>\n",
       "    <tr>\n",
       "      <th>3</th>\n",
       "      <td>5.666667</td>\n",
       "      <td>0.000000</td>\n",
       "      <td>24.086352</td>\n",
       "      <td>0.009524</td>\n",
       "      <td>0.040317</td>\n",
       "      <td>0.000000</td>\n",
       "      <td>0.0</td>\n",
       "      <td>0</td>\n",
       "      <td>1</td>\n",
       "      <td>0</td>\n",
       "      <td>...</td>\n",
       "      <td>0</td>\n",
       "      <td>0</td>\n",
       "      <td>0</td>\n",
       "      <td>0</td>\n",
       "      <td>0</td>\n",
       "      <td>0</td>\n",
       "      <td>0</td>\n",
       "      <td>1</td>\n",
       "      <td>1</td>\n",
       "      <td>0</td>\n",
       "    </tr>\n",
       "    <tr>\n",
       "      <th>4</th>\n",
       "      <td>22.260000</td>\n",
       "      <td>0.000000</td>\n",
       "      <td>30.232723</td>\n",
       "      <td>0.000000</td>\n",
       "      <td>0.008337</td>\n",
       "      <td>17.634346</td>\n",
       "      <td>0.0</td>\n",
       "      <td>0</td>\n",
       "      <td>0</td>\n",
       "      <td>0</td>\n",
       "      <td>...</td>\n",
       "      <td>0</td>\n",
       "      <td>0</td>\n",
       "      <td>0</td>\n",
       "      <td>0</td>\n",
       "      <td>0</td>\n",
       "      <td>0</td>\n",
       "      <td>0</td>\n",
       "      <td>1</td>\n",
       "      <td>1</td>\n",
       "      <td>0</td>\n",
       "    </tr>\n",
       "  </tbody>\n",
       "</table>\n",
       "<p>5 rows × 53 columns</p>\n",
       "</div>"
      ],
      "text/plain": [
       "   Administrative_Avg  Informational_Avg  ProductRelated_Avg  BounceRates  \\\n",
       "0           44.541667          40.666667           53.708333     0.000000   \n",
       "1            0.000000           0.000000           53.166667     0.000000   \n",
       "2            0.000000           0.000000          220.678571     0.014286   \n",
       "3            5.666667           0.000000           24.086352     0.009524   \n",
       "4           22.260000           0.000000           30.232723     0.000000   \n",
       "\n",
       "   ExitRates  PageValues  SpecialDay  Month_Aug  Month_Dec  Month_Feb  ...  \\\n",
       "0   0.018182    0.000000         0.0          0          1          0  ...   \n",
       "1   0.050000    0.000000         0.0          0          0          0  ...   \n",
       "2   0.033333    0.000000         0.0          0          1          0  ...   \n",
       "3   0.040317    0.000000         0.0          0          1          0  ...   \n",
       "4   0.008337   17.634346         0.0          0          0          0  ...   \n",
       "\n",
       "   TrafficType_4  TrafficType_5  TrafficType_6  TrafficType_8  \\\n",
       "0              0              0              0              0   \n",
       "1              0              0              0              0   \n",
       "2              0              0              0              0   \n",
       "3              0              0              0              0   \n",
       "4              0              0              0              0   \n",
       "\n",
       "   TrafficType_Other  VisitorType_New_Visitor  VisitorType_Other  \\\n",
       "0                  0                        0                  0   \n",
       "1                  0                        0                  0   \n",
       "2                  0                        0                  0   \n",
       "3                  0                        0                  0   \n",
       "4                  0                        0                  0   \n",
       "\n",
       "   VisitorType_Returning_Visitor  Weekend_False  Weekend_True  \n",
       "0                              1              1             0  \n",
       "1                              1              0             1  \n",
       "2                              1              1             0  \n",
       "3                              1              1             0  \n",
       "4                              1              1             0  \n",
       "\n",
       "[5 rows x 53 columns]"
      ]
     },
     "execution_count": 18,
     "metadata": {},
     "output_type": "execute_result"
    }
   ],
   "source": [
    "# One-hot encoding the entire dataframe\n",
    "X_dummies = pd.get_dummies(X, columns = cat_columns)\n",
    "print(X_dummies.columns)\n",
    "X_dummies.head()"
   ]
  },
  {
   "cell_type": "code",
   "execution_count": 19,
   "id": "7c3ffdfc",
   "metadata": {},
   "outputs": [
    {
     "name": "stdout",
     "output_type": "stream",
     "text": [
      "Total column before one hot encoding: 14, Total columns after one hot encoding: 53\n"
     ]
    }
   ],
   "source": [
    "#Total columns before and after one-hot encoding\n",
    "print(f'Total column before one hot encoding: {X.shape[1]}, Total columns after one hot encoding: {X_dummies.shape[1]}')"
   ]
  },
  {
   "cell_type": "code",
   "execution_count": 22,
   "id": "9e5d08c1",
   "metadata": {},
   "outputs": [
    {
     "data": {
      "text/plain": [
       "array([0, 0, 0, ..., 1, 1, 1])"
      ]
     },
     "execution_count": 22,
     "metadata": {},
     "output_type": "execute_result"
    }
   ],
   "source": [
    "# Converting output labels to 0 and 1\n",
    "y_label = LabelEncoder().fit_transform(y)\n",
    "y_label"
   ]
  },
  {
   "cell_type": "code",
   "execution_count": 23,
   "id": "5d5bd443",
   "metadata": {},
   "outputs": [],
   "source": [
    "#Training set**: Used to train the classifier.\n",
    "#Testing set**: Used to estimate the error rate of the trained classifier.\n",
    "X_train, X_test, y_train, y_test = train_test_split(X_dummies, y_label, random_state=42)"
   ]
  },
  {
   "cell_type": "code",
   "execution_count": 24,
   "id": "c6fdac16",
   "metadata": {},
   "outputs": [
    {
     "data": {
      "text/plain": [
       "array([[-0.25984905, -0.26915436,  1.38554087, ...,  0.48224282,\n",
       "         0.55717103, -0.55717103],\n",
       "       [-0.46387811,  0.31627294, -0.34015459, ...,  0.48224282,\n",
       "         0.55717103, -0.55717103],\n",
       "       [-0.46387811, -0.26915436, -1.05942478, ...,  0.48224282,\n",
       "         0.55717103, -0.55717103],\n",
       "       ...,\n",
       "       [-0.46387811, -0.26915436,  0.22058076, ...,  0.48224282,\n",
       "         0.55717103, -0.55717103],\n",
       "       [-0.46387811, -0.26915436,  0.07184404, ..., -2.07364414,\n",
       "         0.55717103, -0.55717103],\n",
       "       [-0.02820316,  0.58319748, -0.37365499, ...,  0.48224282,\n",
       "         0.55717103, -0.55717103]])"
      ]
     },
     "execution_count": 24,
     "metadata": {},
     "output_type": "execute_result"
    }
   ],
   "source": [
    "# Scaling the X data by using StandardScaler()\n",
    "scaler = StandardScaler().fit(X_train)\n",
    "X_train_scaled = scaler.transform(X_train)\n",
    "X_train_scaled"
   ]
  },
  {
   "cell_type": "code",
   "execution_count": 25,
   "id": "8ec457c4",
   "metadata": {},
   "outputs": [
    {
     "data": {
      "text/plain": [
       "array([[ 0.21621873, -0.26915436, -0.57945596, ..., -2.07364414,\n",
       "         0.55717103, -0.55717103],\n",
       "       [-0.13777792, -0.26915436, -0.40758609, ...,  0.48224282,\n",
       "         0.55717103, -0.55717103],\n",
       "       [ 0.42957387,  0.35502945, -0.47588607, ...,  0.48224282,\n",
       "         0.55717103, -0.55717103],\n",
       "       ...,\n",
       "       [ 0.45273756, -0.26915436,  0.74889613, ...,  0.48224282,\n",
       "        -1.79478103,  1.79478103],\n",
       "       [ 2.42106239, -0.26915436,  0.1023663 , ...,  0.48224282,\n",
       "        -1.79478103,  1.79478103],\n",
       "       [ 0.16747686,  0.07506465, -0.45772341, ...,  0.48224282,\n",
       "         0.55717103, -0.55717103]])"
      ]
     },
     "execution_count": 25,
     "metadata": {},
     "output_type": "execute_result"
    }
   ],
   "source": [
    "# Transforming the test dataset based on the fit from the training dataset\n",
    "X_test_scaled = scaler.transform(X_test)\n",
    "X_test_scaled"
   ]
  },
  {
   "cell_type": "code",
   "execution_count": 30,
   "id": "faaa3cfe",
   "metadata": {},
   "outputs": [],
   "source": [
    "#defining function for model scoring with training set only\n",
    "def train_score(model, X_train_scaled=X_train_scaled, y_train=y_train):\n",
    "    #printing the accuracy score\n",
    "    train_score=model.score(X_train_scaled, y_train)\n",
    "    print(\"******************Train Score******************\")\n",
    "    print(train_score)\n",
    "    print()\n",
    "    \n",
    "    cvs=cross_val_score(model,X_train_scaled, y_train,cv=3, scoring='accuracy' )\n",
    "    print(\"************Using K=3 cross validation**********\")\n",
    "    print(cvs)\n",
    "    print()\n",
    "    \n",
    "    #predection on the test set and confusion matrix\n",
    "    y_train_pred=cross_val_predict(model,X_train_scaled, y_train,cv=3)\n",
    "    cm=confusion_matrix(y_train, y_train_pred)\n",
    "    print(\"******Confusion Matrix using cross_val_predict****\")\n",
    "    print(cm)\n",
    "    print()\n",
    "    \n",
    "    #classification report\n",
    "    cr=classification_report(y_train, y_train_pred)\n",
    "    print(\"***********Classification Report******************\")\n",
    "    print(cr)\n",
    "    print()\n",
    "    \n",
    "    #roc curve\n",
    "    y_train_predc=cross_val_predict(model,X_train_scaled, y_train,cv=3,\n",
    "                                    method=\"predict_proba\")\n",
    "    y_proba = y_train_predc[:,1]  #proba of positive class\n",
    "    fpr, tpr, thresholds = roc_curve(y_train, y_proba)\n",
    "    \n",
    "    plt.figure()\n",
    "    plt.plot(fpr, tpr, color='darkorange')\n",
    "    plt.plot([0, 1], [0, 1], color='navy', linestyle='--')\n",
    "    plt.xlim([0.0, 1.0])\n",
    "    plt.ylim([0.0, 1.05])\n",
    "    plt.xlabel('False Positive Rate')\n",
    "    plt.ylabel('True Positive Rate')\n",
    "    plt.title(f\"roc curve for {model}\")\n",
    "    print(\"ROC Curve\")\n",
    "    plt.show()\n",
    "    \n",
    "    # area under the curve (AUC)\n",
    "    roc_auc = auc(fpr, tpr)\n",
    "    roc_auc\n",
    "    print()\n",
    "    print(\"**************Area under the curve******************\")\n",
    "    print(roc_auc)\n",
    "    \n",
    "    \n",
    "    \n",
    "#defining function for model scoring with test set\n",
    "def test_score(model, X_train_scaled=X_train_scaled, X_test_scaled=X_test_scaled, \n",
    "               y_train=y_train,y_test=y_test):\n",
    "    #printing the accuracy score\n",
    "    train_score=model.score(X_train_scaled, y_train)\n",
    "    test_score=model.score(X_test_scaled, y_test)\n",
    "    print(\"********************Train Score******************\")\n",
    "    print(train_score)\n",
    "    print()\n",
    "\n",
    "    print(\"*********************Test Score******************\")\n",
    "    print(test_score)\n",
    "    print()\n",
    "    \n",
    "    #predection on the test set and confusion matrix\n",
    "    y_pred=model.predict(X_test_scaled)\n",
    "    cm=confusion_matrix(y_test, y_pred)\n",
    "    print(\"**************Confusion Matrix******************\")\n",
    "    print(cm)\n",
    "    print()\n",
    "    \n",
    "    #classification report\n",
    "    cr=classification_report(y_test, y_pred)\n",
    "    print(\"**********Classification Report******************\")\n",
    "    print(cr)\n",
    "    print()\n",
    "    \n",
    "    #roc curve\n",
    "    y_proba = model.predict_proba(X_test_scaled)[:,1]  #proba of positive class\n",
    "    fpr, tpr, thresholds = roc_curve(y_test, y_proba)\n",
    "    \n",
    "    plt.figure()\n",
    "    plt.plot(fpr, tpr, color='darkorange')\n",
    "    plt.plot([0, 1], [0, 1], color='navy', linestyle='--')\n",
    "    plt.xlim([0.0, 1.0])\n",
    "    plt.ylim([0.0, 1.05])\n",
    "    plt.xlabel('False Positive Rate')\n",
    "    plt.ylabel('True Positive Rate')\n",
    "    plt.title(f\"roc curve for {model}\")\n",
    "    print(\"ROC Curve\")\n",
    "    plt.show()\n",
    "    \n",
    "    # area under the curve (AUC)\n",
    "    roc_auc = auc(fpr, tpr)\n",
    "    roc_auc\n",
    "    print()\n",
    "    print(\"**************Area under the curve******************\")\n",
    "    print(roc_auc)\n"
   ]
  },
  {
   "cell_type": "markdown",
   "id": "401cf897",
   "metadata": {},
   "source": [
    "## Model 1: Stochastic Gradent Descent Classifier"
   ]
  },
  {
   "cell_type": "code",
   "execution_count": 40,
   "id": "23a6ed0f",
   "metadata": {},
   "outputs": [
    {
     "data": {
      "text/plain": [
       "SGDClassifier(loss='log', random_state=42)"
      ]
     },
     "execution_count": 40,
     "metadata": {},
     "output_type": "execute_result"
    }
   ],
   "source": [
    "# Creating a sgd classifier model on the scaled data\n",
    "sgd=SGDClassifier(random_state=42, loss='log', penalty='l2')\n",
    "\n",
    "# Fit the model to the data\n",
    "sgd.fit(X_train_scaled, y_train)"
   ]
  },
  {
   "cell_type": "code",
   "execution_count": 41,
   "id": "fe5d8cd2",
   "metadata": {},
   "outputs": [
    {
     "name": "stdout",
     "output_type": "stream",
     "text": [
      "******************Train Score******************\n",
      "0.7896575821104123\n",
      "\n",
      "************Using K=3 cross validation**********\n",
      "[0.78197065 0.77463312 0.77568134]\n",
      "\n",
      "******Confusion Matrix using cross_val_predict****\n",
      "[[1117  303]\n",
      " [ 334 1108]]\n",
      "\n",
      "***********Classification Report******************\n",
      "              precision    recall  f1-score   support\n",
      "\n",
      "           0       0.77      0.79      0.78      1420\n",
      "           1       0.79      0.77      0.78      1442\n",
      "\n",
      "    accuracy                           0.78      2862\n",
      "   macro avg       0.78      0.78      0.78      2862\n",
      "weighted avg       0.78      0.78      0.78      2862\n",
      "\n",
      "\n",
      "ROC Curve\n"
     ]
    },
    {
     "data": {
      "image/png": "[encoded data removed]",
      "text/plain": [
       "<Figure size 432x288 with 1 Axes>"
      ]
     },
     "metadata": {
      "needs_background": "light"
     },
     "output_type": "display_data"
    },
    {
     "name": "stdout",
     "output_type": "stream",
     "text": [
      "\n",
      "**************Area under the curve******************\n",
      "0.8589332109159813\n"
     ]
    }
   ],
   "source": [
    "#score for logistic regression using only training data\n",
    "train_score(sgd_clf)"
   ]
  }
 ],
 "metadata": {
  "kernelspec": {
   "display_name": "Python 3 (ipykernel)",
   "language": "python",
   "name": "python3"
  },
  "language_info": {
   "codemirror_mode": {
    "name": "ipython",
    "version": 3
   },
   "file_extension": ".py",
   "mimetype": "text/x-python",
   "name": "python",
   "nbconvert_exporter": "python",
   "pygments_lexer": "ipython3",
   "version": "3.8.10"
  }
 },
 "nbformat": 4,
 "nbformat_minor": 5
}
